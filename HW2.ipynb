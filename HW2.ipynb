{
 "cells": [
  {
   "cell_type": "markdown",
   "id": "9194b51e",
   "metadata": {},
   "source": [
    "# JEM092 Asset Pricing - Homework 2"
   ]
  },
  {
   "cell_type": "markdown",
   "id": "20a232b2",
   "metadata": {},
   "source": [
    "<span style='background:lightblue'> **Group : 20107894;  \n",
    "Assigned Factor : ILLIQ.**</span>  \n",
    "\n",
    "Team Member :\n",
    "\n",
    "Yanqi Guan : 20107894@fsv.cuni.cz\n",
    "\n",
    "Lin Zhang : 15845542@fsv.cuni.cz\n",
    "\n",
    "Jiayi Zeng : 46566215@fsv.cuni.cz\n"
   ]
  },
  {
   "cell_type": "markdown",
   "id": "6b0a2575",
   "metadata": {},
   "source": [
    "# Solutions:\n"
   ]
  },
  {
   "cell_type": "markdown",
   "id": "c955589f",
   "metadata": {},
   "source": [
    "## 1. Introduction\n",
    "\n",
    "**The objective of this paper is to conduct an empirical research on cross-section of expected stock returns through empirical asset pricing approach. In this paper, we mainly focus on analyzing the effects of beta, size and illiquidity on stock returns, as well as their abilities to predict future stock returns.** \n",
    "\n",
    "**According to CAPM, the expected returns of different securities is driven only by cross-sectional variation in the betas of the securities. Empirical tests of this prediction, such as Fama and MacBeth (1973), can not reject the positive relation between estimates of market beta and future stock returns. Fama and French (1992) further find that market capitalization and book-to-market ratio also have the ability to predict the cross section of future stock returns. In the assumptions of CAPM, all securities are assumed to be perfectly liquid, but several theoretical and empirical papers (e.g. Amihud and Mendelson (1986)) point out a positive relationship between liquidity and expected\n",
    "security returns. And Pastor and Stambaugh(2003) suggest strong role of aggregate liquidity factor in both cross-sectional variation in stock returns and time-series variation in risk premium.**\n",
    "\n",
    "**The remainder of the paper is the following: first, we introduce the data used in this paper. Second, we discuss the empirical methodology. Third, the results of portfolio analysis (univariate sorting and bivariate sorting) and Fama-MacBeth regression are presented and discussed. The conclusion is presented in the final part.**  "
   ]
  },
  {
   "cell_type": "markdown",
   "id": "27c4ee94",
   "metadata": {},
   "source": [
    "## 2. Data description \n",
    "\n",
    "**We choose 250 cross-sector stocks from the S&P 500 index as our samples (see tickers of the 250 stocks in appendix A).The sample period of our research is from 01.01.2007 to 31.12.2020, 14 years of daily trading data. We then calculate monthly factors for our analysis.** \n",
    "\n",
    "**Monthly betas are estimated based on CAPM model and are based on the last 12 months of daily returns. The risk-free rates used are downloaded from the Kenneth French web. As for monthly size data, we use the natural log of monthly market capitalization as the proxy of size factor. As for illiquidity factor, we first applied the method used in Amihud (2002) to calculate illiquidity, which calculates illiquidity as the ratio of the absolute value of the daily security return divided by the daily dollar volume traded in the security, averaged over all days in the estimation period.\n",
    "Amihud (2002) formula to calculate illiquidity: \n",
    "$$Illiq_i= \\frac{1}{D} \\sum_{d=1}^{D} \\frac{\\left\\lvert R_{i,d} \\right\\rvert } {VOLD_{i,d}} $$\n",
    "Because the distribution of Illiq is highly skewed, so we use log-transformed versions of the different illiquidity variables, thus defining the illiquidity factor as the natural log of one plus $Illiq ^ {1M}$.**\n",
    "\n",
    "**The Summary Statistics of Beta, Market Capitalization (MktCap), Size, Book-to-market ratio (Value), Momentum (Mom), Illiquidity (Illiq) and Stock returns are calculated and presented. Each month, the mean (Mean), standard deviation (SD), skewness (Skew), excess kurtosis (Kurt), minimum(Min), 5th percentile (5%), 25th percentile (25%), median (Median), 75th percentile (75%),95th percentile (95%), and maximum (Max) values of the cross-sectional distribution of each variable are calculated. The table presents the time-series means for each cross-sectional value. The skew problem of data is mitigated when we use Size instead of MktCap. However, Illiq factor is still highly positively skewed and leptokurtic even after using natural log calculation, which could be a potential problem in our empirical analysis.**"
   ]
  },
  {
   "cell_type": "markdown",
   "id": "ccc66a81",
   "metadata": {},
   "source": [
    "* **Environment setup**"
   ]
  },
  {
   "cell_type": "code",
   "execution_count": 41,
   "id": "3d2d3a08",
   "metadata": {},
   "outputs": [
    {
     "data": {
      "text/html": [
       "'English_United States.1252'"
      ],
      "text/latex": [
       "'English\\_United States.1252'"
      ],
      "text/markdown": [
       "'English_United States.1252'"
      ],
      "text/plain": [
       "[1] \"English_United States.1252\""
      ]
     },
     "metadata": {},
     "output_type": "display_data"
    },
    {
     "data": {
      "text/html": [
       "'R version 4.1.2 (2021-11-01)'"
      ],
      "text/latex": [
       "'R version 4.1.2 (2021-11-01)'"
      ],
      "text/markdown": [
       "'R version 4.1.2 (2021-11-01)'"
      ],
      "text/plain": [
       "[1] \"R version 4.1.2 (2021-11-01)\""
      ]
     },
     "metadata": {},
     "output_type": "display_data"
    }
   ],
   "source": [
    "# Setup environment\n",
    "Sys.setenv(LANG = \"en\")\n",
    "Sys.setlocale(\"LC_TIME\", \"English\")\n",
    "options(warn = -1)  # suppressing warnings\n",
    "version[['version.string']]\n",
    "\n",
    "if (!require(quantmod)) install.packages('quantmod')\n",
    "if (!require(lubridate)) install.packages('lubridate')\n",
    "if (!require(sandwich)) install.packages('sandwich')\n",
    "if (!require(moments)) install.packages('moments')\n",
    "\n",
    "library(quantmod)\n",
    "library(lubridate)\n",
    "library(sandwich)\n",
    "library(moments)"
   ]
  },
  {
   "cell_type": "code",
   "execution_count": 2,
   "id": "5caf9cd7",
   "metadata": {},
   "outputs": [],
   "source": [
    "# Load to continue ...\n",
    "# save.image(file = \"AP_Hw2.RData\")\n",
    "# load(\"AP_Hw2.RData\")\n",
    "# print(\"Welcome back!\")"
   ]
  },
  {
   "cell_type": "markdown",
   "id": "fac7ea97",
   "metadata": {},
   "source": [
    "**This homework is coded in environment of R version 4.1.2, please note that running the code on different R version might get slightly different results.  \n",
    "\"Restart & Run ALL\" code would take about <span style='background: lightblue'>3 minutes</span>.**"
   ]
  },
  {
   "cell_type": "markdown",
   "id": "1db96240",
   "metadata": {},
   "source": [
    "### <span style='background: lightblue'>Data Preparation</span>"
   ]
  },
  {
   "cell_type": "markdown",
   "id": "5e540b19",
   "metadata": {},
   "source": [
    "**Load data from Moodle**"
   ]
  },
  {
   "cell_type": "code",
   "execution_count": 3,
   "id": "011155d8",
   "metadata": {},
   "outputs": [
    {
     "data": {
      "text/html": [
       "<style>\n",
       ".list-inline {list-style: none; margin:0; padding: 0}\n",
       ".list-inline>li {display: inline-block}\n",
       ".list-inline>li:not(:last-child)::after {content: \"\\00b7\"; padding: 0 .5ex}\n",
       "</style>\n",
       "<ol class=list-inline><li>'book_value_sap500'</li><li>'MktCap_sap500'</li><li>'OHLCV_sap500'</li><li>'symbols'</li></ol>\n"
      ],
      "text/latex": [
       "\\begin{enumerate*}\n",
       "\\item 'book\\_value\\_sap500'\n",
       "\\item 'MktCap\\_sap500'\n",
       "\\item 'OHLCV\\_sap500'\n",
       "\\item 'symbols'\n",
       "\\end{enumerate*}\n"
      ],
      "text/markdown": [
       "1. 'book_value_sap500'\n",
       "2. 'MktCap_sap500'\n",
       "3. 'OHLCV_sap500'\n",
       "4. 'symbols'\n",
       "\n",
       "\n"
      ],
      "text/plain": [
       "[1] \"book_value_sap500\" \"MktCap_sap500\"     \"OHLCV_sap500\"     \n",
       "[4] \"symbols\"          "
      ]
     },
     "metadata": {},
     "output_type": "display_data"
    },
    {
     "data": {
      "text/html": [
       "250"
      ],
      "text/latex": [
       "250"
      ],
      "text/markdown": [
       "250"
      ],
      "text/plain": [
       "[1] 250"
      ]
     },
     "metadata": {},
     "output_type": "display_data"
    },
    {
     "data": {
      "text/html": [
       "<style>\n",
       ".list-inline {list-style: none; margin:0; padding: 0}\n",
       ".list-inline>li {display: inline-block}\n",
       ".list-inline>li:not(:last-child)::after {content: \"\\00b7\"; padding: 0 .5ex}\n",
       "</style>\n",
       "<ol class=list-inline><li>'F'</li><li>'CSX'</li><li>'OKE'</li><li>'DFS'</li><li>'ITW'</li><li>'MRO'</li></ol>\n"
      ],
      "text/latex": [
       "\\begin{enumerate*}\n",
       "\\item 'F'\n",
       "\\item 'CSX'\n",
       "\\item 'OKE'\n",
       "\\item 'DFS'\n",
       "\\item 'ITW'\n",
       "\\item 'MRO'\n",
       "\\end{enumerate*}\n"
      ],
      "text/markdown": [
       "1. 'F'\n",
       "2. 'CSX'\n",
       "3. 'OKE'\n",
       "4. 'DFS'\n",
       "5. 'ITW'\n",
       "6. 'MRO'\n",
       "\n",
       "\n"
      ],
      "text/plain": [
       "[1] \"F\"   \"CSX\" \"OKE\" \"DFS\" \"ITW\" \"MRO\""
      ]
     },
     "metadata": {},
     "output_type": "display_data"
    }
   ],
   "source": [
    "#Use data stored in the Moodle, from file \"Asset_Pricing_HW_2_data.RData\"\n",
    "load(\"Asset_Pricing_HW_2_data.RData\")\n",
    "ls()\n",
    "# Read assigned symbols from file \n",
    "smbs <- read.csv('20107894_data_download.csv',colClasses = \"character\")\n",
    "p_symbols <- smbs[[2]]\n",
    "length(p_symbols)\n",
    "head(p_symbols)"
   ]
  },
  {
   "cell_type": "markdown",
   "id": "d0db17c5",
   "metadata": {},
   "source": [
    "**Set data range from 2007-2020**"
   ]
  },
  {
   "cell_type": "code",
   "execution_count": 4,
   "id": "fa9a6140",
   "metadata": {
    "scrolled": true
   },
   "outputs": [
    {
     "name": "stdout",
     "output_type": "stream",
     "text": [
      "[1] \"OHLCV: 250\"\n"
     ]
    },
    {
     "data": {
      "text/plain": [
       "$F\n",
       "           F.Open F.High F.Low F.Close F.Volume F.Adjusted\n",
       "2007-01-03   7.56   7.67  7.44    7.51 78652200   5.039420\n",
       "2007-01-04   7.56   7.72  7.43    7.70 63454900   5.166914\n",
       "\n",
       "$CSX\n",
       "           CSX.Open CSX.High  CSX.Low CSX.Close CSX.Volume CSX.Adjusted\n",
       "2007-01-03 3.862222 3.923333 3.805556  3.860000   57204900     2.924608\n",
       "2007-01-04 3.865556 3.894444 3.828889  3.888889   36793800     2.946497\n"
      ]
     },
     "metadata": {},
     "output_type": "display_data"
    },
    {
     "name": "stdout",
     "output_type": "stream",
     "text": [
      "[1] \"MktCap: 250\"\n"
     ]
    },
    {
     "data": {
      "text/plain": [
       "$F\n",
       "            [,1]\n",
       "2007-01-03 14.21\n",
       "2007-01-04 14.57\n",
       "\n",
       "$CSX\n",
       "            [,1]\n",
       "2007-01-03 15.20\n",
       "2007-01-04 15.32\n"
      ]
     },
     "metadata": {},
     "output_type": "display_data"
    },
    {
     "name": "stdout",
     "output_type": "stream",
     "text": [
      "[1] \"Value: 250\"\n"
     ]
    },
    {
     "data": {
      "text/plain": [
       "$F\n",
       "           Stock Price Book Value per Share Price/Book Ratio\n",
       "2007-03-31        5.29                -1.97            -2.68\n",
       "2007-06-30        6.32                -0.93            -6.82\n",
       "\n",
       "$CSX\n",
       "           Stock Price Book Value per Share Price/Book Ratio\n",
       "2007-03-31        3.40                 2.32             1.47\n",
       "2007-06-30        3.83                 2.34             1.64\n"
      ]
     },
     "metadata": {},
     "output_type": "display_data"
    }
   ],
   "source": [
    "OHLCV <- OHLCV_sap500[p_symbols]\n",
    "OHLCV <- lapply(p_symbols, function(y){OHLCV[[y]][\"2007/2020\"]})\n",
    "names(OHLCV) <- p_symbols\n",
    "\n",
    "MktCap <- MktCap_sap500[p_symbols]\n",
    "MktCap <- lapply(p_symbols, function(y){MktCap[[y]][\"2007/2020\"]})\n",
    "names(MktCap) <- p_symbols\n",
    "\n",
    "book_value <- book_value_sap500[p_symbols]\n",
    "book_value <- lapply(p_symbols, function(y){book_value[[y]][\"2007/2020\"]})\n",
    "names(book_value) <- p_symbols\n",
    "\n",
    "# check data loaded, we only need stock price and MktCap data\n",
    "print(paste(\"OHLCV:\", length(OHLCV)))\n",
    "lapply(OHLCV, head, 2)[1:2]\n",
    "print(paste(\"MktCap:\", length(MktCap)))\n",
    "lapply(MktCap, head, 2)[1:2]\n",
    "print(paste(\"Value:\", length(book_value)))\n",
    "lapply(book_value, head, 2)[1:2]"
   ]
  },
  {
   "cell_type": "markdown",
   "id": "7e81149a",
   "metadata": {},
   "source": [
    "### <span style='background: lightblue'>Preparing Fama-French and Pastor-Stambaugh factor data</span>"
   ]
  },
  {
   "cell_type": "markdown",
   "id": "b3b94111",
   "metadata": {},
   "source": [
    "* **Download Fama-French 3 factors, Momentum and Liquidity factor data from web**"
   ]
  },
  {
   "cell_type": "code",
   "execution_count": 5,
   "id": "a67757e0",
   "metadata": {},
   "outputs": [
    {
     "name": "stdout",
     "output_type": "stream",
     "text": [
      "[1] \"All files are downloaded successfully!\"\n"
     ]
    }
   ],
   "source": [
    "# Download factor data.\n",
    "\n",
    "# Download daily FF3 factors.\n",
    "download.file(\n",
    "    \"http://mba.tuck.dartmouth.edu/pages/faculty/ken.french/ftp/F-F_Research_Data_Factors_daily_TXT.zip\",\n",
    "    destfile = \"F-F_Research_Data_Factors_daily.zip\"\n",
    ")\n",
    "unzip(\"F-F_Research_Data_Factors_daily.zip\")\n",
    "\n",
    "# Download monthly FF3 factors.\n",
    "# https://mba.tuck.dartmouth.edu/pages/faculty/ken.french/Data_Library/f-f_factors.html\n",
    "download.file(\n",
    "    \"http://mba.tuck.dartmouth.edu/pages/faculty/ken.french/ftp/F-F_Research_Data_Factors_TXT.zip\",\n",
    "    destfile = \"F-F_Research_Data_Factors.zip\"\n",
    ")\n",
    "unzip(\"F-F_Research_Data_Factors.zip\")\n",
    "\n",
    "# Download Developed Momentum Factor (Mom).\n",
    "# https://mba.tuck.dartmouth.edu/pages/faculty/ken.french/Data_Library/f-f_developed_mom.html\n",
    "download.file(\n",
    "    \"http://mba.tuck.dartmouth.edu/pages/faculty/ken.french/ftp/Developed_Mom_Factor_TXT.zip\",\n",
    "    destfile = \"Developed_Mom_Factor_TXT.zip\"\n",
    ")\n",
    "unzip(\"Developed_Mom_Factor_TXT.zip\")\n",
    "\n",
    "# Download liquidty data(liq).\n",
    "download.file(\n",
    "    \"https://faculty.chicagobooth.edu/-/media/faculty/lubos-pastor/data/liq_data_1962_2021.txt\",\n",
    "    destfile = \"liq_data_1962_2021.txt\"\n",
    ")\n",
    "# Note from Pastor website:\n",
    "# LIQUIDITY FACTORS OF PASTOR AND STAMBAUGH (JPE 2003) UPDATED THROUGH DEC 2021  \n",
    "# Column 1: Month  \n",
    "# Column 2: Levels of aggregated liquidity (Figure 1 in the paper)  \n",
    "# Column 3: Innovations in aggregated liquidity (non-traded liquidity factor; equation(8); the main series)  \n",
    "# Column 4: Traded liquidity factor (LIQ_V, 10-1 portfolio return)  \n",
    "# Note: The traded factor is the value-weighted return on the 10-1 portfolio from a sort on historical liquidity betas. \n",
    "# This procedure is simpler than sorting on predicted betas (as in the original study) and through 2021 \n",
    "# it is similarly successful at creating a spread in post-ranking betas. The traded factor has a positive and \n",
    "# significant alpha through 2021, consistent with liquidity risk being priced.\n",
    "print(\"All files are downloaded successfully!\")"
   ]
  },
  {
   "cell_type": "markdown",
   "id": "1437a2d1",
   "metadata": {},
   "source": [
    "**Load factor data from files**"
   ]
  },
  {
   "cell_type": "code",
   "execution_count": 6,
   "id": "c12e9fb0",
   "metadata": {},
   "outputs": [
    {
     "data": {
      "text/plain": [
       "            mkt.rf    smb     hml     rf     mom        liq\n",
       "2007-01-31  0.0140 0.0014 -0.0070 0.0044  0.0065 0.00375580\n",
       "2007-02-28 -0.0196 0.0118 -0.0012 0.0038 -0.0004 0.02496826\n",
       "2007-03-31  0.0068 0.0015 -0.0094 0.0043  0.0180 0.02931590"
      ]
     },
     "metadata": {},
     "output_type": "display_data"
    },
    {
     "data": {
      "text/plain": [
       "            mkt.rf    smb     hml    rf     mom        liq\n",
       "2020-10-31 -0.0210 0.0440  0.0414 1e-04 -0.0169 0.04065628\n",
       "2020-11-30  0.1247 0.0563  0.0210 1e-04 -0.1092 0.02308695\n",
       "2020-12-31  0.0463 0.0483 -0.0141 1e-04 -0.0009 0.05024218"
      ]
     },
     "metadata": {},
     "output_type": "display_data"
    }
   ],
   "source": [
    "# Load daily data\n",
    "ff3_factors <- read.delim(\n",
    "    'F-F_Research_Data_Factors_daily.txt',\n",
    "    col.names = c('t', 'mkt_rf', 'smb', 'hml', 'rf'),\n",
    "    sep = '',\n",
    "    nrows = 24957,\n",
    "    header = FALSE,\n",
    "    skip = 5,\n",
    "    stringsAsFactors = FALSE\n",
    ")\n",
    "ff3_factors[['t']] <- as.Date(as.character(ff3_factors[['t']]), '%Y%m%d')\n",
    "ff3_factors <- as.xts(ff3_factors[, 2:5], order.by = ff3_factors[['t']])\n",
    "# set data range from 2007 - 2020\n",
    "ff3_factors <- ff3_factors[\"2007/2020\"]\n",
    "ff3_factors <- ff3_factors / 100\n",
    "\n",
    "# Load monthly data\n",
    "monthly_ff3_factors <- read.delim(\n",
    "    'F-F_Research_Data_Factors.txt',\n",
    "    col.names = c('t', 'mkt.rf', 'smb', 'hml', 'rf'),\n",
    "    sep = '',\n",
    "    nrows = 1137,\n",
    "    header = FALSE,\n",
    "    skip = 4,\n",
    "    stringsAsFactors = FALSE\n",
    ")\n",
    "\n",
    "monthly_ff3_factors[['t']] <- as.Date(paste0(as.character(monthly_ff3_factors[['t']]), '01'), '%Y%m%d')\n",
    "monthly_ff3_factors <- as.xts(monthly_ff3_factors[, 2:5], order.by = monthly_ff3_factors[['t']])\n",
    "# set data range from 2007 - 2020\n",
    "monthly_ff3_factors <- monthly_ff3_factors[\"2007/2020\"]\n",
    "monthly_ff3_factors <- monthly_ff3_factors / 100\n",
    "# update date format as monthly, date as the last day of the monthly\n",
    "index(monthly_ff3_factors) <- as.Date(as.yearmon(index(monthly_ff3_factors)), frac = 1)\n",
    "\n",
    "# Load Mom data\n",
    "monthly_mom_factors <- read.delim(\n",
    "    'Developed_Mom_Factor.txt', \n",
    "    col.names = c('t', 'wml'),\n",
    "    sep = '',\n",
    "    nrows = 374,\n",
    "    header = FALSE,\n",
    "    skip = 7,\n",
    "    stringsAsFactors = FALSE\n",
    ")\n",
    "\n",
    "monthly_mom_index <- as.Date(paste0(as.character(monthly_mom_factors[['t']]), '01'), '%Y%m%d')\n",
    "monthly_mom_xts <- as.xts(monthly_mom_factors[, 2], order.by = monthly_mom_index)\n",
    "# set data range from 2007 - 2020\n",
    "monthly_mom_factors <- monthly_mom_xts[\"2007/2020\"]/100\n",
    "# update date format as monthly, date as the last day of the monthly\n",
    "index(monthly_mom_factors) <- as.Date(as.yearmon(index(monthly_mom_factors)), frac = 1)\n",
    "colnames(monthly_mom_factors) <-\"mom\"\n",
    "\n",
    "# Load illiq data\n",
    "liq_data <- read.delim(\n",
    "    'liq_data_1962_2021.txt',\n",
    "    col.names = c('t', 'Agg.Liq', 'Innov.Liq', 'Traded.Liq'),\n",
    "    sep = '', nrows = 713, header = FALSE,\n",
    "    skip = 11, stringsAsFactors = FALSE\n",
    ")\n",
    "#  we only need column 4 for Liquidity excess returns\n",
    "monthly_liq_index <- as.Date(paste0(as.character(liq_data[['t']]), '01'), '%Y%m%d')\n",
    "monthly_liq_xts <- as.xts(liq_data[, 4], order.by = monthly_liq_index)\n",
    "# set data range from 2007 - 2020\n",
    "monthly_liq_factors <- monthly_liq_xts[\"2007/2020\"]\n",
    "# update date format as monthly, date as the last day of the monthly\n",
    "index(monthly_liq_factors) <- as.Date(as.yearmon(index(monthly_liq_factors)), frac = 1)\n",
    "colnames(monthly_liq_factors) <-\"liq\"\n",
    "factor_data <- cbind(monthly_ff3_factors, monthly_mom_factors,monthly_liq_factors)\n",
    "\n",
    "# check data\n",
    "head(factor_data,3)\n",
    "tail(factor_data,3)"
   ]
  },
  {
   "cell_type": "markdown",
   "id": "246b0c19",
   "metadata": {},
   "source": [
    "**Now we have the excess return spread data for all FFCPS factors, we will use those data for FFCPS alpha calculation, as well as Fama-MacBeth regression.** "
   ]
  },
  {
   "cell_type": "markdown",
   "id": "e48f0d33",
   "metadata": {},
   "source": [
    "### <span style='background: lightblue'>2.1 Preparing stock price data and stock returns</span>"
   ]
  },
  {
   "cell_type": "markdown",
   "id": "c07932c6",
   "metadata": {},
   "source": [
    "**preparing stock price data**"
   ]
  },
  {
   "cell_type": "code",
   "execution_count": 7,
   "id": "c0145519",
   "metadata": {
    "scrolled": true
   },
   "outputs": [
    {
     "data": {
      "text/plain": [
       "                  F      CSX      OKE DFS      ITW\n",
       "2007-01-03 5.039420 2.924608 8.800058  NA 31.89644\n",
       "2007-01-04 5.166914 2.946497 8.708157  NA 32.09106"
      ]
     },
     "metadata": {},
     "output_type": "display_data"
    },
    {
     "data": {
      "text/plain": [
       "                  F      CSX      OKE      DFS      ITW\n",
       "2020-12-30 8.770518 29.77474 34.89088 87.83402 198.0087\n",
       "2020-12-31 8.701225 29.91318 35.12885 89.04384 199.6835"
      ]
     },
     "metadata": {},
     "output_type": "display_data"
    }
   ],
   "source": [
    "prices <- c()\n",
    "bm_ratios  <- c()\n",
    "for (i in 1:length(p_symbols)) {\n",
    "    ticker <- p_symbols[i]\n",
    "    # only use Adjusted price as stock price\n",
    "    stock_prices = OHLCV[[ticker]][, 6]\n",
    "    stock_bm_ratios <- book_value[[i]][, 2] / book_value[[i]][, 1]    \n",
    "    colnames(stock_prices) <- ticker\n",
    "    colnames(stock_bm_ratios) <- ticker    \n",
    "    prices <- cbind(prices, stock_prices)\n",
    "    bm_ratios <- cbind(bm_ratios, stock_bm_ratios)        \n",
    "}\n",
    "\n",
    "prices[1:2,1:5]\n",
    "tail(prices,2)[,1:5]"
   ]
  },
  {
   "cell_type": "markdown",
   "id": "35150b01",
   "metadata": {},
   "source": [
    "**Calculating stock returns**"
   ]
  },
  {
   "cell_type": "markdown",
   "id": "b7dee5a3",
   "metadata": {},
   "source": [
    "Use dailyReturn and monthlyReturn functions to calculate arithmetic returns"
   ]
  },
  {
   "cell_type": "code",
   "execution_count": 8,
   "id": "6b72b670",
   "metadata": {},
   "outputs": [
    {
     "data": {
      "text/plain": [
       "                    F         CSX         OKE DFS         ITW\n",
       "2007-01-03 0.00000000 0.000000000  0.00000000  NA 0.000000000\n",
       "2007-01-04 0.02529934 0.007484422 -0.01044323  NA 0.006101685"
      ]
     },
     "metadata": {},
     "output_type": "display_data"
    },
    {
     "data": {
      "text/plain": [
       "                     F        CSX          OKE DFS        ITW\n",
       "2007-01-31  0.08255672 0.05900996  0.003775543  NA 0.11113562\n",
       "2007-02-28 -0.02706042 0.02567941 -0.029130506  NA 0.01274734"
      ]
     },
     "metadata": {},
     "output_type": "display_data"
    }
   ],
   "source": [
    "# Compute daily and monthly returns.\n",
    "daily_returns <- lapply(prices, dailyReturn, USE.NAMES = TRUE)\n",
    "monthly_returns <- lapply(prices, monthlyReturn, USE.NAMES = TRUE)\n",
    "\n",
    "daily_returns <- do.call('cbind', daily_returns)\n",
    "monthly_returns <- do.call('cbind', monthly_returns)\n",
    "colnames(daily_returns) <- colnames(prices)\n",
    "colnames(monthly_returns) <- colnames(prices)\n",
    "\n",
    "index(monthly_returns) <- as.Date(as.yearmon(index(monthly_returns)), frac = 1)\n",
    "daily_returns[1:2, 1:5]\n",
    "monthly_returns[1:2, 1:5]\n",
    "# not all stocks have price on 2007, but they all have data on 2020"
   ]
  },
  {
   "cell_type": "markdown",
   "id": "bcc197fc",
   "metadata": {},
   "source": [
    "Use the Risk Free rate from FF3 to calculate daily and monthly excess returns."
   ]
  },
  {
   "cell_type": "code",
   "execution_count": 9,
   "id": "addf8df2",
   "metadata": {
    "scrolled": true
   },
   "outputs": [
    {
     "data": {
      "text/plain": [
       "                rf\n",
       "2007-01-03 0.00022\n",
       "2007-01-04 0.00022"
      ]
     },
     "metadata": {},
     "output_type": "display_data"
    },
    {
     "data": {
      "text/plain": [
       "               rf\n",
       "2007-01-31 0.0044\n",
       "2007-02-28 0.0038"
      ]
     },
     "metadata": {},
     "output_type": "display_data"
    },
    {
     "data": {
      "text/plain": [
       "                     F          CSX         OKE DFS          ITW\n",
       "2007-01-03 -0.00022000 -0.000220000 -0.00022000  NA -0.000220000\n",
       "2007-01-04  0.02507934  0.007264422 -0.01066323  NA  0.005881685"
      ]
     },
     "metadata": {},
     "output_type": "display_data"
    },
    {
     "data": {
      "text/plain": [
       "                     F        CSX           OKE DFS         ITW\n",
       "2007-01-31  0.07815672 0.05460996 -0.0006244567  NA 0.106735618\n",
       "2007-02-28 -0.03086042 0.02187941 -0.0329305056  NA 0.008947344"
      ]
     },
     "metadata": {},
     "output_type": "display_data"
    }
   ],
   "source": [
    "head(ff3_factors[, 4],2)\n",
    "head(monthly_ff3_factors[, 4],2)\n",
    "\n",
    "# Compute daily and monthly excess returns by minus risk free rate from ff3\n",
    "# xts object could minus each other based on time stamps\n",
    "for (i in 1:length(p_symbols)) {    \n",
    "    daily_returns[, i] <- daily_returns[, i] - ff3_factors[, 4]\n",
    "    monthly_returns[, i] <- monthly_returns[, i] - monthly_ff3_factors[, 4]\n",
    "}\n",
    "\n",
    "daily_returns[1:2, 1:5]\n",
    "monthly_returns[1:2, 1:5]"
   ]
  },
  {
   "cell_type": "markdown",
   "id": "c2e84480",
   "metadata": {},
   "source": [
    "### <span style='background: lightblue'>2.2 Preparing beta</span>"
   ]
  },
  {
   "cell_type": "markdown",
   "id": "ffe616c7",
   "metadata": {},
   "source": [
    "**Use the CAPM model to estimate betas**"
   ]
  },
  {
   "cell_type": "code",
   "execution_count": 10,
   "id": "cf196f9a",
   "metadata": {},
   "outputs": [
    {
     "data": {
      "text/plain": [
       "   user  system elapsed \n",
       "  61.43    0.05   61.58 "
      ]
     },
     "metadata": {},
     "output_type": "display_data"
    },
    {
     "data": {
      "text/plain": [
       "                  F      CSX       OKE      DFS       ITW\n",
       "2008-03-31 1.122713 1.313259 0.6756543 2.060537 0.8624013\n",
       "2008-04-30 1.145374 1.308042 0.6748264 2.067974 0.9004992\n",
       "2008-05-31 1.155006 1.296945 0.6463733 2.088052 0.9020326"
      ]
     },
     "metadata": {},
     "output_type": "display_data"
    }
   ],
   "source": [
    "# Initialize an xts object for storing monthly_betas.\n",
    "monthly_betas <- as.xts(\n",
    "    matrix(\n",
    "        nrow = nrow(monthly_returns),\n",
    "        ncol = ncol(monthly_returns)\n",
    "    ),\n",
    "    order.by = index(monthly_returns)\n",
    ")\n",
    "names(monthly_betas) <- names(monthly_returns)\n",
    "# every month should have 20 trading days, if available data fewer than\n",
    "# 15 samples, meaning only less than 75% data, then ingore that stock.\n",
    "check_data <- 12 * 15\n",
    "# Iterate over rows and compute monthly_betas.\n",
    "# i is months, j is stocks\n",
    "system.time(\n",
    "    for (i in 1:nrow(monthly_betas)) {\n",
    "        # each i is for every month in data range\n",
    "        # select data range, look back 12 months daily returns\n",
    "        # put data need to evaluate into variable returns\n",
    "        # and market_returns\n",
    "        end_day <- index(monthly_betas[i])\n",
    "        start_day <- end_day %m-% months(12)\n",
    "        dates <- paste0(start_day, '/', end_day)\n",
    "        returns <- daily_returns[dates]\n",
    "        market_returns <- ff3_factors[dates]\n",
    "        # Estimate monthly_betas for each stock in 250 stock list\n",
    "        for (j in 1:ncol(monthly_betas)) {\n",
    "            stock_returns <- returns[, j]\n",
    "            # Merge excess returns and market excess returns.\n",
    "            # xts matches by date in cbind\n",
    "            model_data <- cbind(stock_returns, market_returns[, 1])\n",
    "            # ingore NA\n",
    "            model_data <- na.omit(model_data)\n",
    "            # Don't estimate monthly_betas if observations is less than 200.\n",
    "            if (nrow(model_data) < check_data) {next}        \n",
    "            # call regression to calculate beta, use stock returns - market returns\n",
    "            model_betas <- lm(model_data[, 1] ~ model_data[, 2])\n",
    "            # Save the given beta to `monthly_betas`.\n",
    "            # save the beta information at coefficients[[2]]\n",
    "            monthly_betas[i, j] <- model_betas$coefficients[[2]]\n",
    "        }    \n",
    "    }\n",
    ")\n",
    "# The estimation of monthly_betas is based on the last 12 months of daily returns.\n",
    "monthly_betas[15:17,1:5]"
   ]
  },
  {
   "cell_type": "markdown",
   "id": "ee4a8795",
   "metadata": {},
   "source": [
    "### <span style='background: lightblue'>2.3 Preparing size factor</span>"
   ]
  },
  {
   "cell_type": "code",
   "execution_count": 11,
   "id": "ed2645c5",
   "metadata": {},
   "outputs": [
    {
     "data": {
      "text/plain": [
       "               F   CSX  OKE DFS   ITW\n",
       "2007-01-31 15.38 16.10 4.76  NA 28.50\n",
       "2007-02-28 14.97 16.46 4.62  NA 28.87\n",
       "2007-03-31 14.93 17.53 4.99  NA 28.84"
      ]
     },
     "metadata": {},
     "output_type": "display_data"
    },
    {
     "data": {
      "text/plain": [
       "                  F      CSX      OKE DFS      ITW\n",
       "2007-01-31 2.733068 2.778819 1.560248  NA 3.349904\n",
       "2007-02-28 2.706048 2.800933 1.530395  NA 3.362803\n",
       "2007-03-31 2.703373 2.863914 1.607436  NA 3.361763"
      ]
     },
     "metadata": {},
     "output_type": "display_data"
    }
   ],
   "source": [
    "market_caps <- do.call(merge, MktCap)\n",
    "colnames(market_caps) <- names(MktCap)\n",
    "\n",
    "# Compute monthly market caps and sizes. MktCap\n",
    "sizes <- log(market_caps)\n",
    "monthly_market_caps <- apply.monthly(market_caps, tail, 1)\n",
    "monthly_sizes <- apply.monthly(sizes, tail, 1)\n",
    "# Replace -Inf and Inf in `monthly_sizes` with NAs.\n",
    "monthly_sizes <- as.xts(apply(monthly_sizes, 2, function(x) ifelse(is.finite(x), x, NA)))\n",
    "index(monthly_market_caps) <- as.Date(as.yearmon(index(monthly_market_caps)), frac = 1)\n",
    "index(monthly_sizes) <- as.Date(as.yearmon(index(monthly_sizes)), frac = 1)                              \n",
    "monthly_market_caps[1:3, 1:5]\n",
    "monthly_sizes[1:3, 1:5]"
   ]
  },
  {
   "cell_type": "markdown",
   "id": "bf0ebedd",
   "metadata": {},
   "source": [
    "### <span style='background: lightblue'>2.4 Preparing illiquidity factor</span>"
   ]
  },
  {
   "cell_type": "markdown",
   "id": "ce6134da",
   "metadata": {},
   "source": [
    "* **Calculate illiquidity factor**"
   ]
  },
  {
   "cell_type": "code",
   "execution_count": 12,
   "id": "179b04cd",
   "metadata": {
    "scrolled": false
   },
   "outputs": [
    {
     "data": {
      "text/plain": [
       "                      F          CSX          OKE DFS          ITW\n",
       "2007-01-03 5.550489e-07 1.314988e-06 9.492341e-06  NA 2.997272e-06\n",
       "2007-01-04 7.649265e-05 6.700704e-05 8.649851e-04  NA 7.349766e-05\n",
       "2007-01-05 5.115142e-05 1.749859e-04 9.465702e-04  NA 5.220569e-05"
      ]
     },
     "metadata": {},
     "output_type": "display_data"
    }
   ],
   "source": [
    "abs_return_to_nominal_ratios <- c()\n",
    "for (i in 1:length(p_symbols)) {\n",
    "    ticker <- p_symbols[i]\n",
    "    stock_data <- OHLCV[[ticker]]\n",
    "    # get absolute nominals\n",
    "    stock_abs_return_to_nominal_ratios <- abs(daily_returns[, \n",
    "        ticker]) / (stock_data[, 5] * stock_data[, 6] / 1000000)    \n",
    "    colnames(stock_abs_return_to_nominal_ratios) <- ticker\n",
    "    abs_return_to_nominal_ratios <- cbind(abs_return_to_nominal_ratios, \n",
    "        stock_abs_return_to_nominal_ratios)\n",
    "}\n",
    "abs_return_to_nominal_ratios[1:3, 1:5]"
   ]
  },
  {
   "cell_type": "markdown",
   "id": "8d3c164d",
   "metadata": {},
   "source": [
    "* **Compute illiquidity**"
   ]
  },
  {
   "cell_type": "markdown",
   "id": "ba5fdeee",
   "metadata": {},
   "source": [
    "**Because the distribution of Illiq is highly skewed, so we use log-transformed versions of the different illiquidity variables, so define the Illiq factor as the natural log of one plus $Illiq ^ {1M}$.**"
   ]
  },
  {
   "cell_type": "code",
   "execution_count": 13,
   "id": "33e86a62",
   "metadata": {},
   "outputs": [
    {
     "data": {
      "text/html": [
       "168"
      ],
      "text/latex": [
       "168"
      ],
      "text/markdown": [
       "168"
      ],
      "text/plain": [
       "[1] 168"
      ]
     },
     "metadata": {},
     "output_type": "display_data"
    },
    {
     "data": {
      "text/plain": [
       "                   F       CSX      OKE DFS       ITW\n",
       "2007-01-31 0.4007055 1.0406651 5.565255  NA 0.7196594\n",
       "2007-02-28 0.5105019 0.8774579 4.963222  NA 0.8972203\n",
       "2007-03-31 0.5178994 0.8290049 5.954155  NA 0.9531542"
      ]
     },
     "metadata": {},
     "output_type": "display_data"
    }
   ],
   "source": [
    "# Initialize an xts object for storing illiquidities.\n",
    "# just create empty frame \n",
    "monthly_illiquidities <- as.xts(\n",
    "    matrix(\n",
    "        nrow = nrow(monthly_returns),\n",
    "        ncol = ncol(monthly_returns)\n",
    "    ),\n",
    "    order.by = index(monthly_returns)\n",
    ")\n",
    "names(monthly_illiquidities) <- names(monthly_returns)\n",
    "# Iterate over rows and compute illiquidities.\n",
    "# i is every monthly from 2007-2020\n",
    "for (i in 1:nrow(monthly_illiquidities)) {\n",
    "    end_day <- index(monthly_illiquidities[i])\n",
    "    # use last 12 months of daily data\n",
    "    start_day <- end_day %m-% months(12)\n",
    "    dates <- paste0(start_day, '/', end_day)\n",
    "    # get daily ratio data from the date range\n",
    "    ratios <- abs_return_to_nominal_ratios[dates]  \n",
    "    # Compute illiquidities for each stock.\n",
    "    for (j in 1:ncol(monthly_illiquidities)) {\n",
    "        stock_ratios <- ratios[, j]\n",
    "        # Save the given illiquidity to `monthly_illiquidities`.\n",
    "        # use \"natural log of one plus the avg 1 month Illiq of 12 months\n",
    "        monthly_illiquidities[i, j] <- log(1 + mean(stock_ratios))    }\n",
    "}\n",
    "monthly_illiq <- monthly_illiquidities * 10000                                \n",
    "# 2007-2020, 14 years has 168 months\n",
    "nrow(monthly_illiq)\n",
    "monthly_illiq[1:3, 1:5]                        "
   ]
  },
  {
   "cell_type": "markdown",
   "id": "95a33433",
   "metadata": {},
   "source": [
    "### <span style='background: lightblue'>2.5 Preparing value factor</span>"
   ]
  },
  {
   "cell_type": "code",
   "execution_count": 14,
   "id": "4b799c46",
   "metadata": {},
   "outputs": [
    {
     "data": {
      "text/plain": [
       "                   F       CSX      OKE DFS       ITW\n",
       "2009-07-31 -3.935065 0.8156028 2.372057  NA 0.6031373\n",
       "2009-08-31 -3.935065 0.8156028 2.372057  NA 0.6031373\n",
       "2009-09-30 -3.935065 0.8156028 2.372057  NA 0.6031373"
      ]
     },
     "metadata": {},
     "output_type": "display_data"
    }
   ],
   "source": [
    "# Initialize an xts object for storing book-to-market ratios.\n",
    "monthly_bm_ratios <- as.xts(\n",
    "    matrix(\n",
    "        nrow = nrow(bm_ratios),\n",
    "        ncol = ncol(bm_ratios)\n",
    "    ),\n",
    "    order.by = index(bm_ratios)\n",
    ")\n",
    "names(monthly_bm_ratios) <- names(bm_ratios)\n",
    "start_year <- as.numeric(format(min(index(monthly_bm_ratios)), '%Y'))\n",
    "end_year <- as.numeric(format(max(index(monthly_bm_ratios)), '%Y'))\n",
    "# Iterate over rows and compute BM ratios.\n",
    "for (i in (start_year + 2):end_year) {\n",
    "    start_day <- as.Date(paste0(i - 1, '06', '30'), format = '%Y%m%d')\n",
    "    end_day <- as.Date(paste0(i, '05', '31'), format = '%Y%m%d')\n",
    "    dates <- paste0(start_day, '/', end_day)\n",
    "    end_of_previous_year <- as.Date(paste0(i - 2, '12', '31'), format = '%Y%m%d')\n",
    "    for (j in 1:ncol(bm_ratios)) {\n",
    "        monthly_bm_ratios[dates, j] <- as.numeric(bm_ratios[end_of_previous_year, j][[1]])\n",
    "    }\n",
    "}\n",
    "monthly_bm_ratios[31:33,1:5]"
   ]
  },
  {
   "cell_type": "markdown",
   "id": "6f885daa",
   "metadata": {},
   "source": [
    "### <span style='background: lightblue'>2.6 Preparing momentum factor</span>"
   ]
  },
  {
   "cell_type": "code",
   "execution_count": 15,
   "id": "060e7365",
   "metadata": {},
   "outputs": [
    {
     "data": {
      "text/plain": [
       "                   F      CSX       OKE        DFS      ITW\n",
       "2020-10-31 -21.74476 11.27453 -59.63724 -26.343283 16.77008\n",
       "2020-11-30 -13.79337 10.83510 -54.86384 -21.957981 14.60072\n",
       "2020-12-31  -1.22478 25.51735 -47.51509  -7.860505 19.29762"
      ]
     },
     "metadata": {},
     "output_type": "display_data"
    }
   ],
   "source": [
    "# Initialize an xts object for storing momentum.\n",
    "monthly_momentum <- as.xts(\n",
    "    matrix(\n",
    "        nrow = nrow(monthly_returns),\n",
    "        ncol = ncol(monthly_returns)\n",
    "    ),\n",
    "    order.by = index(monthly_returns)\n",
    ")\n",
    "names(monthly_momentum) <- names(monthly_returns)\n",
    "# Iterate over rows and compute momentum.\n",
    "for (i in 2:nrow(monthly_momentum)) {\n",
    "    current_day <- index(monthly_momentum[i])\n",
    "    end_day <- index(monthly_momentum[i - 1])\n",
    "    start_day <- end_day %m-% months(10)\n",
    "    dates <- paste0(start_day, '/', end_day)\n",
    "    returns <- monthly_returns[dates]\n",
    "    if (nrow(returns) < 11) { next }\n",
    "    for (j in 1:ncol(monthly_momentum)) {\n",
    "        monthly_momentum[current_day, j] <- 100 * (prod(returns[, j] + 1) - 1)\n",
    "    }\n",
    "}\n",
    "tail(monthly_momentum,3)[, 1:5]"
   ]
  },
  {
   "cell_type": "markdown",
   "id": "29d8055a",
   "metadata": {},
   "source": [
    "### <span style='background: lightblue'>2.7 Summary Statistics</span>"
   ]
  },
  {
   "cell_type": "markdown",
   "id": "805821ad",
   "metadata": {},
   "source": [
    "* **Create Function for Statistics**"
   ]
  },
  {
   "cell_type": "code",
   "execution_count": 16,
   "id": "5d95906a",
   "metadata": {},
   "outputs": [],
   "source": [
    "getStat <- function (variable_data) {\n",
    "    variable_data <- apply(variable_data, 2, function(x) ifelse(is.finite(x), x, NA))\n",
    "    df <- na.omit(variable_data) \n",
    "    stats <- apply(df, 1,function(y){ c(mean(y), sd(y), skewness(y),\n",
    "        kurtosis(y),min(y), quantile(y, probs = .05, na.rm = TRUE),\n",
    "        quantile(y, probs = .25, na.rm = TRUE), median(y), \n",
    "        quantile(y, probs = .75, , na.rm = TRUE),\n",
    "        quantile(y, probs = .95, na.rm = TRUE), max(y))\n",
    "    })\n",
    "    return (rowMeans(stats))    \n",
    "}                           \n",
    "getStat1 <- function (variable_data) {\n",
    "    variable_data <- apply(variable_data, 2, function(x) ifelse(is.na(x), 0,x))\n",
    "    df <- na.omit(variable_data) \n",
    "    stats <- apply(df, 1,function(y){ c(mean(y), sd(y), skewness(y),\n",
    "        kurtosis(y),min(y), quantile(y, probs = .05, na.rm = TRUE),\n",
    "        quantile(y, probs = .25, na.rm = TRUE), median(y), \n",
    "        quantile(y, probs = .75, , na.rm = TRUE),\n",
    "        quantile(y, probs = .95, na.rm = TRUE), max(y))\n",
    "    })\n",
    "    stats <- apply(stats, 2, function(x) ifelse(is.na(x), 0,x))                       \n",
    "    return (rowMeans(stats))    \n",
    "}                          "
   ]
  },
  {
   "cell_type": "markdown",
   "id": "e020ad7a",
   "metadata": {},
   "source": [
    "* **Show Factor Summary Statistics**"
   ]
  },
  {
   "cell_type": "code",
   "execution_count": 17,
   "id": "600a6589",
   "metadata": {},
   "outputs": [
    {
     "data": {
      "text/html": [
       "<table class=\"dataframe\">\n",
       "<caption>A data.frame: 7 × 12</caption>\n",
       "<thead>\n",
       "\t<tr><th></th><th scope=col>Mean</th><th scope=col>SD</th><th scope=col>Skew</th><th scope=col>Kurt</th><th scope=col>Min</th><th scope=col>5%</th><th scope=col>25%</th><th scope=col>Median</th><th scope=col>75%</th><th scope=col>95%</th><th scope=col>Max</th><th scope=col>n</th></tr>\n",
       "\t<tr><th></th><th scope=col>&lt;dbl&gt;</th><th scope=col>&lt;dbl&gt;</th><th scope=col>&lt;dbl&gt;</th><th scope=col>&lt;dbl&gt;</th><th scope=col>&lt;dbl&gt;</th><th scope=col>&lt;dbl&gt;</th><th scope=col>&lt;dbl&gt;</th><th scope=col>&lt;dbl&gt;</th><th scope=col>&lt;dbl&gt;</th><th scope=col>&lt;dbl&gt;</th><th scope=col>&lt;dbl&gt;</th><th scope=col>&lt;dbl&gt;</th></tr>\n",
       "</thead>\n",
       "<tbody>\n",
       "\t<tr><th scope=row>Beta</th><td> 1.007</td><td>  0.331</td><td>0.241</td><td> 3.596</td><td>  0.215</td><td>  0.464</td><td> 0.795</td><td> 0.999</td><td> 1.215</td><td>  1.550</td><td>   2.107</td><td>250</td></tr>\n",
       "\t<tr><th scope=row>MktCap</th><td>62.301</td><td>143.790</td><td>6.834</td><td>59.354</td><td>  3.631</td><td>  6.836</td><td>11.993</td><td>24.318</td><td>53.839</td><td>219.215</td><td>1518.211</td><td>250</td></tr>\n",
       "\t<tr><th scope=row>Size</th><td> 3.324</td><td>  1.104</td><td>0.839</td><td> 3.591</td><td>  1.270</td><td>  1.913</td><td> 2.477</td><td> 3.186</td><td> 3.981</td><td>  5.387</td><td>   7.320</td><td>250</td></tr>\n",
       "\t<tr><th scope=row>Value</th><td> 0.426</td><td>  0.460</td><td>1.027</td><td> 6.376</td><td> -1.170</td><td>  0.000</td><td> 0.108</td><td> 0.318</td><td> 0.630</td><td>  1.255</td><td>   2.707</td><td>250</td></tr>\n",
       "\t<tr><th scope=row>Mom</th><td>14.437</td><td> 23.467</td><td>1.049</td><td> 8.344</td><td>-48.015</td><td>-18.650</td><td>-0.270</td><td>12.848</td><td>26.677</td><td> 51.919</td><td> 137.387</td><td>250</td></tr>\n",
       "\t<tr><th scope=row>Illiq</th><td> 1.618</td><td>  2.366</td><td>3.636</td><td>27.254</td><td>  0.054</td><td>  0.137</td><td> 0.553</td><td> 1.018</td><td> 1.911</td><td>  4.443</td><td>  24.706</td><td>250</td></tr>\n",
       "\t<tr><th scope=row>Excess Return</th><td> 0.014</td><td>  0.063</td><td>0.301</td><td> 6.243</td><td> -0.204</td><td> -0.082</td><td>-0.022</td><td> 0.014</td><td> 0.050</td><td>  0.113</td><td>   0.283</td><td>250</td></tr>\n",
       "</tbody>\n",
       "</table>\n"
      ],
      "text/latex": [
       "A data.frame: 7 × 12\n",
       "\\begin{tabular}{r|llllllllllll}\n",
       "  & Mean & SD & Skew & Kurt & Min & 5\\% & 25\\% & Median & 75\\% & 95\\% & Max & n\\\\\n",
       "  & <dbl> & <dbl> & <dbl> & <dbl> & <dbl> & <dbl> & <dbl> & <dbl> & <dbl> & <dbl> & <dbl> & <dbl>\\\\\n",
       "\\hline\n",
       "\tBeta &  1.007 &   0.331 & 0.241 &  3.596 &   0.215 &   0.464 &  0.795 &  0.999 &  1.215 &   1.550 &    2.107 & 250\\\\\n",
       "\tMktCap & 62.301 & 143.790 & 6.834 & 59.354 &   3.631 &   6.836 & 11.993 & 24.318 & 53.839 & 219.215 & 1518.211 & 250\\\\\n",
       "\tSize &  3.324 &   1.104 & 0.839 &  3.591 &   1.270 &   1.913 &  2.477 &  3.186 &  3.981 &   5.387 &    7.320 & 250\\\\\n",
       "\tValue &  0.426 &   0.460 & 1.027 &  6.376 &  -1.170 &   0.000 &  0.108 &  0.318 &  0.630 &   1.255 &    2.707 & 250\\\\\n",
       "\tMom & 14.437 &  23.467 & 1.049 &  8.344 & -48.015 & -18.650 & -0.270 & 12.848 & 26.677 &  51.919 &  137.387 & 250\\\\\n",
       "\tIlliq &  1.618 &   2.366 & 3.636 & 27.254 &   0.054 &   0.137 &  0.553 &  1.018 &  1.911 &   4.443 &   24.706 & 250\\\\\n",
       "\tExcess Return &  0.014 &   0.063 & 0.301 &  6.243 &  -0.204 &  -0.082 & -0.022 &  0.014 &  0.050 &   0.113 &    0.283 & 250\\\\\n",
       "\\end{tabular}\n"
      ],
      "text/markdown": [
       "\n",
       "A data.frame: 7 × 12\n",
       "\n",
       "| <!--/--> | Mean &lt;dbl&gt; | SD &lt;dbl&gt; | Skew &lt;dbl&gt; | Kurt &lt;dbl&gt; | Min &lt;dbl&gt; | 5% &lt;dbl&gt; | 25% &lt;dbl&gt; | Median &lt;dbl&gt; | 75% &lt;dbl&gt; | 95% &lt;dbl&gt; | Max &lt;dbl&gt; | n &lt;dbl&gt; |\n",
       "|---|---|---|---|---|---|---|---|---|---|---|---|---|\n",
       "| Beta |  1.007 |   0.331 | 0.241 |  3.596 |   0.215 |   0.464 |  0.795 |  0.999 |  1.215 |   1.550 |    2.107 | 250 |\n",
       "| MktCap | 62.301 | 143.790 | 6.834 | 59.354 |   3.631 |   6.836 | 11.993 | 24.318 | 53.839 | 219.215 | 1518.211 | 250 |\n",
       "| Size |  3.324 |   1.104 | 0.839 |  3.591 |   1.270 |   1.913 |  2.477 |  3.186 |  3.981 |   5.387 |    7.320 | 250 |\n",
       "| Value |  0.426 |   0.460 | 1.027 |  6.376 |  -1.170 |   0.000 |  0.108 |  0.318 |  0.630 |   1.255 |    2.707 | 250 |\n",
       "| Mom | 14.437 |  23.467 | 1.049 |  8.344 | -48.015 | -18.650 | -0.270 | 12.848 | 26.677 |  51.919 |  137.387 | 250 |\n",
       "| Illiq |  1.618 |   2.366 | 3.636 | 27.254 |   0.054 |   0.137 |  0.553 |  1.018 |  1.911 |   4.443 |   24.706 | 250 |\n",
       "| Excess Return |  0.014 |   0.063 | 0.301 |  6.243 |  -0.204 |  -0.082 | -0.022 |  0.014 |  0.050 |   0.113 |    0.283 | 250 |\n",
       "\n"
      ],
      "text/plain": [
       "              Mean   SD      Skew  Kurt   Min     5%      25%    Median 75%   \n",
       "Beta           1.007   0.331 0.241  3.596   0.215   0.464  0.795  0.999  1.215\n",
       "MktCap        62.301 143.790 6.834 59.354   3.631   6.836 11.993 24.318 53.839\n",
       "Size           3.324   1.104 0.839  3.591   1.270   1.913  2.477  3.186  3.981\n",
       "Value          0.426   0.460 1.027  6.376  -1.170   0.000  0.108  0.318  0.630\n",
       "Mom           14.437  23.467 1.049  8.344 -48.015 -18.650 -0.270 12.848 26.677\n",
       "Illiq          1.618   2.366 3.636 27.254   0.054   0.137  0.553  1.018  1.911\n",
       "Excess Return  0.014   0.063 0.301  6.243  -0.204  -0.082 -0.022  0.014  0.050\n",
       "              95%     Max      n  \n",
       "Beta            1.550    2.107 250\n",
       "MktCap        219.215 1518.211 250\n",
       "Size            5.387    7.320 250\n",
       "Value           1.255    2.707 250\n",
       "Mom            51.919  137.387 250\n",
       "Illiq           4.443   24.706 250\n",
       "Excess Return   0.113    0.283 250"
      ]
     },
     "metadata": {},
     "output_type": "display_data"
    }
   ],
   "source": [
    "#name the row: mean, variance, skewness, excess kurtosis, minimum and maximum\n",
    "col_n <- c('Mean','SD', 'Skew', 'Kurt', 'Min','5%',\n",
    "        '25%', 'Median', '75%', '95%','Max', 'n')\n",
    "row_n <- c('Beta','MktCap', 'Size', 'Value', 'Mom','Illiq', 'Excess Return')\n",
    "stock_n <- c(250,250,250,250,250,250,250)\n",
    "df_stat <- data.frame(getStat(monthly_betas))\n",
    "df_stat <- cbind(df_stat, getStat(monthly_market_caps)) \n",
    "df_stat <- cbind(df_stat, getStat(monthly_sizes)) \n",
    "df_stat <- cbind(df_stat, getStat1(monthly_bm_ratios)) \n",
    "df_stat <- cbind(df_stat, getStat(monthly_momentum)) \n",
    "df_stat <- cbind(df_stat, getStat(monthly_illiq)) \n",
    "df_stat <- cbind(df_stat, getStat(monthly_returns)) \n",
    "stats_t <- as.data.frame(t(df_stat))\n",
    "stats_t <- cbind(stats_t, stock_n) \n",
    "out_res <- data.frame(lapply(stats_t, function(y) if(is.numeric(y)) round(y, 3) else y))    \n",
    "rownames(out_res) <- row_n\n",
    "colnames(out_res) <- col_n\n",
    "out_res"
   ]
  },
  {
   "cell_type": "markdown",
   "id": "8947906e",
   "metadata": {},
   "source": [
    "**From the table we could notice that MktCap factor is highly skewed, and this skew problem is mitigated in Size factor after natual log is used. However, Illiq factor is still highly positively skewed and leptokurtic even after using natural log calculation.  \n",
    "We will use the Standard Deviation (SD) information from this table for Economically Importance analysis in Fama-MacBeth regression section again.**"
   ]
  },
  {
   "cell_type": "markdown",
   "id": "576655df",
   "metadata": {},
   "source": [
    "# 3. Methodology\n",
    "\n",
    "**In terms of portfolio analysis, three variables, which are beta, size, and illiquidity, are used as sort variables. We start with the univariate portfolio sort, which only includes one sort variable. We use beta, size, and illiquidity as the sort variable in turn.**  \n",
    "\n",
    "**In each univariate portfolio sort, we follow four steps: the first step is to calculate four breakpoints according to the only sort variable used for each month; the second step is to use these breakpoints to divide 250 stocks into 5 portfolios and form each month portfolios; the third step is to calculate the average value of the monthly stock excess return within each portfolio for each period t; the fourth step is to examine FFCPS alpha by regressing cross-sectional relation between the factors and the portfolio returns. Then, we calculate the time-series mean with corresponding Newey-West t-stats of each portfolio as well as the difference portfolio. Both equal-weighted and value-weighted portfolio returns are calculated. For the hypothesis testing, we adopt the 5% confidence level and the corresponding t-stats is 1.96.**\n",
    "\n",
    "**Then, we perform the bivariate independent-sort analysis. In this analysis, portfolios are formed by sorting on two variables independently. We use the Size-Beta sort and the Size-Illiquidity sort. In each analysis, we form 3x3 portfolios - use the 30 and 70 percentiles of the sort variables as breakpoints. Only value-weighted portfolios are formed. Then we calculate the time-series mean with corresponding Newey-West t-stats of each portfolio as well as the difference portfolio.**\n",
    "\n",
    "**We also do the Fama-MacBeth regression which controls for the sensitivity of the portfolios to systematic risk factors. We include different variables as independent variables in different specifications. Therefore, we can examine the effect of illiquidity independently, as well as after controlling for other variables.**"
   ]
  },
  {
   "cell_type": "markdown",
   "id": "345229ff",
   "metadata": {},
   "source": [
    "# 4. Univariate portfolio sorts and analysis"
   ]
  },
  {
   "cell_type": "markdown",
   "id": "148a7b85",
   "metadata": {},
   "source": [
    "**In this section, we will do the univariate portfolio sorting based on beta, size and illiquidity respectively. For each sort variable we sort the stocks into the quintiles and create equally weighted and value weighted portfolios.   \n",
    "For each sort variable and each quintile, we report average value of sorting variables. In addition, for each sort variable, each quintile and difference \"5-1\" portfolio we report time-series averages with corresponding Newey-West t-stats of one-month-ahead excess return and Fama-French-Carhart-Pastor-Stambaugh(FFCPS) alpha. The results are presented and discussed  in the followings.**\n"
   ]
  },
  {
   "cell_type": "markdown",
   "id": "cf72faed",
   "metadata": {},
   "source": [
    "### <span style='background: lightblue'>Create Univariate Portfolio Sorting Functions</span>"
   ]
  },
  {
   "cell_type": "markdown",
   "id": "6641835f",
   "metadata": {},
   "source": [
    "**This get_alpha() function calculates FFCPS alpha by using downloaded factors from the web of Kenneth French and Lubos Pastor.  \n",
    "For each portfolio excess return(simple or weighted average), we use the return spread of 5 factors to do time-series regression, output Intercept as FFCPS Alpha, and t-value for significant analysis.**"
   ]
  },
  {
   "cell_type": "code",
   "execution_count": 18,
   "id": "b8eadcd2",
   "metadata": {},
   "outputs": [],
   "source": [
    "# use 1 as equal_weights input parameters\n",
    "monthly_equal_weights <- monthly_betas\n",
    "monthly_equal_weights[,] <- 1\n",
    "\n",
    "get_alpha <- function (port_return) {\n",
    "    names(port_return) <- \"return\"\n",
    "    sample <- cbind(port_return, factor_data)    \n",
    "    # FFCPS model\n",
    "    model_FFCPS <- lm('return ~ liq + mkt.rf + smb + hml + mom ', data = sample)     \n",
    "    return(model_FFCPS)    \n",
    "}"
   ]
  },
  {
   "cell_type": "markdown",
   "id": "2a1601a2",
   "metadata": {},
   "source": [
    "**This univariate_sort() function calculates univariate sort, and for each sorted group output:**\n",
    "* 1. Average factor value of each sort group; \n",
    "* 2. Excess returns(EW or VW);\n",
    "* 3. NeweyWest t-stats of returns;\n",
    "* 4. FFCPS alpha;\n",
    "* 5. T-value of FFCPS alpha."
   ]
  },
  {
   "cell_type": "code",
   "execution_count": 19,
   "id": "f352b421",
   "metadata": {},
   "outputs": [],
   "source": [
    "# Parameters: factor variable want to be sorted, stock returns, \n",
    "# market_caps（weight） for VW or EV\n",
    "# n as number for portfolios of each sorted variables\n",
    "univariate_sort <- function (sort_variable_data, returns, market_caps,\n",
    "        n, factor_name, round_n = 6) {\n",
    "    row_n <- c(factor_name , 'Excess return',' t-stats', 'FFCPS alpha',' t-value' )\n",
    "    diff_portfolio <- paste(n, '- 1')\n",
    "    # Initialize an xts object for storing portfolio returns.\n",
    "    portfolio_returns <- as.xts(\n",
    "        matrix(\n",
    "            nrow = nrow(sort_variable_data) - 1,\n",
    "            ncol = n + 1\n",
    "        ),\n",
    "        order.by = index(sort_variable_data[2:nrow(sort_variable_data)])\n",
    "    )\n",
    "    names(portfolio_returns) <- c(1:n, diff_portfolio)        \n",
    "    # Initialize an xts object for storing portfolio factors\n",
    "    # to output avarge beta after grouping\n",
    "    portfolio_factors <- as.xts(\n",
    "        matrix(\n",
    "            nrow = nrow(sort_variable_data) - 1,\n",
    "            ncol = n \n",
    "        ),\n",
    "        order.by = index(sort_variable_data[2:nrow(sort_variable_data)])\n",
    "    )\n",
    "    names(portfolio_factors) <- c(1:n)            \n",
    "    # Iterate over rows, find breakpoints and compute monthly \n",
    "    # returns within the given value breakpoints.\n",
    "    # month_factor\n",
    "    for (i in 1:nrow(portfolio_returns)) {\n",
    "        current_month <- index(portfolio_returns[i])\n",
    "        # use the forward looking result, so need to get next month return and markcap\n",
    "        next_month <- as.Date(as.yearmon(current_month %m+% months(1)), \n",
    "                    frac = 1)\n",
    "        if (!next_month %in% index(returns)) {\n",
    "            next\n",
    "        }\n",
    "        # Avoid look-ahead bias by sorting the returns\n",
    "        # after the month used to compute breakpoints ends.\n",
    "        # use this month sort variable, and next month return and markcap\n",
    "        # because need to use the forward month return for result\n",
    "        month_returns <- returns[next_month]        \n",
    "        # just use month_factor as input sort variable parameter\n",
    "        month_factor <- sort_variable_data[current_month]        \n",
    "        month_market_caps <- market_caps[next_month]\n",
    "        # Replace NA market caps with 0s so that such observations have no weights.\n",
    "        # use markcap for VW\n",
    "        month_market_caps[is.na(month_market_caps)] <- 0        \n",
    "        # input parameter n is break group numbers\n",
    "        # set up breakpoint value based on sort variables\n",
    "        # for each month, it has its own breakpoints\n",
    "        breakpoints <- quantile(month_factor, 0:n/n, na.rm = TRUE)\n",
    "        not_na <- !is.na(month_factor)   # removed not traded data        \n",
    "        # j is for each portfolio group\n",
    "        for (j in 1:n) {\n",
    "            # compare sort varible with breakpoint\n",
    "            # filter is a boolean type flag\n",
    "            # if in this group, filter is True\n",
    "            # decide the stock is included in this portfolio or not\n",
    "            filter <- (breakpoints[[j]] < month_factor) & (\n",
    "                month_factor < breakpoints[[j + 1]]) & not_na            \n",
    "            # Compute weighted average portfolio returns within the groups\n",
    "            # use month_market_caps parameter for weightings\n",
    "            # for EV, input is 1\n",
    "            # use the returns of next months for calculation\n",
    "            # only stocks in the portfolio (filter = True) are included for calculation\n",
    "            portfolio_returns[i, j] <- weighted.mean(t(month_returns[, filter]), \n",
    "                t(month_market_caps[, filter]))                      \n",
    "            # calculate avarge beta of each group of each month\n",
    "            portfolio_factors[i, j] <- mean(month_factor[, filter])        \n",
    "        }\n",
    "        # calculate diff of the avg returns between last and first group\n",
    "        portfolio_returns[i, diff_portfolio] <- portfolio_returns[i, \n",
    "                n] - portfolio_returns[i, 1]\n",
    "    }      \n",
    "    # Now in portfolio_returns, we have the avg returns of each month \n",
    "    # in each group of portfolios and the diff group\n",
    "    # Compute overall average returns within portfolios and their standard errors.\n",
    "    # just 2 rows, n+1 portfolios, the last one is diff portfolio    \n",
    "    # Create empty frame  results_returns\n",
    "    results_returns <- as.data.frame(matrix(nrow = 5, ncol = n + 1))\n",
    "    names(results_returns) <- c(1:n, diff_portfolio)\n",
    "    # calculate avarge beta in all months for sub-group    \n",
    "    mean_factor <- colMeans(na.omit(portfolio_factors))       \n",
    "    for (j in 1:n ) {\n",
    "        results_returns[1, j] <- mean_factor[j]\n",
    "    }    \n",
    "    results_returns[1, n+1] <- mean_factor[n] - mean_factor[1]            \n",
    "    # every i is each stock\n",
    "    for (i in 1:ncol(results_returns)) {\n",
    "        # run simple regression of all months for each stock\n",
    "        model <- lm(na.omit(portfolio_returns[, i]) ~ 1)\n",
    "        # contains alpha\n",
    "        results_returns[2, i] <- model$coefficients[[1]]\n",
    "        # alpha / standard errors\n",
    "        results_returns[3, i] <- model$coefficients[[1]] / sqrt(NeweyWest(model, \n",
    "            lag = 6))[[1]]        \n",
    "        # calculate FFCPS alpha and t-value \n",
    "        model <- get_alpha(portfolio_returns[, i])        \n",
    "        results_returns[4, i] <- summary(model)$coefficients[1, 1]\n",
    "        results_returns[5, i] <- summary(model)$coefficients[1, 3]        \n",
    "    }            \n",
    "    # round numbers\n",
    "    out_res <- data.frame(lapply(results_returns, function(y) if(\n",
    "        is.numeric(y)) round(y, round_n) else y))  \n",
    "    rownames(out_res) <- row_n\n",
    "    colnames(out_res) <- c(1:n, diff_portfolio)                                 \n",
    "    out_res                                                                 \n",
    "}"
   ]
  },
  {
   "cell_type": "markdown",
   "id": "33bb6118",
   "metadata": {},
   "source": [
    "### <span style='background: lightblue'>4.1. Portfolio sorts and analysis based on beta</span>"
   ]
  },
  {
   "cell_type": "markdown",
   "id": "c9da83e3",
   "metadata": {},
   "source": [
    "**Sort the stocks into the quintiles by Beta factor**\n",
    "\n",
    "**4.1.1. Create equal-weighted portfolios**"
   ]
  },
  {
   "cell_type": "code",
   "execution_count": 20,
   "id": "97992955",
   "metadata": {
    "scrolled": true
   },
   "outputs": [
    {
     "data": {
      "text/html": [
       "<table class=\"dataframe\">\n",
       "<caption>A data.frame: 5 × 6</caption>\n",
       "<thead>\n",
       "\t<tr><th></th><th scope=col>1</th><th scope=col>2</th><th scope=col>3</th><th scope=col>4</th><th scope=col>5</th><th scope=col>5 - 1</th></tr>\n",
       "\t<tr><th></th><th scope=col>&lt;dbl&gt;</th><th scope=col>&lt;dbl&gt;</th><th scope=col>&lt;dbl&gt;</th><th scope=col>&lt;dbl&gt;</th><th scope=col>&lt;dbl&gt;</th><th scope=col>&lt;dbl&gt;</th></tr>\n",
       "</thead>\n",
       "<tbody>\n",
       "\t<tr><th scope=row>Beta</th><td>0.5649</td><td>0.8377</td><td>1.0051</td><td>1.1855</td><td>1.5188</td><td>0.9539</td></tr>\n",
       "\t<tr><th scope=row>Excess return</th><td>0.0092</td><td>0.0114</td><td>0.0113</td><td>0.0141</td><td>0.0139</td><td>0.0047</td></tr>\n",
       "\t<tr><th scope=row> t-stats</th><td>3.2582</td><td>3.0375</td><td>2.7310</td><td>2.7870</td><td>2.1523</td><td>0.9914</td></tr>\n",
       "\t<tr><th scope=row>FFCPS alpha</th><td>0.0089</td><td>0.0103</td><td>0.0108</td><td>0.0131</td><td>0.0129</td><td>0.0040</td></tr>\n",
       "\t<tr><th scope=row> t-value</th><td>2.9604</td><td>2.8112</td><td>2.5112</td><td>2.5339</td><td>1.9942</td><td>0.8146</td></tr>\n",
       "</tbody>\n",
       "</table>\n"
      ],
      "text/latex": [
       "A data.frame: 5 × 6\n",
       "\\begin{tabular}{r|llllll}\n",
       "  & 1 & 2 & 3 & 4 & 5 & 5 - 1\\\\\n",
       "  & <dbl> & <dbl> & <dbl> & <dbl> & <dbl> & <dbl>\\\\\n",
       "\\hline\n",
       "\tBeta & 0.5649 & 0.8377 & 1.0051 & 1.1855 & 1.5188 & 0.9539\\\\\n",
       "\tExcess return & 0.0092 & 0.0114 & 0.0113 & 0.0141 & 0.0139 & 0.0047\\\\\n",
       "\t t-stats & 3.2582 & 3.0375 & 2.7310 & 2.7870 & 2.1523 & 0.9914\\\\\n",
       "\tFFCPS alpha & 0.0089 & 0.0103 & 0.0108 & 0.0131 & 0.0129 & 0.0040\\\\\n",
       "\t t-value & 2.9604 & 2.8112 & 2.5112 & 2.5339 & 1.9942 & 0.8146\\\\\n",
       "\\end{tabular}\n"
      ],
      "text/markdown": [
       "\n",
       "A data.frame: 5 × 6\n",
       "\n",
       "| <!--/--> | 1 &lt;dbl&gt; | 2 &lt;dbl&gt; | 3 &lt;dbl&gt; | 4 &lt;dbl&gt; | 5 &lt;dbl&gt; | 5 - 1 &lt;dbl&gt; |\n",
       "|---|---|---|---|---|---|---|\n",
       "| Beta | 0.5649 | 0.8377 | 1.0051 | 1.1855 | 1.5188 | 0.9539 |\n",
       "| Excess return | 0.0092 | 0.0114 | 0.0113 | 0.0141 | 0.0139 | 0.0047 |\n",
       "|  t-stats | 3.2582 | 3.0375 | 2.7310 | 2.7870 | 2.1523 | 0.9914 |\n",
       "| FFCPS alpha | 0.0089 | 0.0103 | 0.0108 | 0.0131 | 0.0129 | 0.0040 |\n",
       "|  t-value | 2.9604 | 2.8112 | 2.5112 | 2.5339 | 1.9942 | 0.8146 |\n",
       "\n"
      ],
      "text/plain": [
       "              1      2      3      4      5      5 - 1 \n",
       "Beta          0.5649 0.8377 1.0051 1.1855 1.5188 0.9539\n",
       "Excess return 0.0092 0.0114 0.0113 0.0141 0.0139 0.0047\n",
       " t-stats      3.2582 3.0375 2.7310 2.7870 2.1523 0.9914\n",
       "FFCPS alpha   0.0089 0.0103 0.0108 0.0131 0.0129 0.0040\n",
       " t-value      2.9604 2.8112 2.5112 2.5339 1.9942 0.8146"
      ]
     },
     "metadata": {},
     "output_type": "display_data"
    }
   ],
   "source": [
    "univariate_sort(monthly_betas, monthly_returns, monthly_equal_weights, \n",
    "        5, \"Beta\", 4)"
   ]
  },
  {
   "cell_type": "markdown",
   "id": "4fb9182d",
   "metadata": {},
   "source": [
    "**Comments:**\n",
    "\n",
    "The first row is the average sorting factor(Beta) value for each portfolio. Beta are monotonically increasing across the quintiles from 0.56 to 1.52, as we sort and form the portfolios based on Beta of each stocks.  \n",
    "\n",
    "First we exam the difference portfolio 5-1. The average return of the difference portfolio, is 0.47%. This difference is not statistically distinguishable from zero as the t-statistic is 0.99, which is smaller than 1.96. Thus, our portfolio analysis fails to detect a cross-sectional relation between 𝛽 and excess stock returns, meaning long high beta stocks and short low beta stocks could not show excess returns statistically significant different from zero.\n",
    "\n",
    "In terms of the portfolio 1 to 5, the excess returns are 0.92%, 1.14%, 1.13%, 1.41%,and 1.39%, respectively. Each of these average returns is found to be statistically significant as all the t-statistics are larger than 1.96. When comparing the average returns of portfolio 2 (1.14%) and 3(1.13%), as well as those of portfolio 4(1.41%) and portfolio 5(1.39%), we found that portfolio with higher betas do not generate higher average returns, which does not support CAPM theory of higher Beta stocks should generate higher excess returns. \n",
    "\n",
    "Besides, the FFCPS alpha of all 5 portfolios are significant, illustrates that there is statistically significant unexplained excess returns could not be explained after controlling Beta. And this is also different from CAPM theory that abnormal return alpha should be zero. "
   ]
  },
  {
   "cell_type": "markdown",
   "id": "9e2a779e",
   "metadata": {},
   "source": [
    "**4.1.2. Create value-weighted portfolios**"
   ]
  },
  {
   "cell_type": "code",
   "execution_count": 21,
   "id": "73a762e6",
   "metadata": {},
   "outputs": [
    {
     "data": {
      "text/html": [
       "<table class=\"dataframe\">\n",
       "<caption>A data.frame: 5 × 6</caption>\n",
       "<thead>\n",
       "\t<tr><th></th><th scope=col>1</th><th scope=col>2</th><th scope=col>3</th><th scope=col>4</th><th scope=col>5</th><th scope=col>5 - 1</th></tr>\n",
       "\t<tr><th></th><th scope=col>&lt;dbl&gt;</th><th scope=col>&lt;dbl&gt;</th><th scope=col>&lt;dbl&gt;</th><th scope=col>&lt;dbl&gt;</th><th scope=col>&lt;dbl&gt;</th><th scope=col>&lt;dbl&gt;</th></tr>\n",
       "</thead>\n",
       "<tbody>\n",
       "\t<tr><th scope=row>Beta</th><td>0.5649</td><td>0.8377</td><td>1.0051</td><td>1.1855</td><td>1.5188</td><td>0.9539</td></tr>\n",
       "\t<tr><th scope=row>Excess return</th><td>0.0100</td><td>0.0118</td><td>0.0118</td><td>0.0139</td><td>0.0155</td><td>0.0055</td></tr>\n",
       "\t<tr><th scope=row> t-stats</th><td>4.0252</td><td>3.4321</td><td>2.9321</td><td>3.0953</td><td>2.6196</td><td>1.1411</td></tr>\n",
       "\t<tr><th scope=row>FFCPS alpha</th><td>0.0099</td><td>0.0108</td><td>0.0115</td><td>0.0134</td><td>0.0153</td><td>0.0054</td></tr>\n",
       "\t<tr><th scope=row> t-value</th><td>3.4223</td><td>2.9010</td><td>2.7244</td><td>2.7831</td><td>2.4788</td><td>1.0816</td></tr>\n",
       "</tbody>\n",
       "</table>\n"
      ],
      "text/latex": [
       "A data.frame: 5 × 6\n",
       "\\begin{tabular}{r|llllll}\n",
       "  & 1 & 2 & 3 & 4 & 5 & 5 - 1\\\\\n",
       "  & <dbl> & <dbl> & <dbl> & <dbl> & <dbl> & <dbl>\\\\\n",
       "\\hline\n",
       "\tBeta & 0.5649 & 0.8377 & 1.0051 & 1.1855 & 1.5188 & 0.9539\\\\\n",
       "\tExcess return & 0.0100 & 0.0118 & 0.0118 & 0.0139 & 0.0155 & 0.0055\\\\\n",
       "\t t-stats & 4.0252 & 3.4321 & 2.9321 & 3.0953 & 2.6196 & 1.1411\\\\\n",
       "\tFFCPS alpha & 0.0099 & 0.0108 & 0.0115 & 0.0134 & 0.0153 & 0.0054\\\\\n",
       "\t t-value & 3.4223 & 2.9010 & 2.7244 & 2.7831 & 2.4788 & 1.0816\\\\\n",
       "\\end{tabular}\n"
      ],
      "text/markdown": [
       "\n",
       "A data.frame: 5 × 6\n",
       "\n",
       "| <!--/--> | 1 &lt;dbl&gt; | 2 &lt;dbl&gt; | 3 &lt;dbl&gt; | 4 &lt;dbl&gt; | 5 &lt;dbl&gt; | 5 - 1 &lt;dbl&gt; |\n",
       "|---|---|---|---|---|---|---|\n",
       "| Beta | 0.5649 | 0.8377 | 1.0051 | 1.1855 | 1.5188 | 0.9539 |\n",
       "| Excess return | 0.0100 | 0.0118 | 0.0118 | 0.0139 | 0.0155 | 0.0055 |\n",
       "|  t-stats | 4.0252 | 3.4321 | 2.9321 | 3.0953 | 2.6196 | 1.1411 |\n",
       "| FFCPS alpha | 0.0099 | 0.0108 | 0.0115 | 0.0134 | 0.0153 | 0.0054 |\n",
       "|  t-value | 3.4223 | 2.9010 | 2.7244 | 2.7831 | 2.4788 | 1.0816 |\n",
       "\n"
      ],
      "text/plain": [
       "              1      2      3      4      5      5 - 1 \n",
       "Beta          0.5649 0.8377 1.0051 1.1855 1.5188 0.9539\n",
       "Excess return 0.0100 0.0118 0.0118 0.0139 0.0155 0.0055\n",
       " t-stats      4.0252 3.4321 2.9321 3.0953 2.6196 1.1411\n",
       "FFCPS alpha   0.0099 0.0108 0.0115 0.0134 0.0153 0.0054\n",
       " t-value      3.4223 2.9010 2.7244 2.7831 2.4788 1.0816"
      ]
     },
     "metadata": {},
     "output_type": "display_data"
    }
   ],
   "source": [
    "univariate_sort(monthly_betas, monthly_returns, monthly_market_caps, \n",
    "            5, \"Beta\", 4)"
   ]
  },
  {
   "cell_type": "markdown",
   "id": "f804aad2",
   "metadata": {},
   "source": [
    "**Comments:**\n",
    "\n",
    "Similar to the equal-weighted portfolios, because the t-statistic for the difference portfolio is 1.14, which is not significant from zero, so we could not tell there is cross-sectional relation between Beta and excess stock returns for value-weighted portfolios neither.\n",
    "\n",
    "When examining the individual portfolio returns, we found all portfolios generate statistically significant positive average returns, since all t-statistics are larger than 2. The average returns for portfolio 1 to 5 increase  as 1.00%, 1.18%,1.18%, 1.39%, and 1.55%, respectively. The reason is that stocks with high Beta usually also have higher Size, so that in the value-weighted portfolios, portfolios with higher beta usually generate higher average returns than portfolios with lower betas. The difference between EW and VW portfolios shows there maybe exist size effect in the result.  \n",
    "\n",
    "Besides, the FFCPS alpha of all portfolio are significant, illustrates that there is statistically significant unexplained excess returns that could not be explained after controlling Beta, which again shows CAPM is not the best model. "
   ]
  },
  {
   "cell_type": "markdown",
   "id": "b065cdca",
   "metadata": {},
   "source": [
    "### <span style='background: lightblue'>4.2. Portfolio sorts and analysis based on size</span>"
   ]
  },
  {
   "cell_type": "markdown",
   "id": "8a9f1198",
   "metadata": {},
   "source": [
    "**Sort the stocks into the quintiles by Size factor**\n",
    "\n",
    "**4.2.1. Create equal-weighted portfolios**"
   ]
  },
  {
   "cell_type": "code",
   "execution_count": 22,
   "id": "fd1ce863",
   "metadata": {},
   "outputs": [
    {
     "data": {
      "text/html": [
       "<table class=\"dataframe\">\n",
       "<caption>A data.frame: 5 × 6</caption>\n",
       "<thead>\n",
       "\t<tr><th></th><th scope=col>1</th><th scope=col>2</th><th scope=col>3</th><th scope=col>4</th><th scope=col>5</th><th scope=col>5 - 1</th></tr>\n",
       "\t<tr><th></th><th scope=col>&lt;dbl&gt;</th><th scope=col>&lt;dbl&gt;</th><th scope=col>&lt;dbl&gt;</th><th scope=col>&lt;dbl&gt;</th><th scope=col>&lt;dbl&gt;</th><th scope=col>&lt;dbl&gt;</th></tr>\n",
       "</thead>\n",
       "<tbody>\n",
       "\t<tr><th scope=row>Size</th><td>1.4852</td><td>2.0779</td><td>2.6229</td><td>3.2802</td><td>4.4557</td><td> 2.9705</td></tr>\n",
       "\t<tr><th scope=row>Excess return</th><td>0.0203</td><td>0.0107</td><td>0.0098</td><td>0.0103</td><td>0.0079</td><td>-0.0124</td></tr>\n",
       "\t<tr><th scope=row> t-stats</th><td>4.2525</td><td>2.6175</td><td>2.1152</td><td>2.6703</td><td>2.1880</td><td>-4.3873</td></tr>\n",
       "\t<tr><th scope=row>FFCPS alpha</th><td>0.0198</td><td>0.0100</td><td>0.0086</td><td>0.0095</td><td>0.0073</td><td>-0.0125</td></tr>\n",
       "\t<tr><th scope=row> t-value</th><td>3.8172</td><td>2.3975</td><td>2.0489</td><td>2.4407</td><td>1.9597</td><td>-4.8301</td></tr>\n",
       "</tbody>\n",
       "</table>\n"
      ],
      "text/latex": [
       "A data.frame: 5 × 6\n",
       "\\begin{tabular}{r|llllll}\n",
       "  & 1 & 2 & 3 & 4 & 5 & 5 - 1\\\\\n",
       "  & <dbl> & <dbl> & <dbl> & <dbl> & <dbl> & <dbl>\\\\\n",
       "\\hline\n",
       "\tSize & 1.4852 & 2.0779 & 2.6229 & 3.2802 & 4.4557 &  2.9705\\\\\n",
       "\tExcess return & 0.0203 & 0.0107 & 0.0098 & 0.0103 & 0.0079 & -0.0124\\\\\n",
       "\t t-stats & 4.2525 & 2.6175 & 2.1152 & 2.6703 & 2.1880 & -4.3873\\\\\n",
       "\tFFCPS alpha & 0.0198 & 0.0100 & 0.0086 & 0.0095 & 0.0073 & -0.0125\\\\\n",
       "\t t-value & 3.8172 & 2.3975 & 2.0489 & 2.4407 & 1.9597 & -4.8301\\\\\n",
       "\\end{tabular}\n"
      ],
      "text/markdown": [
       "\n",
       "A data.frame: 5 × 6\n",
       "\n",
       "| <!--/--> | 1 &lt;dbl&gt; | 2 &lt;dbl&gt; | 3 &lt;dbl&gt; | 4 &lt;dbl&gt; | 5 &lt;dbl&gt; | 5 - 1 &lt;dbl&gt; |\n",
       "|---|---|---|---|---|---|---|\n",
       "| Size | 1.4852 | 2.0779 | 2.6229 | 3.2802 | 4.4557 |  2.9705 |\n",
       "| Excess return | 0.0203 | 0.0107 | 0.0098 | 0.0103 | 0.0079 | -0.0124 |\n",
       "|  t-stats | 4.2525 | 2.6175 | 2.1152 | 2.6703 | 2.1880 | -4.3873 |\n",
       "| FFCPS alpha | 0.0198 | 0.0100 | 0.0086 | 0.0095 | 0.0073 | -0.0125 |\n",
       "|  t-value | 3.8172 | 2.3975 | 2.0489 | 2.4407 | 1.9597 | -4.8301 |\n",
       "\n"
      ],
      "text/plain": [
       "              1      2      3      4      5      5 - 1  \n",
       "Size          1.4852 2.0779 2.6229 3.2802 4.4557  2.9705\n",
       "Excess return 0.0203 0.0107 0.0098 0.0103 0.0079 -0.0124\n",
       " t-stats      4.2525 2.6175 2.1152 2.6703 2.1880 -4.3873\n",
       "FFCPS alpha   0.0198 0.0100 0.0086 0.0095 0.0073 -0.0125\n",
       " t-value      3.8172 2.3975 2.0489 2.4407 1.9597 -4.8301"
      ]
     },
     "metadata": {},
     "output_type": "display_data"
    }
   ],
   "source": [
    "univariate_sort(monthly_sizes, monthly_returns,  monthly_equal_weights, \n",
    "            5, \"Size\", 4)"
   ]
  },
  {
   "cell_type": "markdown",
   "id": "b8ccc94f",
   "metadata": {},
   "source": [
    "**Comments:**\n",
    "\n",
    "The first row is the average sorting factor(Size) value for each portfolio. By design, this table demonstrates that average values of Size increase monotonically from 1.48 for the first quintile of Size to 4.45 for stocks in the 5th Size quintile. \n",
    "\n",
    "Focusing first on the difference portfolio, which is long large stocks (the decile 5 portfolio) and short small stocks (the decile one portfolio), the results indicate that this portfolio generates an economically large average return of −1.24%, which is highly statistically significant with a Newey and West t-statistic of −4.38. In other words, we can conclude from the column \"5-1\" that there is an economically important and statistically significant relation between Size and future stock returns, and such relationship is negative. \n",
    "\n",
    "Examining the individual quintile portfolio returns, we see that quintile portfolio 1 generates a substantially higher average excess return  than any of the other quintile portfolios. There is also a large drop in performance between quintile portfolios 1 and portfolio 2. For portfolios sorted on Size, the first quintile portfolio generates an average monthly excess return of 2.03%， while the second quintile portfolio only generates an average monthly excess return of 1.07%. The average excess returns of portfolios 2 through 5 are relatively similar. All five portfolios has statistically significant Newey and West t-statistic. Therefore, we can find that the cross-sectional relation between Size and future stock returns appears to be driven primarily by the high abnormal returns of the smallest stocks in the sample. The result supports the size effect that stocks with large market capitalizations (large size) tend to have lower returns than stocks with small market capitalizations (small size).\n",
    "\n",
    "The FFCPS alphas are statistically significant in all the quintiles through the 1st to the 5th. The first quintile has the highest alpha of 1.98%, while the 5th quintile has the lowest alpha of 0.73%. The FFCPS alpha of the difference portfolio (5-1) is negative and highly statistically significant (-4.83). Since the FFCPS alpha of the difference portfolio is very similar to the quintile 5-1's average return, we can say that the results do not appear to be driven by exposure to the market (MKT), value (HML), momentum (MOM), or liquidity (PSL) factors.\n"
   ]
  },
  {
   "cell_type": "markdown",
   "id": "80daf3c8",
   "metadata": {},
   "source": [
    "**3.2.2. Create value-weighted portfolios**"
   ]
  },
  {
   "cell_type": "code",
   "execution_count": 23,
   "id": "dc12a392",
   "metadata": {},
   "outputs": [
    {
     "data": {
      "text/html": [
       "<table class=\"dataframe\">\n",
       "<caption>A data.frame: 5 × 6</caption>\n",
       "<thead>\n",
       "\t<tr><th></th><th scope=col>1</th><th scope=col>2</th><th scope=col>3</th><th scope=col>4</th><th scope=col>5</th><th scope=col>5 - 1</th></tr>\n",
       "\t<tr><th></th><th scope=col>&lt;dbl&gt;</th><th scope=col>&lt;dbl&gt;</th><th scope=col>&lt;dbl&gt;</th><th scope=col>&lt;dbl&gt;</th><th scope=col>&lt;dbl&gt;</th><th scope=col>&lt;dbl&gt;</th></tr>\n",
       "</thead>\n",
       "<tbody>\n",
       "\t<tr><th scope=row>Size</th><td>1.4852</td><td>2.0779</td><td>2.6229</td><td>3.2802</td><td>4.4557</td><td> 2.9705</td></tr>\n",
       "\t<tr><th scope=row>Excess return</th><td>0.0261</td><td>0.0159</td><td>0.0153</td><td>0.0145</td><td>0.0113</td><td>-0.0148</td></tr>\n",
       "\t<tr><th scope=row> t-stats</th><td>5.1057</td><td>4.0884</td><td>3.4670</td><td>3.9894</td><td>3.5743</td><td>-4.0585</td></tr>\n",
       "\t<tr><th scope=row>FFCPS alpha</th><td>0.0260</td><td>0.0156</td><td>0.0144</td><td>0.0141</td><td>0.0109</td><td>-0.0151</td></tr>\n",
       "\t<tr><th scope=row> t-value</th><td>4.9347</td><td>3.7754</td><td>3.5224</td><td>3.7058</td><td>3.0275</td><td>-5.0620</td></tr>\n",
       "</tbody>\n",
       "</table>\n"
      ],
      "text/latex": [
       "A data.frame: 5 × 6\n",
       "\\begin{tabular}{r|llllll}\n",
       "  & 1 & 2 & 3 & 4 & 5 & 5 - 1\\\\\n",
       "  & <dbl> & <dbl> & <dbl> & <dbl> & <dbl> & <dbl>\\\\\n",
       "\\hline\n",
       "\tSize & 1.4852 & 2.0779 & 2.6229 & 3.2802 & 4.4557 &  2.9705\\\\\n",
       "\tExcess return & 0.0261 & 0.0159 & 0.0153 & 0.0145 & 0.0113 & -0.0148\\\\\n",
       "\t t-stats & 5.1057 & 4.0884 & 3.4670 & 3.9894 & 3.5743 & -4.0585\\\\\n",
       "\tFFCPS alpha & 0.0260 & 0.0156 & 0.0144 & 0.0141 & 0.0109 & -0.0151\\\\\n",
       "\t t-value & 4.9347 & 3.7754 & 3.5224 & 3.7058 & 3.0275 & -5.0620\\\\\n",
       "\\end{tabular}\n"
      ],
      "text/markdown": [
       "\n",
       "A data.frame: 5 × 6\n",
       "\n",
       "| <!--/--> | 1 &lt;dbl&gt; | 2 &lt;dbl&gt; | 3 &lt;dbl&gt; | 4 &lt;dbl&gt; | 5 &lt;dbl&gt; | 5 - 1 &lt;dbl&gt; |\n",
       "|---|---|---|---|---|---|---|\n",
       "| Size | 1.4852 | 2.0779 | 2.6229 | 3.2802 | 4.4557 |  2.9705 |\n",
       "| Excess return | 0.0261 | 0.0159 | 0.0153 | 0.0145 | 0.0113 | -0.0148 |\n",
       "|  t-stats | 5.1057 | 4.0884 | 3.4670 | 3.9894 | 3.5743 | -4.0585 |\n",
       "| FFCPS alpha | 0.0260 | 0.0156 | 0.0144 | 0.0141 | 0.0109 | -0.0151 |\n",
       "|  t-value | 4.9347 | 3.7754 | 3.5224 | 3.7058 | 3.0275 | -5.0620 |\n",
       "\n"
      ],
      "text/plain": [
       "              1      2      3      4      5      5 - 1  \n",
       "Size          1.4852 2.0779 2.6229 3.2802 4.4557  2.9705\n",
       "Excess return 0.0261 0.0159 0.0153 0.0145 0.0113 -0.0148\n",
       " t-stats      5.1057 4.0884 3.4670 3.9894 3.5743 -4.0585\n",
       "FFCPS alpha   0.0260 0.0156 0.0144 0.0141 0.0109 -0.0151\n",
       " t-value      4.9347 3.7754 3.5224 3.7058 3.0275 -5.0620"
      ]
     },
     "metadata": {},
     "output_type": "display_data"
    }
   ],
   "source": [
    "univariate_sort(monthly_sizes, monthly_returns,  monthly_market_caps, \n",
    "            5, \"Size\", 4)"
   ]
  },
  {
   "cell_type": "markdown",
   "id": "2f8c3de1",
   "metadata": {},
   "source": [
    "**Comments:**\n",
    "\n",
    "When value-weighted portfolios are used, the negative relationship between Size and future stock returns is also detected. The average return of the Size-sorted difference portfolio 5-1 of -1.48% (t-statistic = -4.058) is statistically significant. In addition, similar to the equal-weighted portfolio, the quintile portfolio one of value-weighted portfolios generates a substantially higher average excess return than any of the other quintile portfolios.\n",
    "\n",
    "However, we could also find that the magnitudes of the average return of the value-weighted portfolios are larger than the average return of the equal weighted portfolios in every quintile portfolio. Focusing on the effect of value-weighting on the returns of the first quintile portfolio, we can acknowledge that the first quintile portfolio already contains only stocks with low market capitalizations. As the average excess return of value-weighted quintile portfolio 1(2.61%) is still much larger than portfolio 2 (1.59%), indicates that the stocks with the lowest market capitalizations have extremely high returns and are thus driving the value-weighted portfolio results, even after controlling the size effect in VW portfolios. But we noticed that the t-stats of portfolio 5-1 returns is smaller in VW(-4.05) than EW(-4.38), because in VW portfolios, smaller stock returns have lower weight than in EW portfolios, so the significant decreases.  \n",
    "\n",
    "Similar to the equal-weighted portfolios, the FFCPS alphas are all positive and statistically significant for each quintile. The difference portfolio generates a FFCPS alpha of -1.51% with t-value of -5.06. It means the excess returns are not all from Size factor.\n",
    "\n"
   ]
  },
  {
   "cell_type": "markdown",
   "id": "83a7be0f",
   "metadata": {},
   "source": [
    "### <span style='background: lightblue'>4.3. Portfolio sorts and analysis based on liquidity</span>"
   ]
  },
  {
   "cell_type": "markdown",
   "id": "3bd282f4",
   "metadata": {},
   "source": [
    "**Sort the stocks into the quintiles by ILLIQ factor**\n",
    "\n",
    "**4.3.1. Create equal-weighted portfolios**"
   ]
  },
  {
   "cell_type": "code",
   "execution_count": 24,
   "id": "2ee5cd5a",
   "metadata": {},
   "outputs": [
    {
     "data": {
      "text/html": [
       "<table class=\"dataframe\">\n",
       "<caption>A data.frame: 5 × 6</caption>\n",
       "<thead>\n",
       "\t<tr><th></th><th scope=col>1</th><th scope=col>2</th><th scope=col>3</th><th scope=col>4</th><th scope=col>5</th><th scope=col>5 - 1</th></tr>\n",
       "\t<tr><th></th><th scope=col>&lt;dbl&gt;</th><th scope=col>&lt;dbl&gt;</th><th scope=col>&lt;dbl&gt;</th><th scope=col>&lt;dbl&gt;</th><th scope=col>&lt;dbl&gt;</th><th scope=col>&lt;dbl&gt;</th></tr>\n",
       "</thead>\n",
       "<tbody>\n",
       "\t<tr><th scope=row>Illiq</th><td>0.3175</td><td>0.8385</td><td>1.4781</td><td>2.5704</td><td>6.8691</td><td>6.5516</td></tr>\n",
       "\t<tr><th scope=row>Excess return</th><td>0.0094</td><td>0.0098</td><td>0.0098</td><td>0.0133</td><td>0.0170</td><td>0.0076</td></tr>\n",
       "\t<tr><th scope=row> t-stats</th><td>2.5710</td><td>2.3788</td><td>2.1626</td><td>3.1959</td><td>3.7993</td><td>3.8426</td></tr>\n",
       "\t<tr><th scope=row>FFCPS alpha</th><td>0.0087</td><td>0.0091</td><td>0.0084</td><td>0.0126</td><td>0.0165</td><td>0.0078</td></tr>\n",
       "\t<tr><th scope=row> t-value</th><td>2.3452</td><td>2.2337</td><td>1.9631</td><td>2.8897</td><td>3.4686</td><td>3.7609</td></tr>\n",
       "</tbody>\n",
       "</table>\n"
      ],
      "text/latex": [
       "A data.frame: 5 × 6\n",
       "\\begin{tabular}{r|llllll}\n",
       "  & 1 & 2 & 3 & 4 & 5 & 5 - 1\\\\\n",
       "  & <dbl> & <dbl> & <dbl> & <dbl> & <dbl> & <dbl>\\\\\n",
       "\\hline\n",
       "\tIlliq & 0.3175 & 0.8385 & 1.4781 & 2.5704 & 6.8691 & 6.5516\\\\\n",
       "\tExcess return & 0.0094 & 0.0098 & 0.0098 & 0.0133 & 0.0170 & 0.0076\\\\\n",
       "\t t-stats & 2.5710 & 2.3788 & 2.1626 & 3.1959 & 3.7993 & 3.8426\\\\\n",
       "\tFFCPS alpha & 0.0087 & 0.0091 & 0.0084 & 0.0126 & 0.0165 & 0.0078\\\\\n",
       "\t t-value & 2.3452 & 2.2337 & 1.9631 & 2.8897 & 3.4686 & 3.7609\\\\\n",
       "\\end{tabular}\n"
      ],
      "text/markdown": [
       "\n",
       "A data.frame: 5 × 6\n",
       "\n",
       "| <!--/--> | 1 &lt;dbl&gt; | 2 &lt;dbl&gt; | 3 &lt;dbl&gt; | 4 &lt;dbl&gt; | 5 &lt;dbl&gt; | 5 - 1 &lt;dbl&gt; |\n",
       "|---|---|---|---|---|---|---|\n",
       "| Illiq | 0.3175 | 0.8385 | 1.4781 | 2.5704 | 6.8691 | 6.5516 |\n",
       "| Excess return | 0.0094 | 0.0098 | 0.0098 | 0.0133 | 0.0170 | 0.0076 |\n",
       "|  t-stats | 2.5710 | 2.3788 | 2.1626 | 3.1959 | 3.7993 | 3.8426 |\n",
       "| FFCPS alpha | 0.0087 | 0.0091 | 0.0084 | 0.0126 | 0.0165 | 0.0078 |\n",
       "|  t-value | 2.3452 | 2.2337 | 1.9631 | 2.8897 | 3.4686 | 3.7609 |\n",
       "\n"
      ],
      "text/plain": [
       "              1      2      3      4      5      5 - 1 \n",
       "Illiq         0.3175 0.8385 1.4781 2.5704 6.8691 6.5516\n",
       "Excess return 0.0094 0.0098 0.0098 0.0133 0.0170 0.0076\n",
       " t-stats      2.5710 2.3788 2.1626 3.1959 3.7993 3.8426\n",
       "FFCPS alpha   0.0087 0.0091 0.0084 0.0126 0.0165 0.0078\n",
       " t-value      2.3452 2.2337 1.9631 2.8897 3.4686 3.7609"
      ]
     },
     "metadata": {},
     "output_type": "display_data"
    }
   ],
   "source": [
    "# call for Equally weighted sorting first\n",
    "univariate_sort(monthly_illiq, monthly_returns, monthly_equal_weights,\n",
    "            5, \"Illiq\", 4)"
   ]
  },
  {
   "cell_type": "markdown",
   "id": "ec3fb7f3",
   "metadata": {},
   "source": [
    "**Comments:**   \n",
    "\n",
    "The first row is the average sorting factor(ILLIQ) value for each portfolio. By design, the ILLIQ factor increase monotonically from the first quintile (0.32) to the 5th quintile (6.86).\n",
    "\n",
    "As we can find in the table, for equal-weighted portfolios formed by sorting on ILLIQ, the average excess return increases from 0.94% per month for the first quintile portfolio to 1.70% per month for the 5th quintile portfolio. All portfolios has statistically significant NW t-statistics, meaning that the average excess returns of all portfolios are statistically different from zero. The average return of the equal-weighted ILLIQ 5-1 portfolio of 0.76% per month is economically large and statistically significant, with a NW t-statistic of 3.84. As high value of ILLIQ factor portfolio has low liquid, portfolio 5 is the most illiquid portfolio, and it has the highest returns. We could therefore conclude that as ILLIQ increase (liquidity decrease), portfolio returns increase. So ILLIQ factor is positively related with stock returns.\n",
    "\n",
    "\n",
    "Similar to the Size factor analysis, when examining the individual quintile portfolio returns, we see that quintile portfolio 5 generates a substantially higher average excess return than any of the other quintile portfolios. There is also a large drop in performance between quintile portfolios 5 and portfolio 4. For portfolios sorted on ILLIQ, the portfolio 5 generates an average monthly excess return of 1.70%， while the portfolio 4 only generates an average monthly excess return of 1.33%. The average excess returns of portfolios 1 through 4 are relatively similar. Therefore, we can find that the cross-sectional relation between ILLIQ and future stock returns appears to be driven primarily by the high abnormal returns of the highest illiquid stocks in the sample, which are normally are the smallest stocks as well. The result supports the liquidity effect that stocks with lower liquidity(higher ILLIQ) tend to have higher returns than stocks with higher liquidity(lower ILLIQ).\n",
    "\n",
    "\n",
    "The FFCPS alpha of quintile 1 is 0.87% (t-value 2.34) and it increases to 1.65 for quintile 5 (t-value 3.46), although not monotonically. The FFCPS alpha of the difference quintile \"5-1\" is highly statistically significant, with the alpha value of 0.78% and t-value of 3.76, meaning that after adjusting the risk using the FFCPS model, the patterns in the average portfolio returns persist."
   ]
  },
  {
   "cell_type": "markdown",
   "id": "8d6217f6",
   "metadata": {},
   "source": [
    "**4.3.2. Create value-weighted portfolios**"
   ]
  },
  {
   "cell_type": "code",
   "execution_count": 25,
   "id": "6f20c9d9",
   "metadata": {},
   "outputs": [
    {
     "data": {
      "text/html": [
       "<table class=\"dataframe\">\n",
       "<caption>A data.frame: 5 × 6</caption>\n",
       "<thead>\n",
       "\t<tr><th></th><th scope=col>1</th><th scope=col>2</th><th scope=col>3</th><th scope=col>4</th><th scope=col>5</th><th scope=col>5 - 1</th></tr>\n",
       "\t<tr><th></th><th scope=col>&lt;dbl&gt;</th><th scope=col>&lt;dbl&gt;</th><th scope=col>&lt;dbl&gt;</th><th scope=col>&lt;dbl&gt;</th><th scope=col>&lt;dbl&gt;</th><th scope=col>&lt;dbl&gt;</th></tr>\n",
       "</thead>\n",
       "<tbody>\n",
       "\t<tr><th scope=row>Illiq</th><td>0.3175</td><td>0.8385</td><td>1.4781</td><td>2.5704</td><td>6.8691</td><td>6.5516</td></tr>\n",
       "\t<tr><th scope=row>Excess return</th><td>0.0118</td><td>0.0127</td><td>0.0139</td><td>0.0173</td><td>0.0192</td><td>0.0075</td></tr>\n",
       "\t<tr><th scope=row> t-stats</th><td>3.6440</td><td>3.4185</td><td>3.2171</td><td>4.0212</td><td>4.5487</td><td>3.7515</td></tr>\n",
       "\t<tr><th scope=row>FFCPS alpha</th><td>0.0113</td><td>0.0121</td><td>0.0129</td><td>0.0169</td><td>0.0188</td><td>0.0076</td></tr>\n",
       "\t<tr><th scope=row> t-value</th><td>3.1458</td><td>3.1398</td><td>3.1315</td><td>3.9360</td><td>4.2031</td><td>3.6496</td></tr>\n",
       "</tbody>\n",
       "</table>\n"
      ],
      "text/latex": [
       "A data.frame: 5 × 6\n",
       "\\begin{tabular}{r|llllll}\n",
       "  & 1 & 2 & 3 & 4 & 5 & 5 - 1\\\\\n",
       "  & <dbl> & <dbl> & <dbl> & <dbl> & <dbl> & <dbl>\\\\\n",
       "\\hline\n",
       "\tIlliq & 0.3175 & 0.8385 & 1.4781 & 2.5704 & 6.8691 & 6.5516\\\\\n",
       "\tExcess return & 0.0118 & 0.0127 & 0.0139 & 0.0173 & 0.0192 & 0.0075\\\\\n",
       "\t t-stats & 3.6440 & 3.4185 & 3.2171 & 4.0212 & 4.5487 & 3.7515\\\\\n",
       "\tFFCPS alpha & 0.0113 & 0.0121 & 0.0129 & 0.0169 & 0.0188 & 0.0076\\\\\n",
       "\t t-value & 3.1458 & 3.1398 & 3.1315 & 3.9360 & 4.2031 & 3.6496\\\\\n",
       "\\end{tabular}\n"
      ],
      "text/markdown": [
       "\n",
       "A data.frame: 5 × 6\n",
       "\n",
       "| <!--/--> | 1 &lt;dbl&gt; | 2 &lt;dbl&gt; | 3 &lt;dbl&gt; | 4 &lt;dbl&gt; | 5 &lt;dbl&gt; | 5 - 1 &lt;dbl&gt; |\n",
       "|---|---|---|---|---|---|---|\n",
       "| Illiq | 0.3175 | 0.8385 | 1.4781 | 2.5704 | 6.8691 | 6.5516 |\n",
       "| Excess return | 0.0118 | 0.0127 | 0.0139 | 0.0173 | 0.0192 | 0.0075 |\n",
       "|  t-stats | 3.6440 | 3.4185 | 3.2171 | 4.0212 | 4.5487 | 3.7515 |\n",
       "| FFCPS alpha | 0.0113 | 0.0121 | 0.0129 | 0.0169 | 0.0188 | 0.0076 |\n",
       "|  t-value | 3.1458 | 3.1398 | 3.1315 | 3.9360 | 4.2031 | 3.6496 |\n",
       "\n"
      ],
      "text/plain": [
       "              1      2      3      4      5      5 - 1 \n",
       "Illiq         0.3175 0.8385 1.4781 2.5704 6.8691 6.5516\n",
       "Excess return 0.0118 0.0127 0.0139 0.0173 0.0192 0.0075\n",
       " t-stats      3.6440 3.4185 3.2171 4.0212 4.5487 3.7515\n",
       "FFCPS alpha   0.0113 0.0121 0.0129 0.0169 0.0188 0.0076\n",
       " t-value      3.1458 3.1398 3.1315 3.9360 4.2031 3.6496"
      ]
     },
     "metadata": {},
     "output_type": "display_data"
    }
   ],
   "source": [
    "univariate_sort(monthly_illiq, monthly_returns, monthly_market_caps, \n",
    "         5, \"Illiq\", 4)\n",
    "# high value lower liquid, high returns, positive effect"
   ]
  },
  {
   "cell_type": "markdown",
   "id": "fc8f5bcd",
   "metadata": {},
   "source": [
    "**Comments:**\n",
    "\n",
    "The results of the value-weighted portfolio analyses is quite similar to what we have found in equal-weighted portfolio analyses. A positive relation between ILLIQ and future stock returns is also detected in the value-weighted portfolio analyses. From quintile portfolio 1 to 5, monthly returns increase from 1.18% to 1.92%. The average return of the value-weighted ILLIQ 5-1 portfolio of 0.75% per month is economically large and statistically significant, with a NW t-statistic of 3.75. Similarly, the FFCPS alpha is also economically large and statistically significant, so we can still conclude a positive relationship between ILLIQ factor and excess return after risk-adjustment.   \n",
    "\n",
    "Comparing to EW portfolios, the t-stats of portfolio 5-1 returns is smaller in VW(3.75) than in EW(3.84), because in VW portfolios, smaller stock returns have lower weight than in EW portfolios, so t-stats of high returns from most illiquid (smallest) stocks decreases a little, but still very significant. And it shows the liquidity result, similar to the size effect, is driven primarily by stocks that comprise an extremely small percentage of the total capitalization of the entire stock market."
   ]
  },
  {
   "cell_type": "markdown",
   "id": "1c64d855",
   "metadata": {},
   "source": [
    "# 5. Bivariate portfolio sorts and analysis"
   ]
  },
  {
   "cell_type": "markdown",
   "id": "5f9ac5a9",
   "metadata": {},
   "source": [
    "**In this section, we will perform bivariate independent-sort analysis. Only value-weighted portfolios are formed according to Size-Beta sort and Size-Illiquidity sort, respectively. In each analysis, we create 3x3 portfolios - use the 30 and 70 percentiles of the sort variables as breakpoints. For each sort variable and each portfolio, we report time-series averages with corresponding Newey-West t-stats of one-month-ahead excess return and Fama-French-Carhart-Pastor-Stambaugh alpha.**"
   ]
  },
  {
   "cell_type": "markdown",
   "id": "0237e570",
   "metadata": {},
   "source": [
    "* **Create Bivariat Portfolio Sorting Function**"
   ]
  },
  {
   "cell_type": "code",
   "execution_count": 26,
   "id": "332b20f1",
   "metadata": {},
   "outputs": [],
   "source": [
    "# Parameters: factor variable want to be sorted, stock returns, \n",
    "# market_caps（weight） for VW or EV, EV just set market_caps as 1\n",
    "# only for 3X3 sorting, expandable later for m X n\n",
    "bivariat_sort <- function (sort_data1, sort_data2, returns, \n",
    "        market_caps, round_n= 6, m=3, n=3) {\n",
    "    # use beta and size to do independent sorting\n",
    "    # 3 groups for beta and 3 groups for size\n",
    "    n_portfolios_beta <- m\n",
    "    n_portfolios_size <- n\n",
    "    n_portfolios <- n_portfolios_beta * n_portfolios_size     \n",
    "    diff_portfolios <- c('3 - 1', ' 6 - 4', '9 - 7', '7 - 1', ' 8 - 2', '9 - 3')    \n",
    "    dimC <- c(0, 0.3, 0.7, 1)      \n",
    "    # Initialize an xts object for storing portfolio returns.\n",
    "    returns_sorts <- as.xts(\n",
    "        matrix(\n",
    "            nrow = nrow(sort_data1) - 1,\n",
    "            ncol = n_portfolios + m + n\n",
    "        ),\n",
    "        order.by = index(sort_data1[2:nrow(sort_data1)])\n",
    "    )\n",
    "    row_n <- c( 'Excess return',' t-stats', 'FFCPS alpha',' t-value' )   \n",
    "    col_n <- c(1:n_portfolios, diff_portfolios)\n",
    "    names(returns_sorts) <- col_n            \n",
    "    # Iterate over rows, find breakpoints and compute monthly returns \n",
    "    # within the given beta and size breakpoints.\n",
    "    for (i in 1:nrow(returns_sorts)) {\n",
    "        current_month <- index(returns_sorts[i])\n",
    "        next_month <- as.Date(as.yearmon(current_month %m+% months(1)), \n",
    "            frac = 1)\n",
    "        if (!next_month %in% index(returns)) { next }\n",
    "        # Avoid look-ahead bias by sorting the returns after the month \n",
    "        # used to compute breakpoints ends.\n",
    "        # use this month's beta and size, next month's return and market cap(VW)\n",
    "        month_returns <- returns[next_month]\n",
    "        month_betas <- sort_data1[current_month]\n",
    "        month_sizes <- sort_data2[current_month]\n",
    "        month_market_caps <- market_caps[next_month]\n",
    "        # Replace NA market caps with 0s so that such observations have no weights.        \n",
    "        month_market_caps[is.na(month_market_caps)] <- 0\n",
    "        if (ncol(month_betas) == sum(is.na(month_betas))) { next }\n",
    "        # break point for beta groups\n",
    "        breakpoints_betas <- quantile(month_betas,\n",
    "            dimC, na.rm = TRUE)\n",
    "        not_na_betas <- !is.na(month_betas)\n",
    "        # first sort beta\n",
    "        for (j in 1:n_portfolios_beta) {\n",
    "            filter_betas <- (breakpoints_betas[[j]] < month_betas) & (\n",
    "                month_betas < breakpoints_betas[[j + 1]]) & not_na_betas\n",
    "            # catch first factor sorting results\n",
    "            filtered_month_returns <- month_returns[, filter_betas]\n",
    "            filtered_month_sizes <- month_sizes[, filter_betas]\n",
    "            filtered_month_market_caps <- month_market_caps[, filter_betas]\n",
    "            # only difference of dependent and independent sorting is\n",
    "            # how to calculate breakpoint:\n",
    "            # use filtered_month_sizes for dependent sorting\n",
    "            # use month_sizes for independent sorting            \n",
    "            breakpoints_sizes <- quantile(month_sizes, dimC, na.rm = TRUE)        \n",
    "            not_na_sizes <- !is.na(month_sizes)\n",
    "            # second sort size after sorted beta\n",
    "            # for independent, the breakpoint is whole dataset\n",
    "            for (k in 1:n_portfolios_size) {\n",
    "                filter_sizes <- (breakpoints_sizes[[k]] < month_sizes) & (\n",
    "                    month_sizes < breakpoints_sizes[[k + 1]]) & not_na_sizes\n",
    "                # Compute weighted average portfolio returns.\n",
    "                # match the columns(only for independent)\n",
    "                filter_sizes <- filter_sizes[,colnames(filtered_month_returns)]\n",
    "                # check the stocks numbers in each portfolio\n",
    "                # in Size-Illiq independent sort, very often\n",
    "                # high size and  high illiquidity group has zero stock\n",
    "                # as there is no very illiquid and also very big companies exist\n",
    "                #print(length(filtered_month_returns[, filter_sizes]))\n",
    "                returns_sorts[i, k + (j - 1) * n_portfolios_size] <- weighted.mean(t(\n",
    "                    filtered_month_returns[, filter_sizes]), \n",
    "                    t(filtered_month_market_caps[, filter_sizes]))            \n",
    "            }\n",
    "            # calculate diff of factor 1\n",
    "            returns_sorts[i, diff_portfolios[j]] <- returns_sorts[i, \n",
    "                    n_portfolios_size * j] - returns_sorts[i, \n",
    "                    n_portfolios_size * (j - 1) + 1]\n",
    "        }        \n",
    "        # calculate diff of factor 2 \n",
    "        for ( t in 1:n ) {\n",
    "            returns_sorts[i, diff_portfolios[m+t]] <- returns_sorts[i, \n",
    "                    n * (m - 1) + t] - returns_sorts[i,t]\n",
    "        }\n",
    "    }    \n",
    "    # Compute overall average returns within portfolios and their standard errors.\n",
    "    results_xts <- as.data.frame(matrix(nrow = 4, \n",
    "        ncol = n_portfolios + m + n ))\n",
    "    for (i in 1:ncol(results_xts)) {\n",
    "        model <- lm(na.omit(returns_sorts[, i]) ~ 1)\n",
    "        results_xts[1, i] <- model$coefficients[[1]]\n",
    "        results_xts[2, i] <- model$coefficients[[1]] / sqrt(NeweyWest(model, \n",
    "            lag = 6))[[1]]\n",
    "        # calculate FFCPS alpha\n",
    "        model <- get_alpha(returns_sorts[, i])        \n",
    "        results_xts[3, i] <- summary(model)$coefficients[1, 1]\n",
    "        results_xts[4, i] <- summary(model)$coefficients[1, 3]             \n",
    "    }\n",
    "    # round numbers\n",
    "    out_res <- data.frame(lapply(results_xts, function(y) if(\n",
    "        is.numeric(y)) round(y, round_n) else y))  \n",
    "    rownames(out_res) <- row_n\n",
    "    colnames(out_res) <- col_n                                                                      \n",
    "    return(out_res)\n",
    "}\n",
    "\n",
    "# Create Function for Result Output Table\n",
    "getName <- function(factor_in, n = 3){   \n",
    "    row_s <- c()\n",
    "    for (i in 1:n ) {\n",
    "        row_name <- paste(factor_in, i)\n",
    "        row_s <- cbind(row_s, row_name)\n",
    "    }\n",
    "    row_name <- paste(factor_in, \"Avg\")\n",
    "    row_s <- cbind(row_s, row_name)    \n",
    "    row_name <- paste(factor_in, \"3-1\")\n",
    "    row_s <- cbind(row_s, row_name)        \n",
    "    return (row_s)\n",
    "}\n",
    "\n",
    "format_result <- function(res_in, fact1, fact2, \n",
    "        round_n= 6, multi = 1, n = 3){       \n",
    "    # Create data frame.\n",
    "    col_t <- fact1\n",
    "    row_t <- fact2 \n",
    "    col_name <-  getName(col_t)\n",
    "    row_name <-  getName(row_t)\n",
    "    # all return is percentage, multiple by 100\n",
    "    res_100 <- res_in * multi\n",
    "    # Create the data frame.\n",
    "    t_size <- n \n",
    "    df_t <- data.frame(matrix(ncol = t_size, nrow = t_size))\n",
    "    # for each column\n",
    "    for (j in 1:n ) {\n",
    "        # for each row within the column\n",
    "        for (i in 1:n ) {\n",
    "            df_t[i, j] <- res_100[(j-1) * n + i]        \n",
    "        }        \n",
    "    }    \n",
    "    # get mean\n",
    "    df_t <- rbind(df_t, colMeans(df_t)) \n",
    "    df_t <- cbind(df_t, rowMeans(df_t))\n",
    "    df_t <- round(df_t, round_n)\n",
    "    # get diff\n",
    "    diff_r = c() # for mean\n",
    "    diff_c = c()\n",
    "    # for row\n",
    "    for (j in 1: n ) {\n",
    "        df_t[5, j] <- round(res_100[(n * n + j)],round_n)\n",
    "        diff_r[j] <- df_t[5, j]\n",
    "    }\n",
    "    # for column\n",
    "    for (i in 1: n ) {\n",
    "        df_t[i, 5] <- round(res_100[(n * (n+1) + i)],round_n)  \n",
    "        diff_c[i] <- df_t[i, 5]\n",
    "    }\n",
    "    # clean format\n",
    "    df_t[4, 4] <- \"\"\n",
    "    df_t[4, 5] <- round(mean(diff_c),round_n)\n",
    "    df_t[5, 4] <- round(mean(diff_r),round_n) \n",
    "    df_t[is.na(df_t)] <- \"\"   \n",
    "    colnames(df_t) <- col_name\n",
    "    rownames(df_t) <- row_name\n",
    "    df_t\n",
    "}"
   ]
  },
  {
   "cell_type": "markdown",
   "id": "b51a748d",
   "metadata": {},
   "source": [
    "### <span style='background: lightblue'>5.1. Size-Beta Sort</span>"
   ]
  },
  {
   "cell_type": "markdown",
   "id": "d1c187c5",
   "metadata": {},
   "source": [
    "* **Size-Beta Independent value-weighted (VW) sorting**  \n"
   ]
  },
  {
   "cell_type": "code",
   "execution_count": 27,
   "id": "d0e3573d",
   "metadata": {},
   "outputs": [
    {
     "data": {
      "text/html": [
       "<table class=\"dataframe\">\n",
       "<caption>A data.frame: 4 × 15</caption>\n",
       "<thead>\n",
       "\t<tr><th></th><th scope=col>1</th><th scope=col>2</th><th scope=col>3</th><th scope=col>4</th><th scope=col>5</th><th scope=col>6</th><th scope=col>7</th><th scope=col>8</th><th scope=col>9</th><th scope=col>3 - 1</th><th scope=col> 6 - 4</th><th scope=col>9 - 7</th><th scope=col>7 - 1</th><th scope=col> 8 - 2</th><th scope=col>9 - 3</th></tr>\n",
       "\t<tr><th></th><th scope=col>&lt;dbl&gt;</th><th scope=col>&lt;dbl&gt;</th><th scope=col>&lt;dbl&gt;</th><th scope=col>&lt;dbl&gt;</th><th scope=col>&lt;dbl&gt;</th><th scope=col>&lt;dbl&gt;</th><th scope=col>&lt;dbl&gt;</th><th scope=col>&lt;dbl&gt;</th><th scope=col>&lt;dbl&gt;</th><th scope=col>&lt;dbl&gt;</th><th scope=col>&lt;dbl&gt;</th><th scope=col>&lt;dbl&gt;</th><th scope=col>&lt;dbl&gt;</th><th scope=col>&lt;dbl&gt;</th><th scope=col>&lt;dbl&gt;</th></tr>\n",
       "</thead>\n",
       "<tbody>\n",
       "\t<tr><th scope=row>Excess return</th><td>0.01838</td><td>0.02025</td><td>0.02577</td><td>0.01120</td><td>0.01541</td><td>0.01748</td><td>0.00986</td><td>0.01141</td><td>0.01400</td><td>0.00738</td><td>0.00629</td><td>0.00415</td><td>-0.00853</td><td>-0.00883</td><td>-0.01177</td></tr>\n",
       "\t<tr><th scope=row> t-stats</th><td>5.71209</td><td>4.60778</td><td>4.07621</td><td>3.70669</td><td>3.66559</td><td>2.84180</td><td>4.15581</td><td>3.00891</td><td>2.59152</td><td>1.75321</td><td>1.48381</td><td>0.97819</td><td>-4.18314</td><td>-4.62122</td><td>-3.30688</td></tr>\n",
       "\t<tr><th scope=row>FFCPS alpha</th><td>0.01827</td><td>0.01958</td><td>0.02491</td><td>0.01073</td><td>0.01461</td><td>0.01670</td><td>0.00971</td><td>0.01094</td><td>0.01447</td><td>0.00664</td><td>0.00597</td><td>0.00476</td><td>-0.00856</td><td>-0.00864</td><td>-0.01044</td></tr>\n",
       "\t<tr><th scope=row> t-value</th><td>5.27474</td><td>3.83783</td><td>3.81553</td><td>3.53672</td><td>3.47301</td><td>2.76328</td><td>3.26766</td><td>2.66061</td><td>2.46164</td><td>1.45488</td><td>1.35024</td><td>1.09127</td><td>-3.82864</td><td>-3.40265</td><td>-2.91968</td></tr>\n",
       "</tbody>\n",
       "</table>\n"
      ],
      "text/latex": [
       "A data.frame: 4 × 15\n",
       "\\begin{tabular}{r|lllllllllllllll}\n",
       "  & 1 & 2 & 3 & 4 & 5 & 6 & 7 & 8 & 9 & 3 - 1 &  6 - 4 & 9 - 7 & 7 - 1 &  8 - 2 & 9 - 3\\\\\n",
       "  & <dbl> & <dbl> & <dbl> & <dbl> & <dbl> & <dbl> & <dbl> & <dbl> & <dbl> & <dbl> & <dbl> & <dbl> & <dbl> & <dbl> & <dbl>\\\\\n",
       "\\hline\n",
       "\tExcess return & 0.01838 & 0.02025 & 0.02577 & 0.01120 & 0.01541 & 0.01748 & 0.00986 & 0.01141 & 0.01400 & 0.00738 & 0.00629 & 0.00415 & -0.00853 & -0.00883 & -0.01177\\\\\n",
       "\t t-stats & 5.71209 & 4.60778 & 4.07621 & 3.70669 & 3.66559 & 2.84180 & 4.15581 & 3.00891 & 2.59152 & 1.75321 & 1.48381 & 0.97819 & -4.18314 & -4.62122 & -3.30688\\\\\n",
       "\tFFCPS alpha & 0.01827 & 0.01958 & 0.02491 & 0.01073 & 0.01461 & 0.01670 & 0.00971 & 0.01094 & 0.01447 & 0.00664 & 0.00597 & 0.00476 & -0.00856 & -0.00864 & -0.01044\\\\\n",
       "\t t-value & 5.27474 & 3.83783 & 3.81553 & 3.53672 & 3.47301 & 2.76328 & 3.26766 & 2.66061 & 2.46164 & 1.45488 & 1.35024 & 1.09127 & -3.82864 & -3.40265 & -2.91968\\\\\n",
       "\\end{tabular}\n"
      ],
      "text/markdown": [
       "\n",
       "A data.frame: 4 × 15\n",
       "\n",
       "| <!--/--> | 1 &lt;dbl&gt; | 2 &lt;dbl&gt; | 3 &lt;dbl&gt; | 4 &lt;dbl&gt; | 5 &lt;dbl&gt; | 6 &lt;dbl&gt; | 7 &lt;dbl&gt; | 8 &lt;dbl&gt; | 9 &lt;dbl&gt; | 3 - 1 &lt;dbl&gt; |  6 - 4 &lt;dbl&gt; | 9 - 7 &lt;dbl&gt; | 7 - 1 &lt;dbl&gt; |  8 - 2 &lt;dbl&gt; | 9 - 3 &lt;dbl&gt; |\n",
       "|---|---|---|---|---|---|---|---|---|---|---|---|---|---|---|---|\n",
       "| Excess return | 0.01838 | 0.02025 | 0.02577 | 0.01120 | 0.01541 | 0.01748 | 0.00986 | 0.01141 | 0.01400 | 0.00738 | 0.00629 | 0.00415 | -0.00853 | -0.00883 | -0.01177 |\n",
       "|  t-stats | 5.71209 | 4.60778 | 4.07621 | 3.70669 | 3.66559 | 2.84180 | 4.15581 | 3.00891 | 2.59152 | 1.75321 | 1.48381 | 0.97819 | -4.18314 | -4.62122 | -3.30688 |\n",
       "| FFCPS alpha | 0.01827 | 0.01958 | 0.02491 | 0.01073 | 0.01461 | 0.01670 | 0.00971 | 0.01094 | 0.01447 | 0.00664 | 0.00597 | 0.00476 | -0.00856 | -0.00864 | -0.01044 |\n",
       "|  t-value | 5.27474 | 3.83783 | 3.81553 | 3.53672 | 3.47301 | 2.76328 | 3.26766 | 2.66061 | 2.46164 | 1.45488 | 1.35024 | 1.09127 | -3.82864 | -3.40265 | -2.91968 |\n",
       "\n"
      ],
      "text/plain": [
       "              1       2       3       4       5       6       7       8      \n",
       "Excess return 0.01838 0.02025 0.02577 0.01120 0.01541 0.01748 0.00986 0.01141\n",
       " t-stats      5.71209 4.60778 4.07621 3.70669 3.66559 2.84180 4.15581 3.00891\n",
       "FFCPS alpha   0.01827 0.01958 0.02491 0.01073 0.01461 0.01670 0.00971 0.01094\n",
       " t-value      5.27474 3.83783 3.81553 3.53672 3.47301 2.76328 3.26766 2.66061\n",
       "              9       3 - 1    6 - 4  9 - 7   7 - 1     8 - 2   9 - 3   \n",
       "Excess return 0.01400 0.00738 0.00629 0.00415 -0.00853 -0.00883 -0.01177\n",
       " t-stats      2.59152 1.75321 1.48381 0.97819 -4.18314 -4.62122 -3.30688\n",
       "FFCPS alpha   0.01447 0.00664 0.00597 0.00476 -0.00856 -0.00864 -0.01044\n",
       " t-value      2.46164 1.45488 1.35024 1.09127 -3.82864 -3.40265 -2.91968"
      ]
     },
     "metadata": {},
     "output_type": "display_data"
    }
   ],
   "source": [
    "# input parameters: sort factor1, sort factor2, excess returns\n",
    "# mktCap for VW, rounding\n",
    "res_SizeBeta <- bivariat_sort(monthly_sizes, monthly_betas,  \n",
    "        monthly_returns, monthly_market_caps, 5)\n",
    "res_SizeBeta"
   ]
  },
  {
   "cell_type": "markdown",
   "id": "958d5cfc",
   "metadata": {},
   "source": [
    "**Size Small: 1, 2, 3;  Size Mid: 4, 5, 6; Size Big: 7, 8, 9  \n",
    "Beta low: 1, 4, 7; Beta Mid: 2, 5, 8; Beta High: 3, 6, 9**  \n"
   ]
  },
  {
   "cell_type": "markdown",
   "id": "88f046f9",
   "metadata": {},
   "source": [
    "**Output excess return result**"
   ]
  },
  {
   "cell_type": "code",
   "execution_count": 28,
   "id": "2db6769a",
   "metadata": {},
   "outputs": [
    {
     "name": "stdout",
     "output_type": "stream",
     "text": [
      "[1] \"Excess return:\"\n"
     ]
    },
    {
     "data": {
      "text/html": [
       "<table class=\"dataframe\">\n",
       "<caption>A data.frame: 5 × 5</caption>\n",
       "<thead>\n",
       "\t<tr><th></th><th scope=col>Size 1</th><th scope=col>Size 2</th><th scope=col>Size 3</th><th scope=col>Size Avg</th><th scope=col>Size 3-1</th></tr>\n",
       "\t<tr><th></th><th scope=col>&lt;dbl&gt;</th><th scope=col>&lt;dbl&gt;</th><th scope=col>&lt;dbl&gt;</th><th scope=col>&lt;chr&gt;</th><th scope=col>&lt;chr&gt;</th></tr>\n",
       "</thead>\n",
       "<tbody>\n",
       "\t<tr><th scope=row>Beta 1</th><td>0.01838</td><td>0.01120</td><td>0.00986</td><td>0.01315</td><td>-0.00853</td></tr>\n",
       "\t<tr><th scope=row>Beta 2</th><td>0.02025</td><td>0.01541</td><td>0.01141</td><td>0.01569</td><td>-0.00883</td></tr>\n",
       "\t<tr><th scope=row>Beta 3</th><td>0.02577</td><td>0.01748</td><td>0.01400</td><td>0.01908</td><td>-0.01177</td></tr>\n",
       "\t<tr><th scope=row>Beta Avg</th><td>0.02147</td><td>0.01470</td><td>0.01176</td><td>       </td><td>-0.00971</td></tr>\n",
       "\t<tr><th scope=row>Beta 3-1</th><td>0.00738</td><td>0.00629</td><td>0.00415</td><td>0.00594</td><td>        </td></tr>\n",
       "</tbody>\n",
       "</table>\n"
      ],
      "text/latex": [
       "A data.frame: 5 × 5\n",
       "\\begin{tabular}{r|lllll}\n",
       "  & Size 1 & Size 2 & Size 3 & Size Avg & Size 3-1\\\\\n",
       "  & <dbl> & <dbl> & <dbl> & <chr> & <chr>\\\\\n",
       "\\hline\n",
       "\tBeta 1 & 0.01838 & 0.01120 & 0.00986 & 0.01315 & -0.00853\\\\\n",
       "\tBeta 2 & 0.02025 & 0.01541 & 0.01141 & 0.01569 & -0.00883\\\\\n",
       "\tBeta 3 & 0.02577 & 0.01748 & 0.01400 & 0.01908 & -0.01177\\\\\n",
       "\tBeta Avg & 0.02147 & 0.01470 & 0.01176 &         & -0.00971\\\\\n",
       "\tBeta 3-1 & 0.00738 & 0.00629 & 0.00415 & 0.00594 &         \\\\\n",
       "\\end{tabular}\n"
      ],
      "text/markdown": [
       "\n",
       "A data.frame: 5 × 5\n",
       "\n",
       "| <!--/--> | Size 1 &lt;dbl&gt; | Size 2 &lt;dbl&gt; | Size 3 &lt;dbl&gt; | Size Avg &lt;chr&gt; | Size 3-1 &lt;chr&gt; |\n",
       "|---|---|---|---|---|---|\n",
       "| Beta 1 | 0.01838 | 0.01120 | 0.00986 | 0.01315 | -0.00853 |\n",
       "| Beta 2 | 0.02025 | 0.01541 | 0.01141 | 0.01569 | -0.00883 |\n",
       "| Beta 3 | 0.02577 | 0.01748 | 0.01400 | 0.01908 | -0.01177 |\n",
       "| Beta Avg | 0.02147 | 0.01470 | 0.01176 | <!----> | -0.00971 |\n",
       "| Beta 3-1 | 0.00738 | 0.00629 | 0.00415 | 0.00594 | <!----> |\n",
       "\n"
      ],
      "text/plain": [
       "         Size 1  Size 2  Size 3  Size Avg Size 3-1\n",
       "Beta 1   0.01838 0.01120 0.00986 0.01315  -0.00853\n",
       "Beta 2   0.02025 0.01541 0.01141 0.01569  -0.00883\n",
       "Beta 3   0.02577 0.01748 0.01400 0.01908  -0.01177\n",
       "Beta Avg 0.02147 0.01470 0.01176          -0.00971\n",
       "Beta 3-1 0.00738 0.00629 0.00415 0.00594          "
      ]
     },
     "metadata": {},
     "output_type": "display_data"
    }
   ],
   "source": [
    "# input parameters: result from bivariat_sort, \n",
    "# sort factor1 name, sort factor2 name, rounding, multiplier\n",
    "print(\"Excess return:\")\n",
    "format_result(res_SizeBeta, \"Size\", \"Beta\", 5)"
   ]
  },
  {
   "cell_type": "markdown",
   "id": "17afcdad",
   "metadata": {},
   "source": [
    "**Output result by percentage(multiple by 100)**"
   ]
  },
  {
   "cell_type": "code",
   "execution_count": 29,
   "id": "a6759de1",
   "metadata": {},
   "outputs": [
    {
     "name": "stdout",
     "output_type": "stream",
     "text": [
      "[1] \"Excess return, in percentage format:\"\n"
     ]
    },
    {
     "data": {
      "text/html": [
       "<table class=\"dataframe\">\n",
       "<caption>A data.frame: 5 × 5</caption>\n",
       "<thead>\n",
       "\t<tr><th></th><th scope=col>Size 1</th><th scope=col>Size 2</th><th scope=col>Size 3</th><th scope=col>Size Avg</th><th scope=col>Size 3-1</th></tr>\n",
       "\t<tr><th></th><th scope=col>&lt;dbl&gt;</th><th scope=col>&lt;dbl&gt;</th><th scope=col>&lt;dbl&gt;</th><th scope=col>&lt;chr&gt;</th><th scope=col>&lt;chr&gt;</th></tr>\n",
       "</thead>\n",
       "<tbody>\n",
       "\t<tr><th scope=row>Beta 1</th><td>1.838</td><td>1.120</td><td>0.986</td><td>1.315</td><td>-0.853</td></tr>\n",
       "\t<tr><th scope=row>Beta 2</th><td>2.025</td><td>1.541</td><td>1.141</td><td>1.569</td><td>-0.883</td></tr>\n",
       "\t<tr><th scope=row>Beta 3</th><td>2.577</td><td>1.748</td><td>1.400</td><td>1.908</td><td>-1.177</td></tr>\n",
       "\t<tr><th scope=row>Beta Avg</th><td>2.147</td><td>1.470</td><td>1.176</td><td>     </td><td>-0.971</td></tr>\n",
       "\t<tr><th scope=row>Beta 3-1</th><td>0.738</td><td>0.629</td><td>0.415</td><td>0.594</td><td>      </td></tr>\n",
       "</tbody>\n",
       "</table>\n"
      ],
      "text/latex": [
       "A data.frame: 5 × 5\n",
       "\\begin{tabular}{r|lllll}\n",
       "  & Size 1 & Size 2 & Size 3 & Size Avg & Size 3-1\\\\\n",
       "  & <dbl> & <dbl> & <dbl> & <chr> & <chr>\\\\\n",
       "\\hline\n",
       "\tBeta 1 & 1.838 & 1.120 & 0.986 & 1.315 & -0.853\\\\\n",
       "\tBeta 2 & 2.025 & 1.541 & 1.141 & 1.569 & -0.883\\\\\n",
       "\tBeta 3 & 2.577 & 1.748 & 1.400 & 1.908 & -1.177\\\\\n",
       "\tBeta Avg & 2.147 & 1.470 & 1.176 &       & -0.971\\\\\n",
       "\tBeta 3-1 & 0.738 & 0.629 & 0.415 & 0.594 &       \\\\\n",
       "\\end{tabular}\n"
      ],
      "text/markdown": [
       "\n",
       "A data.frame: 5 × 5\n",
       "\n",
       "| <!--/--> | Size 1 &lt;dbl&gt; | Size 2 &lt;dbl&gt; | Size 3 &lt;dbl&gt; | Size Avg &lt;chr&gt; | Size 3-1 &lt;chr&gt; |\n",
       "|---|---|---|---|---|---|\n",
       "| Beta 1 | 1.838 | 1.120 | 0.986 | 1.315 | -0.853 |\n",
       "| Beta 2 | 2.025 | 1.541 | 1.141 | 1.569 | -0.883 |\n",
       "| Beta 3 | 2.577 | 1.748 | 1.400 | 1.908 | -1.177 |\n",
       "| Beta Avg | 2.147 | 1.470 | 1.176 | <!----> | -0.971 |\n",
       "| Beta 3-1 | 0.738 | 0.629 | 0.415 | 0.594 | <!----> |\n",
       "\n"
      ],
      "text/plain": [
       "         Size 1 Size 2 Size 3 Size Avg Size 3-1\n",
       "Beta 1   1.838  1.120  0.986  1.315    -0.853  \n",
       "Beta 2   2.025  1.541  1.141  1.569    -0.883  \n",
       "Beta 3   2.577  1.748  1.400  1.908    -1.177  \n",
       "Beta Avg 2.147  1.470  1.176           -0.971  \n",
       "Beta 3-1 0.738  0.629  0.415  0.594            "
      ]
     },
     "metadata": {},
     "output_type": "display_data"
    }
   ],
   "source": [
    "print(\"Excess return, in percentage format:\")\n",
    "format_result(res_SizeBeta, \"Size\", \"Beta\", 3, 100)"
   ]
  },
  {
   "cell_type": "markdown",
   "id": "911d4048",
   "metadata": {},
   "source": [
    "**Output result of t-status**"
   ]
  },
  {
   "cell_type": "code",
   "execution_count": 30,
   "id": "670910ae",
   "metadata": {},
   "outputs": [
    {
     "name": "stdout",
     "output_type": "stream",
     "text": [
      "[1] \"t-stats of return:\"\n"
     ]
    },
    {
     "data": {
      "text/html": [
       "<table class=\"dataframe\">\n",
       "<caption>A data.frame: 5 × 5</caption>\n",
       "<thead>\n",
       "\t<tr><th></th><th scope=col>Size 1</th><th scope=col>Size 2</th><th scope=col>Size 3</th><th scope=col>Size Avg</th><th scope=col>Size 3-1</th></tr>\n",
       "\t<tr><th></th><th scope=col>&lt;dbl&gt;</th><th scope=col>&lt;dbl&gt;</th><th scope=col>&lt;dbl&gt;</th><th scope=col>&lt;chr&gt;</th><th scope=col>&lt;chr&gt;</th></tr>\n",
       "</thead>\n",
       "<tbody>\n",
       "\t<tr><th scope=row>Beta 1</th><td>5.712</td><td>3.707</td><td>4.156</td><td>4.525</td><td>-4.183</td></tr>\n",
       "\t<tr><th scope=row>Beta 2</th><td>4.608</td><td>3.666</td><td>3.009</td><td>3.761</td><td>-4.621</td></tr>\n",
       "\t<tr><th scope=row>Beta 3</th><td>4.076</td><td>2.842</td><td>2.592</td><td>3.17 </td><td>-3.307</td></tr>\n",
       "\t<tr><th scope=row>Beta Avg</th><td>4.799</td><td>3.405</td><td>3.252</td><td>     </td><td>-4.037</td></tr>\n",
       "\t<tr><th scope=row>Beta 3-1</th><td>1.753</td><td>1.484</td><td>0.978</td><td>1.405</td><td>      </td></tr>\n",
       "</tbody>\n",
       "</table>\n"
      ],
      "text/latex": [
       "A data.frame: 5 × 5\n",
       "\\begin{tabular}{r|lllll}\n",
       "  & Size 1 & Size 2 & Size 3 & Size Avg & Size 3-1\\\\\n",
       "  & <dbl> & <dbl> & <dbl> & <chr> & <chr>\\\\\n",
       "\\hline\n",
       "\tBeta 1 & 5.712 & 3.707 & 4.156 & 4.525 & -4.183\\\\\n",
       "\tBeta 2 & 4.608 & 3.666 & 3.009 & 3.761 & -4.621\\\\\n",
       "\tBeta 3 & 4.076 & 2.842 & 2.592 & 3.17  & -3.307\\\\\n",
       "\tBeta Avg & 4.799 & 3.405 & 3.252 &       & -4.037\\\\\n",
       "\tBeta 3-1 & 1.753 & 1.484 & 0.978 & 1.405 &       \\\\\n",
       "\\end{tabular}\n"
      ],
      "text/markdown": [
       "\n",
       "A data.frame: 5 × 5\n",
       "\n",
       "| <!--/--> | Size 1 &lt;dbl&gt; | Size 2 &lt;dbl&gt; | Size 3 &lt;dbl&gt; | Size Avg &lt;chr&gt; | Size 3-1 &lt;chr&gt; |\n",
       "|---|---|---|---|---|---|\n",
       "| Beta 1 | 5.712 | 3.707 | 4.156 | 4.525 | -4.183 |\n",
       "| Beta 2 | 4.608 | 3.666 | 3.009 | 3.761 | -4.621 |\n",
       "| Beta 3 | 4.076 | 2.842 | 2.592 | 3.17  | -3.307 |\n",
       "| Beta Avg | 4.799 | 3.405 | 3.252 | <!----> | -4.037 |\n",
       "| Beta 3-1 | 1.753 | 1.484 | 0.978 | 1.405 | <!----> |\n",
       "\n"
      ],
      "text/plain": [
       "         Size 1 Size 2 Size 3 Size Avg Size 3-1\n",
       "Beta 1   5.712  3.707  4.156  4.525    -4.183  \n",
       "Beta 2   4.608  3.666  3.009  3.761    -4.621  \n",
       "Beta 3   4.076  2.842  2.592  3.17     -3.307  \n",
       "Beta Avg 4.799  3.405  3.252           -4.037  \n",
       "Beta 3-1 1.753  1.484  0.978  1.405            "
      ]
     },
     "metadata": {},
     "output_type": "display_data"
    }
   ],
   "source": [
    "print(\"t-stats of return:\")\n",
    "format_result(res_SizeBeta[2,], \"Size\", \"Beta\", 3)"
   ]
  },
  {
   "cell_type": "markdown",
   "id": "eb22fd29",
   "metadata": {},
   "source": [
    "**Output result of FFCPS Alpha**"
   ]
  },
  {
   "cell_type": "code",
   "execution_count": 31,
   "id": "4d8f1ab0",
   "metadata": {
    "scrolled": true
   },
   "outputs": [
    {
     "name": "stdout",
     "output_type": "stream",
     "text": [
      "[1] \"FFCPS alpha:\"\n"
     ]
    },
    {
     "data": {
      "text/html": [
       "<table class=\"dataframe\">\n",
       "<caption>A data.frame: 5 × 5</caption>\n",
       "<thead>\n",
       "\t<tr><th></th><th scope=col>Size 1</th><th scope=col>Size 2</th><th scope=col>Size 3</th><th scope=col>Size Avg</th><th scope=col>Size 3-1</th></tr>\n",
       "\t<tr><th></th><th scope=col>&lt;dbl&gt;</th><th scope=col>&lt;dbl&gt;</th><th scope=col>&lt;dbl&gt;</th><th scope=col>&lt;chr&gt;</th><th scope=col>&lt;chr&gt;</th></tr>\n",
       "</thead>\n",
       "<tbody>\n",
       "\t<tr><th scope=row>Beta 1</th><td>0.018</td><td>0.011</td><td>0.010</td><td>0.013</td><td>-0.009</td></tr>\n",
       "\t<tr><th scope=row>Beta 2</th><td>0.020</td><td>0.015</td><td>0.011</td><td>0.015</td><td>-0.009</td></tr>\n",
       "\t<tr><th scope=row>Beta 3</th><td>0.025</td><td>0.017</td><td>0.014</td><td>0.019</td><td>-0.01 </td></tr>\n",
       "\t<tr><th scope=row>Beta Avg</th><td>0.021</td><td>0.014</td><td>0.012</td><td>     </td><td>-0.009</td></tr>\n",
       "\t<tr><th scope=row>Beta 3-1</th><td>0.007</td><td>0.006</td><td>0.005</td><td>0.006</td><td>      </td></tr>\n",
       "</tbody>\n",
       "</table>\n"
      ],
      "text/latex": [
       "A data.frame: 5 × 5\n",
       "\\begin{tabular}{r|lllll}\n",
       "  & Size 1 & Size 2 & Size 3 & Size Avg & Size 3-1\\\\\n",
       "  & <dbl> & <dbl> & <dbl> & <chr> & <chr>\\\\\n",
       "\\hline\n",
       "\tBeta 1 & 0.018 & 0.011 & 0.010 & 0.013 & -0.009\\\\\n",
       "\tBeta 2 & 0.020 & 0.015 & 0.011 & 0.015 & -0.009\\\\\n",
       "\tBeta 3 & 0.025 & 0.017 & 0.014 & 0.019 & -0.01 \\\\\n",
       "\tBeta Avg & 0.021 & 0.014 & 0.012 &       & -0.009\\\\\n",
       "\tBeta 3-1 & 0.007 & 0.006 & 0.005 & 0.006 &       \\\\\n",
       "\\end{tabular}\n"
      ],
      "text/markdown": [
       "\n",
       "A data.frame: 5 × 5\n",
       "\n",
       "| <!--/--> | Size 1 &lt;dbl&gt; | Size 2 &lt;dbl&gt; | Size 3 &lt;dbl&gt; | Size Avg &lt;chr&gt; | Size 3-1 &lt;chr&gt; |\n",
       "|---|---|---|---|---|---|\n",
       "| Beta 1 | 0.018 | 0.011 | 0.010 | 0.013 | -0.009 |\n",
       "| Beta 2 | 0.020 | 0.015 | 0.011 | 0.015 | -0.009 |\n",
       "| Beta 3 | 0.025 | 0.017 | 0.014 | 0.019 | -0.01  |\n",
       "| Beta Avg | 0.021 | 0.014 | 0.012 | <!----> | -0.009 |\n",
       "| Beta 3-1 | 0.007 | 0.006 | 0.005 | 0.006 | <!----> |\n",
       "\n"
      ],
      "text/plain": [
       "         Size 1 Size 2 Size 3 Size Avg Size 3-1\n",
       "Beta 1   0.018  0.011  0.010  0.013    -0.009  \n",
       "Beta 2   0.020  0.015  0.011  0.015    -0.009  \n",
       "Beta 3   0.025  0.017  0.014  0.019    -0.01   \n",
       "Beta Avg 0.021  0.014  0.012           -0.009  \n",
       "Beta 3-1 0.007  0.006  0.005  0.006            "
      ]
     },
     "metadata": {},
     "output_type": "display_data"
    }
   ],
   "source": [
    "print(\"FFCPS alpha:\")\n",
    "format_result(res_SizeBeta[3,], \"Size\", \"Beta\", 3)"
   ]
  },
  {
   "cell_type": "markdown",
   "id": "a6a194dc",
   "metadata": {},
   "source": [
    "**Output result of FFCPS alpha t-value**"
   ]
  },
  {
   "cell_type": "code",
   "execution_count": 32,
   "id": "0a1bcd18",
   "metadata": {
    "scrolled": true
   },
   "outputs": [
    {
     "name": "stdout",
     "output_type": "stream",
     "text": [
      "[1] \"alpha t-value:\"\n"
     ]
    },
    {
     "data": {
      "text/html": [
       "<table class=\"dataframe\">\n",
       "<caption>A data.frame: 5 × 5</caption>\n",
       "<thead>\n",
       "\t<tr><th></th><th scope=col>Size 1</th><th scope=col>Size 2</th><th scope=col>Size 3</th><th scope=col>Size Avg</th><th scope=col>Size 3-1</th></tr>\n",
       "\t<tr><th></th><th scope=col>&lt;dbl&gt;</th><th scope=col>&lt;dbl&gt;</th><th scope=col>&lt;dbl&gt;</th><th scope=col>&lt;chr&gt;</th><th scope=col>&lt;chr&gt;</th></tr>\n",
       "</thead>\n",
       "<tbody>\n",
       "\t<tr><th scope=row>Beta 1</th><td>5.275</td><td>3.537</td><td>3.268</td><td>4.026</td><td>-3.829</td></tr>\n",
       "\t<tr><th scope=row>Beta 2</th><td>3.838</td><td>3.473</td><td>2.661</td><td>3.324</td><td>-3.403</td></tr>\n",
       "\t<tr><th scope=row>Beta 3</th><td>3.816</td><td>2.763</td><td>2.462</td><td>3.013</td><td>-2.92 </td></tr>\n",
       "\t<tr><th scope=row>Beta Avg</th><td>4.309</td><td>3.258</td><td>2.797</td><td>     </td><td>-3.384</td></tr>\n",
       "\t<tr><th scope=row>Beta 3-1</th><td>1.455</td><td>1.350</td><td>1.091</td><td>1.299</td><td>      </td></tr>\n",
       "</tbody>\n",
       "</table>\n"
      ],
      "text/latex": [
       "A data.frame: 5 × 5\n",
       "\\begin{tabular}{r|lllll}\n",
       "  & Size 1 & Size 2 & Size 3 & Size Avg & Size 3-1\\\\\n",
       "  & <dbl> & <dbl> & <dbl> & <chr> & <chr>\\\\\n",
       "\\hline\n",
       "\tBeta 1 & 5.275 & 3.537 & 3.268 & 4.026 & -3.829\\\\\n",
       "\tBeta 2 & 3.838 & 3.473 & 2.661 & 3.324 & -3.403\\\\\n",
       "\tBeta 3 & 3.816 & 2.763 & 2.462 & 3.013 & -2.92 \\\\\n",
       "\tBeta Avg & 4.309 & 3.258 & 2.797 &       & -3.384\\\\\n",
       "\tBeta 3-1 & 1.455 & 1.350 & 1.091 & 1.299 &       \\\\\n",
       "\\end{tabular}\n"
      ],
      "text/markdown": [
       "\n",
       "A data.frame: 5 × 5\n",
       "\n",
       "| <!--/--> | Size 1 &lt;dbl&gt; | Size 2 &lt;dbl&gt; | Size 3 &lt;dbl&gt; | Size Avg &lt;chr&gt; | Size 3-1 &lt;chr&gt; |\n",
       "|---|---|---|---|---|---|\n",
       "| Beta 1 | 5.275 | 3.537 | 3.268 | 4.026 | -3.829 |\n",
       "| Beta 2 | 3.838 | 3.473 | 2.661 | 3.324 | -3.403 |\n",
       "| Beta 3 | 3.816 | 2.763 | 2.462 | 3.013 | -2.92  |\n",
       "| Beta Avg | 4.309 | 3.258 | 2.797 | <!----> | -3.384 |\n",
       "| Beta 3-1 | 1.455 | 1.350 | 1.091 | 1.299 | <!----> |\n",
       "\n"
      ],
      "text/plain": [
       "         Size 1 Size 2 Size 3 Size Avg Size 3-1\n",
       "Beta 1   5.275  3.537  3.268  4.026    -3.829  \n",
       "Beta 2   3.838  3.473  2.661  3.324    -3.403  \n",
       "Beta 3   3.816  2.763  2.462  3.013    -2.92   \n",
       "Beta Avg 4.309  3.258  2.797           -3.384  \n",
       "Beta 3-1 1.455  1.350  1.091  1.299            "
      ]
     },
     "metadata": {},
     "output_type": "display_data"
    }
   ],
   "source": [
    "print(\"alpha t-value:\")\n",
    "format_result(res_SizeBeta[4,], \"Size\", \"Beta\", 3)"
   ]
  },
  {
   "cell_type": "markdown",
   "id": "90b9557e",
   "metadata": {},
   "source": [
    "**Comments:**\n",
    "\n",
    "For size difference portfolio Size 3-1, the excess returns after controlling Beta are -0.853%, -0.883%, -1.177%, respectively. All of them are statistically significant, since the absolute value of t-statistics are all greater than 1.96. Therefore, a significant negative relation exists between size and stock future returns for each of Beta quantile in our sample. This means for each low beta, mid beta and high beta group, relative small stocks still generate higher returns than big stocks. And even in VW portfolios, which the weight of small stock returns are already lower than the weight in EW, the difference of Size factor returns are still significant. Therefore, the negative relation between size and stock future returns is strong, with the average Size 3-1 across all beta sorted portfolio as -0.971%.\n",
    "\n",
    "For Beta difference portfolio Beta 3-1, we see positive excess returns for small size, mid size and large size group as 0.738%, 0.629% and 0.415%, respectively. This positive relation between beta and returns seems match CAMP theory as the higher beta stocks have higher returns. But when check the t-stats, we noticed that none of them are statistically significant, so the difference of long high beta stocks and short low beta shocks in any size of stocks, could not generate any returns statistically different from zero.\n",
    "\n",
    "Besides, the FFCPS alpha of the size difference portfolios Size 3-1 are all statistically significant as their absolute values are greater than 1.96, means the excess returns are not all from sensitive from market beta and size effect. "
   ]
  },
  {
   "cell_type": "markdown",
   "id": "8e85d8cf",
   "metadata": {},
   "source": [
    "**Because in bivariate portfolio sorts, independent-sorting should return the same results for Size-Beta and Beta-Size sort. For comparison, we also applied Beta-Size (VW) sort analysis below.**"
   ]
  },
  {
   "cell_type": "code",
   "execution_count": 33,
   "id": "1372176a",
   "metadata": {},
   "outputs": [
    {
     "name": "stdout",
     "output_type": "stream",
     "text": [
      "[1] \"Original result:\"\n"
     ]
    },
    {
     "data": {
      "text/html": [
       "<table class=\"dataframe\">\n",
       "<caption>A data.frame: 4 × 15</caption>\n",
       "<thead>\n",
       "\t<tr><th></th><th scope=col>1</th><th scope=col>2</th><th scope=col>3</th><th scope=col>4</th><th scope=col>5</th><th scope=col>6</th><th scope=col>7</th><th scope=col>8</th><th scope=col>9</th><th scope=col>3 - 1</th><th scope=col> 6 - 4</th><th scope=col>9 - 7</th><th scope=col>7 - 1</th><th scope=col> 8 - 2</th><th scope=col>9 - 3</th></tr>\n",
       "\t<tr><th></th><th scope=col>&lt;dbl&gt;</th><th scope=col>&lt;dbl&gt;</th><th scope=col>&lt;dbl&gt;</th><th scope=col>&lt;dbl&gt;</th><th scope=col>&lt;dbl&gt;</th><th scope=col>&lt;dbl&gt;</th><th scope=col>&lt;dbl&gt;</th><th scope=col>&lt;dbl&gt;</th><th scope=col>&lt;dbl&gt;</th><th scope=col>&lt;dbl&gt;</th><th scope=col>&lt;dbl&gt;</th><th scope=col>&lt;dbl&gt;</th><th scope=col>&lt;dbl&gt;</th><th scope=col>&lt;dbl&gt;</th><th scope=col>&lt;dbl&gt;</th></tr>\n",
       "</thead>\n",
       "<tbody>\n",
       "\t<tr><th scope=row>Excess return</th><td>0.01838</td><td>0.01120</td><td>0.00986</td><td>0.02025</td><td>0.01541</td><td>0.01141</td><td>0.02577</td><td>0.01748</td><td>0.01400</td><td>-0.00853</td><td>-0.00883</td><td>-0.01177</td><td>0.00738</td><td>0.00629</td><td>0.00415</td></tr>\n",
       "\t<tr><th scope=row> t-stats</th><td>5.71209</td><td>3.70669</td><td>4.15581</td><td>4.60778</td><td>3.66559</td><td>3.00891</td><td>4.07621</td><td>2.84180</td><td>2.59152</td><td>-4.18314</td><td>-4.62122</td><td>-3.30688</td><td>1.75321</td><td>1.48381</td><td>0.97819</td></tr>\n",
       "\t<tr><th scope=row>FFCPS alpha</th><td>0.01827</td><td>0.01073</td><td>0.00971</td><td>0.01958</td><td>0.01461</td><td>0.01094</td><td>0.02491</td><td>0.01670</td><td>0.01447</td><td>-0.00856</td><td>-0.00864</td><td>-0.01044</td><td>0.00664</td><td>0.00597</td><td>0.00476</td></tr>\n",
       "\t<tr><th scope=row> t-value</th><td>5.27474</td><td>3.53672</td><td>3.26766</td><td>3.83783</td><td>3.47301</td><td>2.66061</td><td>3.81553</td><td>2.76328</td><td>2.46164</td><td>-3.82864</td><td>-3.40265</td><td>-2.91968</td><td>1.45488</td><td>1.35024</td><td>1.09127</td></tr>\n",
       "</tbody>\n",
       "</table>\n"
      ],
      "text/latex": [
       "A data.frame: 4 × 15\n",
       "\\begin{tabular}{r|lllllllllllllll}\n",
       "  & 1 & 2 & 3 & 4 & 5 & 6 & 7 & 8 & 9 & 3 - 1 &  6 - 4 & 9 - 7 & 7 - 1 &  8 - 2 & 9 - 3\\\\\n",
       "  & <dbl> & <dbl> & <dbl> & <dbl> & <dbl> & <dbl> & <dbl> & <dbl> & <dbl> & <dbl> & <dbl> & <dbl> & <dbl> & <dbl> & <dbl>\\\\\n",
       "\\hline\n",
       "\tExcess return & 0.01838 & 0.01120 & 0.00986 & 0.02025 & 0.01541 & 0.01141 & 0.02577 & 0.01748 & 0.01400 & -0.00853 & -0.00883 & -0.01177 & 0.00738 & 0.00629 & 0.00415\\\\\n",
       "\t t-stats & 5.71209 & 3.70669 & 4.15581 & 4.60778 & 3.66559 & 3.00891 & 4.07621 & 2.84180 & 2.59152 & -4.18314 & -4.62122 & -3.30688 & 1.75321 & 1.48381 & 0.97819\\\\\n",
       "\tFFCPS alpha & 0.01827 & 0.01073 & 0.00971 & 0.01958 & 0.01461 & 0.01094 & 0.02491 & 0.01670 & 0.01447 & -0.00856 & -0.00864 & -0.01044 & 0.00664 & 0.00597 & 0.00476\\\\\n",
       "\t t-value & 5.27474 & 3.53672 & 3.26766 & 3.83783 & 3.47301 & 2.66061 & 3.81553 & 2.76328 & 2.46164 & -3.82864 & -3.40265 & -2.91968 & 1.45488 & 1.35024 & 1.09127\\\\\n",
       "\\end{tabular}\n"
      ],
      "text/markdown": [
       "\n",
       "A data.frame: 4 × 15\n",
       "\n",
       "| <!--/--> | 1 &lt;dbl&gt; | 2 &lt;dbl&gt; | 3 &lt;dbl&gt; | 4 &lt;dbl&gt; | 5 &lt;dbl&gt; | 6 &lt;dbl&gt; | 7 &lt;dbl&gt; | 8 &lt;dbl&gt; | 9 &lt;dbl&gt; | 3 - 1 &lt;dbl&gt; |  6 - 4 &lt;dbl&gt; | 9 - 7 &lt;dbl&gt; | 7 - 1 &lt;dbl&gt; |  8 - 2 &lt;dbl&gt; | 9 - 3 &lt;dbl&gt; |\n",
       "|---|---|---|---|---|---|---|---|---|---|---|---|---|---|---|---|\n",
       "| Excess return | 0.01838 | 0.01120 | 0.00986 | 0.02025 | 0.01541 | 0.01141 | 0.02577 | 0.01748 | 0.01400 | -0.00853 | -0.00883 | -0.01177 | 0.00738 | 0.00629 | 0.00415 |\n",
       "|  t-stats | 5.71209 | 3.70669 | 4.15581 | 4.60778 | 3.66559 | 3.00891 | 4.07621 | 2.84180 | 2.59152 | -4.18314 | -4.62122 | -3.30688 | 1.75321 | 1.48381 | 0.97819 |\n",
       "| FFCPS alpha | 0.01827 | 0.01073 | 0.00971 | 0.01958 | 0.01461 | 0.01094 | 0.02491 | 0.01670 | 0.01447 | -0.00856 | -0.00864 | -0.01044 | 0.00664 | 0.00597 | 0.00476 |\n",
       "|  t-value | 5.27474 | 3.53672 | 3.26766 | 3.83783 | 3.47301 | 2.66061 | 3.81553 | 2.76328 | 2.46164 | -3.82864 | -3.40265 | -2.91968 | 1.45488 | 1.35024 | 1.09127 |\n",
       "\n"
      ],
      "text/plain": [
       "              1       2       3       4       5       6       7       8      \n",
       "Excess return 0.01838 0.01120 0.00986 0.02025 0.01541 0.01141 0.02577 0.01748\n",
       " t-stats      5.71209 3.70669 4.15581 4.60778 3.66559 3.00891 4.07621 2.84180\n",
       "FFCPS alpha   0.01827 0.01073 0.00971 0.01958 0.01461 0.01094 0.02491 0.01670\n",
       " t-value      5.27474 3.53672 3.26766 3.83783 3.47301 2.66061 3.81553 2.76328\n",
       "              9       3 - 1     6 - 4   9 - 7    7 - 1    8 - 2  9 - 3  \n",
       "Excess return 0.01400 -0.00853 -0.00883 -0.01177 0.00738 0.00629 0.00415\n",
       " t-stats      2.59152 -4.18314 -4.62122 -3.30688 1.75321 1.48381 0.97819\n",
       "FFCPS alpha   0.01447 -0.00856 -0.00864 -0.01044 0.00664 0.00597 0.00476\n",
       " t-value      2.46164 -3.82864 -3.40265 -2.91968 1.45488 1.35024 1.09127"
      ]
     },
     "metadata": {},
     "output_type": "display_data"
    },
    {
     "name": "stdout",
     "output_type": "stream",
     "text": [
      "[1] \"Excess return, in percentage format:\"\n"
     ]
    },
    {
     "data": {
      "text/html": [
       "<table class=\"dataframe\">\n",
       "<caption>A data.frame: 5 × 5</caption>\n",
       "<thead>\n",
       "\t<tr><th></th><th scope=col>Beta 1</th><th scope=col>Beta 2</th><th scope=col>Beta 3</th><th scope=col>Beta Avg</th><th scope=col>Beta 3-1</th></tr>\n",
       "\t<tr><th></th><th scope=col>&lt;dbl&gt;</th><th scope=col>&lt;dbl&gt;</th><th scope=col>&lt;dbl&gt;</th><th scope=col>&lt;chr&gt;</th><th scope=col>&lt;chr&gt;</th></tr>\n",
       "</thead>\n",
       "<tbody>\n",
       "\t<tr><th scope=row>Size 1</th><td> 1.838</td><td> 2.025</td><td> 2.577</td><td>2.147 </td><td>0.738</td></tr>\n",
       "\t<tr><th scope=row>Size 2</th><td> 1.120</td><td> 1.541</td><td> 1.748</td><td>1.47  </td><td>0.629</td></tr>\n",
       "\t<tr><th scope=row>Size 3</th><td> 0.986</td><td> 1.141</td><td> 1.400</td><td>1.176 </td><td>0.415</td></tr>\n",
       "\t<tr><th scope=row>Size Avg</th><td> 1.315</td><td> 1.569</td><td> 1.908</td><td>      </td><td>0.594</td></tr>\n",
       "\t<tr><th scope=row>Size 3-1</th><td>-0.853</td><td>-0.883</td><td>-1.177</td><td>-0.971</td><td>     </td></tr>\n",
       "</tbody>\n",
       "</table>\n"
      ],
      "text/latex": [
       "A data.frame: 5 × 5\n",
       "\\begin{tabular}{r|lllll}\n",
       "  & Beta 1 & Beta 2 & Beta 3 & Beta Avg & Beta 3-1\\\\\n",
       "  & <dbl> & <dbl> & <dbl> & <chr> & <chr>\\\\\n",
       "\\hline\n",
       "\tSize 1 &  1.838 &  2.025 &  2.577 & 2.147  & 0.738\\\\\n",
       "\tSize 2 &  1.120 &  1.541 &  1.748 & 1.47   & 0.629\\\\\n",
       "\tSize 3 &  0.986 &  1.141 &  1.400 & 1.176  & 0.415\\\\\n",
       "\tSize Avg &  1.315 &  1.569 &  1.908 &        & 0.594\\\\\n",
       "\tSize 3-1 & -0.853 & -0.883 & -1.177 & -0.971 &      \\\\\n",
       "\\end{tabular}\n"
      ],
      "text/markdown": [
       "\n",
       "A data.frame: 5 × 5\n",
       "\n",
       "| <!--/--> | Beta 1 &lt;dbl&gt; | Beta 2 &lt;dbl&gt; | Beta 3 &lt;dbl&gt; | Beta Avg &lt;chr&gt; | Beta 3-1 &lt;chr&gt; |\n",
       "|---|---|---|---|---|---|\n",
       "| Size 1 |  1.838 |  2.025 |  2.577 | 2.147  | 0.738 |\n",
       "| Size 2 |  1.120 |  1.541 |  1.748 | 1.47   | 0.629 |\n",
       "| Size 3 |  0.986 |  1.141 |  1.400 | 1.176  | 0.415 |\n",
       "| Size Avg |  1.315 |  1.569 |  1.908 | <!----> | 0.594 |\n",
       "| Size 3-1 | -0.853 | -0.883 | -1.177 | -0.971 | <!----> |\n",
       "\n"
      ],
      "text/plain": [
       "         Beta 1 Beta 2 Beta 3 Beta Avg Beta 3-1\n",
       "Size 1    1.838  2.025  2.577 2.147    0.738   \n",
       "Size 2    1.120  1.541  1.748 1.47     0.629   \n",
       "Size 3    0.986  1.141  1.400 1.176    0.415   \n",
       "Size Avg  1.315  1.569  1.908          0.594   \n",
       "Size 3-1 -0.853 -0.883 -1.177 -0.971           "
      ]
     },
     "metadata": {},
     "output_type": "display_data"
    }
   ],
   "source": [
    "res_BetaSize <- bivariat_sort(monthly_betas, monthly_sizes,\n",
    "        monthly_returns, monthly_market_caps, 5)\n",
    "print(\"Original result:\")\n",
    "res_BetaSize\n",
    "print(\"Excess return, in percentage format:\")\n",
    "format_result(res_BetaSize,  \"Beta\", \"Size\", 3, 100)"
   ]
  },
  {
   "cell_type": "markdown",
   "id": "cc888709",
   "metadata": {},
   "source": [
    "**As expected, the difference portfolio Size 3-1 provide the same excess returns as -0.853%, -0.883%, -1.177%, respectively. The analysis again shows the strong negative relation between size and stock future returns.**"
   ]
  },
  {
   "cell_type": "markdown",
   "id": "4ca20c52",
   "metadata": {},
   "source": [
    "### <span style='background: lightblue'>5.2. Size-Illiq sort</span>"
   ]
  },
  {
   "cell_type": "markdown",
   "id": "51d4fc39",
   "metadata": {},
   "source": [
    "* **Size-Illiq Independent value-weighted (VW) sorting**"
   ]
  },
  {
   "cell_type": "code",
   "execution_count": 34,
   "id": "2910df05",
   "metadata": {},
   "outputs": [
    {
     "name": "stdout",
     "output_type": "stream",
     "text": [
      "[1] \"Original result:\"\n"
     ]
    },
    {
     "data": {
      "text/html": [
       "<table class=\"dataframe\">\n",
       "<caption>A data.frame: 4 × 15</caption>\n",
       "<thead>\n",
       "\t<tr><th></th><th scope=col>1</th><th scope=col>2</th><th scope=col>3</th><th scope=col>4</th><th scope=col>5</th><th scope=col>6</th><th scope=col>7</th><th scope=col>8</th><th scope=col>9</th><th scope=col>3 - 1</th><th scope=col> 6 - 4</th><th scope=col>9 - 7</th><th scope=col>7 - 1</th><th scope=col> 8 - 2</th><th scope=col>9 - 3</th></tr>\n",
       "\t<tr><th></th><th scope=col>&lt;dbl&gt;</th><th scope=col>&lt;dbl&gt;</th><th scope=col>&lt;dbl&gt;</th><th scope=col>&lt;dbl&gt;</th><th scope=col>&lt;dbl&gt;</th><th scope=col>&lt;dbl&gt;</th><th scope=col>&lt;dbl&gt;</th><th scope=col>&lt;dbl&gt;</th><th scope=col>&lt;dbl&gt;</th><th scope=col>&lt;dbl&gt;</th><th scope=col>&lt;dbl&gt;</th><th scope=col>&lt;dbl&gt;</th><th scope=col>&lt;dbl&gt;</th><th scope=col>&lt;dbl&gt;</th><th scope=col>&lt;dbl&gt;</th></tr>\n",
       "</thead>\n",
       "<tbody>\n",
       "\t<tr><th scope=row>Excess return</th><td>0.11546</td><td>0.02653</td><td>0.02050</td><td>0.01710</td><td>0.01418</td><td>0.01382</td><td>0.01139</td><td>0.00986</td><td>0.06332</td><td>-0.07431</td><td>-0.00327</td><td>0.07903</td><td>-0.08885</td><td>-0.01667</td><td>0.07969</td></tr>\n",
       "\t<tr><th scope=row> t-stats</th><td>2.18410</td><td>5.59127</td><td>4.66730</td><td>4.42621</td><td>3.41464</td><td>3.32204</td><td>3.58964</td><td>2.40753</td><td>4.55880</td><td>-1.59097</td><td>-1.50303</td><td>6.95944</td><td>-1.89592</td><td>-5.56181</td><td>7.57897</td></tr>\n",
       "\t<tr><th scope=row>FFCPS alpha</th><td>0.18910</td><td>0.02589</td><td>0.02024</td><td>0.01597</td><td>0.01345</td><td>0.01294</td><td>0.01102</td><td>0.00946</td><td>1.63262</td><td>-0.13676</td><td>-0.00302</td><td>1.56137</td><td>-0.15551</td><td>-0.01642</td><td>1.69321</td></tr>\n",
       "\t<tr><th scope=row> t-value</th><td>2.34516</td><td>5.00295</td><td>4.31029</td><td>3.57375</td><td>3.36951</td><td>3.23750</td><td>3.08604</td><td>2.29496</td><td>    NaN</td><td>-1.81681</td><td>-1.09006</td><td>    NaN</td><td>-2.02359</td><td>-5.47499</td><td>    NaN</td></tr>\n",
       "</tbody>\n",
       "</table>\n"
      ],
      "text/latex": [
       "A data.frame: 4 × 15\n",
       "\\begin{tabular}{r|lllllllllllllll}\n",
       "  & 1 & 2 & 3 & 4 & 5 & 6 & 7 & 8 & 9 & 3 - 1 &  6 - 4 & 9 - 7 & 7 - 1 &  8 - 2 & 9 - 3\\\\\n",
       "  & <dbl> & <dbl> & <dbl> & <dbl> & <dbl> & <dbl> & <dbl> & <dbl> & <dbl> & <dbl> & <dbl> & <dbl> & <dbl> & <dbl> & <dbl>\\\\\n",
       "\\hline\n",
       "\tExcess return & 0.11546 & 0.02653 & 0.02050 & 0.01710 & 0.01418 & 0.01382 & 0.01139 & 0.00986 & 0.06332 & -0.07431 & -0.00327 & 0.07903 & -0.08885 & -0.01667 & 0.07969\\\\\n",
       "\t t-stats & 2.18410 & 5.59127 & 4.66730 & 4.42621 & 3.41464 & 3.32204 & 3.58964 & 2.40753 & 4.55880 & -1.59097 & -1.50303 & 6.95944 & -1.89592 & -5.56181 & 7.57897\\\\\n",
       "\tFFCPS alpha & 0.18910 & 0.02589 & 0.02024 & 0.01597 & 0.01345 & 0.01294 & 0.01102 & 0.00946 & 1.63262 & -0.13676 & -0.00302 & 1.56137 & -0.15551 & -0.01642 & 1.69321\\\\\n",
       "\t t-value & 2.34516 & 5.00295 & 4.31029 & 3.57375 & 3.36951 & 3.23750 & 3.08604 & 2.29496 &     NaN & -1.81681 & -1.09006 &     NaN & -2.02359 & -5.47499 &     NaN\\\\\n",
       "\\end{tabular}\n"
      ],
      "text/markdown": [
       "\n",
       "A data.frame: 4 × 15\n",
       "\n",
       "| <!--/--> | 1 &lt;dbl&gt; | 2 &lt;dbl&gt; | 3 &lt;dbl&gt; | 4 &lt;dbl&gt; | 5 &lt;dbl&gt; | 6 &lt;dbl&gt; | 7 &lt;dbl&gt; | 8 &lt;dbl&gt; | 9 &lt;dbl&gt; | 3 - 1 &lt;dbl&gt; |  6 - 4 &lt;dbl&gt; | 9 - 7 &lt;dbl&gt; | 7 - 1 &lt;dbl&gt; |  8 - 2 &lt;dbl&gt; | 9 - 3 &lt;dbl&gt; |\n",
       "|---|---|---|---|---|---|---|---|---|---|---|---|---|---|---|---|\n",
       "| Excess return | 0.11546 | 0.02653 | 0.02050 | 0.01710 | 0.01418 | 0.01382 | 0.01139 | 0.00986 | 0.06332 | -0.07431 | -0.00327 | 0.07903 | -0.08885 | -0.01667 | 0.07969 |\n",
       "|  t-stats | 2.18410 | 5.59127 | 4.66730 | 4.42621 | 3.41464 | 3.32204 | 3.58964 | 2.40753 | 4.55880 | -1.59097 | -1.50303 | 6.95944 | -1.89592 | -5.56181 | 7.57897 |\n",
       "| FFCPS alpha | 0.18910 | 0.02589 | 0.02024 | 0.01597 | 0.01345 | 0.01294 | 0.01102 | 0.00946 | 1.63262 | -0.13676 | -0.00302 | 1.56137 | -0.15551 | -0.01642 | 1.69321 |\n",
       "|  t-value | 2.34516 | 5.00295 | 4.31029 | 3.57375 | 3.36951 | 3.23750 | 3.08604 | 2.29496 |     NaN | -1.81681 | -1.09006 |     NaN | -2.02359 | -5.47499 |     NaN |\n",
       "\n"
      ],
      "text/plain": [
       "              1       2       3       4       5       6       7       8      \n",
       "Excess return 0.11546 0.02653 0.02050 0.01710 0.01418 0.01382 0.01139 0.00986\n",
       " t-stats      2.18410 5.59127 4.66730 4.42621 3.41464 3.32204 3.58964 2.40753\n",
       "FFCPS alpha   0.18910 0.02589 0.02024 0.01597 0.01345 0.01294 0.01102 0.00946\n",
       " t-value      2.34516 5.00295 4.31029 3.57375 3.36951 3.23750 3.08604 2.29496\n",
       "              9       3 - 1     6 - 4   9 - 7   7 - 1     8 - 2   9 - 3  \n",
       "Excess return 0.06332 -0.07431 -0.00327 0.07903 -0.08885 -0.01667 0.07969\n",
       " t-stats      4.55880 -1.59097 -1.50303 6.95944 -1.89592 -5.56181 7.57897\n",
       "FFCPS alpha   1.63262 -0.13676 -0.00302 1.56137 -0.15551 -0.01642 1.69321\n",
       " t-value          NaN -1.81681 -1.09006     NaN -2.02359 -5.47499     NaN"
      ]
     },
     "metadata": {},
     "output_type": "display_data"
    },
    {
     "name": "stdout",
     "output_type": "stream",
     "text": [
      "[1] \"Excess Return, in percentage format:\"\n"
     ]
    },
    {
     "data": {
      "text/html": [
       "<table class=\"dataframe\">\n",
       "<caption>A data.frame: 5 × 5</caption>\n",
       "<thead>\n",
       "\t<tr><th></th><th scope=col>Size 1</th><th scope=col>Size 2</th><th scope=col>Size 3</th><th scope=col>Size Avg</th><th scope=col>Size 3-1</th></tr>\n",
       "\t<tr><th></th><th scope=col>&lt;dbl&gt;</th><th scope=col>&lt;dbl&gt;</th><th scope=col>&lt;dbl&gt;</th><th scope=col>&lt;chr&gt;</th><th scope=col>&lt;chr&gt;</th></tr>\n",
       "</thead>\n",
       "<tbody>\n",
       "\t<tr><th scope=row>Illiq 1</th><td>11.546</td><td> 1.710</td><td>1.139</td><td>4.798</td><td>-8.885</td></tr>\n",
       "\t<tr><th scope=row>Illiq 2</th><td> 2.653</td><td> 1.418</td><td>0.986</td><td>1.686</td><td>-1.667</td></tr>\n",
       "\t<tr><th scope=row>Illiq 3</th><td> 2.050</td><td> 1.382</td><td>6.332</td><td>3.255</td><td>7.969 </td></tr>\n",
       "\t<tr><th scope=row>Illiq Avg</th><td> 5.416</td><td> 1.503</td><td>2.819</td><td>     </td><td>-0.861</td></tr>\n",
       "\t<tr><th scope=row>Illiq 3-1</th><td>-7.431</td><td>-0.327</td><td>7.903</td><td>0.048</td><td>      </td></tr>\n",
       "</tbody>\n",
       "</table>\n"
      ],
      "text/latex": [
       "A data.frame: 5 × 5\n",
       "\\begin{tabular}{r|lllll}\n",
       "  & Size 1 & Size 2 & Size 3 & Size Avg & Size 3-1\\\\\n",
       "  & <dbl> & <dbl> & <dbl> & <chr> & <chr>\\\\\n",
       "\\hline\n",
       "\tIlliq 1 & 11.546 &  1.710 & 1.139 & 4.798 & -8.885\\\\\n",
       "\tIlliq 2 &  2.653 &  1.418 & 0.986 & 1.686 & -1.667\\\\\n",
       "\tIlliq 3 &  2.050 &  1.382 & 6.332 & 3.255 & 7.969 \\\\\n",
       "\tIlliq Avg &  5.416 &  1.503 & 2.819 &       & -0.861\\\\\n",
       "\tIlliq 3-1 & -7.431 & -0.327 & 7.903 & 0.048 &       \\\\\n",
       "\\end{tabular}\n"
      ],
      "text/markdown": [
       "\n",
       "A data.frame: 5 × 5\n",
       "\n",
       "| <!--/--> | Size 1 &lt;dbl&gt; | Size 2 &lt;dbl&gt; | Size 3 &lt;dbl&gt; | Size Avg &lt;chr&gt; | Size 3-1 &lt;chr&gt; |\n",
       "|---|---|---|---|---|---|\n",
       "| Illiq 1 | 11.546 |  1.710 | 1.139 | 4.798 | -8.885 |\n",
       "| Illiq 2 |  2.653 |  1.418 | 0.986 | 1.686 | -1.667 |\n",
       "| Illiq 3 |  2.050 |  1.382 | 6.332 | 3.255 | 7.969  |\n",
       "| Illiq Avg |  5.416 |  1.503 | 2.819 | <!----> | -0.861 |\n",
       "| Illiq 3-1 | -7.431 | -0.327 | 7.903 | 0.048 | <!----> |\n",
       "\n"
      ],
      "text/plain": [
       "          Size 1 Size 2 Size 3 Size Avg Size 3-1\n",
       "Illiq 1   11.546  1.710 1.139  4.798    -8.885  \n",
       "Illiq 2    2.653  1.418 0.986  1.686    -1.667  \n",
       "Illiq 3    2.050  1.382 6.332  3.255    7.969   \n",
       "Illiq Avg  5.416  1.503 2.819           -0.861  \n",
       "Illiq 3-1 -7.431 -0.327 7.903  0.048            "
      ]
     },
     "metadata": {},
     "output_type": "display_data"
    },
    {
     "name": "stdout",
     "output_type": "stream",
     "text": [
      "[1] \"t-stats of Return:\"\n"
     ]
    },
    {
     "data": {
      "text/html": [
       "<table class=\"dataframe\">\n",
       "<caption>A data.frame: 5 × 5</caption>\n",
       "<thead>\n",
       "\t<tr><th></th><th scope=col>Size 1</th><th scope=col>Size 2</th><th scope=col>Size 3</th><th scope=col>Size Avg</th><th scope=col>Size 3-1</th></tr>\n",
       "\t<tr><th></th><th scope=col>&lt;dbl&gt;</th><th scope=col>&lt;dbl&gt;</th><th scope=col>&lt;dbl&gt;</th><th scope=col>&lt;chr&gt;</th><th scope=col>&lt;chr&gt;</th></tr>\n",
       "</thead>\n",
       "<tbody>\n",
       "\t<tr><th scope=row>Illiq 1</th><td> 2.184</td><td> 4.426</td><td>3.590</td><td>3.4  </td><td>-1.896</td></tr>\n",
       "\t<tr><th scope=row>Illiq 2</th><td> 5.591</td><td> 3.415</td><td>2.408</td><td>3.804</td><td>-5.562</td></tr>\n",
       "\t<tr><th scope=row>Illiq 3</th><td> 4.667</td><td> 3.322</td><td>4.559</td><td>4.183</td><td>7.579 </td></tr>\n",
       "\t<tr><th scope=row>Illiq Avg</th><td> 4.148</td><td> 3.721</td><td>3.519</td><td>     </td><td>0.04  </td></tr>\n",
       "\t<tr><th scope=row>Illiq 3-1</th><td>-1.591</td><td>-1.503</td><td>6.959</td><td>1.288</td><td>      </td></tr>\n",
       "</tbody>\n",
       "</table>\n"
      ],
      "text/latex": [
       "A data.frame: 5 × 5\n",
       "\\begin{tabular}{r|lllll}\n",
       "  & Size 1 & Size 2 & Size 3 & Size Avg & Size 3-1\\\\\n",
       "  & <dbl> & <dbl> & <dbl> & <chr> & <chr>\\\\\n",
       "\\hline\n",
       "\tIlliq 1 &  2.184 &  4.426 & 3.590 & 3.4   & -1.896\\\\\n",
       "\tIlliq 2 &  5.591 &  3.415 & 2.408 & 3.804 & -5.562\\\\\n",
       "\tIlliq 3 &  4.667 &  3.322 & 4.559 & 4.183 & 7.579 \\\\\n",
       "\tIlliq Avg &  4.148 &  3.721 & 3.519 &       & 0.04  \\\\\n",
       "\tIlliq 3-1 & -1.591 & -1.503 & 6.959 & 1.288 &       \\\\\n",
       "\\end{tabular}\n"
      ],
      "text/markdown": [
       "\n",
       "A data.frame: 5 × 5\n",
       "\n",
       "| <!--/--> | Size 1 &lt;dbl&gt; | Size 2 &lt;dbl&gt; | Size 3 &lt;dbl&gt; | Size Avg &lt;chr&gt; | Size 3-1 &lt;chr&gt; |\n",
       "|---|---|---|---|---|---|\n",
       "| Illiq 1 |  2.184 |  4.426 | 3.590 | 3.4   | -1.896 |\n",
       "| Illiq 2 |  5.591 |  3.415 | 2.408 | 3.804 | -5.562 |\n",
       "| Illiq 3 |  4.667 |  3.322 | 4.559 | 4.183 | 7.579  |\n",
       "| Illiq Avg |  4.148 |  3.721 | 3.519 | <!----> | 0.04   |\n",
       "| Illiq 3-1 | -1.591 | -1.503 | 6.959 | 1.288 | <!----> |\n",
       "\n"
      ],
      "text/plain": [
       "          Size 1 Size 2 Size 3 Size Avg Size 3-1\n",
       "Illiq 1    2.184  4.426 3.590  3.4      -1.896  \n",
       "Illiq 2    5.591  3.415 2.408  3.804    -5.562  \n",
       "Illiq 3    4.667  3.322 4.559  4.183    7.579   \n",
       "Illiq Avg  4.148  3.721 3.519           0.04    \n",
       "Illiq 3-1 -1.591 -1.503 6.959  1.288            "
      ]
     },
     "metadata": {},
     "output_type": "display_data"
    },
    {
     "name": "stdout",
     "output_type": "stream",
     "text": [
      "[1] \"FFCPS alpha：\"\n"
     ]
    },
    {
     "data": {
      "text/html": [
       "<table class=\"dataframe\">\n",
       "<caption>A data.frame: 5 × 5</caption>\n",
       "<thead>\n",
       "\t<tr><th></th><th scope=col>Size 1</th><th scope=col>Size 2</th><th scope=col>Size 3</th><th scope=col>Size Avg</th><th scope=col>Size 3-1</th></tr>\n",
       "\t<tr><th></th><th scope=col>&lt;dbl&gt;</th><th scope=col>&lt;dbl&gt;</th><th scope=col>&lt;dbl&gt;</th><th scope=col>&lt;chr&gt;</th><th scope=col>&lt;chr&gt;</th></tr>\n",
       "</thead>\n",
       "<tbody>\n",
       "\t<tr><th scope=row>Illiq 1</th><td> 18.910</td><td> 1.597</td><td>  1.102</td><td>7.203 </td><td>-15.551</td></tr>\n",
       "\t<tr><th scope=row>Illiq 2</th><td>  2.589</td><td> 1.345</td><td>  0.946</td><td>1.627 </td><td>-1.642 </td></tr>\n",
       "\t<tr><th scope=row>Illiq 3</th><td>  2.024</td><td> 1.294</td><td>163.262</td><td>55.527</td><td>169.321</td></tr>\n",
       "\t<tr><th scope=row>Illiq Avg</th><td>  7.841</td><td> 1.412</td><td> 55.103</td><td>      </td><td>50.709 </td></tr>\n",
       "\t<tr><th scope=row>Illiq 3-1</th><td>-13.676</td><td>-0.302</td><td>156.137</td><td>47.386</td><td>       </td></tr>\n",
       "</tbody>\n",
       "</table>\n"
      ],
      "text/latex": [
       "A data.frame: 5 × 5\n",
       "\\begin{tabular}{r|lllll}\n",
       "  & Size 1 & Size 2 & Size 3 & Size Avg & Size 3-1\\\\\n",
       "  & <dbl> & <dbl> & <dbl> & <chr> & <chr>\\\\\n",
       "\\hline\n",
       "\tIlliq 1 &  18.910 &  1.597 &   1.102 & 7.203  & -15.551\\\\\n",
       "\tIlliq 2 &   2.589 &  1.345 &   0.946 & 1.627  & -1.642 \\\\\n",
       "\tIlliq 3 &   2.024 &  1.294 & 163.262 & 55.527 & 169.321\\\\\n",
       "\tIlliq Avg &   7.841 &  1.412 &  55.103 &        & 50.709 \\\\\n",
       "\tIlliq 3-1 & -13.676 & -0.302 & 156.137 & 47.386 &        \\\\\n",
       "\\end{tabular}\n"
      ],
      "text/markdown": [
       "\n",
       "A data.frame: 5 × 5\n",
       "\n",
       "| <!--/--> | Size 1 &lt;dbl&gt; | Size 2 &lt;dbl&gt; | Size 3 &lt;dbl&gt; | Size Avg &lt;chr&gt; | Size 3-1 &lt;chr&gt; |\n",
       "|---|---|---|---|---|---|\n",
       "| Illiq 1 |  18.910 |  1.597 |   1.102 | 7.203  | -15.551 |\n",
       "| Illiq 2 |   2.589 |  1.345 |   0.946 | 1.627  | -1.642  |\n",
       "| Illiq 3 |   2.024 |  1.294 | 163.262 | 55.527 | 169.321 |\n",
       "| Illiq Avg |   7.841 |  1.412 |  55.103 | <!----> | 50.709  |\n",
       "| Illiq 3-1 | -13.676 | -0.302 | 156.137 | 47.386 | <!----> |\n",
       "\n"
      ],
      "text/plain": [
       "          Size 1  Size 2 Size 3  Size Avg Size 3-1\n",
       "Illiq 1    18.910  1.597   1.102 7.203    -15.551 \n",
       "Illiq 2     2.589  1.345   0.946 1.627    -1.642  \n",
       "Illiq 3     2.024  1.294 163.262 55.527   169.321 \n",
       "Illiq Avg   7.841  1.412  55.103          50.709  \n",
       "Illiq 3-1 -13.676 -0.302 156.137 47.386           "
      ]
     },
     "metadata": {},
     "output_type": "display_data"
    }
   ],
   "source": [
    "res_SizeIlliq <- bivariat_sort( monthly_sizes, monthly_illiq, \n",
    "    monthly_returns, monthly_market_caps, 5)\n",
    "\n",
    "print(\"Original result:\")\n",
    "res_SizeIlliq\n",
    "# high value lower liquid, high returns, positive effect\n",
    "print(\"Excess Return, in percentage format:\")\n",
    "format_result(res_SizeIlliq, \"Size\", \"Illiq\", 3, 100)\n",
    "print(\"t-stats of Return:\")\n",
    "format_result(res_SizeIlliq[2,], \"Size\", \"Illiq\", 3)\n",
    "print(\"FFCPS alpha：\")\n",
    "format_result(res_SizeIlliq[3,], \"Size\", \"Illiq\", 3, 100)"
   ]
  },
  {
   "cell_type": "markdown",
   "id": "b305082e",
   "metadata": {},
   "source": [
    "**comments**\n",
    "\n",
    "First, when we check Size-Illiq bivariate portfolio independent sort, the number of stocks in the group of high Size and also high illiquid group is zero at most of time, means there is no extremly big company also very illiquid exist. The same, there are few extremely small company also very liquid traded. With this in mind, we start our analysis. \n",
    "\n",
    "For VW portfolios, some of size effect decreases compared to EW analysis. So the result demonstrate that the illiquidity phenomenon disappears after controlling for size factor. In the average Size part, the return of average \"3-1\" illiq portfolio is 0.048%, and the corresponding t-statistics is 1.28, indicating that the average return of the illiq portfolio \"3-1\"  of small size, mid size and big size portfolio is indifferent from zero.  \n",
    "\n",
    "In addition, the size phenomenon also disappears after controlling for illiq factor. In the average Illiq part, the return of the \"3-1\" size portfolio is -0.861%, with corresponding t-statistic of 0.04, which is highly insignificant. It indicates that the average return of the Size portfolio \"3-1\"  of low illiq, mid illiq and high illiq portfolio, is indifferent from zero. \n",
    "\n",
    "However, if we only look at big stocks, which are in Size 3 portfolio, Illiq 3-1 provides excess return of 7.903%, with t-stats of 6.959. It shows within high Size stocks, higher illiquid (less liquid) stocks could generate higher returns, which is inline with our previous univariate sort analysis. The same, if we look at low illiquid stocks, which mean high liquid companies, Size 3-1 in Illiq 1 portfolio provides excess return as -8.885% with t-stats of -1.896, means relative smaller stocks still generate higher returns. \n",
    "\n"
   ]
  },
  {
   "cell_type": "markdown",
   "id": "71bada6b",
   "metadata": {},
   "source": [
    "# 6. Fama-MacBeth regression"
   ]
  },
  {
   "cell_type": "markdown",
   "id": "c4e891e5",
   "metadata": {},
   "source": [
    "**The final step in our analysis is the Fama-MacBeth regression which allows us to control for all sort variables used in the previous analysis. We first exam the illiq factor independently and then use the illiq, size and beta factors together as regressors. We  also do the Fama-MacBeth analysis using CAPM, FF3 and FFCPS models, respectively.   \n",
    "In the first part, we use the stock level factors generated from data preparation part to do cross-sectional Fama-MacBeth regression. In the second part, we use the data downloaded from Kenneth French and Ľuboš Pástor website, to do portfolio level time-series regression with excess return spread of factors.  \n",
    "At the end, we discuss the Economically Important of ILLIQ factor for future returns, based on the result of Fama-MacBeth regression with Kenneth French and Ľuboš Pástor website data. The results are presented and discussed below.** "
   ]
  },
  {
   "cell_type": "markdown",
   "id": "fa50b960",
   "metadata": {},
   "source": [
    "### <span style='background: lightblue'>6.1. With self-calculated factor data  </span>"
   ]
  },
  {
   "cell_type": "markdown",
   "id": "f7c73483",
   "metadata": {},
   "source": [
    "This funtion is from seminar, it use stock level factors to calculate cross-sectional and time-series  regressions."
   ]
  },
  {
   "cell_type": "code",
   "execution_count": 35,
   "id": "6b4ec1e2",
   "metadata": {},
   "outputs": [],
   "source": [
    "#  data_explained are monthly returns, data_explanatory are factors\n",
    "perform_fama_macbeth_regression <- function (data_explained, \n",
    "            data_explanatory) {    \n",
    "    # Initialize an xts object for storing regression results.\n",
    "    fm_results <- as.xts(\n",
    "        matrix(\n",
    "            # every row is each month\n",
    "            nrow = nrow(data_explained) - 1,\n",
    "            # every column is each factor\n",
    "            ncol = 1 + length(data_explanatory)\n",
    "        ),\n",
    "        # start from the second month to last month\n",
    "        order.by = index(data_explained[2:nrow(data_explained)])\n",
    "    )\n",
    "    column_names <- c('Intercept', names(data_explanatory))\n",
    "    names(fm_results) <- column_names\n",
    "    # Iterate over rows and perform cross-sectional regressions.\n",
    "    # each i is for each month\n",
    "    for (i in 1:nrow(fm_results)) {\n",
    "        current_month <- index(fm_results[i])\n",
    "        next_month <- as.Date(as.yearmon(current_month %m+% months(1)), \n",
    "                frac = 1)\n",
    "        if (!next_month %in% index(data_explained)) {\n",
    "            next\n",
    "        }\n",
    "        # Avoid look-ahead bias by sorting the returns \n",
    "        # after the month used to compute breakpoints ends.        \n",
    "        # load in return data as the t+1 month\n",
    "        month_data_explained <- data_explained[next_month]\n",
    "        month_data_explanatory <- c()        \n",
    "        # each j is one factor\n",
    "        for (j in 1:length(data_explanatory)) {            \n",
    "            if (!current_month %in% index(data_explanatory[[j]])) {\n",
    "                move_to_next_month <- TRUE\n",
    "                break\n",
    "            }\n",
    "            move_to_next_month <- ncol(data_explanatory[[j]][current_month]) == sum(\n",
    "                is.na(data_explanatory[[j]][current_month]))            \n",
    "            if (move_to_next_month) {\n",
    "                break\n",
    "            }            \n",
    "            cross_section <- t(data_explanatory[[j]][current_month])\n",
    "            colnames(cross_section) <- names(data_explanatory)[j]\n",
    "            cross_section[which(cross_section == -Inf)] = NA\n",
    "            cross_section[which(cross_section == Inf)] = NA\n",
    "            month_data_explanatory <- cbind(month_data_explanatory, cross_section)\n",
    "        } # end of j\n",
    "        if (move_to_next_month) {\n",
    "            next\n",
    "        }\n",
    "        transposed_explained <- t(month_data_explained)\n",
    "        colnames(transposed_explained) <- c('explained')\n",
    "        # create formula for linear regression\n",
    "        equation <- paste('explained ~ 1 + ', \n",
    "            paste0(colnames(month_data_explanatory), collapse = ' + '))\n",
    "        # create data frame of all factors\n",
    "        all_data <- na.omit(as.data.frame(cbind(transposed_explained, \n",
    "            month_data_explanatory)))\n",
    "        # Save regression coefficients and other statistics.\n",
    "        model <- lm(equation, data = all_data)\n",
    "        # save the result for each factor\n",
    "        for (k in 1:ncol(fm_results)) {\n",
    "            fm_results[i, k] <- model$coefficients[[k]]\n",
    "        }\n",
    "    } # end of i \n",
    "    # Compute time series means, standard errors.\n",
    "    final_fm_results <- as.data.frame(matrix(nrow = 2, ncol = ncol(fm_results)))\n",
    "    names(final_fm_results) <- colnames(fm_results)\n",
    "    # every i is each factor\n",
    "    for (i in 1:ncol(final_fm_results)) {\n",
    "        # run regression for all months of each factor\n",
    "        model <- lm(na.omit(fm_results[, i]) ~ 1)\n",
    "        final_fm_results[1, i] <- model$coefficients[[1]]\n",
    "        final_fm_results[2, i] <- model$coefficients[[1]] / sqrt(NeweyWest(model, \n",
    "            lag = 4))[[1]]\n",
    "    }    \n",
    "    output <- round(final_fm_results, digits = 5)\n",
    "    output[is.na(output)] <- \"\"   \n",
    "    output\n",
    "}"
   ]
  },
  {
   "cell_type": "markdown",
   "id": "645a41f6",
   "metadata": {},
   "source": [
    "**Calculate stock level factors Fama-MacBeth regression**"
   ]
  },
  {
   "cell_type": "code",
   "execution_count": 36,
   "id": "3cdad15d",
   "metadata": {
    "scrolled": true
   },
   "outputs": [
    {
     "name": "stdout",
     "output_type": "stream",
     "text": [
      "[1] \"1. Only ILLIQ factor:\"\n"
     ]
    },
    {
     "data": {
      "text/html": [
       "<table class=\"dataframe\">\n",
       "<caption>A data.frame: 2 × 2</caption>\n",
       "<thead>\n",
       "\t<tr><th scope=col>Intercept</th><th scope=col>Illiq</th></tr>\n",
       "\t<tr><th scope=col>&lt;dbl&gt;</th><th scope=col>&lt;dbl&gt;</th></tr>\n",
       "</thead>\n",
       "<tbody>\n",
       "\t<tr><td>0.00926</td><td>0.00163</td></tr>\n",
       "\t<tr><td>2.29265</td><td>3.52832</td></tr>\n",
       "</tbody>\n",
       "</table>\n"
      ],
      "text/latex": [
       "A data.frame: 2 × 2\n",
       "\\begin{tabular}{ll}\n",
       " Intercept & Illiq\\\\\n",
       " <dbl> & <dbl>\\\\\n",
       "\\hline\n",
       "\t 0.00926 & 0.00163\\\\\n",
       "\t 2.29265 & 3.52832\\\\\n",
       "\\end{tabular}\n"
      ],
      "text/markdown": [
       "\n",
       "A data.frame: 2 × 2\n",
       "\n",
       "| Intercept &lt;dbl&gt; | Illiq &lt;dbl&gt; |\n",
       "|---|---|\n",
       "| 0.00926 | 0.00163 |\n",
       "| 2.29265 | 3.52832 |\n",
       "\n"
      ],
      "text/plain": [
       "  Intercept Illiq  \n",
       "1 0.00926   0.00163\n",
       "2 2.29265   3.52832"
      ]
     },
     "metadata": {},
     "output_type": "display_data"
    },
    {
     "name": "stdout",
     "output_type": "stream",
     "text": [
      "[1] \"2. ILLIQ, Size and Beta:\"\n"
     ]
    },
    {
     "data": {
      "text/html": [
       "<table class=\"dataframe\">\n",
       "<caption>A data.frame: 2 × 4</caption>\n",
       "<thead>\n",
       "\t<tr><th scope=col>Intercept</th><th scope=col>Illiq</th><th scope=col>Size</th><th scope=col>Beta</th></tr>\n",
       "\t<tr><th scope=col>&lt;dbl&gt;</th><th scope=col>&lt;dbl&gt;</th><th scope=col>&lt;dbl&gt;</th><th scope=col>&lt;dbl&gt;</th></tr>\n",
       "</thead>\n",
       "<tbody>\n",
       "\t<tr><td>0.00988</td><td>0.00178</td><td>-0.00164</td><td>0.00295</td></tr>\n",
       "\t<tr><td>2.09409</td><td>2.83572</td><td>-1.91176</td><td>0.58555</td></tr>\n",
       "</tbody>\n",
       "</table>\n"
      ],
      "text/latex": [
       "A data.frame: 2 × 4\n",
       "\\begin{tabular}{llll}\n",
       " Intercept & Illiq & Size & Beta\\\\\n",
       " <dbl> & <dbl> & <dbl> & <dbl>\\\\\n",
       "\\hline\n",
       "\t 0.00988 & 0.00178 & -0.00164 & 0.00295\\\\\n",
       "\t 2.09409 & 2.83572 & -1.91176 & 0.58555\\\\\n",
       "\\end{tabular}\n"
      ],
      "text/markdown": [
       "\n",
       "A data.frame: 2 × 4\n",
       "\n",
       "| Intercept &lt;dbl&gt; | Illiq &lt;dbl&gt; | Size &lt;dbl&gt; | Beta &lt;dbl&gt; |\n",
       "|---|---|---|---|\n",
       "| 0.00988 | 0.00178 | -0.00164 | 0.00295 |\n",
       "| 2.09409 | 2.83572 | -1.91176 | 0.58555 |\n",
       "\n"
      ],
      "text/plain": [
       "  Intercept Illiq   Size     Beta   \n",
       "1 0.00988   0.00178 -0.00164 0.00295\n",
       "2 2.09409   2.83572 -1.91176 0.58555"
      ]
     },
     "metadata": {},
     "output_type": "display_data"
    },
    {
     "name": "stdout",
     "output_type": "stream",
     "text": [
      "[1] \"3. CAPM Model:\"\n"
     ]
    },
    {
     "data": {
      "text/html": [
       "<table class=\"dataframe\">\n",
       "<caption>A data.frame: 2 × 2</caption>\n",
       "<thead>\n",
       "\t<tr><th scope=col>Intercept</th><th scope=col>Beta</th></tr>\n",
       "\t<tr><th scope=col>&lt;dbl&gt;</th><th scope=col>&lt;dbl&gt;</th></tr>\n",
       "</thead>\n",
       "<tbody>\n",
       "\t<tr><td>0.00655</td><td>0.0047</td></tr>\n",
       "\t<tr><td>1.75325</td><td>0.9234</td></tr>\n",
       "</tbody>\n",
       "</table>\n"
      ],
      "text/latex": [
       "A data.frame: 2 × 2\n",
       "\\begin{tabular}{ll}\n",
       " Intercept & Beta\\\\\n",
       " <dbl> & <dbl>\\\\\n",
       "\\hline\n",
       "\t 0.00655 & 0.0047\\\\\n",
       "\t 1.75325 & 0.9234\\\\\n",
       "\\end{tabular}\n"
      ],
      "text/markdown": [
       "\n",
       "A data.frame: 2 × 2\n",
       "\n",
       "| Intercept &lt;dbl&gt; | Beta &lt;dbl&gt; |\n",
       "|---|---|\n",
       "| 0.00655 | 0.0047 |\n",
       "| 1.75325 | 0.9234 |\n",
       "\n"
      ],
      "text/plain": [
       "  Intercept Beta  \n",
       "1 0.00655   0.0047\n",
       "2 1.75325   0.9234"
      ]
     },
     "metadata": {},
     "output_type": "display_data"
    },
    {
     "name": "stdout",
     "output_type": "stream",
     "text": [
      "[1] \"4. FF3 Model:\"\n"
     ]
    },
    {
     "data": {
      "text/html": [
       "<table class=\"dataframe\">\n",
       "<caption>A data.frame: 2 × 4</caption>\n",
       "<thead>\n",
       "\t<tr><th scope=col>Intercept</th><th scope=col>Beta</th><th scope=col>Size</th><th scope=col>Value</th></tr>\n",
       "\t<tr><th scope=col>&lt;dbl&gt;</th><th scope=col>&lt;dbl&gt;</th><th scope=col>&lt;dbl&gt;</th><th scope=col>&lt;dbl&gt;</th></tr>\n",
       "</thead>\n",
       "<tbody>\n",
       "\t<tr><td>0.01973</td><td>0.0020</td><td>-0.00302</td><td>-0.00605</td></tr>\n",
       "\t<tr><td>4.54365</td><td>0.3712</td><td>-5.18479</td><td>-2.75590</td></tr>\n",
       "</tbody>\n",
       "</table>\n"
      ],
      "text/latex": [
       "A data.frame: 2 × 4\n",
       "\\begin{tabular}{llll}\n",
       " Intercept & Beta & Size & Value\\\\\n",
       " <dbl> & <dbl> & <dbl> & <dbl>\\\\\n",
       "\\hline\n",
       "\t 0.01973 & 0.0020 & -0.00302 & -0.00605\\\\\n",
       "\t 4.54365 & 0.3712 & -5.18479 & -2.75590\\\\\n",
       "\\end{tabular}\n"
      ],
      "text/markdown": [
       "\n",
       "A data.frame: 2 × 4\n",
       "\n",
       "| Intercept &lt;dbl&gt; | Beta &lt;dbl&gt; | Size &lt;dbl&gt; | Value &lt;dbl&gt; |\n",
       "|---|---|---|---|\n",
       "| 0.01973 | 0.0020 | -0.00302 | -0.00605 |\n",
       "| 4.54365 | 0.3712 | -5.18479 | -2.75590 |\n",
       "\n"
      ],
      "text/plain": [
       "  Intercept Beta   Size     Value   \n",
       "1 0.01973   0.0020 -0.00302 -0.00605\n",
       "2 4.54365   0.3712 -5.18479 -2.75590"
      ]
     },
     "metadata": {},
     "output_type": "display_data"
    },
    {
     "name": "stdout",
     "output_type": "stream",
     "text": [
      "[1] \"5. FFCPS Model:\"\n"
     ]
    },
    {
     "data": {
      "text/html": [
       "<table class=\"dataframe\">\n",
       "<caption>A data.frame: 2 × 6</caption>\n",
       "<thead>\n",
       "\t<tr><th scope=col>Intercept</th><th scope=col>Beta</th><th scope=col>Size</th><th scope=col>Value</th><th scope=col>Mom</th><th scope=col>Illiq</th></tr>\n",
       "\t<tr><th scope=col>&lt;dbl&gt;</th><th scope=col>&lt;dbl&gt;</th><th scope=col>&lt;dbl&gt;</th><th scope=col>&lt;dbl&gt;</th><th scope=col>&lt;dbl&gt;</th><th scope=col>&lt;dbl&gt;</th></tr>\n",
       "</thead>\n",
       "<tbody>\n",
       "\t<tr><td>0.01369</td><td>-0.00197</td><td>-0.00147</td><td>-0.00611</td><td>-0.00010</td><td>0.00194</td></tr>\n",
       "\t<tr><td>2.90007</td><td>-0.39173</td><td>-1.81926</td><td>-2.68930</td><td>-1.44038</td><td>3.10339</td></tr>\n",
       "</tbody>\n",
       "</table>\n"
      ],
      "text/latex": [
       "A data.frame: 2 × 6\n",
       "\\begin{tabular}{llllll}\n",
       " Intercept & Beta & Size & Value & Mom & Illiq\\\\\n",
       " <dbl> & <dbl> & <dbl> & <dbl> & <dbl> & <dbl>\\\\\n",
       "\\hline\n",
       "\t 0.01369 & -0.00197 & -0.00147 & -0.00611 & -0.00010 & 0.00194\\\\\n",
       "\t 2.90007 & -0.39173 & -1.81926 & -2.68930 & -1.44038 & 3.10339\\\\\n",
       "\\end{tabular}\n"
      ],
      "text/markdown": [
       "\n",
       "A data.frame: 2 × 6\n",
       "\n",
       "| Intercept &lt;dbl&gt; | Beta &lt;dbl&gt; | Size &lt;dbl&gt; | Value &lt;dbl&gt; | Mom &lt;dbl&gt; | Illiq &lt;dbl&gt; |\n",
       "|---|---|---|---|---|---|\n",
       "| 0.01369 | -0.00197 | -0.00147 | -0.00611 | -0.00010 | 0.00194 |\n",
       "| 2.90007 | -0.39173 | -1.81926 | -2.68930 | -1.44038 | 3.10339 |\n",
       "\n"
      ],
      "text/plain": [
       "  Intercept Beta     Size     Value    Mom      Illiq  \n",
       "1 0.01369   -0.00197 -0.00147 -0.00611 -0.00010 0.00194\n",
       "2 2.90007   -0.39173 -1.81926 -2.68930 -1.44038 3.10339"
      ]
     },
     "metadata": {},
     "output_type": "display_data"
    }
   ],
   "source": [
    "print(\"1. Only ILLIQ factor:\")\n",
    "data <- list(monthly_illiq)\n",
    "names(data) <- c('Illiq')\n",
    "perform_fama_macbeth_regression(monthly_returns, data)\n",
    "\n",
    "print(\"2. ILLIQ, Size and Beta:\")\n",
    "data <- list(monthly_illiq,monthly_sizes, monthly_betas)\n",
    "names(data) <- c('Illiq', 'Size','Beta')\n",
    "perform_fama_macbeth_regression(monthly_returns, data)\n",
    "\n",
    "print(\"3. CAPM Model:\")\n",
    "data <- list(monthly_betas)\n",
    "names(data) <- c('Beta')\n",
    "perform_fama_macbeth_regression(monthly_returns, data)\n",
    "\n",
    "print(\"4. FF3 Model:\")\n",
    "data <- list(monthly_betas, monthly_sizes, monthly_bm_ratios)\n",
    "names(data) <- c('Beta', 'Size', 'Value')\n",
    "perform_fama_macbeth_regression(monthly_returns, data)\n",
    "\n",
    "print(\"5. FFCPS Model:\")\n",
    "data <- list(monthly_betas, monthly_sizes, monthly_bm_ratios, \n",
    "             monthly_momentum, monthly_illiq )\n",
    "names(data) <- c('Beta', 'Size', 'Value', 'Mom', 'Illiq')\n",
    "perform_fama_macbeth_regression(monthly_returns, data)"
   ]
  },
  {
   "cell_type": "markdown",
   "id": "fd7350b7",
   "metadata": {},
   "source": [
    "**Comments**\n",
    "\n",
    "As we can see in these tables above, when we take illiquidity factor as the only independent variable in the regression specification, the average slope from the monthly cross-sectional regressions is 0.0016 with a corresponding NW t-statistic of 3.52, indicating a statistically significant and positive relation between illiquidity and future stock returns. This result is consistent with what we have found in univariate portfolio analyses.  \n",
    "\n",
    "When we further include Size and Beta factors in our model, the coefficient of Illiq does not change too much (with the value of 0.0017) and remains to be statistic significant. The coefficient of size factor is negative and statistically significant, indicating negative relationship between size factor and future excess returns. The coefficient of Beta is positive but statistically insignificant, which is consistent with our previous findings.\n",
    "\n",
    "In CAPM model, the coefficient of Beta is 0.0047 with t-statistics of 0.92. This indicates that the Beta is statistically insignificant, and no relationship is found between Beta and returns. In FF3 model, Beta is still statistically insignificant. But Size and Value both show a negative relationship with returns. As for FFCPS model, when momentum and illiquidity factors are included, the Size factor becomes less significant (t-statistics=-1.81). The coefficient of Mom is negative and insignificant, while the coefficient of Illiq is positive and statistically significant. Therefore we can conclude from the FFCPS model that stock returns are mostly effected by Size, Value and Illiq. "
   ]
  },
  {
   "cell_type": "markdown",
   "id": "252b6d0e",
   "metadata": {},
   "source": [
    "### <span style='background: lightblue'>6.2. With downloaded excess return factor data  </span>"
   ]
  },
  {
   "cell_type": "markdown",
   "id": "35d17d50",
   "metadata": {},
   "source": [
    "**Calculate portfolio monthly excess returns, and combine with factors obtained from the web of Kenneth French and Ľuboš Pástor.**"
   ]
  },
  {
   "cell_type": "code",
   "execution_count": 37,
   "id": "17004740",
   "metadata": {},
   "outputs": [
    {
     "data": {
      "text/plain": [
       "                EW      VW  mkt.rf    smb     hml     rf     mom        liq\n",
       "2007-01-31  0.0288  0.0209  0.0140 0.0014 -0.0070 0.0044  0.0065 0.00375580\n",
       "2007-02-28 -0.0097 -0.0305 -0.0196 0.0118 -0.0012 0.0038 -0.0004 0.02496826\n",
       "2007-03-31  0.0069  0.0083  0.0068 0.0015 -0.0094 0.0043  0.0180 0.02931590"
      ]
     },
     "metadata": {},
     "output_type": "display_data"
    },
    {
     "data": {
      "text/plain": [
       "                EW      VW  mkt.rf    smb     hml    rf     mom        liq\n",
       "2020-10-31 -0.0038 -0.0087 -0.0210 0.0440  0.0414 1e-04 -0.0169 0.04065628\n",
       "2020-11-30  0.1404  0.1121  0.1247 0.0563  0.0210 1e-04 -0.1092 0.02308695\n",
       "2020-12-31  0.0407  0.0351  0.0463 0.0483 -0.0141 1e-04 -0.0009 0.05024218"
      ]
     },
     "metadata": {},
     "output_type": "display_data"
    }
   ],
   "source": [
    "# Initialize an xts object for storing EW and VW portfolio returns.\n",
    "return_col <- c('EW', 'VW')\n",
    "port_returns <- as.xts(\n",
    "    matrix(\n",
    "        # first month return is empty\n",
    "        nrow = nrow(monthly_returns),\n",
    "        #column 1 is EW, column 2 is VW\n",
    "        ncol = 2\n",
    "    ),\n",
    "    # start from second month\n",
    "    order.by = index(monthly_returns)\n",
    ")\n",
    "names(port_returns) <- return_col\n",
    "# Iterate over rows, every i is each month \n",
    "for (i in 1:nrow(port_returns)) {\n",
    "    current_month <- index(port_returns[i])\n",
    "    month_returns <- monthly_returns[current_month]\n",
    "    month_market_caps <- monthly_market_caps[current_month]\n",
    "    month_equal_weights <- monthly_equal_weights[current_month]\n",
    "    # Replace NA market caps with 0s so that such observations have no weights.\n",
    "    # use markcap for VW\n",
    "    month_returns[is.na(month_returns)] <- 0    \n",
    "    month_market_caps[is.na(month_market_caps)] <- 0  \n",
    "    port_returns[i,1] <- weighted.mean(t(month_returns),\n",
    "        t(month_equal_weights))\n",
    "    port_returns[i,2] <- weighted.mean(t(month_returns), \n",
    "        t(month_market_caps))\n",
    "}  \n",
    "# Combine the samples.\n",
    "sample <- cbind(round(port_returns, digits = 4), factor_data)\n",
    "head(sample,3)\n",
    "tail(sample,3)"
   ]
  },
  {
   "cell_type": "markdown",
   "id": "6b9db3fb",
   "metadata": {},
   "source": [
    "**All excess returns from factor data are calculated by value-weighted portfolios, so we just need to calculate value-weighted returns of our portfolio for every month, then do time-series regression with portfolio returns to the excess returns from factors.**"
   ]
  },
  {
   "cell_type": "code",
   "execution_count": 38,
   "id": "0f34b37d",
   "metadata": {},
   "outputs": [
    {
     "data": {
      "text/plain": [
       "\n",
       "Call:\n",
       "lm(formula = \"VW ~ liq + mkt.rf + smb + hml + mom \", data = sample)\n",
       "\n",
       "Residuals:\n",
       "       Min         1Q     Median         3Q        Max \n",
       "-0.0151287 -0.0046529 -0.0006109  0.0041604  0.0227268 \n",
       "\n",
       "Coefficients:\n",
       "              Estimate Std. Error t value Pr(>|t|)    \n",
       "(Intercept)  0.0048647  0.0005709   8.520 1.05e-14 ***\n",
       "liq         -0.0379815  0.0155744  -2.439   0.0158 *  \n",
       "mkt.rf       0.9631219  0.0140180  68.706  < 2e-16 ***\n",
       "smb         -0.1340383  0.0257668  -5.202 5.89e-07 ***\n",
       "hml         -0.0092618  0.0226009  -0.410   0.6825    \n",
       "mom         -0.0254736  0.0184850  -1.378   0.1701    \n",
       "---\n",
       "Signif. codes:  0 '***' 0.001 '**' 0.01 '*' 0.05 '.' 0.1 ' ' 1\n",
       "\n",
       "Residual standard error: 0.00706 on 162 degrees of freedom\n",
       "Multiple R-squared:  0.9754,\tAdjusted R-squared:  0.9747 \n",
       "F-statistic:  1286 on 5 and 162 DF,  p-value: < 2.2e-16\n"
      ]
     },
     "metadata": {},
     "output_type": "display_data"
    },
    {
     "data": {
      "text/html": [
       "<table class=\"dataframe\">\n",
       "<caption>A data.frame: 12 × 5</caption>\n",
       "<thead>\n",
       "\t<tr><th></th><th scope=col>Illiq</th><th scope=col>Combine</th><th scope=col>CAPM</th><th scope=col>FF3</th><th scope=col>FFCPS</th></tr>\n",
       "\t<tr><th></th><th scope=col>&lt;chr&gt;</th><th scope=col>&lt;chr&gt;</th><th scope=col>&lt;chr&gt;</th><th scope=col>&lt;chr&gt;</th><th scope=col>&lt;dbl&gt;</th></tr>\n",
       "</thead>\n",
       "<tbody>\n",
       "\t<tr><th scope=row>Intercept</th><td>0.0123</td><td>0.0048 </td><td>0.0048 </td><td>0.0049 </td><td> 0.0049</td></tr>\n",
       "\t<tr><th scope=row>t.Intercept</th><td>3.6437</td><td>8.6203 </td><td>7.8567 </td><td>8.4499 </td><td> 8.5203</td></tr>\n",
       "\t<tr><th scope=row>liq</th><td>0.2125</td><td>-0.0426</td><td>       </td><td>       </td><td>-0.0380</td></tr>\n",
       "\t<tr><th scope=row>t.liq</th><td>2.5078</td><td>-2.9749</td><td>       </td><td>       </td><td>-2.4387</td></tr>\n",
       "\t<tr><th scope=row>mkt</th><td>      </td><td>0.9688 </td><td>0.9348 </td><td>0.959  </td><td> 0.9631</td></tr>\n",
       "\t<tr><th scope=row>t.mkt</th><td>      </td><td>75.6081</td><td>71.7077</td><td>71.9764</td><td>68.7060</td></tr>\n",
       "\t<tr><th scope=row>smb</th><td>      </td><td>-0.1309</td><td>       </td><td>-0.147 </td><td>-0.1340</td></tr>\n",
       "\t<tr><th scope=row>t.smb</th><td>      </td><td>-5.1825</td><td>       </td><td>-5.7344</td><td>-5.2020</td></tr>\n",
       "\t<tr><th scope=row>hml</th><td>      </td><td>       </td><td>       </td><td>0.0219 </td><td>-0.0093</td></tr>\n",
       "\t<tr><th scope=row>t.hml</th><td>      </td><td>       </td><td>       </td><td>1.0768 </td><td>-0.4098</td></tr>\n",
       "\t<tr><th scope=row>mom</th><td>      </td><td>       </td><td>       </td><td>       </td><td>-0.0255</td></tr>\n",
       "\t<tr><th scope=row>t.mom</th><td>      </td><td>       </td><td>       </td><td>       </td><td>-1.3781</td></tr>\n",
       "</tbody>\n",
       "</table>\n"
      ],
      "text/latex": [
       "A data.frame: 12 × 5\n",
       "\\begin{tabular}{r|lllll}\n",
       "  & Illiq & Combine & CAPM & FF3 & FFCPS\\\\\n",
       "  & <chr> & <chr> & <chr> & <chr> & <dbl>\\\\\n",
       "\\hline\n",
       "\tIntercept & 0.0123 & 0.0048  & 0.0048  & 0.0049  &  0.0049\\\\\n",
       "\tt.Intercept & 3.6437 & 8.6203  & 7.8567  & 8.4499  &  8.5203\\\\\n",
       "\tliq & 0.2125 & -0.0426 &         &         & -0.0380\\\\\n",
       "\tt.liq & 2.5078 & -2.9749 &         &         & -2.4387\\\\\n",
       "\tmkt &        & 0.9688  & 0.9348  & 0.959   &  0.9631\\\\\n",
       "\tt.mkt &        & 75.6081 & 71.7077 & 71.9764 & 68.7060\\\\\n",
       "\tsmb &        & -0.1309 &         & -0.147  & -0.1340\\\\\n",
       "\tt.smb &        & -5.1825 &         & -5.7344 & -5.2020\\\\\n",
       "\thml &        &         &         & 0.0219  & -0.0093\\\\\n",
       "\tt.hml &        &         &         & 1.0768  & -0.4098\\\\\n",
       "\tmom &        &         &         &         & -0.0255\\\\\n",
       "\tt.mom &        &         &         &         & -1.3781\\\\\n",
       "\\end{tabular}\n"
      ],
      "text/markdown": [
       "\n",
       "A data.frame: 12 × 5\n",
       "\n",
       "| <!--/--> | Illiq &lt;chr&gt; | Combine &lt;chr&gt; | CAPM &lt;chr&gt; | FF3 &lt;chr&gt; | FFCPS &lt;dbl&gt; |\n",
       "|---|---|---|---|---|---|\n",
       "| Intercept | 0.0123 | 0.0048  | 0.0048  | 0.0049  |  0.0049 |\n",
       "| t.Intercept | 3.6437 | 8.6203  | 7.8567  | 8.4499  |  8.5203 |\n",
       "| liq | 0.2125 | -0.0426 | <!----> | <!----> | -0.0380 |\n",
       "| t.liq | 2.5078 | -2.9749 | <!----> | <!----> | -2.4387 |\n",
       "| mkt | <!----> | 0.9688  | 0.9348  | 0.959   |  0.9631 |\n",
       "| t.mkt | <!----> | 75.6081 | 71.7077 | 71.9764 | 68.7060 |\n",
       "| smb | <!----> | -0.1309 | <!----> | -0.147  | -0.1340 |\n",
       "| t.smb | <!----> | -5.1825 | <!----> | -5.7344 | -5.2020 |\n",
       "| hml | <!----> | <!----> | <!----> | 0.0219  | -0.0093 |\n",
       "| t.hml | <!----> | <!----> | <!----> | 1.0768  | -0.4098 |\n",
       "| mom | <!----> | <!----> | <!----> | <!----> | -0.0255 |\n",
       "| t.mom | <!----> | <!----> | <!----> | <!----> | -1.3781 |\n",
       "\n"
      ],
      "text/plain": [
       "            Illiq  Combine CAPM    FF3     FFCPS  \n",
       "Intercept   0.0123 0.0048  0.0048  0.0049   0.0049\n",
       "t.Intercept 3.6437 8.6203  7.8567  8.4499   8.5203\n",
       "liq         0.2125 -0.0426                 -0.0380\n",
       "t.liq       2.5078 -2.9749                 -2.4387\n",
       "mkt                0.9688  0.9348  0.959    0.9631\n",
       "t.mkt              75.6081 71.7077 71.9764 68.7060\n",
       "smb                -0.1309         -0.147  -0.1340\n",
       "t.smb              -5.1825         -5.7344 -5.2020\n",
       "hml                                0.0219  -0.0093\n",
       "t.hml                              1.0768  -0.4098\n",
       "mom                                        -0.0255\n",
       "t.mom                                      -1.3781"
      ]
     },
     "metadata": {},
     "output_type": "display_data"
    }
   ],
   "source": [
    "# Create the table of coefficients.\n",
    "coeffs <- as.data.frame(matrix(nrow = 6 * 2, ncol = 5))\n",
    "# Specify the names of the columns of the table of coefficients.\n",
    "names(coeffs) <- c('Illiq','Combine','CAPM','FF3','FFCPS')\n",
    "attributes(coeffs)$row.names <- c(\n",
    "    \"Intercept\", \"t.Intercept\",\n",
    "    \"liq\",  \"t.liq\",  \"mkt\", \"t.mkt\",\n",
    "    \"smb\",  \"t.smb\",  \"hml\",  \"t.hml\",\n",
    "    \"mom\",  \"t.mom\"\n",
    ")\n",
    "vw_liq <- lm('VW ~ liq', data = sample)\n",
    "coeffs[c(1, 3), 1]  <- summary(vw_liq)$coefficients[, 1]\n",
    "coeffs[c(2, 4), 1]  <- summary(vw_liq)$coefficients[, 3]\n",
    "# combined factors model\n",
    "vw_comb <- lm('VW ~ liq + mkt.rf + smb', data = sample)\n",
    "coeffs[c(1, 3, 5, 7), 2]  <- summary(vw_comb)$coefficients[, 1]\n",
    "coeffs[c(2, 4, 6, 8), 2]  <- summary(vw_comb)$coefficients[, 3]\n",
    "# CAPM model\n",
    "vw_capm <- lm('VW ~ mkt.rf', data = sample)\n",
    "coeffs[c(1, 5), 3]  <- summary(vw_capm)$coefficients[, 1]\n",
    "coeffs[c(2, 6), 3]  <- summary(vw_capm)$coefficients[, 3]\n",
    "# FF3 model\n",
    "vw_ff3 <- lm('VW ~ mkt.rf + smb + hml', data = sample)\n",
    "coeffs[c(1, 5, 7, 9), 4]  <- summary(vw_ff3)$coefficients[, 1]\n",
    "coeffs[c(2, 6, 8, 10), 4]  <- summary(vw_ff3)$coefficients[, 3]\n",
    "# FFCPS model\n",
    "vw_FFCPS <- lm('VW ~ liq + mkt.rf + smb + hml + mom ', data = sample)\n",
    "coeffs[c(1, 3, 5, 7, 9, 11), 5]  <- summary(vw_FFCPS)$coefficients[, 1]\n",
    "coeffs[c(2, 4, 6, 8, 10, 12), 5]  <- summary(vw_FFCPS)$coefficients[, 3]\n",
    "# Round the results for better readability.\n",
    "coeffs <- round(coeffs, digits = 4)\n",
    "coeffs[is.na(coeffs)] <- \"\"   \n",
    "summary(vw_FFCPS)\n",
    "coeffs"
   ]
  },
  {
   "cell_type": "markdown",
   "id": "b689dc4f",
   "metadata": {},
   "source": [
    "**Comments**\n",
    "\n",
    "As we can see in the table above, when we take illiquidity factor as the only independent variable in the regression specification, the average slope from the monthly cross-sectional regressions is 0.21 with a corresponding t-value of 2.51, indicating a statistically significant and positive relation between illiquidity and future stock returns. This result is consistent with what we have found in univariate portfolio analyses.  \n",
    "\n",
    "When we further include market and size factors in our model, the coefficient of illiquidity is -0.04 with a significant t-value of -2.97. The coefficient of Size factor(smb) is negative and statistically significant, indicating negative relationship between size factor and future excess returns. The coefficient of beta is positive and statistically significant. The future stock returns are overwhelmingly explained by market factor. \n",
    "\n",
    "In CAPM model, the coefficient of market factor beta (with a value of 0.93) is economically large and statistically large, which illustrates that our sample can stand for the market. As for the FF 3 factor model, the coefficient of market factor does not change too much with a value of 96% and remains to be statistic significant. Size factor has a significant negative relation with stock future returns, while value factor is insignificantly positively related to stock future returns. In terms of FFCPS model, illiquidity and momentum factors are included. Market factor remains to be significantly positively related with stock future returns, while size factor still has a significant negative relation with stock future returns. Illiquidity factor with a t-statistic of -2.43 is significantly negatively related to stock future returns. But value factor and momentum factor are significantly related to stock future returns.\n",
    "\n",
    "We noticed the high significant of Market factor Beta in this portfolio level regression, the reason is when use excess return spread factor data downloaded from web, this Fama-MacBeth regression uses the same period portfolio returns regress with the factor return spreads. When regressing the same period of returns, the returns data are in both independent and dependent variables, so that the positive bias in the regression result, and over optimal significant result of market factor."
   ]
  },
  {
   "cell_type": "markdown",
   "id": "4ae1036e",
   "metadata": {},
   "source": [
    "### <span style='background: lightblue'>6.3. Economic Magnitude Analysis </span>"
   ]
  },
  {
   "cell_type": "markdown",
   "id": "bbc313ad",
   "metadata": {},
   "source": [
    "**This part we analysis the economic importance for Illiquidity factor of: one unit move, one standard deviation move, and portfolio 5-1 return difference.**"
   ]
  },
  {
   "cell_type": "code",
   "execution_count": 39,
   "id": "a15629ca",
   "metadata": {},
   "outputs": [
    {
     "name": "stdout",
     "output_type": "stream",
     "text": [
      "[1] \"Factor Summary Statistics:\"\n"
     ]
    },
    {
     "data": {
      "text/html": [
       "<table class=\"dataframe\">\n",
       "<caption>A data.frame: 7 × 12</caption>\n",
       "<thead>\n",
       "\t<tr><th></th><th scope=col>Mean</th><th scope=col>SD</th><th scope=col>Skew</th><th scope=col>Kurt</th><th scope=col>Min</th><th scope=col>5%</th><th scope=col>25%</th><th scope=col>Median</th><th scope=col>75%</th><th scope=col>95%</th><th scope=col>Max</th><th scope=col>n</th></tr>\n",
       "\t<tr><th></th><th scope=col>&lt;dbl&gt;</th><th scope=col>&lt;dbl&gt;</th><th scope=col>&lt;dbl&gt;</th><th scope=col>&lt;dbl&gt;</th><th scope=col>&lt;dbl&gt;</th><th scope=col>&lt;dbl&gt;</th><th scope=col>&lt;dbl&gt;</th><th scope=col>&lt;dbl&gt;</th><th scope=col>&lt;dbl&gt;</th><th scope=col>&lt;dbl&gt;</th><th scope=col>&lt;dbl&gt;</th><th scope=col>&lt;dbl&gt;</th></tr>\n",
       "</thead>\n",
       "<tbody>\n",
       "\t<tr><th scope=row>Beta</th><td> 1.007</td><td>  0.331</td><td>0.241</td><td> 3.596</td><td>  0.215</td><td>  0.464</td><td> 0.795</td><td> 0.999</td><td> 1.215</td><td>  1.550</td><td>   2.107</td><td>250</td></tr>\n",
       "\t<tr><th scope=row>MktCap</th><td>62.301</td><td>143.790</td><td>6.834</td><td>59.354</td><td>  3.631</td><td>  6.836</td><td>11.993</td><td>24.318</td><td>53.839</td><td>219.215</td><td>1518.211</td><td>250</td></tr>\n",
       "\t<tr><th scope=row>Size</th><td> 3.324</td><td>  1.104</td><td>0.839</td><td> 3.591</td><td>  1.270</td><td>  1.913</td><td> 2.477</td><td> 3.186</td><td> 3.981</td><td>  5.387</td><td>   7.320</td><td>250</td></tr>\n",
       "\t<tr><th scope=row>Value</th><td> 0.426</td><td>  0.460</td><td>1.027</td><td> 6.376</td><td> -1.170</td><td>  0.000</td><td> 0.108</td><td> 0.318</td><td> 0.630</td><td>  1.255</td><td>   2.707</td><td>250</td></tr>\n",
       "\t<tr><th scope=row>Mom</th><td>14.437</td><td> 23.467</td><td>1.049</td><td> 8.344</td><td>-48.015</td><td>-18.650</td><td>-0.270</td><td>12.848</td><td>26.677</td><td> 51.919</td><td> 137.387</td><td>250</td></tr>\n",
       "\t<tr><th scope=row>Illiq</th><td> 1.618</td><td>  2.366</td><td>3.636</td><td>27.254</td><td>  0.054</td><td>  0.137</td><td> 0.553</td><td> 1.018</td><td> 1.911</td><td>  4.443</td><td>  24.706</td><td>250</td></tr>\n",
       "\t<tr><th scope=row>Excess Return</th><td> 0.014</td><td>  0.063</td><td>0.301</td><td> 6.243</td><td> -0.204</td><td> -0.082</td><td>-0.022</td><td> 0.014</td><td> 0.050</td><td>  0.113</td><td>   0.283</td><td>250</td></tr>\n",
       "</tbody>\n",
       "</table>\n"
      ],
      "text/latex": [
       "A data.frame: 7 × 12\n",
       "\\begin{tabular}{r|llllllllllll}\n",
       "  & Mean & SD & Skew & Kurt & Min & 5\\% & 25\\% & Median & 75\\% & 95\\% & Max & n\\\\\n",
       "  & <dbl> & <dbl> & <dbl> & <dbl> & <dbl> & <dbl> & <dbl> & <dbl> & <dbl> & <dbl> & <dbl> & <dbl>\\\\\n",
       "\\hline\n",
       "\tBeta &  1.007 &   0.331 & 0.241 &  3.596 &   0.215 &   0.464 &  0.795 &  0.999 &  1.215 &   1.550 &    2.107 & 250\\\\\n",
       "\tMktCap & 62.301 & 143.790 & 6.834 & 59.354 &   3.631 &   6.836 & 11.993 & 24.318 & 53.839 & 219.215 & 1518.211 & 250\\\\\n",
       "\tSize &  3.324 &   1.104 & 0.839 &  3.591 &   1.270 &   1.913 &  2.477 &  3.186 &  3.981 &   5.387 &    7.320 & 250\\\\\n",
       "\tValue &  0.426 &   0.460 & 1.027 &  6.376 &  -1.170 &   0.000 &  0.108 &  0.318 &  0.630 &   1.255 &    2.707 & 250\\\\\n",
       "\tMom & 14.437 &  23.467 & 1.049 &  8.344 & -48.015 & -18.650 & -0.270 & 12.848 & 26.677 &  51.919 &  137.387 & 250\\\\\n",
       "\tIlliq &  1.618 &   2.366 & 3.636 & 27.254 &   0.054 &   0.137 &  0.553 &  1.018 &  1.911 &   4.443 &   24.706 & 250\\\\\n",
       "\tExcess Return &  0.014 &   0.063 & 0.301 &  6.243 &  -0.204 &  -0.082 & -0.022 &  0.014 &  0.050 &   0.113 &    0.283 & 250\\\\\n",
       "\\end{tabular}\n"
      ],
      "text/markdown": [
       "\n",
       "A data.frame: 7 × 12\n",
       "\n",
       "| <!--/--> | Mean &lt;dbl&gt; | SD &lt;dbl&gt; | Skew &lt;dbl&gt; | Kurt &lt;dbl&gt; | Min &lt;dbl&gt; | 5% &lt;dbl&gt; | 25% &lt;dbl&gt; | Median &lt;dbl&gt; | 75% &lt;dbl&gt; | 95% &lt;dbl&gt; | Max &lt;dbl&gt; | n &lt;dbl&gt; |\n",
       "|---|---|---|---|---|---|---|---|---|---|---|---|---|\n",
       "| Beta |  1.007 |   0.331 | 0.241 |  3.596 |   0.215 |   0.464 |  0.795 |  0.999 |  1.215 |   1.550 |    2.107 | 250 |\n",
       "| MktCap | 62.301 | 143.790 | 6.834 | 59.354 |   3.631 |   6.836 | 11.993 | 24.318 | 53.839 | 219.215 | 1518.211 | 250 |\n",
       "| Size |  3.324 |   1.104 | 0.839 |  3.591 |   1.270 |   1.913 |  2.477 |  3.186 |  3.981 |   5.387 |    7.320 | 250 |\n",
       "| Value |  0.426 |   0.460 | 1.027 |  6.376 |  -1.170 |   0.000 |  0.108 |  0.318 |  0.630 |   1.255 |    2.707 | 250 |\n",
       "| Mom | 14.437 |  23.467 | 1.049 |  8.344 | -48.015 | -18.650 | -0.270 | 12.848 | 26.677 |  51.919 |  137.387 | 250 |\n",
       "| Illiq |  1.618 |   2.366 | 3.636 | 27.254 |   0.054 |   0.137 |  0.553 |  1.018 |  1.911 |   4.443 |   24.706 | 250 |\n",
       "| Excess Return |  0.014 |   0.063 | 0.301 |  6.243 |  -0.204 |  -0.082 | -0.022 |  0.014 |  0.050 |   0.113 |    0.283 | 250 |\n",
       "\n"
      ],
      "text/plain": [
       "              Mean   SD      Skew  Kurt   Min     5%      25%    Median 75%   \n",
       "Beta           1.007   0.331 0.241  3.596   0.215   0.464  0.795  0.999  1.215\n",
       "MktCap        62.301 143.790 6.834 59.354   3.631   6.836 11.993 24.318 53.839\n",
       "Size           3.324   1.104 0.839  3.591   1.270   1.913  2.477  3.186  3.981\n",
       "Value          0.426   0.460 1.027  6.376  -1.170   0.000  0.108  0.318  0.630\n",
       "Mom           14.437  23.467 1.049  8.344 -48.015 -18.650 -0.270 12.848 26.677\n",
       "Illiq          1.618   2.366 3.636 27.254   0.054   0.137  0.553  1.018  1.911\n",
       "Excess Return  0.014   0.063 0.301  6.243  -0.204  -0.082 -0.022  0.014  0.050\n",
       "              95%     Max      n  \n",
       "Beta            1.550    2.107 250\n",
       "MktCap        219.215 1518.211 250\n",
       "Size            5.387    7.320 250\n",
       "Value           1.255    2.707 250\n",
       "Mom            51.919  137.387 250\n",
       "Illiq           4.443   24.706 250\n",
       "Excess Return   0.113    0.283 250"
      ]
     },
     "metadata": {},
     "output_type": "display_data"
    },
    {
     "name": "stdout",
     "output_type": "stream",
     "text": [
      "[1] \"Univariate Sort by ILLIQ factor:\"\n"
     ]
    },
    {
     "data": {
      "text/html": [
       "<table class=\"dataframe\">\n",
       "<caption>A data.frame: 5 × 6</caption>\n",
       "<thead>\n",
       "\t<tr><th></th><th scope=col>1</th><th scope=col>2</th><th scope=col>3</th><th scope=col>4</th><th scope=col>5</th><th scope=col>5 - 1</th></tr>\n",
       "\t<tr><th></th><th scope=col>&lt;dbl&gt;</th><th scope=col>&lt;dbl&gt;</th><th scope=col>&lt;dbl&gt;</th><th scope=col>&lt;dbl&gt;</th><th scope=col>&lt;dbl&gt;</th><th scope=col>&lt;dbl&gt;</th></tr>\n",
       "</thead>\n",
       "<tbody>\n",
       "\t<tr><th scope=row>Illiq</th><td>0.317</td><td>0.838</td><td>1.478</td><td>2.570</td><td>6.869</td><td>6.552</td></tr>\n",
       "\t<tr><th scope=row>Excess return</th><td>0.009</td><td>0.010</td><td>0.010</td><td>0.013</td><td>0.017</td><td>0.008</td></tr>\n",
       "\t<tr><th scope=row> t-stats</th><td>2.571</td><td>2.379</td><td>2.163</td><td>3.196</td><td>3.799</td><td>3.843</td></tr>\n",
       "\t<tr><th scope=row>FFCPS alpha</th><td>0.009</td><td>0.009</td><td>0.008</td><td>0.013</td><td>0.016</td><td>0.008</td></tr>\n",
       "\t<tr><th scope=row> t-value</th><td>2.345</td><td>2.234</td><td>1.963</td><td>2.890</td><td>3.469</td><td>3.761</td></tr>\n",
       "</tbody>\n",
       "</table>\n"
      ],
      "text/latex": [
       "A data.frame: 5 × 6\n",
       "\\begin{tabular}{r|llllll}\n",
       "  & 1 & 2 & 3 & 4 & 5 & 5 - 1\\\\\n",
       "  & <dbl> & <dbl> & <dbl> & <dbl> & <dbl> & <dbl>\\\\\n",
       "\\hline\n",
       "\tIlliq & 0.317 & 0.838 & 1.478 & 2.570 & 6.869 & 6.552\\\\\n",
       "\tExcess return & 0.009 & 0.010 & 0.010 & 0.013 & 0.017 & 0.008\\\\\n",
       "\t t-stats & 2.571 & 2.379 & 2.163 & 3.196 & 3.799 & 3.843\\\\\n",
       "\tFFCPS alpha & 0.009 & 0.009 & 0.008 & 0.013 & 0.016 & 0.008\\\\\n",
       "\t t-value & 2.345 & 2.234 & 1.963 & 2.890 & 3.469 & 3.761\\\\\n",
       "\\end{tabular}\n"
      ],
      "text/markdown": [
       "\n",
       "A data.frame: 5 × 6\n",
       "\n",
       "| <!--/--> | 1 &lt;dbl&gt; | 2 &lt;dbl&gt; | 3 &lt;dbl&gt; | 4 &lt;dbl&gt; | 5 &lt;dbl&gt; | 5 - 1 &lt;dbl&gt; |\n",
       "|---|---|---|---|---|---|---|\n",
       "| Illiq | 0.317 | 0.838 | 1.478 | 2.570 | 6.869 | 6.552 |\n",
       "| Excess return | 0.009 | 0.010 | 0.010 | 0.013 | 0.017 | 0.008 |\n",
       "|  t-stats | 2.571 | 2.379 | 2.163 | 3.196 | 3.799 | 3.843 |\n",
       "| FFCPS alpha | 0.009 | 0.009 | 0.008 | 0.013 | 0.016 | 0.008 |\n",
       "|  t-value | 2.345 | 2.234 | 1.963 | 2.890 | 3.469 | 3.761 |\n",
       "\n"
      ],
      "text/plain": [
       "              1     2     3     4     5     5 - 1\n",
       "Illiq         0.317 0.838 1.478 2.570 6.869 6.552\n",
       "Excess return 0.009 0.010 0.010 0.013 0.017 0.008\n",
       " t-stats      2.571 2.379 2.163 3.196 3.799 3.843\n",
       "FFCPS alpha   0.009 0.009 0.008 0.013 0.016 0.008\n",
       " t-value      2.345 2.234 1.963 2.890 3.469 3.761"
      ]
     },
     "metadata": {},
     "output_type": "display_data"
    },
    {
     "data": {
      "text/html": [
       "0.212543297394906"
      ],
      "text/latex": [
       "0.212543297394906"
      ],
      "text/markdown": [
       "0.212543297394906"
      ],
      "text/plain": [
       "[1] 0.2125433"
      ]
     },
     "metadata": {},
     "output_type": "display_data"
    },
    {
     "name": "stdout",
     "output_type": "stream",
     "text": [
      "[1] \"one-unit monthly:0.2125\"\n",
      "[1] \"one-unit annual:2.5505\"\n",
      "[1] \"one-SD monthly:0.5029\"\n",
      "[1] \"one-SD annual:6.0345\"\n",
      "[1] \"Illiq 5-1 monthly:1.3926\"\n",
      "[1] \"Illiq 5-1 annual:16.711\"\n"
     ]
    }
   ],
   "source": [
    "# get SD information\n",
    "print(\"Factor Summary Statistics:\")\n",
    "out_res\n",
    "# get portfolio 5-1 factor information\n",
    "print(\"Univariate Sort by ILLIQ factor:\")\n",
    "univariate_sort(monthly_illiq, monthly_returns, monthly_equal_weights,\n",
    "            5, \"Illiq\", 3)\n",
    "# get illiq beta\n",
    "illiq_fac <- summary(vw_liq)$coefficients[2, 1]\n",
    "illiq_fac\n",
    "# calculate one unit economic importance\n",
    "print(paste0(\"one-unit monthly:\", round(illiq_fac,4)))\n",
    "print(paste0(\"one-unit annual:\",round(illiq_fac * 12, 4)))\n",
    "# calculate one SD economic importance\n",
    "sd_mon <- illiq_fac * 2.366\n",
    "print(paste0(\"one-SD monthly:\", round(sd_mon, 4)))\n",
    "print(paste0(\"one-SD annual:\", round(sd_mon * 12, 4)))\n",
    "# calculate high-low illiq diff portfolio 5-1 economic importance\n",
    "diff_mon <- illiq_fac * 6.552\n",
    "print(paste0(\"Illiq 5-1 monthly:\", round(diff_mon, 4)))\n",
    "print(paste0(\"Illiq 5-1 annual:\", round(diff_mon * 12, 4)))"
   ]
  },
  {
   "cell_type": "markdown",
   "id": "de45019d",
   "metadata": {},
   "source": [
    "**From Fama-MacBeth regression above, the statistically significant average slope coefficient of 0.2125 indicates a cross-sectional relation between Illiq factor and the excess return of our portfolio in the average time period. It shows below economic importance of the relation between Illiq factor and future stock returns:**  \n",
    "* One unit increase in Illiq risk commands a premium of 0.21% per month, means one-unit increase in illiquidity should increase in expected return of **0.2125 * 12 = 2.55%** each year;\n",
    "* One standard deviation move in Illiq, is associated with an increase in monthly return of **0.2125 * 2.366 = 0.5%**, and increase in expect return of 6.03% per year;\n",
    "* The different monthly return between a portfolio of high Illiq and low Illiq stocks (portfolio 5-1) is **0.2125 * 6.552 = 1.39%**, and long high illiq stock and short low illiq stock would generate excess return of 16.71% per year.  \n",
    "\n",
    "In summary, our analysis finds statistically and economically important relations between expected returns and Illiquid factor, with Illiq being positively related to expected returns. The results is consistent with the results we found using portfolio analysis in Univariate and Bivariate sort portfolio analysis."
   ]
  },
  {
   "cell_type": "markdown",
   "id": "83c1c5ff",
   "metadata": {},
   "source": [
    "# 7. Conclusion\n",
    "\n",
    "**We used randomly chosen 250 stocks to exercise the portfolio analysis and examine the cross-sectional relations between stock future returns and various variables, including (market)Beta, Size and Illiquidity. In the univariate portfolio sort, we could not find any significant relation between market Beta and stock future returns. However, Size factor and Illiquidity factor are statistically significant, and they are negatively, positively related to stock future returns, respectively. We also perform two independent bivariate sort by Size-Beta and Size-Illiquidity sort. In Size-Beta sort, the results are similar to the previous analysis. However,when running Size-Illiquidity sort, Size effect and Illiquidity phenomenon are not significant, maybe due to the difficulty of finding stocks in the both high size and high illiquidity portfolio for independent bivariate sorting.**\n",
    "\n",
    "**We also run Fama-Macbeth regression in order to control portfolio's sensitivity to other risk factors. When examining illiquidity factor independently, there is a statistically significant and positive relation between illiquidity factor and stock future returns. The conclusion is consistent with the previous analysis. When we extended the specification to include size and beta as control variables, the coefficient of illiquidity factor did not change too much.**  \n",
    "\n",
    "**For further study, we would consider to do some delisting adjustment for Illiq factor analysis, because the most illiquid  stocks are more likely to be delisted. Also we consider sub-sampling the time periods to analysis any parameter shifting for risk factors. In this research, all factors are assume to be linear related to excess return, which also is obviously susceptible and need further research. We would also like to consider add high-frequency financial factors into our model to predict future stocks returns or portfolio dynamic hedging.**"
   ]
  },
  {
   "cell_type": "markdown",
   "id": "8ea01b5c",
   "metadata": {},
   "source": [
    "# Appendix A"
   ]
  },
  {
   "cell_type": "code",
   "execution_count": 40,
   "id": "5c14e7fc",
   "metadata": {},
   "outputs": [
    {
     "name": "stdout",
     "output_type": "stream",
     "text": [
      "[1] \"Sample stocks:\"\n"
     ]
    },
    {
     "data": {
      "text/html": [
       "<style>\n",
       ".list-inline {list-style: none; margin:0; padding: 0}\n",
       ".list-inline>li {display: inline-block}\n",
       ".list-inline>li:not(:last-child)::after {content: \"\\00b7\"; padding: 0 .5ex}\n",
       "</style>\n",
       "<ol class=list-inline><li>'F'</li><li>'CSX'</li><li>'OKE'</li><li>'DFS'</li><li>'ITW'</li><li>'MRO'</li><li>'BEN'</li><li>'VRSK'</li><li>'ACN'</li><li>'CAH'</li><li>'DVN'</li><li>'LUV'</li><li>'IT'</li><li>'CVX'</li><li>'GD'</li><li>'DRI'</li><li>'IVZ'</li><li>'JPM'</li><li>'LOW'</li><li>'FDS'</li><li>'CPRT'</li><li>'SHW'</li><li>'ADSK'</li><li>'MTB'</li><li>'GLW'</li><li>'NRG'</li><li>'GWW'</li><li>'HUM'</li><li>'REG'</li><li>'RTX'</li><li>'LNT'</li><li>'DE'</li><li>'AMT'</li><li>'TECH'</li><li>'NVDA'</li><li>'MSFT'</li><li>'RF'</li><li>'TJX'</li><li>'PG'</li><li>'ANSS'</li><li>'SJM'</li><li>'IDXX'</li><li>'NLOK'</li><li>'O'</li><li>'REGN'</li><li>'DG'</li><li>'WHR'</li><li>'GOOG'</li><li>'CMI'</li><li>'HPQ'</li><li>'CAG'</li><li>'AMGN'</li><li>'EXPE'</li><li>'DIS'</li><li>'WBA'</li><li>'DUK'</li><li>'IRM'</li><li>'AMAT'</li><li>'APH'</li><li>'J'</li><li>'AAP'</li><li>'RCL'</li><li>'KEY'</li><li>'PXD'</li><li>'HSIC'</li><li>'LVS'</li><li>'FISV'</li><li>'VRTX'</li><li>'GL'</li><li>'BIIB'</li><li>'AIZ'</li><li>'V'</li><li>'CINF'</li><li>'SBAC'</li><li>'PKG'</li><li>'INTU'</li><li>'NDSN'</li><li>'ISRG'</li><li>'L'</li><li>'LUMN'</li><li>'TRV'</li><li>'MNST'</li><li>'DOV'</li><li>'HSY'</li><li>'ADBE'</li><li>'ROST'</li><li>'CPB'</li><li>'EQIX'</li><li>'AME'</li><li>'MTCH'</li><li>'MSCI'</li><li>'ROK'</li><li>'INTC'</li><li>'TFX'</li><li>'LRCX'</li><li>'TDG'</li><li>'FCX'</li><li>'EXPD'</li><li>'YUM'</li><li>'LKQ'</li><li>'MHK'</li><li>'BLK'</li><li>'CERN'</li><li>'MA'</li><li>'PEG'</li><li>'PM'</li><li>'AFL'</li><li>'T'</li><li>'ARE'</li><li>'NDAQ'</li><li>'KIM'</li><li>'WRB'</li><li>'EMR'</li><li>'MLM'</li><li>'HRL'</li><li>'PTC'</li><li>'COO'</li><li>'MCD'</li><li>'CTSH'</li><li>'EOG'</li><li>'RL'</li><li>'CVS'</li><li>'DGX'</li><li>'ZBRA'</li><li>'ATVI'</li><li>'VLO'</li><li>'NI'</li><li>'HOLX'</li><li>'BKNG'</li><li>'RE'</li><li>'TGT'</li><li>'AOS'</li><li>'ZBH'</li><li>'EQR'</li><li>'ALGN'</li><li>'BSX'</li><li>'LDOS'</li><li>'QCOM'</li><li>'TMO'</li><li>'SNA'</li><li>'GNRC'</li><li>'PPG'</li><li>'BAC'</li><li>'CHRW'</li><li>'ROP'</li><li>'NKE'</li><li>'GE'</li><li>'DPZ'</li><li>'VFC'</li><li>'CCL'</li><li>'TXT'</li><li>'VTRS'</li><li>'STZ'</li><li>'KR'</li><li>'ORCL'</li><li>'NEM'</li><li>'WTW'</li><li>'AON'</li><li>'JCI'</li><li>'FITB'</li><li>'FE'</li><li>'AVB'</li><li>'WAT'</li><li>'COF'</li><li>'DLR'</li><li>'RMD'</li><li>'WEC'</li><li>'EW'</li><li>'RHI'</li><li>'BAX'</li><li>'UAL'</li><li>'TT'</li><li>'BLL'</li><li>'MAS'</li><li>'VZ'</li><li>'PRU'</li><li>'PFE'</li><li>'JBHT'</li><li>'FFIV'</li><li>'POOL'</li><li>'UHS'</li><li>'BWA'</li><li>'EL'</li><li>'MCK'</li><li>'PVH'</li><li>'COST'</li><li>'MCHP'</li><li>'ADP'</li><li>'PNR'</li><li>'CSCO'</li><li>'CMS'</li><li>'PHM'</li><li>'IP'</li><li>'GPN'</li><li>'TRMB'</li><li>'SEE'</li><li>'CNC'</li><li>'MTD'</li><li>'LIN'</li><li>'GOOGL'</li><li>'XRAY'</li><li>'BBWI'</li><li>'RJF'</li><li>'D'</li><li>'NFLX'</li><li>'TDY'</li><li>'TAP'</li><li>'ALL'</li><li>'MS'</li><li>'MCO'</li><li>'CF'</li><li>'CAT'</li><li>'SO'</li><li>'UAA'</li><li>'EFX'</li><li>'EMN'</li><li>'CMA'</li><li>'STT'</li><li>'TSN'</li><li>'JNJ'</li><li>'PNC'</li><li>'CBRE'</li><li>'ANTM'</li><li>'OXY'</li><li>'ABT'</li><li>'AES'</li><li>'WMB'</li><li>'APD'</li><li>'HD'</li><li>'MET'</li><li>'PPL'</li><li>'ADM'</li><li>'IEX'</li><li>'WST'</li><li>'VRSN'</li><li>'DRE'</li><li>'EVRG'</li><li>'HBAN'</li><li>'DD'</li><li>'NSC'</li><li>'OMC'</li><li>'CE'</li><li>'LYV'</li><li>'SCHW'</li><li>'ALB'</li><li>'GIS'</li><li>'AWK'</li><li>'UPS'</li><li>'BKR'</li><li>'AKAM'</li></ol>\n"
      ],
      "text/latex": [
       "\\begin{enumerate*}\n",
       "\\item 'F'\n",
       "\\item 'CSX'\n",
       "\\item 'OKE'\n",
       "\\item 'DFS'\n",
       "\\item 'ITW'\n",
       "\\item 'MRO'\n",
       "\\item 'BEN'\n",
       "\\item 'VRSK'\n",
       "\\item 'ACN'\n",
       "\\item 'CAH'\n",
       "\\item 'DVN'\n",
       "\\item 'LUV'\n",
       "\\item 'IT'\n",
       "\\item 'CVX'\n",
       "\\item 'GD'\n",
       "\\item 'DRI'\n",
       "\\item 'IVZ'\n",
       "\\item 'JPM'\n",
       "\\item 'LOW'\n",
       "\\item 'FDS'\n",
       "\\item 'CPRT'\n",
       "\\item 'SHW'\n",
       "\\item 'ADSK'\n",
       "\\item 'MTB'\n",
       "\\item 'GLW'\n",
       "\\item 'NRG'\n",
       "\\item 'GWW'\n",
       "\\item 'HUM'\n",
       "\\item 'REG'\n",
       "\\item 'RTX'\n",
       "\\item 'LNT'\n",
       "\\item 'DE'\n",
       "\\item 'AMT'\n",
       "\\item 'TECH'\n",
       "\\item 'NVDA'\n",
       "\\item 'MSFT'\n",
       "\\item 'RF'\n",
       "\\item 'TJX'\n",
       "\\item 'PG'\n",
       "\\item 'ANSS'\n",
       "\\item 'SJM'\n",
       "\\item 'IDXX'\n",
       "\\item 'NLOK'\n",
       "\\item 'O'\n",
       "\\item 'REGN'\n",
       "\\item 'DG'\n",
       "\\item 'WHR'\n",
       "\\item 'GOOG'\n",
       "\\item 'CMI'\n",
       "\\item 'HPQ'\n",
       "\\item 'CAG'\n",
       "\\item 'AMGN'\n",
       "\\item 'EXPE'\n",
       "\\item 'DIS'\n",
       "\\item 'WBA'\n",
       "\\item 'DUK'\n",
       "\\item 'IRM'\n",
       "\\item 'AMAT'\n",
       "\\item 'APH'\n",
       "\\item 'J'\n",
       "\\item 'AAP'\n",
       "\\item 'RCL'\n",
       "\\item 'KEY'\n",
       "\\item 'PXD'\n",
       "\\item 'HSIC'\n",
       "\\item 'LVS'\n",
       "\\item 'FISV'\n",
       "\\item 'VRTX'\n",
       "\\item 'GL'\n",
       "\\item 'BIIB'\n",
       "\\item 'AIZ'\n",
       "\\item 'V'\n",
       "\\item 'CINF'\n",
       "\\item 'SBAC'\n",
       "\\item 'PKG'\n",
       "\\item 'INTU'\n",
       "\\item 'NDSN'\n",
       "\\item 'ISRG'\n",
       "\\item 'L'\n",
       "\\item 'LUMN'\n",
       "\\item 'TRV'\n",
       "\\item 'MNST'\n",
       "\\item 'DOV'\n",
       "\\item 'HSY'\n",
       "\\item 'ADBE'\n",
       "\\item 'ROST'\n",
       "\\item 'CPB'\n",
       "\\item 'EQIX'\n",
       "\\item 'AME'\n",
       "\\item 'MTCH'\n",
       "\\item 'MSCI'\n",
       "\\item 'ROK'\n",
       "\\item 'INTC'\n",
       "\\item 'TFX'\n",
       "\\item 'LRCX'\n",
       "\\item 'TDG'\n",
       "\\item 'FCX'\n",
       "\\item 'EXPD'\n",
       "\\item 'YUM'\n",
       "\\item 'LKQ'\n",
       "\\item 'MHK'\n",
       "\\item 'BLK'\n",
       "\\item 'CERN'\n",
       "\\item 'MA'\n",
       "\\item 'PEG'\n",
       "\\item 'PM'\n",
       "\\item 'AFL'\n",
       "\\item 'T'\n",
       "\\item 'ARE'\n",
       "\\item 'NDAQ'\n",
       "\\item 'KIM'\n",
       "\\item 'WRB'\n",
       "\\item 'EMR'\n",
       "\\item 'MLM'\n",
       "\\item 'HRL'\n",
       "\\item 'PTC'\n",
       "\\item 'COO'\n",
       "\\item 'MCD'\n",
       "\\item 'CTSH'\n",
       "\\item 'EOG'\n",
       "\\item 'RL'\n",
       "\\item 'CVS'\n",
       "\\item 'DGX'\n",
       "\\item 'ZBRA'\n",
       "\\item 'ATVI'\n",
       "\\item 'VLO'\n",
       "\\item 'NI'\n",
       "\\item 'HOLX'\n",
       "\\item 'BKNG'\n",
       "\\item 'RE'\n",
       "\\item 'TGT'\n",
       "\\item 'AOS'\n",
       "\\item 'ZBH'\n",
       "\\item 'EQR'\n",
       "\\item 'ALGN'\n",
       "\\item 'BSX'\n",
       "\\item 'LDOS'\n",
       "\\item 'QCOM'\n",
       "\\item 'TMO'\n",
       "\\item 'SNA'\n",
       "\\item 'GNRC'\n",
       "\\item 'PPG'\n",
       "\\item 'BAC'\n",
       "\\item 'CHRW'\n",
       "\\item 'ROP'\n",
       "\\item 'NKE'\n",
       "\\item 'GE'\n",
       "\\item 'DPZ'\n",
       "\\item 'VFC'\n",
       "\\item 'CCL'\n",
       "\\item 'TXT'\n",
       "\\item 'VTRS'\n",
       "\\item 'STZ'\n",
       "\\item 'KR'\n",
       "\\item 'ORCL'\n",
       "\\item 'NEM'\n",
       "\\item 'WTW'\n",
       "\\item 'AON'\n",
       "\\item 'JCI'\n",
       "\\item 'FITB'\n",
       "\\item 'FE'\n",
       "\\item 'AVB'\n",
       "\\item 'WAT'\n",
       "\\item 'COF'\n",
       "\\item 'DLR'\n",
       "\\item 'RMD'\n",
       "\\item 'WEC'\n",
       "\\item 'EW'\n",
       "\\item 'RHI'\n",
       "\\item 'BAX'\n",
       "\\item 'UAL'\n",
       "\\item 'TT'\n",
       "\\item 'BLL'\n",
       "\\item 'MAS'\n",
       "\\item 'VZ'\n",
       "\\item 'PRU'\n",
       "\\item 'PFE'\n",
       "\\item 'JBHT'\n",
       "\\item 'FFIV'\n",
       "\\item 'POOL'\n",
       "\\item 'UHS'\n",
       "\\item 'BWA'\n",
       "\\item 'EL'\n",
       "\\item 'MCK'\n",
       "\\item 'PVH'\n",
       "\\item 'COST'\n",
       "\\item 'MCHP'\n",
       "\\item 'ADP'\n",
       "\\item 'PNR'\n",
       "\\item 'CSCO'\n",
       "\\item 'CMS'\n",
       "\\item 'PHM'\n",
       "\\item 'IP'\n",
       "\\item 'GPN'\n",
       "\\item 'TRMB'\n",
       "\\item 'SEE'\n",
       "\\item 'CNC'\n",
       "\\item 'MTD'\n",
       "\\item 'LIN'\n",
       "\\item 'GOOGL'\n",
       "\\item 'XRAY'\n",
       "\\item 'BBWI'\n",
       "\\item 'RJF'\n",
       "\\item 'D'\n",
       "\\item 'NFLX'\n",
       "\\item 'TDY'\n",
       "\\item 'TAP'\n",
       "\\item 'ALL'\n",
       "\\item 'MS'\n",
       "\\item 'MCO'\n",
       "\\item 'CF'\n",
       "\\item 'CAT'\n",
       "\\item 'SO'\n",
       "\\item 'UAA'\n",
       "\\item 'EFX'\n",
       "\\item 'EMN'\n",
       "\\item 'CMA'\n",
       "\\item 'STT'\n",
       "\\item 'TSN'\n",
       "\\item 'JNJ'\n",
       "\\item 'PNC'\n",
       "\\item 'CBRE'\n",
       "\\item 'ANTM'\n",
       "\\item 'OXY'\n",
       "\\item 'ABT'\n",
       "\\item 'AES'\n",
       "\\item 'WMB'\n",
       "\\item 'APD'\n",
       "\\item 'HD'\n",
       "\\item 'MET'\n",
       "\\item 'PPL'\n",
       "\\item 'ADM'\n",
       "\\item 'IEX'\n",
       "\\item 'WST'\n",
       "\\item 'VRSN'\n",
       "\\item 'DRE'\n",
       "\\item 'EVRG'\n",
       "\\item 'HBAN'\n",
       "\\item 'DD'\n",
       "\\item 'NSC'\n",
       "\\item 'OMC'\n",
       "\\item 'CE'\n",
       "\\item 'LYV'\n",
       "\\item 'SCHW'\n",
       "\\item 'ALB'\n",
       "\\item 'GIS'\n",
       "\\item 'AWK'\n",
       "\\item 'UPS'\n",
       "\\item 'BKR'\n",
       "\\item 'AKAM'\n",
       "\\end{enumerate*}\n"
      ],
      "text/markdown": [
       "1. 'F'\n",
       "2. 'CSX'\n",
       "3. 'OKE'\n",
       "4. 'DFS'\n",
       "5. 'ITW'\n",
       "6. 'MRO'\n",
       "7. 'BEN'\n",
       "8. 'VRSK'\n",
       "9. 'ACN'\n",
       "10. 'CAH'\n",
       "11. 'DVN'\n",
       "12. 'LUV'\n",
       "13. 'IT'\n",
       "14. 'CVX'\n",
       "15. 'GD'\n",
       "16. 'DRI'\n",
       "17. 'IVZ'\n",
       "18. 'JPM'\n",
       "19. 'LOW'\n",
       "20. 'FDS'\n",
       "21. 'CPRT'\n",
       "22. 'SHW'\n",
       "23. 'ADSK'\n",
       "24. 'MTB'\n",
       "25. 'GLW'\n",
       "26. 'NRG'\n",
       "27. 'GWW'\n",
       "28. 'HUM'\n",
       "29. 'REG'\n",
       "30. 'RTX'\n",
       "31. 'LNT'\n",
       "32. 'DE'\n",
       "33. 'AMT'\n",
       "34. 'TECH'\n",
       "35. 'NVDA'\n",
       "36. 'MSFT'\n",
       "37. 'RF'\n",
       "38. 'TJX'\n",
       "39. 'PG'\n",
       "40. 'ANSS'\n",
       "41. 'SJM'\n",
       "42. 'IDXX'\n",
       "43. 'NLOK'\n",
       "44. 'O'\n",
       "45. 'REGN'\n",
       "46. 'DG'\n",
       "47. 'WHR'\n",
       "48. 'GOOG'\n",
       "49. 'CMI'\n",
       "50. 'HPQ'\n",
       "51. 'CAG'\n",
       "52. 'AMGN'\n",
       "53. 'EXPE'\n",
       "54. 'DIS'\n",
       "55. 'WBA'\n",
       "56. 'DUK'\n",
       "57. 'IRM'\n",
       "58. 'AMAT'\n",
       "59. 'APH'\n",
       "60. 'J'\n",
       "61. 'AAP'\n",
       "62. 'RCL'\n",
       "63. 'KEY'\n",
       "64. 'PXD'\n",
       "65. 'HSIC'\n",
       "66. 'LVS'\n",
       "67. 'FISV'\n",
       "68. 'VRTX'\n",
       "69. 'GL'\n",
       "70. 'BIIB'\n",
       "71. 'AIZ'\n",
       "72. 'V'\n",
       "73. 'CINF'\n",
       "74. 'SBAC'\n",
       "75. 'PKG'\n",
       "76. 'INTU'\n",
       "77. 'NDSN'\n",
       "78. 'ISRG'\n",
       "79. 'L'\n",
       "80. 'LUMN'\n",
       "81. 'TRV'\n",
       "82. 'MNST'\n",
       "83. 'DOV'\n",
       "84. 'HSY'\n",
       "85. 'ADBE'\n",
       "86. 'ROST'\n",
       "87. 'CPB'\n",
       "88. 'EQIX'\n",
       "89. 'AME'\n",
       "90. 'MTCH'\n",
       "91. 'MSCI'\n",
       "92. 'ROK'\n",
       "93. 'INTC'\n",
       "94. 'TFX'\n",
       "95. 'LRCX'\n",
       "96. 'TDG'\n",
       "97. 'FCX'\n",
       "98. 'EXPD'\n",
       "99. 'YUM'\n",
       "100. 'LKQ'\n",
       "101. 'MHK'\n",
       "102. 'BLK'\n",
       "103. 'CERN'\n",
       "104. 'MA'\n",
       "105. 'PEG'\n",
       "106. 'PM'\n",
       "107. 'AFL'\n",
       "108. 'T'\n",
       "109. 'ARE'\n",
       "110. 'NDAQ'\n",
       "111. 'KIM'\n",
       "112. 'WRB'\n",
       "113. 'EMR'\n",
       "114. 'MLM'\n",
       "115. 'HRL'\n",
       "116. 'PTC'\n",
       "117. 'COO'\n",
       "118. 'MCD'\n",
       "119. 'CTSH'\n",
       "120. 'EOG'\n",
       "121. 'RL'\n",
       "122. 'CVS'\n",
       "123. 'DGX'\n",
       "124. 'ZBRA'\n",
       "125. 'ATVI'\n",
       "126. 'VLO'\n",
       "127. 'NI'\n",
       "128. 'HOLX'\n",
       "129. 'BKNG'\n",
       "130. 'RE'\n",
       "131. 'TGT'\n",
       "132. 'AOS'\n",
       "133. 'ZBH'\n",
       "134. 'EQR'\n",
       "135. 'ALGN'\n",
       "136. 'BSX'\n",
       "137. 'LDOS'\n",
       "138. 'QCOM'\n",
       "139. 'TMO'\n",
       "140. 'SNA'\n",
       "141. 'GNRC'\n",
       "142. 'PPG'\n",
       "143. 'BAC'\n",
       "144. 'CHRW'\n",
       "145. 'ROP'\n",
       "146. 'NKE'\n",
       "147. 'GE'\n",
       "148. 'DPZ'\n",
       "149. 'VFC'\n",
       "150. 'CCL'\n",
       "151. 'TXT'\n",
       "152. 'VTRS'\n",
       "153. 'STZ'\n",
       "154. 'KR'\n",
       "155. 'ORCL'\n",
       "156. 'NEM'\n",
       "157. 'WTW'\n",
       "158. 'AON'\n",
       "159. 'JCI'\n",
       "160. 'FITB'\n",
       "161. 'FE'\n",
       "162. 'AVB'\n",
       "163. 'WAT'\n",
       "164. 'COF'\n",
       "165. 'DLR'\n",
       "166. 'RMD'\n",
       "167. 'WEC'\n",
       "168. 'EW'\n",
       "169. 'RHI'\n",
       "170. 'BAX'\n",
       "171. 'UAL'\n",
       "172. 'TT'\n",
       "173. 'BLL'\n",
       "174. 'MAS'\n",
       "175. 'VZ'\n",
       "176. 'PRU'\n",
       "177. 'PFE'\n",
       "178. 'JBHT'\n",
       "179. 'FFIV'\n",
       "180. 'POOL'\n",
       "181. 'UHS'\n",
       "182. 'BWA'\n",
       "183. 'EL'\n",
       "184. 'MCK'\n",
       "185. 'PVH'\n",
       "186. 'COST'\n",
       "187. 'MCHP'\n",
       "188. 'ADP'\n",
       "189. 'PNR'\n",
       "190. 'CSCO'\n",
       "191. 'CMS'\n",
       "192. 'PHM'\n",
       "193. 'IP'\n",
       "194. 'GPN'\n",
       "195. 'TRMB'\n",
       "196. 'SEE'\n",
       "197. 'CNC'\n",
       "198. 'MTD'\n",
       "199. 'LIN'\n",
       "200. 'GOOGL'\n",
       "201. 'XRAY'\n",
       "202. 'BBWI'\n",
       "203. 'RJF'\n",
       "204. 'D'\n",
       "205. 'NFLX'\n",
       "206. 'TDY'\n",
       "207. 'TAP'\n",
       "208. 'ALL'\n",
       "209. 'MS'\n",
       "210. 'MCO'\n",
       "211. 'CF'\n",
       "212. 'CAT'\n",
       "213. 'SO'\n",
       "214. 'UAA'\n",
       "215. 'EFX'\n",
       "216. 'EMN'\n",
       "217. 'CMA'\n",
       "218. 'STT'\n",
       "219. 'TSN'\n",
       "220. 'JNJ'\n",
       "221. 'PNC'\n",
       "222. 'CBRE'\n",
       "223. 'ANTM'\n",
       "224. 'OXY'\n",
       "225. 'ABT'\n",
       "226. 'AES'\n",
       "227. 'WMB'\n",
       "228. 'APD'\n",
       "229. 'HD'\n",
       "230. 'MET'\n",
       "231. 'PPL'\n",
       "232. 'ADM'\n",
       "233. 'IEX'\n",
       "234. 'WST'\n",
       "235. 'VRSN'\n",
       "236. 'DRE'\n",
       "237. 'EVRG'\n",
       "238. 'HBAN'\n",
       "239. 'DD'\n",
       "240. 'NSC'\n",
       "241. 'OMC'\n",
       "242. 'CE'\n",
       "243. 'LYV'\n",
       "244. 'SCHW'\n",
       "245. 'ALB'\n",
       "246. 'GIS'\n",
       "247. 'AWK'\n",
       "248. 'UPS'\n",
       "249. 'BKR'\n",
       "250. 'AKAM'\n",
       "\n",
       "\n"
      ],
      "text/plain": [
       "  [1] \"F\"     \"CSX\"   \"OKE\"   \"DFS\"   \"ITW\"   \"MRO\"   \"BEN\"   \"VRSK\"  \"ACN\"  \n",
       " [10] \"CAH\"   \"DVN\"   \"LUV\"   \"IT\"    \"CVX\"   \"GD\"    \"DRI\"   \"IVZ\"   \"JPM\"  \n",
       " [19] \"LOW\"   \"FDS\"   \"CPRT\"  \"SHW\"   \"ADSK\"  \"MTB\"   \"GLW\"   \"NRG\"   \"GWW\"  \n",
       " [28] \"HUM\"   \"REG\"   \"RTX\"   \"LNT\"   \"DE\"    \"AMT\"   \"TECH\"  \"NVDA\"  \"MSFT\" \n",
       " [37] \"RF\"    \"TJX\"   \"PG\"    \"ANSS\"  \"SJM\"   \"IDXX\"  \"NLOK\"  \"O\"     \"REGN\" \n",
       " [46] \"DG\"    \"WHR\"   \"GOOG\"  \"CMI\"   \"HPQ\"   \"CAG\"   \"AMGN\"  \"EXPE\"  \"DIS\"  \n",
       " [55] \"WBA\"   \"DUK\"   \"IRM\"   \"AMAT\"  \"APH\"   \"J\"     \"AAP\"   \"RCL\"   \"KEY\"  \n",
       " [64] \"PXD\"   \"HSIC\"  \"LVS\"   \"FISV\"  \"VRTX\"  \"GL\"    \"BIIB\"  \"AIZ\"   \"V\"    \n",
       " [73] \"CINF\"  \"SBAC\"  \"PKG\"   \"INTU\"  \"NDSN\"  \"ISRG\"  \"L\"     \"LUMN\"  \"TRV\"  \n",
       " [82] \"MNST\"  \"DOV\"   \"HSY\"   \"ADBE\"  \"ROST\"  \"CPB\"   \"EQIX\"  \"AME\"   \"MTCH\" \n",
       " [91] \"MSCI\"  \"ROK\"   \"INTC\"  \"TFX\"   \"LRCX\"  \"TDG\"   \"FCX\"   \"EXPD\"  \"YUM\"  \n",
       "[100] \"LKQ\"   \"MHK\"   \"BLK\"   \"CERN\"  \"MA\"    \"PEG\"   \"PM\"    \"AFL\"   \"T\"    \n",
       "[109] \"ARE\"   \"NDAQ\"  \"KIM\"   \"WRB\"   \"EMR\"   \"MLM\"   \"HRL\"   \"PTC\"   \"COO\"  \n",
       "[118] \"MCD\"   \"CTSH\"  \"EOG\"   \"RL\"    \"CVS\"   \"DGX\"   \"ZBRA\"  \"ATVI\"  \"VLO\"  \n",
       "[127] \"NI\"    \"HOLX\"  \"BKNG\"  \"RE\"    \"TGT\"   \"AOS\"   \"ZBH\"   \"EQR\"   \"ALGN\" \n",
       "[136] \"BSX\"   \"LDOS\"  \"QCOM\"  \"TMO\"   \"SNA\"   \"GNRC\"  \"PPG\"   \"BAC\"   \"CHRW\" \n",
       "[145] \"ROP\"   \"NKE\"   \"GE\"    \"DPZ\"   \"VFC\"   \"CCL\"   \"TXT\"   \"VTRS\"  \"STZ\"  \n",
       "[154] \"KR\"    \"ORCL\"  \"NEM\"   \"WTW\"   \"AON\"   \"JCI\"   \"FITB\"  \"FE\"    \"AVB\"  \n",
       "[163] \"WAT\"   \"COF\"   \"DLR\"   \"RMD\"   \"WEC\"   \"EW\"    \"RHI\"   \"BAX\"   \"UAL\"  \n",
       "[172] \"TT\"    \"BLL\"   \"MAS\"   \"VZ\"    \"PRU\"   \"PFE\"   \"JBHT\"  \"FFIV\"  \"POOL\" \n",
       "[181] \"UHS\"   \"BWA\"   \"EL\"    \"MCK\"   \"PVH\"   \"COST\"  \"MCHP\"  \"ADP\"   \"PNR\"  \n",
       "[190] \"CSCO\"  \"CMS\"   \"PHM\"   \"IP\"    \"GPN\"   \"TRMB\"  \"SEE\"   \"CNC\"   \"MTD\"  \n",
       "[199] \"LIN\"   \"GOOGL\" \"XRAY\"  \"BBWI\"  \"RJF\"   \"D\"     \"NFLX\"  \"TDY\"   \"TAP\"  \n",
       "[208] \"ALL\"   \"MS\"    \"MCO\"   \"CF\"    \"CAT\"   \"SO\"    \"UAA\"   \"EFX\"   \"EMN\"  \n",
       "[217] \"CMA\"   \"STT\"   \"TSN\"   \"JNJ\"   \"PNC\"   \"CBRE\"  \"ANTM\"  \"OXY\"   \"ABT\"  \n",
       "[226] \"AES\"   \"WMB\"   \"APD\"   \"HD\"    \"MET\"   \"PPL\"   \"ADM\"   \"IEX\"   \"WST\"  \n",
       "[235] \"VRSN\"  \"DRE\"   \"EVRG\"  \"HBAN\"  \"DD\"    \"NSC\"   \"OMC\"   \"CE\"    \"LYV\"  \n",
       "[244] \"SCHW\"  \"ALB\"   \"GIS\"   \"AWK\"   \"UPS\"   \"BKR\"   \"AKAM\" "
      ]
     },
     "metadata": {},
     "output_type": "display_data"
    }
   ],
   "source": [
    "print(\"Sample stocks:\")\n",
    "p_symbols"
   ]
  }
 ],
 "metadata": {
  "kernelspec": {
   "display_name": "R",
   "language": "R",
   "name": "ir"
  },
  "language_info": {
   "codemirror_mode": "r",
   "file_extension": ".r",
   "mimetype": "text/x-r-source",
   "name": "R",
   "pygments_lexer": "r",
   "version": "4.1.2"
  }
 },
 "nbformat": 4,
 "nbformat_minor": 5
}
