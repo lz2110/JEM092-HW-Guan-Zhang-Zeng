{
 "cells": [
  {
   "cell_type": "markdown",
   "id": "9194b51e",
   "metadata": {},
   "source": [
    "# JEM092 Asset Pricing - Homework 1"
   ]
  },
  {
   "cell_type": "markdown",
   "id": "20a232b2",
   "metadata": {},
   "source": [
    "<span style='background:yellow'> **Group : 20107894**</span>\n",
    "\n",
    "Team Member:\n",
    "\n",
    "Yanqi Guan : 20107894@fsv.cuni.cz\n",
    "\n",
    "Lin Zhang : 15845542@fsv.cuni.cz\n",
    "\n",
    "Jiayi Zeng : 46566215@fsv.cuni.cz\n"
   ]
  },
  {
   "cell_type": "markdown",
   "id": "6b0a2575",
   "metadata": {},
   "source": [
    "### Task 1 - Data download (8 pts)\n",
    "In the previous step, you were assigned firms for which you will get the data. You will download \n",
    "* daily adjusted close price and volume data from www.finance.yahoo.com\n",
    "* Market Capitalization and Book Value per Share data from www.macrotrends.net\n",
    "* Sample period: 01.01.2007 - 28.02.2022 "
   ]
  },
  {
   "cell_type": "markdown",
   "id": "69aa4d38",
   "metadata": {},
   "source": [
    "##### "
   ]
  },
  {
   "cell_type": "code",
   "execution_count": 36,
   "id": "0d4620fd",
   "metadata": {},
   "outputs": [],
   "source": [
    "# Setup environment\n",
    "Sys.setenv(LANG = \"en\")\n",
    "#options(warn = -1)  # suppressing warnings\n",
    "#library(repr)\n",
    "\n",
    "# Import base packages.\n",
    "library(methods)\n",
    "# Import third-party packages.\n",
    "# portfolio packages\n",
    "library(PortfolioAnalytics)\n",
    "library(quadprog)\n",
    "library(quantmod)\n",
    "library(ROI)\n",
    "library(ROI.plugin.glpk)\n",
    "library(ROI.plugin.quadprog)\n",
    "\n",
    "options(repr.plot.width = 10, repr.plot.height = 8) # define plot size"
   ]
  },
  {
   "cell_type": "code",
   "execution_count": 37,
   "id": "39c324ad",
   "metadata": {},
   "outputs": [
    {
     "data": {
      "text/html": [
       "<table class=\"dataframe\">\n",
       "<caption>A data.frame: 6 × 2</caption>\n",
       "<thead>\n",
       "\t<tr><th></th><th scope=col>X</th><th scope=col>x</th></tr>\n",
       "\t<tr><th></th><th scope=col>&lt;chr&gt;</th><th scope=col>&lt;chr&gt;</th></tr>\n",
       "</thead>\n",
       "<tbody>\n",
       "\t<tr><th scope=row>1</th><td>1</td><td>ABT </td></tr>\n",
       "\t<tr><th scope=row>2</th><td>2</td><td>CMS </td></tr>\n",
       "\t<tr><th scope=row>3</th><td>3</td><td>PNR </td></tr>\n",
       "\t<tr><th scope=row>4</th><td>4</td><td>AVB </td></tr>\n",
       "\t<tr><th scope=row>5</th><td>5</td><td>IEX </td></tr>\n",
       "\t<tr><th scope=row>6</th><td>6</td><td>SBAC</td></tr>\n",
       "</tbody>\n",
       "</table>\n"
      ],
      "text/latex": [
       "A data.frame: 6 × 2\n",
       "\\begin{tabular}{r|ll}\n",
       "  & X & x\\\\\n",
       "  & <chr> & <chr>\\\\\n",
       "\\hline\n",
       "\t1 & 1 & ABT \\\\\n",
       "\t2 & 2 & CMS \\\\\n",
       "\t3 & 3 & PNR \\\\\n",
       "\t4 & 4 & AVB \\\\\n",
       "\t5 & 5 & IEX \\\\\n",
       "\t6 & 6 & SBAC\\\\\n",
       "\\end{tabular}\n"
      ],
      "text/markdown": [
       "\n",
       "A data.frame: 6 × 2\n",
       "\n",
       "| <!--/--> | X &lt;chr&gt; | x &lt;chr&gt; |\n",
       "|---|---|---|\n",
       "| 1 | 1 | ABT  |\n",
       "| 2 | 2 | CMS  |\n",
       "| 3 | 3 | PNR  |\n",
       "| 4 | 4 | AVB  |\n",
       "| 5 | 5 | IEX  |\n",
       "| 6 | 6 | SBAC |\n",
       "\n"
      ],
      "text/plain": [
       "  X x   \n",
       "1 1 ABT \n",
       "2 2 CMS \n",
       "3 3 PNR \n",
       "4 4 AVB \n",
       "5 5 IEX \n",
       "6 6 SBAC"
      ]
     },
     "metadata": {},
     "output_type": "display_data"
    }
   ],
   "source": [
    "# read data from file\n",
    "#smbs <- read.csv('20107894_rand_download.csv',sep = ';',colClasses = \"character\")\n",
    "smbs <- read.csv('20107894_rand_download.csv',colClasses = \"character\")\n",
    "head(smbs)"
   ]
  },
  {
   "cell_type": "code",
   "execution_count": 38,
   "id": "2a90c2e6",
   "metadata": {},
   "outputs": [
    {
     "data": {
      "text/html": [
       "<style>\n",
       ".list-inline {list-style: none; margin:0; padding: 0}\n",
       ".list-inline>li {display: inline-block}\n",
       ".list-inline>li:not(:last-child)::after {content: \"\\00b7\"; padding: 0 .5ex}\n",
       "</style>\n",
       "<ol class=list-inline><li>'ABT'</li><li>'CMS'</li><li>'PNR'</li><li>'AVB'</li><li>'IEX'</li><li>'SBAC'</li><li>'QCOM'</li><li>'BWA'</li><li>'WMB'</li><li>'DRI'</li><li>'WBA'</li><li>'VLO'</li><li>'CAT'</li><li>'NRG'</li><li>'MCK'</li><li>'STZ'</li><li>'ZBRA'</li><li>'MHK'</li><li>'LRCX'</li><li>'YUM'</li></ol>\n"
      ],
      "text/latex": [
       "\\begin{enumerate*}\n",
       "\\item 'ABT'\n",
       "\\item 'CMS'\n",
       "\\item 'PNR'\n",
       "\\item 'AVB'\n",
       "\\item 'IEX'\n",
       "\\item 'SBAC'\n",
       "\\item 'QCOM'\n",
       "\\item 'BWA'\n",
       "\\item 'WMB'\n",
       "\\item 'DRI'\n",
       "\\item 'WBA'\n",
       "\\item 'VLO'\n",
       "\\item 'CAT'\n",
       "\\item 'NRG'\n",
       "\\item 'MCK'\n",
       "\\item 'STZ'\n",
       "\\item 'ZBRA'\n",
       "\\item 'MHK'\n",
       "\\item 'LRCX'\n",
       "\\item 'YUM'\n",
       "\\end{enumerate*}\n"
      ],
      "text/markdown": [
       "1. 'ABT'\n",
       "2. 'CMS'\n",
       "3. 'PNR'\n",
       "4. 'AVB'\n",
       "5. 'IEX'\n",
       "6. 'SBAC'\n",
       "7. 'QCOM'\n",
       "8. 'BWA'\n",
       "9. 'WMB'\n",
       "10. 'DRI'\n",
       "11. 'WBA'\n",
       "12. 'VLO'\n",
       "13. 'CAT'\n",
       "14. 'NRG'\n",
       "15. 'MCK'\n",
       "16. 'STZ'\n",
       "17. 'ZBRA'\n",
       "18. 'MHK'\n",
       "19. 'LRCX'\n",
       "20. 'YUM'\n",
       "\n",
       "\n"
      ],
      "text/plain": [
       " [1] \"ABT\"  \"CMS\"  \"PNR\"  \"AVB\"  \"IEX\"  \"SBAC\" \"QCOM\" \"BWA\"  \"WMB\"  \"DRI\" \n",
       "[11] \"WBA\"  \"VLO\"  \"CAT\"  \"NRG\"  \"MCK\"  \"STZ\"  \"ZBRA\" \"MHK\"  \"LRCX\" \"YUM\" "
      ]
     },
     "metadata": {},
     "output_type": "display_data"
    }
   ],
   "source": [
    "symbols <- smbs[[2]]\n",
    "symbols"
   ]
  },
  {
   "cell_type": "code",
   "execution_count": 39,
   "id": "61d2a4ee",
   "metadata": {},
   "outputs": [],
   "source": [
    "#download data\n",
    "data <- lapply(symbols, function(y)\n",
    "{\n",
    "    try(getSymbols(y, auto.assign = FALSE,from = as.Date('2007-01-01'), to = '2022-02-28'),silent=TRUE)\n",
    "})\n"
   ]
  },
  {
   "cell_type": "code",
   "execution_count": 40,
   "id": "f01cb8ba",
   "metadata": {},
   "outputs": [],
   "source": [
    "#Assign symbols name\n",
    "names(data) <- symbols"
   ]
  },
  {
   "cell_type": "code",
   "execution_count": 71,
   "id": "1b0e19f0",
   "metadata": {},
   "outputs": [
    {
     "data": {
      "text/html": [
       "20"
      ],
      "text/latex": [
       "20"
      ],
      "text/markdown": [
       "20"
      ],
      "text/plain": [
       "[1] 20"
      ]
     },
     "metadata": {},
     "output_type": "display_data"
    },
    {
     "data": {
      "text/plain": [
       "           ABT.Adjusted\n",
       "2007-01-03     13.37988\n",
       "2007-01-04     13.63398\n",
       "2007-01-05     13.63398\n",
       "2007-01-08     13.68317\n",
       "2007-01-09     13.80339\n",
       "2007-01-10     13.93749"
      ]
     },
     "metadata": {},
     "output_type": "display_data"
    },
    {
     "data": {
      "text/plain": [
       "           ABT.Adjusted\n",
       "2022-02-17       120.58\n",
       "2022-02-18       116.79\n",
       "2022-02-22       117.51\n",
       "2022-02-23       117.25\n",
       "2022-02-24       118.72\n",
       "2022-02-25       122.41"
      ]
     },
     "metadata": {},
     "output_type": "display_data"
    }
   ],
   "source": [
    "# check if all symbols is valid\n",
    "length(data)\n",
    "# check the date range\n",
    "head(data[[1]])\n",
    "tail(data[[1]])"
   ]
  },
  {
   "cell_type": "code",
   "execution_count": 84,
   "id": "b2429518",
   "metadata": {},
   "outputs": [
    {
     "data": {
      "text/plain": [
       "$ABT\n",
       "           ABT.Open ABT.High  ABT.Low ABT.Close ABT.Volume ABT.Adjusted\n",
       "2007-01-03 23.42863 23.74530 23.39025  23.49581   11214881     13.37988\n",
       "2007-01-04 23.53899 24.10515 23.49581  23.94202   21185494     13.63398\n",
       "2007-01-05 23.94202 23.99000 23.63975  23.94202   14649854     13.63398\n",
       "2007-01-08 23.90364 24.05237 23.81727  24.02838   12734681     13.68317\n",
       "2007-01-09 24.06197 24.30667 23.99000  24.23950   16969154     13.80339\n",
       "2007-01-10 24.09556 24.20111 23.99000  24.17712   13823885     13.93749\n",
       "\n",
       "$CMS\n",
       "           CMS.Open CMS.High CMS.Low CMS.Close CMS.Volume CMS.Adjusted\n",
       "2007-01-03    16.76    16.86   16.65     16.81    2915800    10.321413\n",
       "2007-01-04    16.76    16.88   16.66     16.74    1271100    10.278436\n",
       "2007-01-05    16.65    16.69   16.42     16.47    3123700    10.112650\n",
       "2007-01-08    16.43    16.55   16.32     16.40    1250600    10.069672\n",
       "2007-01-09    16.38    16.46   16.20     16.30    5225200    10.008274\n",
       "2007-01-10    16.25    16.31   16.11     16.15    1366700     9.916171\n",
       "\n",
       "$PNR\n",
       "           PNR.Open PNR.High  PNR.Low PNR.Close PNR.Volume PNR.Adjusted\n",
       "2007-01-03 20.41639 20.86635 19.87911  20.18133    3390304     13.26939\n",
       "2007-01-04 20.11417 20.62458 19.88583  20.59772    2816295     13.54317\n",
       "2007-01-05 20.57085 20.59100 20.18133  20.24849    1139978     13.31355\n",
       "2007-01-08 20.18133 20.28878 19.84553  20.20148    1081610     13.28264\n",
       "2007-01-09 20.24849 20.32237 20.06044  20.12760    1029941     13.23406\n",
       "2007-01-10 20.06044 20.38952 20.00000  20.31565    1380303     13.35770\n",
       "\n",
       "$AVB\n",
       "           AVB.Open AVB.High AVB.Low AVB.Close AVB.Volume AVB.Adjusted\n",
       "2007-01-03   130.20   130.52  128.26    128.75     511300     75.76393\n",
       "2007-01-04   132.61   133.40  130.91    131.71    1888300     77.50577\n",
       "2007-01-05   134.61   134.61  129.95    130.21     681700     76.62311\n",
       "2007-01-08   129.95   131.95  129.75    131.80     945500     77.55876\n",
       "2007-01-09   133.35   133.79  129.25    129.38    4979800     76.13466\n",
       "2007-01-10   129.70   131.65  129.38    131.34    1360700     77.28803\n",
       "\n",
       "$IEX\n",
       "           IEX.Open IEX.High  IEX.Low IEX.Close IEX.Volume IEX.Adjusted\n",
       "2007-01-03 31.73333 32.19333 31.33333  31.57333     432450     25.11622\n",
       "2007-01-04 31.56667 31.57333 31.10667  31.32000     170400     24.91469\n",
       "2007-01-05 31.20000 31.26000 30.67333  30.74000     305850     24.45331\n",
       "2007-01-08 30.74000 30.80667 30.41333  30.80000     278700     24.50104\n",
       "2007-01-09 30.80000 31.10000 30.57333  31.04000     265200     24.69196\n",
       "2007-01-10 30.91333 31.02667 30.70000  30.92667     218400     24.68131\n",
       "\n",
       "$SBAC\n",
       "           SBAC.Open SBAC.High SBAC.Low SBAC.Close SBAC.Volume SBAC.Adjusted\n",
       "2007-01-03     27.59     28.11    27.12      27.55     1074600      27.02809\n",
       "2007-01-04     27.68     28.18    27.54      28.08      854100      27.54805\n",
       "2007-01-05     27.87     27.91    27.00      27.33     3847800      26.81226\n",
       "2007-01-08     27.30     27.60    27.00      27.27      959700      26.75340\n",
       "2007-01-09     27.40     28.33    27.40      28.05     1499100      27.51862\n",
       "2007-01-10     27.86     28.62    27.86      28.55     1159700      28.00915\n",
       "\n",
       "$QCOM\n",
       "           QCOM.Open QCOM.High QCOM.Low QCOM.Close QCOM.Volume QCOM.Adjusted\n",
       "2007-01-03     37.76     38.77    36.79      37.46    24184800      25.72680\n",
       "2007-01-04     37.79     39.40    37.40      39.15    26164600      26.88747\n",
       "2007-01-05     38.90     38.94    37.87      38.69    18403600      26.57155\n",
       "2007-01-08     38.75     38.75    38.00      38.26    13545200      26.27623\n",
       "2007-01-09     38.50     38.65    37.84      37.84    15948700      25.98779\n",
       "2007-01-10     37.65     38.56    37.59      38.55    14333700      26.47539\n",
       "\n",
       "$BWA\n",
       "           BWA.Open BWA.High BWA.Low BWA.Close BWA.Volume BWA.Adjusted\n",
       "2007-01-03  14.8175  14.9725 14.7375   14.8925    1459600     12.80949\n",
       "2007-01-04  14.8925  15.0125 14.6775   14.8150     986000     12.74283\n",
       "2007-01-05  14.5950  14.7400 14.5850   14.6500     740400     12.60091\n",
       "2007-01-08  14.6225  14.6925 14.5075   14.6750     910800     12.62241\n",
       "2007-01-09  14.6925  14.7250 14.5875   14.7175    1375200     12.65896\n",
       "2007-01-10  14.6400  14.7625 14.5250   14.7500     845200     12.68692\n",
       "\n",
       "$WMB\n",
       "           WMB.Open WMB.High  WMB.Low WMB.Close WMB.Volume WMB.Adjusted\n",
       "2007-01-03 21.29302 21.29302 20.70608  20.94249   11185599     10.32504\n",
       "2007-01-04 21.30933 21.67617 20.60825  20.88542    5996811     10.29690\n",
       "2007-01-05 20.82836 21.12998 20.73869  20.99955    5845559     10.35317\n",
       "2007-01-08 20.99955 21.38270 20.97510  21.13814    4716757     10.42150\n",
       "2007-01-09 21.04846 21.09738 20.55119  20.86912    6088322     10.28886\n",
       "2007-01-10 20.86912 20.86912 20.51858  20.64086    7153582     10.17633\n",
       "\n",
       "$DRI\n",
       "           DRI.Open DRI.High  DRI.Low DRI.Close DRI.Volume DRI.Adjusted\n",
       "2007-01-03 35.90796 36.36385 35.69343  36.04205    1729947     22.07959\n",
       "2007-01-04 36.02417 36.02417 35.39844  35.71130    2117798     21.87698\n",
       "2007-01-05 35.30905 35.52359 34.87998  34.97831    2299810     21.42794\n",
       "2007-01-08 34.91573 34.91573 34.42409  34.61181    1997651     21.20342\n",
       "2007-01-09 34.77271 35.02300 34.45985  34.72802    1825819     21.27461\n",
       "2007-01-10 34.54030 34.78165 34.36151  34.63863    1919902     21.21985\n",
       "\n",
       "$WBA\n",
       "           WBA.Open WBA.High WBA.Low WBA.Close WBA.Volume WBA.Adjusted\n",
       "2007-01-03    45.89    46.69   45.60     46.07    6294500     32.19041\n",
       "2007-01-04    45.78    46.28   45.72     46.16    3681800     32.25328\n",
       "2007-01-05    46.01    46.31   45.39     45.50    3680900     31.79212\n",
       "2007-01-08    45.37    45.74   44.93     45.69    4720800     31.92489\n",
       "2007-01-09    45.75    46.08   45.60     45.93    3792500     32.09258\n",
       "2007-01-10    45.59    45.94   45.45     45.58    3663400     31.84803\n",
       "\n",
       "$VLO\n",
       "           VLO.Open VLO.High  VLO.Low VLO.Close VLO.Volume VLO.Adjusted\n",
       "2007-01-03 46.51737 46.60878 45.31993  45.74954   15084291     28.71039\n",
       "2007-01-04 45.60329 45.60329 44.64351  44.68921   16571474     28.04496\n",
       "2007-01-05 44.68007 45.21938 44.31444  45.11883   13854635     28.31459\n",
       "2007-01-08 45.64899 46.00549 44.89031  45.12797   13070237     28.32033\n",
       "2007-01-09 44.73492 45.10055 44.29616  44.73492   14909688     28.07365\n",
       "2007-01-10 44.57039 45.32907 43.56490  44.06764   15918028     27.65491\n",
       "\n",
       "$CAT\n",
       "           CAT.Open CAT.High CAT.Low CAT.Close CAT.Volume CAT.Adjusted\n",
       "2007-01-03    61.71    62.31   60.70     61.16    6134800     40.30682\n",
       "2007-01-04    61.25    61.28   60.34     61.00    4058900     40.20138\n",
       "2007-01-05    60.77    60.92   59.95     60.22    6267100     39.68733\n",
       "2007-01-08    60.09    60.57   59.86     60.29    3942900     39.73345\n",
       "2007-01-09    60.46    60.70   60.00     60.62    3928300     39.95094\n",
       "2007-01-10    60.19    60.39   59.85     60.32    6825100     39.75323\n",
       "\n",
       "$NRG\n",
       "           NRG.Open NRG.High NRG.Low NRG.Close NRG.Volume NRG.Adjusted\n",
       "2007-01-03   28.175   28.550  27.735    27.915    6296200     23.21785\n",
       "2007-01-04   27.925   28.010  27.525    27.700    2699800     23.03902\n",
       "2007-01-05   27.740   27.835  27.215    27.255    3140400     22.66890\n",
       "2007-01-08   27.380   27.640  27.275    27.475    2733200     22.85187\n",
       "2007-01-09   27.400   27.825  27.300    27.695    2724600     23.03486\n",
       "2007-01-10   27.625   28.010  27.565    27.990    2692800     23.28022\n",
       "\n",
       "$MCK\n",
       "           MCK.Open MCK.High MCK.Low MCK.Close MCK.Volume MCK.Adjusted\n",
       "2007-01-03    50.86    51.84   50.80     51.43    2186700     45.26047\n",
       "2007-01-04    51.35    51.60   51.15     51.30    1842900     45.14607\n",
       "2007-01-05    51.30    51.68   51.05     51.31    2034600     45.15487\n",
       "2007-01-08    51.21    51.89   50.82     51.66    2231700     45.46288\n",
       "2007-01-09    51.67    51.87   51.01     51.13    2117700     44.99646\n",
       "2007-01-10    52.00    52.47   51.65     51.85    2484100     45.63009\n",
       "\n",
       "$STZ\n",
       "           STZ.Open STZ.High STZ.Low STZ.Close STZ.Volume STZ.Adjusted\n",
       "2007-01-03    28.80    29.17   28.21     28.40    2501000     25.95994\n",
       "2007-01-04    26.50    26.60   25.10     25.15    9149800     22.98917\n",
       "2007-01-05    24.76    24.92   24.07     24.41    7236300     22.31275\n",
       "2007-01-08    24.84    24.90   24.60     24.71    3062200     22.58698\n",
       "2007-01-09    24.68    24.95   24.60     24.65    1764400     22.53214\n",
       "2007-01-10    24.67    25.05   24.56     24.92    2598400     22.77894\n",
       "\n",
       "$ZBRA\n",
       "           ZBRA.Open ZBRA.High ZBRA.Low ZBRA.Close ZBRA.Volume ZBRA.Adjusted\n",
       "2007-01-03     35.00     35.11    34.45      34.88      561400         34.88\n",
       "2007-01-04     34.74     34.93    34.46      34.68      355600         34.68\n",
       "2007-01-05     34.52     34.53    33.70      34.33      645400         34.33\n",
       "2007-01-08     34.27     34.55    34.10      34.40      318300         34.40\n",
       "2007-01-09     34.11     34.40    33.95      34.34      518900         34.34\n",
       "2007-01-10     34.14     34.53    33.97      34.37      229600         34.37\n",
       "\n",
       "$MHK\n",
       "           MHK.Open MHK.High MHK.Low MHK.Close MHK.Volume MHK.Adjusted\n",
       "2007-01-03    75.46    77.24   75.15     76.10     626100        76.10\n",
       "2007-01-04    76.00    77.36   75.63     77.14     560800        77.14\n",
       "2007-01-05    77.04    77.04   75.96     76.05     498800        76.05\n",
       "2007-01-08    76.30    76.39   75.53     76.09     314300        76.09\n",
       "2007-01-09    76.20    76.46   76.05     76.30     400300        76.30\n",
       "2007-01-10    76.09    77.68   75.42     77.50     402500        77.50\n",
       "\n",
       "$LRCX\n",
       "           LRCX.Open LRCX.High LRCX.Low LRCX.Close LRCX.Volume LRCX.Adjusted\n",
       "2007-01-03     50.95     51.48    48.62      49.46     4452100      43.85798\n",
       "2007-01-04     50.10     52.37    49.95      51.92     4792900      46.03936\n",
       "2007-01-05     51.57     51.85    50.55      51.85     3231000      45.97729\n",
       "2007-01-08     51.88     52.85    51.11      51.28     3363500      45.47185\n",
       "2007-01-09     51.85     51.85    50.38      51.18     3505200      45.38317\n",
       "2007-01-10     50.81     52.91    50.39      52.70     4162300      46.73103\n",
       "\n",
       "$YUM\n",
       "           YUM.Open YUM.High  YUM.Low YUM.Close YUM.Volume YUM.Adjusted\n",
       "2007-01-03 21.11790 21.38749 20.97412  21.15744    3281369     14.49367\n",
       "2007-01-04 21.09993 21.19698 20.90582  21.09993    2364978     14.45427\n",
       "2007-01-05 21.09993 21.15744 20.90942  20.91661    2265939     14.32869\n",
       "2007-01-08 20.83034 20.98131 20.63264  20.86628    3916778     14.29421\n",
       "2007-01-09 20.86628 20.99928 20.71531  20.94536    5366200     14.34838\n",
       "2007-01-10 21.23293 21.23293 20.76923  21.14306    3688376     14.53586\n"
      ]
     },
     "metadata": {},
     "output_type": "display_data"
    }
   ],
   "source": [
    "# check all symbols get data\n",
    "lapply(data, head)"
   ]
  },
  {
   "cell_type": "code",
   "execution_count": 80,
   "id": "d01bfc09",
   "metadata": {},
   "outputs": [],
   "source": [
    "#data0 <- data # backup original data\n",
    "data <- data0 # restore data in case of wrong doing"
   ]
  },
  {
   "cell_type": "code",
   "execution_count": 81,
   "id": "9a63b9da",
   "metadata": {},
   "outputs": [
    {
     "data": {
      "text/plain": [
       "           ABT.Volume ABT.Adjusted\n",
       "2007-01-03   11214881     13.37988\n",
       "2007-01-04   21185494     13.63398\n",
       "2007-01-05   14649854     13.63398\n",
       "2007-01-08   12734681     13.68317\n",
       "2007-01-09   16969154     13.80339\n",
       "2007-01-10   13823885     13.93749"
      ]
     },
     "metadata": {},
     "output_type": "display_data"
    },
    {
     "data": {
      "text/plain": [
       "           ABT.Volume ABT.Adjusted\n",
       "2022-02-17    3688300       120.58\n",
       "2022-02-18   12376100       116.79\n",
       "2022-02-22    8372800       117.51\n",
       "2022-02-23    5184200       117.25\n",
       "2022-02-24    6252600       118.72\n",
       "2022-02-25    5837700       122.41"
      ]
     },
     "metadata": {},
     "output_type": "display_data"
    }
   ],
   "source": [
    "\n",
    "# filter for Adjusted price\n",
    "data <- lapply(names(data), function(y){\n",
    "    data[[y]] <- data[[y]][, c(paste0(y, '.Volume'),paste0(y, '.Adjusted'))]\n",
    "})\n",
    "names(data) <- names(data0)\n",
    "# check the date range\n",
    "head(data[[1]])\n",
    "tail(data[[1]])"
   ]
  },
  {
   "cell_type": "code",
   "execution_count": 82,
   "id": "db073d81",
   "metadata": {},
   "outputs": [],
   "source": [
    "data1 <- data # keep data1 for backup"
   ]
  },
  {
   "cell_type": "code",
   "execution_count": 85,
   "id": "cfe52946",
   "metadata": {},
   "outputs": [],
   "source": [
    "data <- lapply(names(data), function(y){\n",
    "    data[[y]] <- data[[y]][, paste0(y, '.Adjusted')]\n",
    "})"
   ]
  },
  {
   "cell_type": "code",
   "execution_count": 76,
   "id": "30046c95",
   "metadata": {},
   "outputs": [
    {
     "data": {
      "image/png": "[encoded data removed]",
      "text/plain": [
       "Plot with title \"SBAC.Adjusted\""
      ]
     },
     "metadata": {
      "image/png": {
       "height": 480,
       "width": 600
      }
     },
     "output_type": "display_data"
    },
    {
     "data": {
      "image/png": "[encoded data removed]",
      "text/plain": [
       "Plot with title \"VLO.Adjusted\""
      ]
     },
     "metadata": {
      "image/png": {
       "height": 480,
       "width": 600
      }
     },
     "output_type": "display_data"
    },
    {
     "data": {
      "text/html": [
       "<ol>\n",
       "\t<li>NULL</li>\n",
       "\t<li>NULL</li>\n",
       "\t<li>NULL</li>\n",
       "\t<li>NULL</li>\n",
       "\t<li>NULL</li>\n",
       "\t<li>NULL</li>\n",
       "\t<li>NULL</li>\n",
       "\t<li>NULL</li>\n",
       "\t<li>NULL</li>\n",
       "\t<li>NULL</li>\n",
       "\t<li>NULL</li>\n",
       "\t<li>NULL</li>\n",
       "\t<li>NULL</li>\n",
       "\t<li>NULL</li>\n",
       "\t<li>NULL</li>\n",
       "\t<li>NULL</li>\n",
       "\t<li>NULL</li>\n",
       "\t<li>NULL</li>\n",
       "\t<li>NULL</li>\n",
       "\t<li>NULL</li>\n",
       "</ol>\n"
      ],
      "text/latex": [
       "\\begin{enumerate}\n",
       "\\item NULL\n",
       "\\item NULL\n",
       "\\item NULL\n",
       "\\item NULL\n",
       "\\item NULL\n",
       "\\item NULL\n",
       "\\item NULL\n",
       "\\item NULL\n",
       "\\item NULL\n",
       "\\item NULL\n",
       "\\item NULL\n",
       "\\item NULL\n",
       "\\item NULL\n",
       "\\item NULL\n",
       "\\item NULL\n",
       "\\item NULL\n",
       "\\item NULL\n",
       "\\item NULL\n",
       "\\item NULL\n",
       "\\item NULL\n",
       "\\end{enumerate}\n"
      ],
      "text/markdown": [
       "1. NULL\n",
       "2. NULL\n",
       "3. NULL\n",
       "4. NULL\n",
       "5. NULL\n",
       "6. NULL\n",
       "7. NULL\n",
       "8. NULL\n",
       "9. NULL\n",
       "10. NULL\n",
       "11. NULL\n",
       "12. NULL\n",
       "13. NULL\n",
       "14. NULL\n",
       "15. NULL\n",
       "16. NULL\n",
       "17. NULL\n",
       "18. NULL\n",
       "19. NULL\n",
       "20. NULL\n",
       "\n",
       "\n"
      ],
      "text/plain": [
       "[[1]]\n",
       "NULL\n",
       "\n",
       "[[2]]\n",
       "NULL\n",
       "\n",
       "[[3]]\n",
       "NULL\n",
       "\n",
       "[[4]]\n",
       "NULL\n",
       "\n",
       "[[5]]\n",
       "NULL\n",
       "\n",
       "[[6]]\n",
       "NULL\n",
       "\n",
       "[[7]]\n",
       "NULL\n",
       "\n",
       "[[8]]\n",
       "NULL\n",
       "\n",
       "[[9]]\n",
       "NULL\n",
       "\n",
       "[[10]]\n",
       "NULL\n",
       "\n",
       "[[11]]\n",
       "NULL\n",
       "\n",
       "[[12]]\n",
       "NULL\n",
       "\n",
       "[[13]]\n",
       "NULL\n",
       "\n",
       "[[14]]\n",
       "NULL\n",
       "\n",
       "[[15]]\n",
       "NULL\n",
       "\n",
       "[[16]]\n",
       "NULL\n",
       "\n",
       "[[17]]\n",
       "NULL\n",
       "\n",
       "[[18]]\n",
       "NULL\n",
       "\n",
       "[[19]]\n",
       "NULL\n",
       "\n",
       "[[20]]\n",
       "NULL\n"
      ]
     },
     "metadata": {},
     "output_type": "display_data"
    },
    {
     "data": {
      "image/png": "[encoded data removed]",
      "text/plain": [
       "Plot with title \"MHK.Adjusted\""
      ]
     },
     "metadata": {
      "image/png": {
       "height": 480,
       "width": 600
      }
     },
     "output_type": "display_data"
    },
    {
     "data": {
      "image/png": "[encoded data removed]",
      "text/plain": [
       "Plot with title \"YUM.Adjusted\""
      ]
     },
     "metadata": {
      "image/png": {
       "height": 480,
       "width": 600
      }
     },
     "output_type": "display_data"
    }
   ],
   "source": [
    "par(mfrow = c(2, 3))\n",
    "sapply(data, function(y){\n",
    "    plot(as.Date(index(y)), y, type = 'l', main = names(y), xlab = 'Year',\n",
    "     ylab = 'returns' )\n",
    "})\n",
    "\n"
   ]
  },
  {
   "cell_type": "code",
   "execution_count": null,
   "id": "64c457bd",
   "metadata": {},
   "outputs": [],
   "source": []
  }
 ],
 "metadata": {
  "kernelspec": {
   "display_name": "R",
   "language": "R",
   "name": "ir"
  },
  "language_info": {
   "codemirror_mode": "r",
   "file_extension": ".r",
   "mimetype": "text/x-r-source",
   "name": "R",
   "pygments_lexer": "r",
   "version": "4.1.2"
  }
 },
 "nbformat": 4,
 "nbformat_minor": 5
}
