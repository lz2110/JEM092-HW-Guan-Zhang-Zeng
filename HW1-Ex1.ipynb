{
 "cells": [
  {
   "cell_type": "markdown",
   "id": "9194b51e",
   "metadata": {},
   "source": [
    "# JEM092 Asset Pricing - Homework 1"
   ]
  },
  {
   "cell_type": "markdown",
   "id": "20a232b2",
   "metadata": {},
   "source": [
    "<span style='background:yellow'> **Group : 20107894**</span>\n",
    "\n",
    "Team Member:\n",
    "\n",
    "Yanqi Guan : 20107894@fsv.cuni.cz\n",
    "\n",
    "Lin Zhang : 15845542@fsv.cuni.cz\n",
    "\n",
    "Jiayi Zeng : 46566215@fsv.cuni.cz\n"
   ]
  },
  {
   "cell_type": "markdown",
   "id": "6b0a2575",
   "metadata": {},
   "source": [
    "### Task 1 - Data download (8 pts)\n",
    "In the previous step, you were assigned firms for which you will get the data. You will download \n",
    "* daily adjusted close price and volume data from www.finance.yahoo.com\n",
    "* Market Capitalization and Book Value per Share data from www.macrotrends.net\n",
    "* Sample period: 01.01.2007 - 28.02.2022 "
   ]
  },
  {
   "cell_type": "markdown",
   "id": "69aa4d38",
   "metadata": {},
   "source": [
    "##### "
   ]
  },
  {
   "cell_type": "markdown",
   "id": "1db96240",
   "metadata": {},
   "source": [
    "### (1). Read stock Symbols"
   ]
  },
  {
   "cell_type": "code",
   "execution_count": null,
   "id": "0d4620fd",
   "metadata": {},
   "outputs": [],
   "source": [
    "# Setup environment\n",
    "Sys.setenv(LANG = \"en\")\n",
    "#options(warn = -1)  # suppressing warnings\n",
    "\n",
    "if (!require(quantmod)) install.packages('quantmod')\n",
    "if (!require(httr)) install.packages('httr')\n",
    "if (!require(rvest)) install.packages('rvest')\n",
    "if (!require(jsonlite)) install.packages('jsonlite')\n",
    "\n",
    "\n",
    "library(quantmod)\n",
    "library(httr)\n",
    "library(rvest)\n",
    "library(jsonlite)\n"
   ]
  },
  {
   "cell_type": "code",
   "execution_count": null,
   "id": "39c324ad",
   "metadata": {},
   "outputs": [],
   "source": [
    "# read data from file\n",
    "smbs <- read.csv('20107894_rand_download.csv',colClasses = \"character\")\n",
    "head(smbs)\n",
    "symbols <- smbs[[2]]\n",
    "symbols"
   ]
  },
  {
   "cell_type": "markdown",
   "id": "a8ab244f",
   "metadata": {},
   "source": [
    "### (2). Download Trading Data"
   ]
  },
  {
   "cell_type": "code",
   "execution_count": null,
   "id": "61d2a4ee",
   "metadata": {},
   "outputs": [],
   "source": [
    "#download data\n",
    "data <- lapply(symbols, function(y)\n",
    "{\n",
    "    try(getSymbols(y, auto.assign = FALSE,from = as.Date('2007-01-01'), to = '2022-02-28'),silent=TRUE)\n",
    "})\n",
    "\n",
    "#Assign symbols name\n",
    "names(data) <- symbols\n",
    "\n",
    "# check if all symbols is valid\n",
    "length(data)\n",
    "# check the date range\n",
    "head(data[[1]])\n",
    "tail(data[[1]])"
   ]
  },
  {
   "cell_type": "code",
   "execution_count": null,
   "id": "b2429518",
   "metadata": {},
   "outputs": [],
   "source": [
    "# check all symbols get data\n",
    "lapply(data, head)"
   ]
  },
  {
   "cell_type": "code",
   "execution_count": null,
   "id": "d01bfc09",
   "metadata": {},
   "outputs": [],
   "source": [
    "OHLCV <- data\n",
    "#save(OHLCV, file = \"1-price.RData\")"
   ]
  },
  {
   "cell_type": "markdown",
   "id": "c15df449",
   "metadata": {},
   "source": [
    "### (3). Download Book Value Data"
   ]
  },
  {
   "cell_type": "code",
   "execution_count": null,
   "id": "57c9bbf3",
   "metadata": {},
   "outputs": [],
   "source": [
    "r1 <- GET(\"https://www.macrotrends.net/stocks/charts/MSFT\")\n",
    "r1[[1]]"
   ]
  },
  {
   "cell_type": "code",
   "execution_count": null,
   "id": "e842b49b",
   "metadata": {},
   "outputs": [],
   "source": [
    "t_link <- \"https://www.macrotrends.net/stocks/charts/AAPL/apple/price-book\"\n",
    "t_table <- read_html(t_link) %>% \n",
    "    html_table(header = TRUE, fill = TRUE )\n",
    "head(t_table[[1]])\n",
    "tail(t_table[[1]])"
   ]
  },
  {
   "cell_type": "code",
   "execution_count": null,
   "id": "91ea3d52",
   "metadata": {},
   "outputs": [],
   "source": [
    "#save(book_value, file = \"2-PB.RData\")"
   ]
  },
  {
   "cell_type": "markdown",
   "id": "625b9f4d",
   "metadata": {},
   "source": [
    "### (4). Download Market Cap Data"
   ]
  },
  {
   "cell_type": "code",
   "execution_count": null,
   "id": "c8e6b509",
   "metadata": {},
   "outputs": [],
   "source": [
    "t_link <- \"https://www.macrotrends.net/assets/php/market_cap.php?t=AAPL\"\n",
    "t_page <- read_html(t_link)\n",
    "t_page"
   ]
  },
  {
   "cell_type": "code",
   "execution_count": null,
   "id": "b0d60735",
   "metadata": {},
   "outputs": [],
   "source": [
    "body_node <- t_page %>% \n",
    "    html_node('body') %>%\n",
    "        html_children()  %>%  \n",
    "            html_text()\n",
    "body_node"
   ]
  },
  {
   "cell_type": "code",
   "execution_count": null,
   "id": "0849d62d",
   "metadata": {},
   "outputs": [],
   "source": []
  }
 ],
 "metadata": {
  "kernelspec": {
   "display_name": "R",
   "language": "R",
   "name": "ir"
  },
  "language_info": {
   "codemirror_mode": "r",
   "file_extension": ".r",
   "mimetype": "text/x-r-source",
   "name": "R",
   "pygments_lexer": "r",
   "version": "4.1.2"
  }
 },
 "nbformat": 4,
 "nbformat_minor": 5
}
