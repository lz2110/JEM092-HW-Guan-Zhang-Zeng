{
 "cells": [
  {
   "cell_type": "markdown",
   "id": "9194b51e",
   "metadata": {},
   "source": [
    "# JEM092 Asset Pricing - Homework 1"
   ]
  },
  {
   "cell_type": "markdown",
   "id": "20a232b2",
   "metadata": {},
   "source": [
    "<span style='background:yellow'> **Group : 20107894**</span>\n",
    "\n",
    "Team Member:\n",
    "\n",
    "Yanqi Guan : 20107894@fsv.cuni.cz\n",
    "\n",
    "Lin Zhang : 15845542@fsv.cuni.cz\n",
    "\n",
    "Jiayi Zeng : 46566215@fsv.cuni.cz\n"
   ]
  },
  {
   "cell_type": "markdown",
   "id": "6b0a2575",
   "metadata": {},
   "source": [
    "### Task 1 - Data download (8 pts)\n",
    "In the previous step, you were assigned firms for which you will get the data. You will download \n",
    "* daily adjusted close price and volume data from www.finance.yahoo.com\n",
    "* Market Capitalization and Book Value per Share data from www.macrotrends.net\n",
    "* Sample period: 01.01.2007 - 28.02.2022 "
   ]
  },
  {
   "cell_type": "code",
   "execution_count": 13,
   "id": "0d4620fd",
   "metadata": {},
   "outputs": [
    {
     "data": {
      "text/html": [
       "'English_United States.1252'"
      ],
      "text/latex": [
       "'English\\_United States.1252'"
      ],
      "text/markdown": [
       "'English_United States.1252'"
      ],
      "text/plain": [
       "[1] \"English_United States.1252\""
      ]
     },
     "metadata": {},
     "output_type": "display_data"
    }
   ],
   "source": [
    "# Setup environment\n",
    "Sys.setenv(LANG = \"en\")\n",
    "Sys.setlocale(\"LC_TIME\", \"English\")\n",
    "#options(warn = -1)  # suppressing warnings\n",
    "\n",
    "if (!require(quantmod)) install.packages('quantmod')\n",
    "if (!require(httr)) install.packages('httr')\n",
    "if (!require(rvest)) install.packages('rvest')\n",
    "if (!require(jsonlite)) install.packages('jsonlite')\n",
    "\n",
    "\n",
    "library(quantmod)\n",
    "library(httr)\n",
    "library(rvest)\n",
    "library(jsonlite)\n",
    "library(PortfolioAnalytics)\n",
    "#library(quadprog)\n",
    "library(ROI)\n",
    "#library(ROI.plugin.glpk)\n",
    "#library(ROI.plugin.quadprog)\n"
   ]
  },
  {
   "cell_type": "markdown",
   "id": "37abe5c1",
   "metadata": {},
   "source": [
    "**Task 2 - Markowitz portfolio (4 pts)**  \n",
    "Using the data of the 20 stocks illustrate the portfolio performance by forming an efficient frontier. For the analysis, use either\n",
    "\n",
    "20 random stocks from the data you have downloaded, i.e. stocks from \"group_number_rand_download.csv\" file\n",
    "20 random stocks from the seminar, i.e. stocks from \"group_number_rand_seminar.csv\" file\n",
    "choose this option in case you were not able to download data in Task 1\n",
    "In this task, you will form 2 portfolios\n",
    "\n",
    "portfolio A will consist of stocks 1 to 10\n",
    "portfolio B will consist of stocks 11 to 20\n",
    "Using the adjusted close price construct (and plot in the single figure) global minimum variance portfolio and the efficient frontier of both portfolio A and B. Since we will be working with monthly returns later in the course, use the monthly returns from the period 2015-2022 as the input for the task. Comment the important features of the figure, e.g. which portfolio will you choose? Why? Which stock(s) is driving the shape of the frontier? etc."
   ]
  },
  {
   "cell_type": "markdown",
   "id": "574adf9b",
   "metadata": {},
   "source": [
    "**(1). Reload data from Task 1**"
   ]
  },
  {
   "cell_type": "code",
   "execution_count": 2,
   "id": "2a30321d",
   "metadata": {},
   "outputs": [],
   "source": [
    "load(\"1-price.RData\")"
   ]
  },
  {
   "cell_type": "code",
   "execution_count": 3,
   "id": "7482801a",
   "metadata": {},
   "outputs": [
    {
     "data": {
      "text/html": [
       "<style>\n",
       ".list-inline {list-style: none; margin:0; padding: 0}\n",
       ".list-inline>li {display: inline-block}\n",
       ".list-inline>li:not(:last-child)::after {content: \"\\00b7\"; padding: 0 .5ex}\n",
       "</style>\n",
       "<ol class=list-inline><li>'ABT'</li><li>'CMS'</li><li>'PNR'</li><li>'AVB'</li><li>'IEX'</li><li>'SBAC'</li><li>'QCOM'</li><li>'BWA'</li><li>'WMB'</li><li>'DRI'</li><li>'WBA'</li><li>'VLO'</li><li>'CAT'</li><li>'NRG'</li><li>'MCK'</li><li>'STZ'</li><li>'ZBRA'</li><li>'MHK'</li><li>'LRCX'</li><li>'YUM'</li></ol>\n"
      ],
      "text/latex": [
       "\\begin{enumerate*}\n",
       "\\item 'ABT'\n",
       "\\item 'CMS'\n",
       "\\item 'PNR'\n",
       "\\item 'AVB'\n",
       "\\item 'IEX'\n",
       "\\item 'SBAC'\n",
       "\\item 'QCOM'\n",
       "\\item 'BWA'\n",
       "\\item 'WMB'\n",
       "\\item 'DRI'\n",
       "\\item 'WBA'\n",
       "\\item 'VLO'\n",
       "\\item 'CAT'\n",
       "\\item 'NRG'\n",
       "\\item 'MCK'\n",
       "\\item 'STZ'\n",
       "\\item 'ZBRA'\n",
       "\\item 'MHK'\n",
       "\\item 'LRCX'\n",
       "\\item 'YUM'\n",
       "\\end{enumerate*}\n"
      ],
      "text/markdown": [
       "1. 'ABT'\n",
       "2. 'CMS'\n",
       "3. 'PNR'\n",
       "4. 'AVB'\n",
       "5. 'IEX'\n",
       "6. 'SBAC'\n",
       "7. 'QCOM'\n",
       "8. 'BWA'\n",
       "9. 'WMB'\n",
       "10. 'DRI'\n",
       "11. 'WBA'\n",
       "12. 'VLO'\n",
       "13. 'CAT'\n",
       "14. 'NRG'\n",
       "15. 'MCK'\n",
       "16. 'STZ'\n",
       "17. 'ZBRA'\n",
       "18. 'MHK'\n",
       "19. 'LRCX'\n",
       "20. 'YUM'\n",
       "\n",
       "\n"
      ],
      "text/plain": [
       " [1] \"ABT\"  \"CMS\"  \"PNR\"  \"AVB\"  \"IEX\"  \"SBAC\" \"QCOM\" \"BWA\"  \"WMB\"  \"DRI\" \n",
       "[11] \"WBA\"  \"VLO\"  \"CAT\"  \"NRG\"  \"MCK\"  \"STZ\"  \"ZBRA\" \"MHK\"  \"LRCX\" \"YUM\" "
      ]
     },
     "metadata": {},
     "output_type": "display_data"
    }
   ],
   "source": [
    "symb <- attributes(OHLCV)$names\n",
    "symb"
   ]
  },
  {
   "cell_type": "markdown",
   "id": "17ff6966",
   "metadata": {},
   "source": [
    "**(2). Set Date Range**"
   ]
  },
  {
   "cell_type": "code",
   "execution_count": 14,
   "id": "af175d20",
   "metadata": {},
   "outputs": [
    {
     "data": {
      "text/plain": [
       "           ABT.Open ABT.High ABT.Low ABT.Close ABT.Volume ABT.Adjusted\n",
       "2015-01-02    45.25    45.45   44.64     44.90    3216600     39.11632\n",
       "2015-01-05    44.80    45.40   44.63     44.91    5735900     39.12504\n",
       "2015-01-06    44.99    45.11   43.93     44.40    6584300     38.68072\n",
       "2015-01-07    44.73    44.94   44.38     44.76    4609500     38.99435\n",
       "2015-01-08    45.19    45.79   45.01     45.68    4883000     39.79584\n",
       "2015-01-09    45.75    45.87   45.11     45.20    4742200     39.37768"
      ]
     },
     "metadata": {},
     "output_type": "display_data"
    },
    {
     "data": {
      "text/plain": [
       "           ABT.Open ABT.High ABT.Low ABT.Close ABT.Volume ABT.Adjusted\n",
       "2022-02-17   122.99   123.18  120.47    120.58    3688300       120.58\n",
       "2022-02-18   120.00   120.31  114.84    116.79   12376100       116.79\n",
       "2022-02-22   116.54   119.33  116.10    117.51    8372800       117.51\n",
       "2022-02-23   118.00   118.84  116.99    117.25    5184200       117.25\n",
       "2022-02-24   115.00   118.92  114.43    118.72    6252600       118.72\n",
       "2022-02-25   118.72   122.93  118.50    122.41    5837700       122.41"
      ]
     },
     "metadata": {},
     "output_type": "display_data"
    }
   ],
   "source": [
    "# Function of set date range for xts\n",
    "setRange <- function(xts_in, date_in){    \n",
    "    return (xts_in[index(xts_in) > date_in])\n",
    "}\n",
    "\n",
    "# Call the function and output updated links\n",
    "OHLCV_2015 <- lapply(OHLCV, setRange, as.Date(\"2015-01-01\"))\n",
    "head(OHLCV_2015[[1]])\n",
    "tail(OHLCV_2015[[1]])"
   ]
  },
  {
   "cell_type": "markdown",
   "id": "1ad2b0f1",
   "metadata": {},
   "source": [
    "**(3). filter for adjusted close price.**"
   ]
  },
  {
   "cell_type": "code",
   "execution_count": 15,
   "id": "87b4bf03",
   "metadata": {},
   "outputs": [
    {
     "data": {
      "text/plain": [
       "           ABT.Adjusted\n",
       "2015-01-02     39.11632\n",
       "2015-01-05     39.12504\n",
       "2015-01-06     38.68072\n",
       "2015-01-07     38.99435\n",
       "2015-01-08     39.79584\n",
       "2015-01-09     39.37768"
      ]
     },
     "metadata": {},
     "output_type": "display_data"
    }
   ],
   "source": [
    "# only need the adjusted closing price for return\n",
    "\n",
    "OHLCV_p <- lapply(names(OHLCV_2015), function(y){\n",
    "    OHLCV_2015[[y]] <- OHLCV_2015[[y]][, paste0(y, '.Adjusted')]\n",
    "})\n",
    "names(OHLCV_p) <- names(OHLCV_2015)\n",
    "\n",
    "# check columns\n",
    "head(OHLCV_p[[1]])\n"
   ]
  },
  {
   "cell_type": "markdown",
   "id": "4f9db9ff",
   "metadata": {},
   "source": [
    "**(4). Set monthly data**\n"
   ]
  },
  {
   "cell_type": "code",
   "execution_count": 6,
   "id": "0d1254ba",
   "metadata": {},
   "outputs": [
    {
     "data": {
      "text/plain": [
       "               Open     High      Low    Close\n",
       "2015-01-30 39.11632 39.79584 38.01843 39.20076\n",
       "2015-02-27 39.61239 41.69679 38.99057 41.48660\n",
       "2015-03-31 41.35523 41.88948 40.43564 40.57578\n",
       "2015-04-30 40.19042 42.65836 40.19042 40.86259\n",
       "2015-05-29 41.10026 43.43301 40.93300 42.78160\n",
       "2015-06-30 43.08089 44.04040 42.31505 43.20414"
      ]
     },
     "metadata": {},
     "output_type": "display_data"
    }
   ],
   "source": [
    "# Call to.period function\n",
    "OHLCV_m <- lapply(OHLCV_p,to.period, period = 'months',name=NULL)\n",
    "\n",
    "head(OHLCV_m[[1]])\n"
   ]
  },
  {
   "cell_type": "markdown",
   "id": "b3234a1e",
   "metadata": {},
   "source": [
    "**(5). calculate monthly return**\n",
    "$$r_{i,t}=\\frac{P_{i,t}-P_{i,t-1}}{P_{i,t-1}}$$"
   ]
  },
  {
   "cell_type": "code",
   "execution_count": 7,
   "id": "c3105525",
   "metadata": {},
   "outputs": [
    {
     "data": {
      "text/plain": [
       "                  Close\n",
       "2015-02-27  0.058310879\n",
       "2015-03-31 -0.021954465\n",
       "2015-04-30  0.007068453\n",
       "2015-05-29  0.046962714\n",
       "2015-06-30  0.009876464\n",
       "2015-07-31  0.037791636"
      ]
     },
     "metadata": {},
     "output_type": "display_data"
    }
   ],
   "source": [
    "# Selected Close Price\n",
    "OHLCV_c <- lapply(names(OHLCV_m), function(y){\n",
    "    OHLCV_m[[y]] <- OHLCV_m[[y]][, 'Close']\n",
    "})\n",
    "names(OHLCV_c) <- names(OHLCV_m)\n",
    "\n",
    "# compute simple returns\n",
    "rets <- lapply(OHLCV_c, function(y){\n",
    "  y <- na.omit(diff(y)/lag(y))\n",
    "})\n",
    "\n",
    "head(rets[[1]])\n"
   ]
  },
  {
   "cell_type": "markdown",
   "id": "01ba5713",
   "metadata": {},
   "source": [
    "**(6). Create Portflio data**"
   ]
  },
  {
   "cell_type": "code",
   "execution_count": 8,
   "id": "bbdd2eac",
   "metadata": {},
   "outputs": [
    {
     "data": {
      "text/plain": [
       "                    ABT          CMS          PNR         AVB         IEX\n",
       "2015-02-27  0.058310879 -0.061719871  0.075392752 -0.02688009  0.06786460\n",
       "2015-03-31 -0.021954465 -0.006262268 -0.053859286  0.04251317 -0.01850881\n",
       "2015-04-30  0.007068453 -0.028072305 -0.004084143 -0.05687229 -0.00667383\n",
       "2015-05-29  0.046962714  0.014949332  0.030249307  0.01314363  0.02999607\n",
       "2015-06-30  0.009876464 -0.067369710  0.073715802 -0.03233003  0.01708506\n",
       "2015-07-31  0.037791636  0.076005059 -0.108595747  0.07800045 -0.02847639\n",
       "                  SBAC        QCOM         BWA          WMB         DRI\n",
       "2015-02-27  0.06863755  0.16090283  0.14033628  0.118102999  0.04268509\n",
       "2015-03-31 -0.06102162 -0.03814672 -0.01594513  0.044307743  0.08343749\n",
       "2015-04-30 -0.01093084 -0.01932483 -0.02116415  0.011859923 -0.07170884\n",
       "2015-05-29 -0.03462270  0.02470579  0.01822501 -0.001758143  0.02775591\n",
       "2015-06-30  0.02826243 -0.09494222 -0.05502928  0.137018620  0.08452844\n",
       "2015-07-31  0.05001286  0.02810133 -0.12543974 -0.085555219  0.04663579\n",
       "                   WBA         VLO          CAT          NRG         MCK\n",
       "2015-02-27  0.13128353  0.17517216  0.036639009 -0.027575148  0.07660140\n",
       "2015-03-31  0.01925845  0.03128541 -0.034619931  0.050458841 -0.01093135\n",
       "2015-04-30 -0.02066584 -0.10562705  0.094590323  0.007689913 -0.01237858\n",
       "2015-05-29  0.03915033  0.04822048 -0.017956001 -0.001584487  0.06190723\n",
       "2015-06-30 -0.01630910  0.05671853 -0.005860185 -0.092063602 -0.05139394\n",
       "2015-07-31  0.14436278  0.05449024 -0.064418275 -0.012283799 -0.01886029\n",
       "                    STZ         ZBRA          MHK        LRCX           YUM\n",
       "2015-02-27  0.038660157  0.090941818  0.117002023  0.07875411  0.1221637057\n",
       "2015-03-31  0.012988307 -0.003624404  0.007594217 -0.14627619 -0.0294661417\n",
       "2015-04-30 -0.002323462  0.014991193 -0.065948856  0.07602485  0.0999845708\n",
       "2015-05-29  0.019542656  0.190703699  0.075734865  0.08825068  0.0482783458\n",
       "2015-06-30 -0.015862244  0.012860307  0.022824663 -0.00737296 -0.0003331617\n",
       "2015-07-31  0.034476729 -0.030796992  0.055997917 -0.05507060 -0.0196770456"
      ]
     },
     "metadata": {},
     "output_type": "display_data"
    }
   ],
   "source": [
    "# n_list is the whole 20 stocks portfolio\n",
    "n_list <- do.call(merge, rets)\n",
    "colnames(n_list) <- names(rets)\n",
    "\n",
    "head(n_list)"
   ]
  },
  {
   "cell_type": "markdown",
   "id": "57c8305c",
   "metadata": {},
   "source": [
    "**(7). Obtain Global Minimum Variance Portlio**"
   ]
  },
  {
   "cell_type": "code",
   "execution_count": 9,
   "id": "161e559a",
   "metadata": {},
   "outputs": [
    {
     "name": "stdout",
     "output_type": "stream",
     "text": [
      "***********************************\n",
      "PortfolioAnalytics Optimization\n",
      "***********************************\n",
      "\n",
      "Call:\n",
      "optimize.portfolio(R = returns, portfolio = minvar, optimize_method = \"ROI\", \n",
      "    trace = TRUE)\n",
      "\n",
      "Optimal Weights:\n",
      "    ABT     CMS     PNR     AVB     IEX    SBAC    QCOM     BWA     WMB     DRI \n",
      " 0.1478  0.5610 -0.0325  0.0236  0.0482  0.0437  0.0256  0.0198  0.1243  0.0285 \n",
      "\n",
      "Objective Measure:\n",
      " StdDev \n",
      "0.03524 \n",
      "\n",
      "\n",
      "\n"
     ]
    }
   ],
   "source": [
    "# Create the portfolio 1 as the first 10 stocks.\n",
    "returns <- n_list[, 1:10]\n",
    "funds <- colnames(returns)\n",
    "\n",
    "# Create an initial portfolio object with leverage and box constraints.\n",
    "initial_portfolio <- portfolio.spec(assets = funds)\n",
    "initial_portfolio <- add.constraint(\n",
    "    portfolio = initial_portfolio,\n",
    "    type = \"leverage\",\n",
    "    min_sum = 0.99,\n",
    "    max_sum = 1.01\n",
    ")\n",
    "\n",
    "# Obtain optimized portfolio by optimize.portfolio function\n",
    "minvar <- add.objective(portfolio = initial_portfolio, type = \"risk\", name = \"var\")\n",
    "opt_minvar <- optimize.portfolio(\n",
    "    R = returns,\n",
    "    portfolio = minvar,\n",
    "    optimize_method = \"ROI\",\n",
    "    trace = TRUE\n",
    ")\n",
    "\n",
    "print(opt_minvar)"
   ]
  },
  {
   "cell_type": "markdown",
   "id": "df96f16b",
   "metadata": {},
   "source": [
    "**(8). Analysis portfolio 1**\n"
   ]
  },
  {
   "cell_type": "code",
   "execution_count": 10,
   "id": "2993040a",
   "metadata": {},
   "outputs": [
    {
     "data": {
      "image/png": "[encoded data removed]",
      "text/plain": [
       "Plot with title \"\""
      ]
     },
     "metadata": {
      "image/png": {
       "height": 420,
       "width": 420
      }
     },
     "output_type": "display_data"
    }
   ],
   "source": [
    "# Show each stock analsis in plot\n",
    "plot(\n",
    "    opt_minvar,\n",
    "    risk.col = \"StdDev\",\n",
    "    return.col = \"mean\",\n",
    "    main = \"Minimum Variance Optimization\",\n",
    "    chart.assets = TRUE,\n",
    "    xlim = c(0.03, 0.12),\n",
    "    ylim = c(0, 0.025)\n",
    ")\n"
   ]
  },
  {
   "cell_type": "markdown",
   "id": "305a4c90",
   "metadata": {},
   "source": [
    "**(9). Draw Efficient frontier**"
   ]
  },
  {
   "cell_type": "code",
   "execution_count": 11,
   "id": "75e79aaa",
   "metadata": {},
   "outputs": [
    {
     "name": "stderr",
     "output_type": "stream",
     "text": [
      "Warning message in maxret_opt(R = R, constraints = constraints, moments = moments, :\n",
      "\"Inf or -Inf values detected in box constraints, maximum return \n",
      "            objectives must have finite box constraint values.\"\n",
      "Warning message:\n",
      "\"executing %dopar% sequentially: no parallel backend registered\"\n"
     ]
    },
    {
     "data": {
      "image/png": "[encoded data removed]",
      "text/plain": [
       "Plot with title \"Efficient Frontier\""
      ]
     },
     "metadata": {
      "image/png": {
       "height": 420,
       "width": 420
      }
     },
     "output_type": "display_data"
    }
   ],
   "source": [
    "# Plot the efficient frontier.\n",
    "meanvar <- create.EfficientFrontier(R = returns, portfolio = initial_portfolio, type = 'mean-var')\n",
    "chart.EfficientFrontier(meanvar, match.col = 'StdDev', type = 'l', RAR.text = 'Sharpe Ratio', pch = 4)"
   ]
  }
 ],
 "metadata": {
  "kernelspec": {
   "display_name": "R",
   "language": "R",
   "name": "ir"
  },
  "language_info": {
   "codemirror_mode": "r",
   "file_extension": ".r",
   "mimetype": "text/x-r-source",
   "name": "R",
   "pygments_lexer": "r",
   "version": "4.1.2"
  }
 },
 "nbformat": 4,
 "nbformat_minor": 5
}
