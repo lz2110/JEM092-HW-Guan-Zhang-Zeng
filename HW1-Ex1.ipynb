{
 "cells": [
  {
   "cell_type": "markdown",
   "id": "9194b51e",
   "metadata": {},
   "source": [
    "# JEM092 Asset Pricing - Homework 1"
   ]
  },
  {
   "cell_type": "markdown",
   "id": "20a232b2",
   "metadata": {},
   "source": [
    "<span style='background: yellow'> **Group : 20107894**</span>\n",
    "\n",
    "Team Member:\n",
    "\n",
    "Yanqi Guan : 20107894@fsv.cuni.cz  \n",
    "Lin Zhang : 15845542@fsv.cuni.cz  \n",
    "Jiayi Zeng : 46566215@fsv.cuni.cz\n"
   ]
  },
  {
   "cell_type": "markdown",
   "id": "6b0a2575",
   "metadata": {},
   "source": [
    "### Task 1 - Data download (8 pts)\n",
    "In the previous step, you were assigned firms for which you will get the data. You will download \n",
    "* daily adjusted close price and volume data from www.finance.yahoo.com\n",
    "* Market Capitalization and Book Value per Share data from www.macrotrends.net\n",
    "* Sample period: 01.01.2007 - 28.02.2022 "
   ]
  },
  {
   "cell_type": "markdown",
   "id": "1db96240",
   "metadata": {},
   "source": [
    "### (1). Load stock symbols from file"
   ]
  },
  {
   "cell_type": "code",
   "execution_count": null,
   "id": "0d4620fd",
   "metadata": {},
   "outputs": [],
   "source": [
    "# Setup environment\n",
    "Sys.setenv(LANG = \"en\")\n",
    "#options(warn = -1)  # suppressing warnings\n",
    "\n",
    "if (!require(quantmod)) install.packages('quantmod')\n",
    "if (!require(httr)) install.packages('httr')\n",
    "if (!require(rvest)) install.packages('rvest')\n",
    "if (!require(jsonlite)) install.packages('jsonlite')\n",
    "if (!require(treasuryTR)) install.packages('treasuryTR')\n",
    "\n",
    "\n",
    "library(quantmod)\n",
    "library(httr)\n",
    "library(rvest)\n",
    "library(jsonlite)\n",
    "library(treasuryTR)"
   ]
  },
  {
   "cell_type": "code",
   "execution_count": null,
   "id": "39c324ad",
   "metadata": {},
   "outputs": [],
   "source": [
    "# read data from file\n",
    "smbs <- read.csv('20107894_rand_download.csv',colClasses = \"character\")\n",
    "head(smbs)\n",
    "symbols <- smbs[[2]]\n",
    "symbols"
   ]
  },
  {
   "cell_type": "markdown",
   "id": "a8ab244f",
   "metadata": {},
   "source": [
    "### (2). Download Trading Data"
   ]
  },
  {
   "cell_type": "code",
   "execution_count": null,
   "id": "61d2a4ee",
   "metadata": {},
   "outputs": [],
   "source": [
    "# Download closing price and volume data into list named OHLCV\n",
    "OHLCV <- lapply(symbols, function(y)\n",
    "{\n",
    "    try(getSymbols(y, auto.assign = FALSE,from = as.Date('2007-01-01'), to = '2022-02-28'),silent=TRUE)\n",
    "})\n",
    "\n",
    "#Assign symbols name\n",
    "names(OHLCV) <- symbols\n",
    "\n",
    "print(\"Closing Prices are downloaded successfully !\")"
   ]
  },
  {
   "cell_type": "code",
   "execution_count": null,
   "id": "456df2b5",
   "metadata": {},
   "outputs": [],
   "source": [
    "# Save data into file if necessary\n",
    "# save(OHLCV, file = \"1-price.RData\")\n",
    "# load(\"1-price.RData\")\n",
    "\n",
    "# check the data, symbol names and counts\n",
    "length(OHLCV)\n",
    "attributes(OHLCV)$names\n",
    "\n",
    "# check data date range\n",
    "head(OHLCV[[1]])\n",
    "tail(OHLCV[[1]])"
   ]
  },
  {
   "cell_type": "code",
   "execution_count": null,
   "id": "d01bfc09",
   "metadata": {},
   "outputs": [],
   "source": [
    "# Check all symbols get data\n",
    "lapply(OHLCV, head)\n",
    "\n"
   ]
  },
  {
   "cell_type": "markdown",
   "id": "c15df449",
   "metadata": {},
   "source": [
    "### (3). Download Book Value Data"
   ]
  },
  {
   "cell_type": "code",
   "execution_count": null,
   "id": "829c6725",
   "metadata": {},
   "outputs": [],
   "source": [
    "# Setup global parameters\n",
    "m_website <- \"https://www.macrotrends.net/stocks/charts/\"\n",
    "m_pb <- \"price-book\"\n",
    "m_website\n",
    "m_pb"
   ]
  },
  {
   "cell_type": "code",
   "execution_count": null,
   "id": "57c9bbf3",
   "metadata": {},
   "outputs": [],
   "source": [
    "#  Searching for company names, create webpage link from symbols\n",
    "getLink <- function(symb){    \n",
    "    r1 <- GET(paste0(m_website, symb))\n",
    "    return (paste0(r1[[1]] , m_pb))\n",
    "}\n",
    "\n",
    "# Call the function and output updated links\n",
    "links <- lapply(symbols, getLink)\n",
    "links"
   ]
  },
  {
   "cell_type": "code",
   "execution_count": null,
   "id": "e842b49b",
   "metadata": {},
   "outputs": [],
   "source": [
    "# Download PB data from website, and put data into xts list named \"book_value\"\n",
    "# This process may run a while ...\n",
    "\n",
    "# Create download data function\n",
    "getPB <- function(symbol_in){   \n",
    "    \n",
    "    # Get the links\n",
    "    r1 <- GET(paste0(m_website, symbol_in))\n",
    "    link_in <- (paste0(r1[[1]] , m_pb))       \n",
    "    \n",
    "    # Read HTML data from webpage\n",
    "    t_table <- read_html(link_in) %>% \n",
    "        html_table(header = TRUE, fill = TRUE ) %>% \n",
    "            .[[1]]    \n",
    "    \n",
    "    # Rename table columns\n",
    "    colnames(t_table) <- c(\"date\", \"Stock Price\", \"Book Value per Share\",\n",
    "                            \"Price/Book Ratio\")    \n",
    "    # Clean data format\n",
    "    t_table <- t_table[-1,] # Remove first row column names\n",
    "    t_table[[1]] <- as.Date(t_table[[1]]) # Format date\n",
    "    t_table[[2]] <- as.numeric(t_table[[2]]) # Format Stock Price\n",
    "    t_table[[3]] <- as.numeric(gsub(\"[$,]\",\"\",t_table[[3]])) # Format Book Value\n",
    "    t_table[[4]] <- as.numeric(t_table[[4]]) # Format PB\n",
    "    \n",
    "    # Put html_table into xts format\n",
    "    t_xts <- tibble_to_xts(t_table)\n",
    "\n",
    "    # Put xts object into global list\n",
    "    book_value[[symbol_in]] <<- t_xts \n",
    "    \n",
    "    return (paste0(symbol_in , \":  Book Value data is downloaded successfully !\"))\n",
    "}\n",
    "\n",
    "# Create a xts list for book value data\n",
    "book_value <- list()\n",
    "\n",
    "# call getPB function for 20 symbols\n",
    "lapply(symbols, getPB)\n"
   ]
  },
  {
   "cell_type": "code",
   "execution_count": null,
   "id": "32014d39",
   "metadata": {},
   "outputs": [],
   "source": [
    "# Save data into file if necessary\n",
    "# save(book_value, file = \"2-PB.RData\")\n",
    "# load(\"2-PB.RData\")\n",
    "\n",
    "# check the data, symbol names and counts\n",
    "length(book_value)\n",
    "attributes(book_value)$names\n",
    "\n",
    "# check data date range\n",
    "head(book_value[[1]])\n",
    "tail(book_value[[1]])"
   ]
  },
  {
   "cell_type": "code",
   "execution_count": null,
   "id": "42eba6fc",
   "metadata": {},
   "outputs": [],
   "source": [
    "# check all symbols get data\n",
    "lapply(book_value, head)"
   ]
  },
  {
   "cell_type": "markdown",
   "id": "625b9f4d",
   "metadata": {},
   "source": [
    "### (4). Download Market Cap Data"
   ]
  },
  {
   "cell_type": "code",
   "execution_count": null,
   "id": "c8e6b509",
   "metadata": {},
   "outputs": [],
   "source": [
    "# Setup global parameters\n",
    "mc_website <- \"https://www.macrotrends.net/assets/php/market_cap.php?t=\"\n",
    "mc_website"
   ]
  },
  {
   "cell_type": "code",
   "execution_count": null,
   "id": "b0d60735",
   "metadata": {},
   "outputs": [],
   "source": [
    "# Download Market Cap data from website, and put data into xts list named \"MktCap\"\n",
    "# This process may run a while ...\n",
    "\n",
    "# Create download data function\n",
    "getMC <- function(symbol_in){   \n",
    "    \n",
    "    # Get the links     \n",
    "    link_in <- paste0(mc_website, symbol_in)\n",
    "    \n",
    "    print(link_in)\n",
    "    # Read HTML data from webpage\n",
    "    m_node <- read_html(link_in) %>% \n",
    "        html_node('body') %>%\n",
    "            html_children() %>%  \n",
    "                html_text() \n",
    "    \n",
    "    # Parse html data\n",
    "    s1 <- strsplit(m_node, split = \"]\")\n",
    "    s2 <- strsplit(s1[[2]][1], split = \"=\")\n",
    "    s3 <- paste0(s2[[1]][2], \"]\")\n",
    "\n",
    "    # call jsonlite library, get data frame\n",
    "    mc_j <- fromJSON(s3)    \n",
    "    \n",
    "    # Convert data frame to time series\n",
    "    mc_xts <- xts(mc_j[,2], as.Date(mc_j$date))        \n",
    "\n",
    "    # Put xts object into global list\n",
    "    MktCap[[symbol_in]] <<- mc_xts \n",
    "    \n",
    "    return (paste0(symbol_in , \":  Market Cap data is downloaded successfully !\"))\n",
    "}\n",
    "\n",
    "# Create a xts list for book value data\n",
    "MktCap <- list()\n",
    "\n",
    "# call getPB function for 20 symbols\n",
    "lapply(symbols, getMC)\n"
   ]
  },
  {
   "cell_type": "code",
   "execution_count": null,
   "id": "0849d62d",
   "metadata": {},
   "outputs": [],
   "source": [
    "# Save data into file if necessary\n",
    "# save(MktCap, file = \"3-MC.RData\")\n",
    "# load(\"3-MC.RData\")\n",
    "\n",
    "# check the data, symbol names and counts\n",
    "length(MktCap)\n",
    "attributes(MktCap)$names\n",
    "\n",
    "# check data date range\n",
    "head(MktCap[[1]])\n",
    "tail(MktCap[[1]])"
   ]
  },
  {
   "cell_type": "code",
   "execution_count": null,
   "id": "b9d9b357",
   "metadata": {},
   "outputs": [],
   "source": [
    "# check all symbols get data\n",
    "lapply(MktCap, head)"
   ]
  }
 ],
 "metadata": {
  "kernelspec": {
   "display_name": "R",
   "language": "R",
   "name": "ir"
  },
  "language_info": {
   "codemirror_mode": "r",
   "file_extension": ".r",
   "mimetype": "text/x-r-source",
   "name": "R",
   "pygments_lexer": "r",
   "version": "4.1.2"
  }
 },
 "nbformat": 4,
 "nbformat_minor": 5
}
