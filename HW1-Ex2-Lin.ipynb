{
 "cells": [
  {
   "cell_type": "markdown",
   "id": "9194b51e",
   "metadata": {},
   "source": [
    "# JEM092 Asset Pricing - Homework 1"
   ]
  },
  {
   "cell_type": "markdown",
   "id": "20a232b2",
   "metadata": {},
   "source": [
    "<span style='background:yellow'> **Group : 20107894**</span>\n",
    "\n",
    "Team Member:\n",
    "\n",
    "Yanqi Guan : 20107894@fsv.cuni.cz\n",
    "\n",
    "Lin Zhang : 15845542@fsv.cuni.cz\n",
    "\n",
    "Jiayi Zeng : 46566215@fsv.cuni.cz\n"
   ]
  },
  {
   "cell_type": "markdown",
   "id": "6b0a2575",
   "metadata": {},
   "source": [
    "### Task 1 - Data download (8 pts)\n",
    "In the previous step, you were assigned firms for which you will get the data. You will download \n",
    "* daily adjusted close price and volume data from www.finance.yahoo.com\n",
    "* Market Capitalization and Book Value per Share data from www.macrotrends.net\n",
    "* Sample period: 01.01.2007 - 28.02.2022 "
   ]
  },
  {
   "cell_type": "code",
   "execution_count": null,
   "id": "0d4620fd",
   "metadata": {},
   "outputs": [],
   "source": [
    "# Setup environment\n",
    "Sys.setenv(LANG = \"en\")\n",
    "Sys.setlocale(\"LC_TIME\", \"English\")\n",
    "#options(warn = -1)  # suppressing warnings\n",
    "\n",
    "if (!require(quantmod)) install.packages('quantmod')\n",
    "if (!require(httr)) install.packages('httr')\n",
    "if (!require(rvest)) install.packages('rvest')\n",
    "if (!require(jsonlite)) install.packages('jsonlite')\n",
    "\n",
    "\n",
    "library(quantmod)\n",
    "library(httr)\n",
    "library(rvest)\n",
    "library(jsonlite)\n",
    "library(PortfolioAnalytics)\n",
    "#library(quadprog)\n",
    "library(ROI)\n",
    "#library(ROI.plugin.glpk)\n",
    "#library(ROI.plugin.quadprog)\n"
   ]
  },
  {
   "cell_type": "markdown",
   "id": "37abe5c1",
   "metadata": {},
   "source": [
    "**Task 2 - Markowitz portfolio (4 pts)**  \n",
    "Using the data of the 20 stocks illustrate the portfolio performance by forming an efficient frontier. For the analysis, use either\n",
    "\n",
    "20 random stocks from the data you have downloaded, i.e. stocks from \"group_number_rand_download.csv\" file\n",
    "20 random stocks from the seminar, i.e. stocks from \"group_number_rand_seminar.csv\" file\n",
    "choose this option in case you were not able to download data in Task 1\n",
    "In this task, you will form 2 portfolios\n",
    "\n",
    "portfolio A will consist of stocks 1 to 10\n",
    "portfolio B will consist of stocks 11 to 20\n",
    "Using the adjusted close price construct (and plot in the single figure) global minimum variance portfolio and the efficient frontier of both portfolio A and B. Since we will be working with monthly returns later in the course, use the monthly returns from the period 2015-2022 as the input for the task. Comment the important features of the figure, e.g. which portfolio will you choose? Why? Which stock(s) is driving the shape of the frontier? etc."
   ]
  },
  {
   "cell_type": "markdown",
   "id": "574adf9b",
   "metadata": {},
   "source": [
    "**(1). Reload data from Task 1**"
   ]
  },
  {
   "cell_type": "code",
   "execution_count": null,
   "id": "2a30321d",
   "metadata": {},
   "outputs": [],
   "source": [
    "load(\"1-price.RData\")"
   ]
  },
  {
   "cell_type": "code",
   "execution_count": null,
   "id": "7482801a",
   "metadata": {},
   "outputs": [],
   "source": [
    "symb <- attributes(OHLCV)$names\n",
    "symb"
   ]
  },
  {
   "cell_type": "markdown",
   "id": "17ff6966",
   "metadata": {},
   "source": [
    "**(2). Set Date Range**"
   ]
  },
  {
   "cell_type": "code",
   "execution_count": null,
   "id": "af175d20",
   "metadata": {},
   "outputs": [],
   "source": [
    "# Function of set date range for xts\n",
    "setRange <- function(xts_in, date_in){    \n",
    "    return (xts_in[index(xts_in) > date_in])\n",
    "}\n",
    "\n",
    "# Call the function and output updated links\n",
    "OHLCV_2015 <- lapply(OHLCV, setRange, as.Date(\"2015-01-01\"))\n",
    "head(OHLCV_2015[[1]])\n",
    "tail(OHLCV_2015[[1]])"
   ]
  },
  {
   "cell_type": "markdown",
   "id": "1ad2b0f1",
   "metadata": {},
   "source": [
    "**(3). filter for adjusted close price.**"
   ]
  },
  {
   "cell_type": "code",
   "execution_count": null,
   "id": "87b4bf03",
   "metadata": {},
   "outputs": [],
   "source": [
    "# only need the adjusted closing price for return\n",
    "\n",
    "OHLCV_p <- lapply(names(OHLCV_2015), function(y){\n",
    "    OHLCV_2015[[y]] <- OHLCV_2015[[y]][, paste0(y, '.Adjusted')]\n",
    "})\n",
    "names(OHLCV_p) <- names(OHLCV_2015)\n",
    "\n",
    "# check columns\n",
    "head(OHLCV_p[[1]])\n"
   ]
  },
  {
   "cell_type": "markdown",
   "id": "4f9db9ff",
   "metadata": {},
   "source": [
    "**(4). Set monthly data**\n"
   ]
  },
  {
   "cell_type": "code",
   "execution_count": null,
   "id": "0d1254ba",
   "metadata": {},
   "outputs": [],
   "source": [
    "# Call to.period function\n",
    "OHLCV_m <- lapply(OHLCV_p,to.period, period = 'months',name=NULL)\n",
    "\n",
    "head(OHLCV_m[[1]])\n"
   ]
  },
  {
   "cell_type": "markdown",
   "id": "b3234a1e",
   "metadata": {},
   "source": [
    "**(5). calculate monthly return**\n",
    "$$r_{i,t}=\\frac{P_{i,t}-P_{i,t-1}}{P_{i,t-1}}$$"
   ]
  },
  {
   "cell_type": "code",
   "execution_count": null,
   "id": "c3105525",
   "metadata": {},
   "outputs": [],
   "source": [
    "# Selected Close Price\n",
    "OHLCV_c <- lapply(names(OHLCV_m), function(y){\n",
    "    OHLCV_m[[y]] <- OHLCV_m[[y]][, 'Close']\n",
    "})\n",
    "names(OHLCV_c) <- names(OHLCV_m)\n",
    "\n",
    "# compute simple returns\n",
    "rets <- lapply(OHLCV_c, function(y){\n",
    "  y <- na.omit(diff(y)/lag(y))\n",
    "})\n",
    "\n",
    "head(rets[[1]])\n"
   ]
  },
  {
   "cell_type": "markdown",
   "id": "01ba5713",
   "metadata": {},
   "source": [
    "**(6). Create Portflio data**"
   ]
  },
  {
   "cell_type": "code",
   "execution_count": null,
   "id": "bbdd2eac",
   "metadata": {},
   "outputs": [],
   "source": [
    "# n_list is the whole 20 stocks portfolio\n",
    "n_list <- do.call(merge, rets)\n",
    "colnames(n_list) <- names(rets)\n",
    "\n",
    "head(n_list)"
   ]
  },
  {
   "cell_type": "markdown",
   "id": "57c8305c",
   "metadata": {},
   "source": [
    "**(7). Obtain Global Minimum Variance Portlio**"
   ]
  },
  {
   "cell_type": "code",
   "execution_count": null,
   "id": "161e559a",
   "metadata": {},
   "outputs": [],
   "source": [
    "# Create the portfolio 1 as the first 10 stocks.\n",
    "returns <- n_list[, 1:10]\n",
    "funds <- colnames(returns)\n",
    "\n",
    "# Create an initial portfolio object with leverage and box constraints.\n",
    "initial_portfolio <- portfolio.spec(assets = funds)\n",
    "initial_portfolio <- add.constraint(\n",
    "    portfolio = initial_portfolio,\n",
    "    type = \"leverage\",\n",
    "    min_sum = 0.99,\n",
    "    max_sum = 1.01\n",
    ")\n",
    "\n",
    "# Obtain optimized portfolio by optimize.portfolio function\n",
    "minvar <- add.objective(portfolio = initial_portfolio, type = \"risk\", name = \"var\")\n",
    "opt_minvar <- optimize.portfolio(\n",
    "    R = returns,\n",
    "    portfolio = minvar,\n",
    "    optimize_method = \"ROI\",\n",
    "    trace = TRUE\n",
    ")\n",
    "\n",
    "print(opt_minvar)"
   ]
  },
  {
   "cell_type": "markdown",
   "id": "df96f16b",
   "metadata": {},
   "source": [
    "**(8). Analysis portfolio 1**\n"
   ]
  },
  {
   "cell_type": "code",
   "execution_count": null,
   "id": "2993040a",
   "metadata": {},
   "outputs": [],
   "source": [
    "# Show each stock analsis in plot\n",
    "plot(\n",
    "    opt_minvar,\n",
    "    risk.col = \"StdDev\",\n",
    "    return.col = \"mean\",\n",
    "    main = \"Minimum Variance Optimization\",\n",
    "    chart.assets = TRUE,\n",
    "    xlim = c(0.03, 0.12),\n",
    "    ylim = c(0, 0.025)\n",
    ")\n"
   ]
  },
  {
   "cell_type": "markdown",
   "id": "305a4c90",
   "metadata": {},
   "source": [
    "**(9). Draw Efficient frontier**"
   ]
  },
  {
   "cell_type": "code",
   "execution_count": null,
   "id": "75e79aaa",
   "metadata": {},
   "outputs": [],
   "source": [
    "# Plot the efficient frontier.\n",
    "meanvar <- create.EfficientFrontier(R = returns, portfolio = initial_portfolio, type = 'mean-var')\n",
    "chart.EfficientFrontier(meanvar, match.col = 'StdDev', type = 'l', RAR.text = 'Sharpe Ratio', pch = 4)"
   ]
  }
 ],
 "metadata": {
  "kernelspec": {
   "display_name": "R",
   "language": "R",
   "name": "ir"
  },
  "language_info": {
   "codemirror_mode": "r",
   "file_extension": ".r",
   "mimetype": "text/x-r-source",
   "name": "R",
   "pygments_lexer": "r",
   "version": "4.1.2"
  }
 },
 "nbformat": 4,
 "nbformat_minor": 5
}
