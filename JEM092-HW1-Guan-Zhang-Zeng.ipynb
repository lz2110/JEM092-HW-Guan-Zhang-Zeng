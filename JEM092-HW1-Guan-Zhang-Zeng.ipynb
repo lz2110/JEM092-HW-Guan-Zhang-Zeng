{
 "cells": [
  {
   "cell_type": "markdown",
   "id": "9194b51e",
   "metadata": {},
   "source": [
    "# JEM092 Asset Pricing - Homework 1"
   ]
  },
  {
   "cell_type": "markdown",
   "id": "20a232b2",
   "metadata": {},
   "source": [
    "<span style='background:yellow'> **Group : 20107894**</span>\n",
    "\n",
    "Team Member:\n",
    "\n",
    "Yanqi Guan : 20107894@fsv.cuni.cz\n",
    "\n",
    "Lin Zhang : 15845542@fsv.cuni.cz\n",
    "\n",
    "Jiayi Zeng : 46566215@fsv.cuni.cz\n"
   ]
  },
  {
   "cell_type": "markdown",
   "id": "6b0a2575",
   "metadata": {},
   "source": [
    "### Task 1 - Data download \n",
    "In the previous step, you were assigned firms for which you will get the data. You will download \n",
    "* daily adjusted close price and volume data from www.finance.yahoo.com\n",
    "* Market Capitalization and Book Value per Share data from www.macrotrends.net\n",
    "* Sample period: 01.01.2007 - 28.02.2022 "
   ]
  },
  {
   "cell_type": "markdown",
   "id": "46511b89",
   "metadata": {},
   "source": [
    "***"
   ]
  },
  {
   "cell_type": "markdown",
   "id": "ccc66a81",
   "metadata": {},
   "source": [
    "* <span style='background: lightblue'>**First, we setup environment and relative libraries**</span>"
   ]
  },
  {
   "cell_type": "code",
   "execution_count": 1,
   "id": "3d2d3a08",
   "metadata": {},
   "outputs": [
    {
     "data": {
      "text/html": [
       "'English_United States.1252'"
      ],
      "text/latex": [
       "'English\\_United States.1252'"
      ],
      "text/markdown": [
       "'English_United States.1252'"
      ],
      "text/plain": [
       "[1] \"English_United States.1252\""
      ]
     },
     "metadata": {},
     "output_type": "display_data"
    },
    {
     "name": "stderr",
     "output_type": "stream",
     "text": [
      "Loading required package: quantmod\n",
      "\n",
      "Loading required package: xts\n",
      "\n",
      "Loading required package: zoo\n",
      "\n",
      "\n",
      "Attaching package: 'zoo'\n",
      "\n",
      "\n",
      "The following objects are masked from 'package:base':\n",
      "\n",
      "    as.Date, as.Date.numeric\n",
      "\n",
      "\n",
      "Loading required package: TTR\n",
      "\n",
      "Registered S3 method overwritten by 'quantmod':\n",
      "  method            from\n",
      "  as.zoo.data.frame zoo \n",
      "\n",
      "Loading required package: httr\n",
      "\n",
      "Loading required package: rvest\n",
      "\n",
      "Loading required package: jsonlite\n",
      "\n",
      "Loading required package: treasuryTR\n",
      "\n",
      "Loading required package: dplyr\n",
      "\n",
      "\n",
      "Attaching package: 'dplyr'\n",
      "\n",
      "\n",
      "The following objects are masked from 'package:xts':\n",
      "\n",
      "    first, last\n",
      "\n",
      "\n",
      "The following objects are masked from 'package:stats':\n",
      "\n",
      "    filter, lag\n",
      "\n",
      "\n",
      "The following objects are masked from 'package:base':\n",
      "\n",
      "    intersect, setdiff, setequal, union\n",
      "\n",
      "\n",
      "Loading required package: PortfolioAnalytics\n",
      "\n",
      "Loading required package: foreach\n",
      "\n",
      "Loading required package: PerformanceAnalytics\n",
      "\n",
      "\n",
      "Attaching package: 'PerformanceAnalytics'\n",
      "\n",
      "\n",
      "The following object is masked from 'package:graphics':\n",
      "\n",
      "    legend\n",
      "\n",
      "\n",
      "Loading required package: ROI\n",
      "\n",
      "Registered S3 method overwritten by 'ROI':\n",
      "  method           from              \n",
      "  print.constraint PortfolioAnalytics\n",
      "\n",
      "ROI: R Optimization Infrastructure\n",
      "\n",
      "Registered solver plugins: nlminb, glpk, quadprog.\n",
      "\n",
      "Default solver: auto.\n",
      "\n",
      "\n",
      "Attaching package: 'ROI'\n",
      "\n",
      "\n",
      "The following objects are masked from 'package:PortfolioAnalytics':\n",
      "\n",
      "    is.constraint, objective\n",
      "\n",
      "\n",
      "Loading required package: ggplot2\n",
      "\n",
      "Loading required package: ggthemes\n",
      "\n",
      "Loading required package: timetk\n",
      "\n"
     ]
    }
   ],
   "source": [
    "# Setup environment\n",
    "Sys.setenv(LANG = \"en\")\n",
    "Sys.setlocale(\"LC_TIME\", \"English\")\n",
    "options(warn = -1)  # suppressing warnings\n",
    "\n",
    "\n",
    "if (!require(quantmod)) install.packages('quantmod')\n",
    "if (!require(httr)) install.packages('httr')\n",
    "if (!require(rvest)) install.packages('rvest')\n",
    "if (!require(jsonlite)) install.packages('jsonlite')\n",
    "if (!require(treasuryTR)) install.packages('treasuryTR')\n",
    "if (!require(xts)) install.packages('xts')\n",
    "if (!require(PortfolioAnalytics)) install.packages('PortfolioAnalytics')\n",
    "if (!require(ROI)) install.packages('ROI')\n",
    "if (!require(ggplot2)) install.packages('ggplot2')\n",
    "if (!require(ggthemes)) install.packages('ggthemes')\n",
    "if (!require(timetk)) install.packages('timetk')\n",
    "if (!require(dplyr)) install.packages('dplyr')\n",
    "\n",
    "library(quantmod)\n",
    "library(httr)\n",
    "library(rvest)\n",
    "library(jsonlite)\n",
    "library(treasuryTR)\n",
    "library(xts)\n",
    "library(PortfolioAnalytics)\n",
    "library(ROI)\n",
    "library(ggplot2)\n",
    "library(ggthemes)\n",
    "library(timetk)\n",
    "library(dplyr)\n",
    "\n",
    "options(repr.plot.width = 10, repr.plot.height = 6)"
   ]
  },
  {
   "cell_type": "markdown",
   "id": "1db96240",
   "metadata": {},
   "source": [
    "### <span style='background: lightblue'>(1). Load stock symbols from file</span>"
   ]
  },
  {
   "cell_type": "code",
   "execution_count": 2,
   "id": "39c324ad",
   "metadata": {},
   "outputs": [
    {
     "data": {
      "text/html": [
       "<table class=\"dataframe\">\n",
       "<caption>A data.frame: 3 × 2</caption>\n",
       "<thead>\n",
       "\t<tr><th></th><th scope=col>X</th><th scope=col>x</th></tr>\n",
       "\t<tr><th></th><th scope=col>&lt;chr&gt;</th><th scope=col>&lt;chr&gt;</th></tr>\n",
       "</thead>\n",
       "<tbody>\n",
       "\t<tr><th scope=row>1</th><td>1</td><td>ABT</td></tr>\n",
       "\t<tr><th scope=row>2</th><td>2</td><td>CMS</td></tr>\n",
       "\t<tr><th scope=row>3</th><td>3</td><td>PNR</td></tr>\n",
       "</tbody>\n",
       "</table>\n"
      ],
      "text/latex": [
       "A data.frame: 3 × 2\n",
       "\\begin{tabular}{r|ll}\n",
       "  & X & x\\\\\n",
       "  & <chr> & <chr>\\\\\n",
       "\\hline\n",
       "\t1 & 1 & ABT\\\\\n",
       "\t2 & 2 & CMS\\\\\n",
       "\t3 & 3 & PNR\\\\\n",
       "\\end{tabular}\n"
      ],
      "text/markdown": [
       "\n",
       "A data.frame: 3 × 2\n",
       "\n",
       "| <!--/--> | X &lt;chr&gt; | x &lt;chr&gt; |\n",
       "|---|---|---|\n",
       "| 1 | 1 | ABT |\n",
       "| 2 | 2 | CMS |\n",
       "| 3 | 3 | PNR |\n",
       "\n"
      ],
      "text/plain": [
       "  X x  \n",
       "1 1 ABT\n",
       "2 2 CMS\n",
       "3 3 PNR"
      ]
     },
     "metadata": {},
     "output_type": "display_data"
    },
    {
     "data": {
      "text/html": [
       "<style>\n",
       ".list-inline {list-style: none; margin:0; padding: 0}\n",
       ".list-inline>li {display: inline-block}\n",
       ".list-inline>li:not(:last-child)::after {content: \"\\00b7\"; padding: 0 .5ex}\n",
       "</style>\n",
       "<ol class=list-inline><li>'ABT'</li><li>'CMS'</li><li>'PNR'</li><li>'AVB'</li><li>'IEX'</li><li>'SBAC'</li><li>'QCOM'</li><li>'BWA'</li><li>'WMB'</li><li>'DRI'</li><li>'WBA'</li><li>'VLO'</li><li>'CAT'</li><li>'NRG'</li><li>'MCK'</li><li>'STZ'</li><li>'ZBRA'</li><li>'MHK'</li><li>'LRCX'</li><li>'YUM'</li></ol>\n"
      ],
      "text/latex": [
       "\\begin{enumerate*}\n",
       "\\item 'ABT'\n",
       "\\item 'CMS'\n",
       "\\item 'PNR'\n",
       "\\item 'AVB'\n",
       "\\item 'IEX'\n",
       "\\item 'SBAC'\n",
       "\\item 'QCOM'\n",
       "\\item 'BWA'\n",
       "\\item 'WMB'\n",
       "\\item 'DRI'\n",
       "\\item 'WBA'\n",
       "\\item 'VLO'\n",
       "\\item 'CAT'\n",
       "\\item 'NRG'\n",
       "\\item 'MCK'\n",
       "\\item 'STZ'\n",
       "\\item 'ZBRA'\n",
       "\\item 'MHK'\n",
       "\\item 'LRCX'\n",
       "\\item 'YUM'\n",
       "\\end{enumerate*}\n"
      ],
      "text/markdown": [
       "1. 'ABT'\n",
       "2. 'CMS'\n",
       "3. 'PNR'\n",
       "4. 'AVB'\n",
       "5. 'IEX'\n",
       "6. 'SBAC'\n",
       "7. 'QCOM'\n",
       "8. 'BWA'\n",
       "9. 'WMB'\n",
       "10. 'DRI'\n",
       "11. 'WBA'\n",
       "12. 'VLO'\n",
       "13. 'CAT'\n",
       "14. 'NRG'\n",
       "15. 'MCK'\n",
       "16. 'STZ'\n",
       "17. 'ZBRA'\n",
       "18. 'MHK'\n",
       "19. 'LRCX'\n",
       "20. 'YUM'\n",
       "\n",
       "\n"
      ],
      "text/plain": [
       " [1] \"ABT\"  \"CMS\"  \"PNR\"  \"AVB\"  \"IEX\"  \"SBAC\" \"QCOM\" \"BWA\"  \"WMB\"  \"DRI\" \n",
       "[11] \"WBA\"  \"VLO\"  \"CAT\"  \"NRG\"  \"MCK\"  \"STZ\"  \"ZBRA\" \"MHK\"  \"LRCX\" \"YUM\" "
      ]
     },
     "metadata": {},
     "output_type": "display_data"
    }
   ],
   "source": [
    "# read symbols from file\n",
    "smbs <- read.csv('20107894_rand_download.csv',colClasses = \"character\")\n",
    "head(smbs,3)\n",
    "p_symbols <- smbs[[2]]\n",
    "p_symbols"
   ]
  },
  {
   "cell_type": "markdown",
   "id": "a8ab244f",
   "metadata": {},
   "source": [
    "### <span style='background: lightblue'>(2). Download Stock Price Data</span>"
   ]
  },
  {
   "cell_type": "markdown",
   "id": "6b62ba53",
   "metadata": {},
   "source": [
    "* Apply quantmod library to download trading data from yahoo and save into a xts list: **OHLCV**"
   ]
  },
  {
   "cell_type": "code",
   "execution_count": 3,
   "id": "506b8ad7",
   "metadata": {},
   "outputs": [
    {
     "name": "stderr",
     "output_type": "stream",
     "text": [
      "'getSymbols' currently uses auto.assign=TRUE by default, but will\n",
      "use auto.assign=FALSE in 0.5-0. You will still be able to use\n",
      "'loadSymbols' to automatically load data. getOption(\"getSymbols.env\")\n",
      "and getOption(\"getSymbols.auto.assign\") will still be checked for\n",
      "alternate defaults.\n",
      "\n",
      "This message is shown once per session and may be disabled by setting \n",
      "options(\"getSymbols.warning4.0\"=FALSE). See ?getSymbols for details.\n",
      "\n",
      "\n"
     ]
    },
    {
     "data": {
      "text/html": [
       "<style>\n",
       ".list-inline {list-style: none; margin:0; padding: 0}\n",
       ".list-inline>li {display: inline-block}\n",
       ".list-inline>li:not(:last-child)::after {content: \"\\00b7\"; padding: 0 .5ex}\n",
       "</style>\n",
       "<ol class=list-inline><li>'ABT'</li><li>'CMS'</li><li>'PNR'</li><li>'AVB'</li><li>'IEX'</li><li>'SBAC'</li><li>'QCOM'</li><li>'BWA'</li><li>'WMB'</li><li>'DRI'</li><li>'WBA'</li><li>'VLO'</li><li>'CAT'</li><li>'NRG'</li><li>'MCK'</li><li>'STZ'</li><li>'ZBRA'</li><li>'MHK'</li><li>'LRCX'</li><li>'YUM'</li></ol>\n"
      ],
      "text/latex": [
       "\\begin{enumerate*}\n",
       "\\item 'ABT'\n",
       "\\item 'CMS'\n",
       "\\item 'PNR'\n",
       "\\item 'AVB'\n",
       "\\item 'IEX'\n",
       "\\item 'SBAC'\n",
       "\\item 'QCOM'\n",
       "\\item 'BWA'\n",
       "\\item 'WMB'\n",
       "\\item 'DRI'\n",
       "\\item 'WBA'\n",
       "\\item 'VLO'\n",
       "\\item 'CAT'\n",
       "\\item 'NRG'\n",
       "\\item 'MCK'\n",
       "\\item 'STZ'\n",
       "\\item 'ZBRA'\n",
       "\\item 'MHK'\n",
       "\\item 'LRCX'\n",
       "\\item 'YUM'\n",
       "\\end{enumerate*}\n"
      ],
      "text/markdown": [
       "1. 'ABT'\n",
       "2. 'CMS'\n",
       "3. 'PNR'\n",
       "4. 'AVB'\n",
       "5. 'IEX'\n",
       "6. 'SBAC'\n",
       "7. 'QCOM'\n",
       "8. 'BWA'\n",
       "9. 'WMB'\n",
       "10. 'DRI'\n",
       "11. 'WBA'\n",
       "12. 'VLO'\n",
       "13. 'CAT'\n",
       "14. 'NRG'\n",
       "15. 'MCK'\n",
       "16. 'STZ'\n",
       "17. 'ZBRA'\n",
       "18. 'MHK'\n",
       "19. 'LRCX'\n",
       "20. 'YUM'\n",
       "\n",
       "\n"
      ],
      "text/plain": [
       " [1] \"ABT\"  \"CMS\"  \"PNR\"  \"AVB\"  \"IEX\"  \"SBAC\" \"QCOM\" \"BWA\"  \"WMB\"  \"DRI\" \n",
       "[11] \"WBA\"  \"VLO\"  \"CAT\"  \"NRG\"  \"MCK\"  \"STZ\"  \"ZBRA\" \"MHK\"  \"LRCX\" \"YUM\" "
      ]
     },
     "metadata": {},
     "output_type": "display_data"
    },
    {
     "data": {
      "text/html": [
       "20"
      ],
      "text/latex": [
       "20"
      ],
      "text/markdown": [
       "20"
      ],
      "text/plain": [
       "[1] 20"
      ]
     },
     "metadata": {},
     "output_type": "display_data"
    }
   ],
   "source": [
    "# Download closing price and volume data into list named OHLCV\n",
    "OHLCV <- lapply(p_symbols, function(y)\n",
    "{\n",
    "    try(getSymbols(y, auto.assign = FALSE,from = as.Date('2007-01-01'), to = '2022-03-01'),silent=TRUE)\n",
    "})\n",
    "\n",
    "#Assign symbols name\n",
    "names(OHLCV) <- p_symbols\n",
    "\n",
    "# check the symbol names and counts\n",
    "attributes(OHLCV)$names\n",
    "length(OHLCV)"
   ]
  },
  {
   "cell_type": "markdown",
   "id": "25ffe991",
   "metadata": {},
   "source": [
    "* Verify data format and date range"
   ]
  },
  {
   "cell_type": "code",
   "execution_count": 4,
   "id": "61d2a4ee",
   "metadata": {},
   "outputs": [
    {
     "data": {
      "text/plain": [
       "$ABT\n",
       "           ABT.Open ABT.High  ABT.Low ABT.Close ABT.Volume ABT.Adjusted\n",
       "2007-01-03 23.42863 23.74530 23.39025  23.49581   11214881     13.37988\n",
       "2007-01-04 23.53899 24.10515 23.49581  23.94202   21185494     13.63398\n",
       "2007-01-05 23.94202 23.99000 23.63975  23.94202   14649854     13.63398\n",
       "\n",
       "$CMS\n",
       "           CMS.Open CMS.High CMS.Low CMS.Close CMS.Volume CMS.Adjusted\n",
       "2007-01-03    16.76    16.86   16.65     16.81    2915800     10.32141\n",
       "2007-01-04    16.76    16.88   16.66     16.74    1271100     10.27843\n",
       "2007-01-05    16.65    16.69   16.42     16.47    3123700     10.11265\n"
      ]
     },
     "metadata": {},
     "output_type": "display_data"
    },
    {
     "data": {
      "text/plain": [
       "$ABT\n",
       "           ABT.Open ABT.High ABT.Low ABT.Close ABT.Volume ABT.Adjusted\n",
       "2022-02-24   115.00   118.92  114.43    118.72    6252600       118.72\n",
       "2022-02-25   118.72   122.93  118.50    122.41    5837700       122.41\n",
       "2022-02-28   121.05   121.06  119.15    120.62    6827300       120.62\n",
       "\n",
       "$CMS\n",
       "           CMS.Open CMS.High CMS.Low CMS.Close CMS.Volume CMS.Adjusted\n",
       "2022-02-24    61.73    62.15   61.16     61.97    2140300        61.97\n",
       "2022-02-25    62.65    64.43   62.39     64.14    2660000        64.14\n",
       "2022-02-28    63.56    64.23   63.30     64.01    2817500        64.01\n"
      ]
     },
     "metadata": {},
     "output_type": "display_data"
    }
   ],
   "source": [
    "# check data date range\n",
    "lapply(OHLCV, head, 3)[1:2]\n",
    "lapply(OHLCV, tail, 3)[1:2]"
   ]
  },
  {
   "cell_type": "markdown",
   "id": "c15df449",
   "metadata": {},
   "source": [
    "### <span style='background: lightblue'>(3). Download Book Value Data</span>"
   ]
  },
  {
   "cell_type": "code",
   "execution_count": 5,
   "id": "829c6725",
   "metadata": {},
   "outputs": [
    {
     "data": {
      "text/html": [
       "'https://www.macrotrends.net/stocks/charts/'"
      ],
      "text/latex": [
       "'https://www.macrotrends.net/stocks/charts/'"
      ],
      "text/markdown": [
       "'https://www.macrotrends.net/stocks/charts/'"
      ],
      "text/plain": [
       "[1] \"https://www.macrotrends.net/stocks/charts/\""
      ]
     },
     "metadata": {},
     "output_type": "display_data"
    },
    {
     "data": {
      "text/html": [
       "'price-book'"
      ],
      "text/latex": [
       "'price-book'"
      ],
      "text/markdown": [
       "'price-book'"
      ],
      "text/plain": [
       "[1] \"price-book\""
      ]
     },
     "metadata": {},
     "output_type": "display_data"
    }
   ],
   "source": [
    "# Setup global parameters\n",
    "m_website <- \"https://www.macrotrends.net/stocks/charts/\"\n",
    "m_pb <- \"price-book\"\n",
    "m_website\n",
    "m_pb"
   ]
  },
  {
   "cell_type": "markdown",
   "id": "d3c29ed4",
   "metadata": {},
   "source": [
    "* Searching for company names by symbol to create download links, we use **GET( )** function from \"httr\" library"
   ]
  },
  {
   "cell_type": "code",
   "execution_count": 6,
   "id": "57c9bbf3",
   "metadata": {},
   "outputs": [
    {
     "data": {
      "text/html": [
       "<ol>\n",
       "\t<li>'https://www.macrotrends.net/stocks/charts/ABT/abbott-laboratories/price-book'</li>\n",
       "\t<li>'https://www.macrotrends.net/stocks/charts/CMS/cms-energy/price-book'</li>\n",
       "\t<li>'https://www.macrotrends.net/stocks/charts/PNR/pentair/price-book'</li>\n",
       "\t<li>'https://www.macrotrends.net/stocks/charts/AVB/avalonbay-communities/price-book'</li>\n",
       "\t<li>'https://www.macrotrends.net/stocks/charts/IEX/idex/price-book'</li>\n",
       "\t<li>'https://www.macrotrends.net/stocks/charts/SBAC/sba-communications/price-book'</li>\n",
       "\t<li>'https://www.macrotrends.net/stocks/charts/QCOM/qualcomm/price-book'</li>\n",
       "\t<li>'https://www.macrotrends.net/stocks/charts/BWA/borgwarner/price-book'</li>\n",
       "\t<li>'https://www.macrotrends.net/stocks/charts/WMB/williams/price-book'</li>\n",
       "\t<li>'https://www.macrotrends.net/stocks/charts/DRI/darden-restaurants/price-book'</li>\n",
       "\t<li>'https://www.macrotrends.net/stocks/charts/WBA/walgreens/price-book'</li>\n",
       "\t<li>'https://www.macrotrends.net/stocks/charts/VLO/valero-energy/price-book'</li>\n",
       "\t<li>'https://www.macrotrends.net/stocks/charts/CAT/caterpillar/price-book'</li>\n",
       "\t<li>'https://www.macrotrends.net/stocks/charts/NRG/nrg-energy/price-book'</li>\n",
       "\t<li>'https://www.macrotrends.net/stocks/charts/MCK/mckesson/price-book'</li>\n",
       "\t<li>'https://www.macrotrends.net/stocks/charts/STZ/constellation-brands-inc/price-book'</li>\n",
       "\t<li>'https://www.macrotrends.net/stocks/charts/ZBRA/zebra-technologies/price-book'</li>\n",
       "\t<li>'https://www.macrotrends.net/stocks/charts/MHK/mohawk-industries/price-book'</li>\n",
       "\t<li>'https://www.macrotrends.net/stocks/charts/LRCX/lam-research/price-book'</li>\n",
       "\t<li>'https://www.macrotrends.net/stocks/charts/YUM/yum!-brands/price-book'</li>\n",
       "</ol>\n"
      ],
      "text/latex": [
       "\\begin{enumerate}\n",
       "\\item 'https://www.macrotrends.net/stocks/charts/ABT/abbott-laboratories/price-book'\n",
       "\\item 'https://www.macrotrends.net/stocks/charts/CMS/cms-energy/price-book'\n",
       "\\item 'https://www.macrotrends.net/stocks/charts/PNR/pentair/price-book'\n",
       "\\item 'https://www.macrotrends.net/stocks/charts/AVB/avalonbay-communities/price-book'\n",
       "\\item 'https://www.macrotrends.net/stocks/charts/IEX/idex/price-book'\n",
       "\\item 'https://www.macrotrends.net/stocks/charts/SBAC/sba-communications/price-book'\n",
       "\\item 'https://www.macrotrends.net/stocks/charts/QCOM/qualcomm/price-book'\n",
       "\\item 'https://www.macrotrends.net/stocks/charts/BWA/borgwarner/price-book'\n",
       "\\item 'https://www.macrotrends.net/stocks/charts/WMB/williams/price-book'\n",
       "\\item 'https://www.macrotrends.net/stocks/charts/DRI/darden-restaurants/price-book'\n",
       "\\item 'https://www.macrotrends.net/stocks/charts/WBA/walgreens/price-book'\n",
       "\\item 'https://www.macrotrends.net/stocks/charts/VLO/valero-energy/price-book'\n",
       "\\item 'https://www.macrotrends.net/stocks/charts/CAT/caterpillar/price-book'\n",
       "\\item 'https://www.macrotrends.net/stocks/charts/NRG/nrg-energy/price-book'\n",
       "\\item 'https://www.macrotrends.net/stocks/charts/MCK/mckesson/price-book'\n",
       "\\item 'https://www.macrotrends.net/stocks/charts/STZ/constellation-brands-inc/price-book'\n",
       "\\item 'https://www.macrotrends.net/stocks/charts/ZBRA/zebra-technologies/price-book'\n",
       "\\item 'https://www.macrotrends.net/stocks/charts/MHK/mohawk-industries/price-book'\n",
       "\\item 'https://www.macrotrends.net/stocks/charts/LRCX/lam-research/price-book'\n",
       "\\item 'https://www.macrotrends.net/stocks/charts/YUM/yum!-brands/price-book'\n",
       "\\end{enumerate}\n"
      ],
      "text/markdown": [
       "1. 'https://www.macrotrends.net/stocks/charts/ABT/abbott-laboratories/price-book'\n",
       "2. 'https://www.macrotrends.net/stocks/charts/CMS/cms-energy/price-book'\n",
       "3. 'https://www.macrotrends.net/stocks/charts/PNR/pentair/price-book'\n",
       "4. 'https://www.macrotrends.net/stocks/charts/AVB/avalonbay-communities/price-book'\n",
       "5. 'https://www.macrotrends.net/stocks/charts/IEX/idex/price-book'\n",
       "6. 'https://www.macrotrends.net/stocks/charts/SBAC/sba-communications/price-book'\n",
       "7. 'https://www.macrotrends.net/stocks/charts/QCOM/qualcomm/price-book'\n",
       "8. 'https://www.macrotrends.net/stocks/charts/BWA/borgwarner/price-book'\n",
       "9. 'https://www.macrotrends.net/stocks/charts/WMB/williams/price-book'\n",
       "10. 'https://www.macrotrends.net/stocks/charts/DRI/darden-restaurants/price-book'\n",
       "11. 'https://www.macrotrends.net/stocks/charts/WBA/walgreens/price-book'\n",
       "12. 'https://www.macrotrends.net/stocks/charts/VLO/valero-energy/price-book'\n",
       "13. 'https://www.macrotrends.net/stocks/charts/CAT/caterpillar/price-book'\n",
       "14. 'https://www.macrotrends.net/stocks/charts/NRG/nrg-energy/price-book'\n",
       "15. 'https://www.macrotrends.net/stocks/charts/MCK/mckesson/price-book'\n",
       "16. 'https://www.macrotrends.net/stocks/charts/STZ/constellation-brands-inc/price-book'\n",
       "17. 'https://www.macrotrends.net/stocks/charts/ZBRA/zebra-technologies/price-book'\n",
       "18. 'https://www.macrotrends.net/stocks/charts/MHK/mohawk-industries/price-book'\n",
       "19. 'https://www.macrotrends.net/stocks/charts/LRCX/lam-research/price-book'\n",
       "20. 'https://www.macrotrends.net/stocks/charts/YUM/yum!-brands/price-book'\n",
       "\n",
       "\n"
      ],
      "text/plain": [
       "[[1]]\n",
       "[1] \"https://www.macrotrends.net/stocks/charts/ABT/abbott-laboratories/price-book\"\n",
       "\n",
       "[[2]]\n",
       "[1] \"https://www.macrotrends.net/stocks/charts/CMS/cms-energy/price-book\"\n",
       "\n",
       "[[3]]\n",
       "[1] \"https://www.macrotrends.net/stocks/charts/PNR/pentair/price-book\"\n",
       "\n",
       "[[4]]\n",
       "[1] \"https://www.macrotrends.net/stocks/charts/AVB/avalonbay-communities/price-book\"\n",
       "\n",
       "[[5]]\n",
       "[1] \"https://www.macrotrends.net/stocks/charts/IEX/idex/price-book\"\n",
       "\n",
       "[[6]]\n",
       "[1] \"https://www.macrotrends.net/stocks/charts/SBAC/sba-communications/price-book\"\n",
       "\n",
       "[[7]]\n",
       "[1] \"https://www.macrotrends.net/stocks/charts/QCOM/qualcomm/price-book\"\n",
       "\n",
       "[[8]]\n",
       "[1] \"https://www.macrotrends.net/stocks/charts/BWA/borgwarner/price-book\"\n",
       "\n",
       "[[9]]\n",
       "[1] \"https://www.macrotrends.net/stocks/charts/WMB/williams/price-book\"\n",
       "\n",
       "[[10]]\n",
       "[1] \"https://www.macrotrends.net/stocks/charts/DRI/darden-restaurants/price-book\"\n",
       "\n",
       "[[11]]\n",
       "[1] \"https://www.macrotrends.net/stocks/charts/WBA/walgreens/price-book\"\n",
       "\n",
       "[[12]]\n",
       "[1] \"https://www.macrotrends.net/stocks/charts/VLO/valero-energy/price-book\"\n",
       "\n",
       "[[13]]\n",
       "[1] \"https://www.macrotrends.net/stocks/charts/CAT/caterpillar/price-book\"\n",
       "\n",
       "[[14]]\n",
       "[1] \"https://www.macrotrends.net/stocks/charts/NRG/nrg-energy/price-book\"\n",
       "\n",
       "[[15]]\n",
       "[1] \"https://www.macrotrends.net/stocks/charts/MCK/mckesson/price-book\"\n",
       "\n",
       "[[16]]\n",
       "[1] \"https://www.macrotrends.net/stocks/charts/STZ/constellation-brands-inc/price-book\"\n",
       "\n",
       "[[17]]\n",
       "[1] \"https://www.macrotrends.net/stocks/charts/ZBRA/zebra-technologies/price-book\"\n",
       "\n",
       "[[18]]\n",
       "[1] \"https://www.macrotrends.net/stocks/charts/MHK/mohawk-industries/price-book\"\n",
       "\n",
       "[[19]]\n",
       "[1] \"https://www.macrotrends.net/stocks/charts/LRCX/lam-research/price-book\"\n",
       "\n",
       "[[20]]\n",
       "[1] \"https://www.macrotrends.net/stocks/charts/YUM/yum!-brands/price-book\"\n"
      ]
     },
     "metadata": {},
     "output_type": "display_data"
    }
   ],
   "source": [
    "#  Searching for company names, create webpage link from symbols\n",
    "getLink <- function(symb){    \n",
    "    r1 <- GET(paste0(m_website, symb))\n",
    "    return (paste0(r1[[1]] , m_pb))\n",
    "}\n",
    "\n",
    "# Call the function and output updated links\n",
    "links <- lapply(p_symbols, getLink)\n",
    "links"
   ]
  },
  {
   "cell_type": "markdown",
   "id": "fde07aa6",
   "metadata": {},
   "source": [
    "* Apply **treasuryTR** library to download PB data from html_table, and save data into a xts list: **book_value**"
   ]
  },
  {
   "cell_type": "code",
   "execution_count": 7,
   "id": "e842b49b",
   "metadata": {},
   "outputs": [
    {
     "data": {
      "text/html": [
       "<ol>\n",
       "\t<li><span style=white-space:pre-wrap>'ABT:  Book Value data is downloaded successfully !'</span></li>\n",
       "\t<li><span style=white-space:pre-wrap>'CMS:  Book Value data is downloaded successfully !'</span></li>\n",
       "\t<li><span style=white-space:pre-wrap>'PNR:  Book Value data is downloaded successfully !'</span></li>\n",
       "\t<li><span style=white-space:pre-wrap>'AVB:  Book Value data is downloaded successfully !'</span></li>\n",
       "\t<li><span style=white-space:pre-wrap>'IEX:  Book Value data is downloaded successfully !'</span></li>\n",
       "\t<li><span style=white-space:pre-wrap>'SBAC:  Book Value data is downloaded successfully !'</span></li>\n",
       "\t<li><span style=white-space:pre-wrap>'QCOM:  Book Value data is downloaded successfully !'</span></li>\n",
       "\t<li><span style=white-space:pre-wrap>'BWA:  Book Value data is downloaded successfully !'</span></li>\n",
       "\t<li><span style=white-space:pre-wrap>'WMB:  Book Value data is downloaded successfully !'</span></li>\n",
       "\t<li><span style=white-space:pre-wrap>'DRI:  Book Value data is downloaded successfully !'</span></li>\n",
       "\t<li><span style=white-space:pre-wrap>'WBA:  Book Value data is downloaded successfully !'</span></li>\n",
       "\t<li><span style=white-space:pre-wrap>'VLO:  Book Value data is downloaded successfully !'</span></li>\n",
       "\t<li><span style=white-space:pre-wrap>'CAT:  Book Value data is downloaded successfully !'</span></li>\n",
       "\t<li><span style=white-space:pre-wrap>'NRG:  Book Value data is downloaded successfully !'</span></li>\n",
       "\t<li><span style=white-space:pre-wrap>'MCK:  Book Value data is downloaded successfully !'</span></li>\n",
       "\t<li><span style=white-space:pre-wrap>'STZ:  Book Value data is downloaded successfully !'</span></li>\n",
       "\t<li><span style=white-space:pre-wrap>'ZBRA:  Book Value data is downloaded successfully !'</span></li>\n",
       "\t<li><span style=white-space:pre-wrap>'MHK:  Book Value data is downloaded successfully !'</span></li>\n",
       "\t<li><span style=white-space:pre-wrap>'LRCX:  Book Value data is downloaded successfully !'</span></li>\n",
       "\t<li><span style=white-space:pre-wrap>'YUM:  Book Value data is downloaded successfully !'</span></li>\n",
       "</ol>\n"
      ],
      "text/latex": [
       "\\begin{enumerate}\n",
       "\\item 'ABT:  Book Value data is downloaded successfully !'\n",
       "\\item 'CMS:  Book Value data is downloaded successfully !'\n",
       "\\item 'PNR:  Book Value data is downloaded successfully !'\n",
       "\\item 'AVB:  Book Value data is downloaded successfully !'\n",
       "\\item 'IEX:  Book Value data is downloaded successfully !'\n",
       "\\item 'SBAC:  Book Value data is downloaded successfully !'\n",
       "\\item 'QCOM:  Book Value data is downloaded successfully !'\n",
       "\\item 'BWA:  Book Value data is downloaded successfully !'\n",
       "\\item 'WMB:  Book Value data is downloaded successfully !'\n",
       "\\item 'DRI:  Book Value data is downloaded successfully !'\n",
       "\\item 'WBA:  Book Value data is downloaded successfully !'\n",
       "\\item 'VLO:  Book Value data is downloaded successfully !'\n",
       "\\item 'CAT:  Book Value data is downloaded successfully !'\n",
       "\\item 'NRG:  Book Value data is downloaded successfully !'\n",
       "\\item 'MCK:  Book Value data is downloaded successfully !'\n",
       "\\item 'STZ:  Book Value data is downloaded successfully !'\n",
       "\\item 'ZBRA:  Book Value data is downloaded successfully !'\n",
       "\\item 'MHK:  Book Value data is downloaded successfully !'\n",
       "\\item 'LRCX:  Book Value data is downloaded successfully !'\n",
       "\\item 'YUM:  Book Value data is downloaded successfully !'\n",
       "\\end{enumerate}\n"
      ],
      "text/markdown": [
       "1. <span style=white-space:pre-wrap>'ABT:  Book Value data is downloaded successfully !'</span>\n",
       "2. <span style=white-space:pre-wrap>'CMS:  Book Value data is downloaded successfully !'</span>\n",
       "3. <span style=white-space:pre-wrap>'PNR:  Book Value data is downloaded successfully !'</span>\n",
       "4. <span style=white-space:pre-wrap>'AVB:  Book Value data is downloaded successfully !'</span>\n",
       "5. <span style=white-space:pre-wrap>'IEX:  Book Value data is downloaded successfully !'</span>\n",
       "6. <span style=white-space:pre-wrap>'SBAC:  Book Value data is downloaded successfully !'</span>\n",
       "7. <span style=white-space:pre-wrap>'QCOM:  Book Value data is downloaded successfully !'</span>\n",
       "8. <span style=white-space:pre-wrap>'BWA:  Book Value data is downloaded successfully !'</span>\n",
       "9. <span style=white-space:pre-wrap>'WMB:  Book Value data is downloaded successfully !'</span>\n",
       "10. <span style=white-space:pre-wrap>'DRI:  Book Value data is downloaded successfully !'</span>\n",
       "11. <span style=white-space:pre-wrap>'WBA:  Book Value data is downloaded successfully !'</span>\n",
       "12. <span style=white-space:pre-wrap>'VLO:  Book Value data is downloaded successfully !'</span>\n",
       "13. <span style=white-space:pre-wrap>'CAT:  Book Value data is downloaded successfully !'</span>\n",
       "14. <span style=white-space:pre-wrap>'NRG:  Book Value data is downloaded successfully !'</span>\n",
       "15. <span style=white-space:pre-wrap>'MCK:  Book Value data is downloaded successfully !'</span>\n",
       "16. <span style=white-space:pre-wrap>'STZ:  Book Value data is downloaded successfully !'</span>\n",
       "17. <span style=white-space:pre-wrap>'ZBRA:  Book Value data is downloaded successfully !'</span>\n",
       "18. <span style=white-space:pre-wrap>'MHK:  Book Value data is downloaded successfully !'</span>\n",
       "19. <span style=white-space:pre-wrap>'LRCX:  Book Value data is downloaded successfully !'</span>\n",
       "20. <span style=white-space:pre-wrap>'YUM:  Book Value data is downloaded successfully !'</span>\n",
       "\n",
       "\n"
      ],
      "text/plain": [
       "[[1]]\n",
       "[1] \"ABT:  Book Value data is downloaded successfully !\"\n",
       "\n",
       "[[2]]\n",
       "[1] \"CMS:  Book Value data is downloaded successfully !\"\n",
       "\n",
       "[[3]]\n",
       "[1] \"PNR:  Book Value data is downloaded successfully !\"\n",
       "\n",
       "[[4]]\n",
       "[1] \"AVB:  Book Value data is downloaded successfully !\"\n",
       "\n",
       "[[5]]\n",
       "[1] \"IEX:  Book Value data is downloaded successfully !\"\n",
       "\n",
       "[[6]]\n",
       "[1] \"SBAC:  Book Value data is downloaded successfully !\"\n",
       "\n",
       "[[7]]\n",
       "[1] \"QCOM:  Book Value data is downloaded successfully !\"\n",
       "\n",
       "[[8]]\n",
       "[1] \"BWA:  Book Value data is downloaded successfully !\"\n",
       "\n",
       "[[9]]\n",
       "[1] \"WMB:  Book Value data is downloaded successfully !\"\n",
       "\n",
       "[[10]]\n",
       "[1] \"DRI:  Book Value data is downloaded successfully !\"\n",
       "\n",
       "[[11]]\n",
       "[1] \"WBA:  Book Value data is downloaded successfully !\"\n",
       "\n",
       "[[12]]\n",
       "[1] \"VLO:  Book Value data is downloaded successfully !\"\n",
       "\n",
       "[[13]]\n",
       "[1] \"CAT:  Book Value data is downloaded successfully !\"\n",
       "\n",
       "[[14]]\n",
       "[1] \"NRG:  Book Value data is downloaded successfully !\"\n",
       "\n",
       "[[15]]\n",
       "[1] \"MCK:  Book Value data is downloaded successfully !\"\n",
       "\n",
       "[[16]]\n",
       "[1] \"STZ:  Book Value data is downloaded successfully !\"\n",
       "\n",
       "[[17]]\n",
       "[1] \"ZBRA:  Book Value data is downloaded successfully !\"\n",
       "\n",
       "[[18]]\n",
       "[1] \"MHK:  Book Value data is downloaded successfully !\"\n",
       "\n",
       "[[19]]\n",
       "[1] \"LRCX:  Book Value data is downloaded successfully !\"\n",
       "\n",
       "[[20]]\n",
       "[1] \"YUM:  Book Value data is downloaded successfully !\"\n"
      ]
     },
     "metadata": {},
     "output_type": "display_data"
    }
   ],
   "source": [
    "# Download PB data from website, and put data into xts list named \"book_value\"\n",
    "# This process may run a while ...\n",
    "\n",
    "# Create download data function\n",
    "getPB <- function(symbol_in){   \n",
    "    \n",
    "    # Get the links\n",
    "    r1 <- GET(paste0(m_website, symbol_in))\n",
    "    link_in <- (paste0(r1[[1]] , m_pb))       \n",
    "    \n",
    "    # Read HTML data from webpage\n",
    "    t_table <- read_html(link_in) %>% \n",
    "        html_table(header = TRUE, fill = TRUE ) %>% \n",
    "            .[[1]]    \n",
    "    \n",
    "    # Rename table columns\n",
    "    colnames(t_table) <- c(\"date\", \"Stock Price\", paste0(symbol_in,\".Book Value per Share\"),\n",
    "                            \"Price/Book Ratio\")    \n",
    "    # Clean data format\n",
    "    t_table <- t_table[-1,] # Remove first row column names\n",
    "    t_table[[1]] <- as.Date(t_table[[1]]) # Format date\n",
    "    t_table[[2]] <- as.numeric(t_table[[2]]) # Format Stock Price\n",
    "    t_table[[3]] <- as.numeric(gsub(\"[$,]\",\"\",t_table[[3]])) # Format Book Value\n",
    "    t_table[[4]] <- as.numeric(t_table[[4]]) # Format PB\n",
    "    \n",
    "    # Put html_table into xts format\n",
    "    t_xts <- tibble_to_xts(t_table)\n",
    "\n",
    "    # Put xts object into global list\n",
    "    book_value[[symbol_in]] <<- t_xts \n",
    "    \n",
    "    return (paste0(symbol_in , \":  Book Value data is downloaded successfully !\"))\n",
    "}\n",
    "\n",
    "# Create a xts list for book value data\n",
    "book_value <- list()\n",
    "\n",
    "# call getPB function for 20 symbols\n",
    "lapply(p_symbols, getPB)\n"
   ]
  },
  {
   "cell_type": "markdown",
   "id": "54c8932a",
   "metadata": {},
   "source": [
    "* Verify data format and date range"
   ]
  },
  {
   "cell_type": "code",
   "execution_count": 8,
   "id": "32014d39",
   "metadata": {},
   "outputs": [
    {
     "data": {
      "text/html": [
       "20"
      ],
      "text/latex": [
       "20"
      ],
      "text/markdown": [
       "20"
      ],
      "text/plain": [
       "[1] 20"
      ]
     },
     "metadata": {},
     "output_type": "display_data"
    },
    {
     "data": {
      "text/html": [
       "<style>\n",
       ".list-inline {list-style: none; margin:0; padding: 0}\n",
       ".list-inline>li {display: inline-block}\n",
       ".list-inline>li:not(:last-child)::after {content: \"\\00b7\"; padding: 0 .5ex}\n",
       "</style>\n",
       "<ol class=list-inline><li>'ABT'</li><li>'CMS'</li><li>'PNR'</li><li>'AVB'</li><li>'IEX'</li><li>'SBAC'</li><li>'QCOM'</li><li>'BWA'</li><li>'WMB'</li><li>'DRI'</li><li>'WBA'</li><li>'VLO'</li><li>'CAT'</li><li>'NRG'</li><li>'MCK'</li><li>'STZ'</li><li>'ZBRA'</li><li>'MHK'</li><li>'LRCX'</li><li>'YUM'</li></ol>\n"
      ],
      "text/latex": [
       "\\begin{enumerate*}\n",
       "\\item 'ABT'\n",
       "\\item 'CMS'\n",
       "\\item 'PNR'\n",
       "\\item 'AVB'\n",
       "\\item 'IEX'\n",
       "\\item 'SBAC'\n",
       "\\item 'QCOM'\n",
       "\\item 'BWA'\n",
       "\\item 'WMB'\n",
       "\\item 'DRI'\n",
       "\\item 'WBA'\n",
       "\\item 'VLO'\n",
       "\\item 'CAT'\n",
       "\\item 'NRG'\n",
       "\\item 'MCK'\n",
       "\\item 'STZ'\n",
       "\\item 'ZBRA'\n",
       "\\item 'MHK'\n",
       "\\item 'LRCX'\n",
       "\\item 'YUM'\n",
       "\\end{enumerate*}\n"
      ],
      "text/markdown": [
       "1. 'ABT'\n",
       "2. 'CMS'\n",
       "3. 'PNR'\n",
       "4. 'AVB'\n",
       "5. 'IEX'\n",
       "6. 'SBAC'\n",
       "7. 'QCOM'\n",
       "8. 'BWA'\n",
       "9. 'WMB'\n",
       "10. 'DRI'\n",
       "11. 'WBA'\n",
       "12. 'VLO'\n",
       "13. 'CAT'\n",
       "14. 'NRG'\n",
       "15. 'MCK'\n",
       "16. 'STZ'\n",
       "17. 'ZBRA'\n",
       "18. 'MHK'\n",
       "19. 'LRCX'\n",
       "20. 'YUM'\n",
       "\n",
       "\n"
      ],
      "text/plain": [
       " [1] \"ABT\"  \"CMS\"  \"PNR\"  \"AVB\"  \"IEX\"  \"SBAC\" \"QCOM\" \"BWA\"  \"WMB\"  \"DRI\" \n",
       "[11] \"WBA\"  \"VLO\"  \"CAT\"  \"NRG\"  \"MCK\"  \"STZ\"  \"ZBRA\" \"MHK\"  \"LRCX\" \"YUM\" "
      ]
     },
     "metadata": {},
     "output_type": "display_data"
    },
    {
     "data": {
      "text/plain": [
       "$ABT\n",
       "           Stock Price ABT.Book Value per Share Price/Book Ratio\n",
       "2009-03-31       18.08                    11.64             1.55\n",
       "2009-06-30       17.90                    12.89             1.39\n",
       "2009-09-30       18.91                    13.82             1.37\n",
       "\n",
       "$CMS\n",
       "           Stock Price CMS.Book Value per Share Price/Book Ratio\n",
       "2009-03-31        7.64                    11.33             0.67\n",
       "2009-06-30        7.87                    11.60             0.68\n",
       "2009-09-30        8.82                    11.81             0.75\n"
      ]
     },
     "metadata": {},
     "output_type": "display_data"
    },
    {
     "data": {
      "text/plain": [
       "$ABT\n",
       "           Stock Price ABT.Book Value per Share Price/Book Ratio\n",
       "2021-06-30      114.63                    19.19             5.97\n",
       "2021-09-30      117.25                    19.59             5.99\n",
       "2022-04-06      119.94                       NA             6.12\n",
       "\n",
       "$CMS\n",
       "           Stock Price CMS.Book Value per Share Price/Book Ratio\n",
       "2021-09-30       58.87                    22.97             2.56\n",
       "2021-12-31       64.57                    24.80             2.60\n",
       "2022-04-06       73.56                       NA             2.97\n"
      ]
     },
     "metadata": {},
     "output_type": "display_data"
    }
   ],
   "source": [
    "# Save data into file if necessary\n",
    "# save(book_value, file = \"2-PB.RData\")\n",
    "# load(\"2-PB.RData\")\n",
    "\n",
    "# check the data, symbol names and counts\n",
    "length(book_value)\n",
    "attributes(book_value)$names\n",
    "\n",
    "# check data date range\n",
    "lapply(book_value, head, 3)[1:2]\n",
    "lapply(book_value, tail, 3)[1:2]"
   ]
  },
  {
   "cell_type": "markdown",
   "id": "625b9f4d",
   "metadata": {},
   "source": [
    "### <span style='background: lightblue'>(4). Download Market Cap Data</span>"
   ]
  },
  {
   "cell_type": "code",
   "execution_count": 9,
   "id": "791d0c91",
   "metadata": {},
   "outputs": [
    {
     "data": {
      "text/html": [
       "'https://www.macrotrends.net/assets/php/market_cap.php?t='"
      ],
      "text/latex": [
       "'https://www.macrotrends.net/assets/php/market\\_cap.php?t='"
      ],
      "text/markdown": [
       "'https://www.macrotrends.net/assets/php/market_cap.php?t='"
      ],
      "text/plain": [
       "[1] \"https://www.macrotrends.net/assets/php/market_cap.php?t=\""
      ]
     },
     "metadata": {},
     "output_type": "display_data"
    }
   ],
   "source": [
    "# Setup global parameters\n",
    "mc_website <- \"https://www.macrotrends.net/assets/php/market_cap.php?t=\"\n",
    "mc_website\n",
    "# Create a xts list for book value data\n",
    "MktCap <- list()"
   ]
  },
  {
   "cell_type": "markdown",
   "id": "95865772",
   "metadata": {},
   "source": [
    "* Applying **jsonlite** library to download Market Cap data from html, and put data into a xts list named: **MktCap**"
   ]
  },
  {
   "cell_type": "code",
   "execution_count": 10,
   "id": "b0d60735",
   "metadata": {},
   "outputs": [
    {
     "name": "stdout",
     "output_type": "stream",
     "text": [
      "[1] \"https://www.macrotrends.net/assets/php/market_cap.php?t=ABT\"\n",
      "[1] \"https://www.macrotrends.net/assets/php/market_cap.php?t=CMS\"\n",
      "[1] \"https://www.macrotrends.net/assets/php/market_cap.php?t=PNR\"\n",
      "[1] \"https://www.macrotrends.net/assets/php/market_cap.php?t=AVB\"\n",
      "[1] \"https://www.macrotrends.net/assets/php/market_cap.php?t=IEX\"\n",
      "[1] \"https://www.macrotrends.net/assets/php/market_cap.php?t=SBAC\"\n",
      "[1] \"https://www.macrotrends.net/assets/php/market_cap.php?t=QCOM\"\n",
      "[1] \"https://www.macrotrends.net/assets/php/market_cap.php?t=BWA\"\n",
      "[1] \"https://www.macrotrends.net/assets/php/market_cap.php?t=WMB\"\n",
      "[1] \"https://www.macrotrends.net/assets/php/market_cap.php?t=DRI\"\n",
      "[1] \"https://www.macrotrends.net/assets/php/market_cap.php?t=WBA\"\n",
      "[1] \"https://www.macrotrends.net/assets/php/market_cap.php?t=VLO\"\n",
      "[1] \"https://www.macrotrends.net/assets/php/market_cap.php?t=CAT\"\n",
      "[1] \"https://www.macrotrends.net/assets/php/market_cap.php?t=NRG\"\n",
      "[1] \"https://www.macrotrends.net/assets/php/market_cap.php?t=MCK\"\n",
      "[1] \"https://www.macrotrends.net/assets/php/market_cap.php?t=STZ\"\n",
      "[1] \"https://www.macrotrends.net/assets/php/market_cap.php?t=ZBRA\"\n",
      "[1] \"https://www.macrotrends.net/assets/php/market_cap.php?t=MHK\"\n",
      "[1] \"https://www.macrotrends.net/assets/php/market_cap.php?t=LRCX\"\n",
      "[1] \"https://www.macrotrends.net/assets/php/market_cap.php?t=YUM\"\n"
     ]
    },
    {
     "data": {
      "text/html": [
       "<ol>\n",
       "\t<li><span style=white-space:pre-wrap>'ABT:  Market Cap data is downloaded successfully !'</span></li>\n",
       "\t<li><span style=white-space:pre-wrap>'CMS:  Market Cap data is downloaded successfully !'</span></li>\n",
       "\t<li><span style=white-space:pre-wrap>'PNR:  Market Cap data is downloaded successfully !'</span></li>\n",
       "\t<li><span style=white-space:pre-wrap>'AVB:  Market Cap data is downloaded successfully !'</span></li>\n",
       "\t<li><span style=white-space:pre-wrap>'IEX:  Market Cap data is downloaded successfully !'</span></li>\n",
       "\t<li><span style=white-space:pre-wrap>'SBAC:  Market Cap data is downloaded successfully !'</span></li>\n",
       "\t<li><span style=white-space:pre-wrap>'QCOM:  Market Cap data is downloaded successfully !'</span></li>\n",
       "\t<li><span style=white-space:pre-wrap>'BWA:  Market Cap data is downloaded successfully !'</span></li>\n",
       "\t<li><span style=white-space:pre-wrap>'WMB:  Market Cap data is downloaded successfully !'</span></li>\n",
       "\t<li><span style=white-space:pre-wrap>'DRI:  Market Cap data is downloaded successfully !'</span></li>\n",
       "\t<li><span style=white-space:pre-wrap>'WBA:  Market Cap data is downloaded successfully !'</span></li>\n",
       "\t<li><span style=white-space:pre-wrap>'VLO:  Market Cap data is downloaded successfully !'</span></li>\n",
       "\t<li><span style=white-space:pre-wrap>'CAT:  Market Cap data is downloaded successfully !'</span></li>\n",
       "\t<li><span style=white-space:pre-wrap>'NRG:  Market Cap data is downloaded successfully !'</span></li>\n",
       "\t<li><span style=white-space:pre-wrap>'MCK:  Market Cap data is downloaded successfully !'</span></li>\n",
       "\t<li><span style=white-space:pre-wrap>'STZ:  Market Cap data is downloaded successfully !'</span></li>\n",
       "\t<li><span style=white-space:pre-wrap>'ZBRA:  Market Cap data is downloaded successfully !'</span></li>\n",
       "\t<li><span style=white-space:pre-wrap>'MHK:  Market Cap data is downloaded successfully !'</span></li>\n",
       "\t<li><span style=white-space:pre-wrap>'LRCX:  Market Cap data is downloaded successfully !'</span></li>\n",
       "\t<li><span style=white-space:pre-wrap>'YUM:  Market Cap data is downloaded successfully !'</span></li>\n",
       "</ol>\n"
      ],
      "text/latex": [
       "\\begin{enumerate}\n",
       "\\item 'ABT:  Market Cap data is downloaded successfully !'\n",
       "\\item 'CMS:  Market Cap data is downloaded successfully !'\n",
       "\\item 'PNR:  Market Cap data is downloaded successfully !'\n",
       "\\item 'AVB:  Market Cap data is downloaded successfully !'\n",
       "\\item 'IEX:  Market Cap data is downloaded successfully !'\n",
       "\\item 'SBAC:  Market Cap data is downloaded successfully !'\n",
       "\\item 'QCOM:  Market Cap data is downloaded successfully !'\n",
       "\\item 'BWA:  Market Cap data is downloaded successfully !'\n",
       "\\item 'WMB:  Market Cap data is downloaded successfully !'\n",
       "\\item 'DRI:  Market Cap data is downloaded successfully !'\n",
       "\\item 'WBA:  Market Cap data is downloaded successfully !'\n",
       "\\item 'VLO:  Market Cap data is downloaded successfully !'\n",
       "\\item 'CAT:  Market Cap data is downloaded successfully !'\n",
       "\\item 'NRG:  Market Cap data is downloaded successfully !'\n",
       "\\item 'MCK:  Market Cap data is downloaded successfully !'\n",
       "\\item 'STZ:  Market Cap data is downloaded successfully !'\n",
       "\\item 'ZBRA:  Market Cap data is downloaded successfully !'\n",
       "\\item 'MHK:  Market Cap data is downloaded successfully !'\n",
       "\\item 'LRCX:  Market Cap data is downloaded successfully !'\n",
       "\\item 'YUM:  Market Cap data is downloaded successfully !'\n",
       "\\end{enumerate}\n"
      ],
      "text/markdown": [
       "1. <span style=white-space:pre-wrap>'ABT:  Market Cap data is downloaded successfully !'</span>\n",
       "2. <span style=white-space:pre-wrap>'CMS:  Market Cap data is downloaded successfully !'</span>\n",
       "3. <span style=white-space:pre-wrap>'PNR:  Market Cap data is downloaded successfully !'</span>\n",
       "4. <span style=white-space:pre-wrap>'AVB:  Market Cap data is downloaded successfully !'</span>\n",
       "5. <span style=white-space:pre-wrap>'IEX:  Market Cap data is downloaded successfully !'</span>\n",
       "6. <span style=white-space:pre-wrap>'SBAC:  Market Cap data is downloaded successfully !'</span>\n",
       "7. <span style=white-space:pre-wrap>'QCOM:  Market Cap data is downloaded successfully !'</span>\n",
       "8. <span style=white-space:pre-wrap>'BWA:  Market Cap data is downloaded successfully !'</span>\n",
       "9. <span style=white-space:pre-wrap>'WMB:  Market Cap data is downloaded successfully !'</span>\n",
       "10. <span style=white-space:pre-wrap>'DRI:  Market Cap data is downloaded successfully !'</span>\n",
       "11. <span style=white-space:pre-wrap>'WBA:  Market Cap data is downloaded successfully !'</span>\n",
       "12. <span style=white-space:pre-wrap>'VLO:  Market Cap data is downloaded successfully !'</span>\n",
       "13. <span style=white-space:pre-wrap>'CAT:  Market Cap data is downloaded successfully !'</span>\n",
       "14. <span style=white-space:pre-wrap>'NRG:  Market Cap data is downloaded successfully !'</span>\n",
       "15. <span style=white-space:pre-wrap>'MCK:  Market Cap data is downloaded successfully !'</span>\n",
       "16. <span style=white-space:pre-wrap>'STZ:  Market Cap data is downloaded successfully !'</span>\n",
       "17. <span style=white-space:pre-wrap>'ZBRA:  Market Cap data is downloaded successfully !'</span>\n",
       "18. <span style=white-space:pre-wrap>'MHK:  Market Cap data is downloaded successfully !'</span>\n",
       "19. <span style=white-space:pre-wrap>'LRCX:  Market Cap data is downloaded successfully !'</span>\n",
       "20. <span style=white-space:pre-wrap>'YUM:  Market Cap data is downloaded successfully !'</span>\n",
       "\n",
       "\n"
      ],
      "text/plain": [
       "[[1]]\n",
       "[1] \"ABT:  Market Cap data is downloaded successfully !\"\n",
       "\n",
       "[[2]]\n",
       "[1] \"CMS:  Market Cap data is downloaded successfully !\"\n",
       "\n",
       "[[3]]\n",
       "[1] \"PNR:  Market Cap data is downloaded successfully !\"\n",
       "\n",
       "[[4]]\n",
       "[1] \"AVB:  Market Cap data is downloaded successfully !\"\n",
       "\n",
       "[[5]]\n",
       "[1] \"IEX:  Market Cap data is downloaded successfully !\"\n",
       "\n",
       "[[6]]\n",
       "[1] \"SBAC:  Market Cap data is downloaded successfully !\"\n",
       "\n",
       "[[7]]\n",
       "[1] \"QCOM:  Market Cap data is downloaded successfully !\"\n",
       "\n",
       "[[8]]\n",
       "[1] \"BWA:  Market Cap data is downloaded successfully !\"\n",
       "\n",
       "[[9]]\n",
       "[1] \"WMB:  Market Cap data is downloaded successfully !\"\n",
       "\n",
       "[[10]]\n",
       "[1] \"DRI:  Market Cap data is downloaded successfully !\"\n",
       "\n",
       "[[11]]\n",
       "[1] \"WBA:  Market Cap data is downloaded successfully !\"\n",
       "\n",
       "[[12]]\n",
       "[1] \"VLO:  Market Cap data is downloaded successfully !\"\n",
       "\n",
       "[[13]]\n",
       "[1] \"CAT:  Market Cap data is downloaded successfully !\"\n",
       "\n",
       "[[14]]\n",
       "[1] \"NRG:  Market Cap data is downloaded successfully !\"\n",
       "\n",
       "[[15]]\n",
       "[1] \"MCK:  Market Cap data is downloaded successfully !\"\n",
       "\n",
       "[[16]]\n",
       "[1] \"STZ:  Market Cap data is downloaded successfully !\"\n",
       "\n",
       "[[17]]\n",
       "[1] \"ZBRA:  Market Cap data is downloaded successfully !\"\n",
       "\n",
       "[[18]]\n",
       "[1] \"MHK:  Market Cap data is downloaded successfully !\"\n",
       "\n",
       "[[19]]\n",
       "[1] \"LRCX:  Market Cap data is downloaded successfully !\"\n",
       "\n",
       "[[20]]\n",
       "[1] \"YUM:  Market Cap data is downloaded successfully !\"\n"
      ]
     },
     "metadata": {},
     "output_type": "display_data"
    }
   ],
   "source": [
    "# Download Market Cap data from website, and put data into xts list named \"MktCap\"\n",
    "# This process may run a while ...\n",
    "\n",
    "# Create download data function\n",
    "getMC <- function(symbol_in){   \n",
    "    \n",
    "    # Get the links     \n",
    "    link_in <- paste0(mc_website, symbol_in)\n",
    "    \n",
    "    print(link_in)\n",
    "    # Read HTML data from webpage\n",
    "    m_node <- read_html(link_in) %>% \n",
    "        html_node('body') %>%\n",
    "            html_children() %>%  \n",
    "                html_text() \n",
    "    \n",
    "    # Parse html data\n",
    "    s1 <- strsplit(m_node, split = \"]\")\n",
    "    s2 <- strsplit(s1[[2]][1], split = \"=\")\n",
    "    s3 <- paste0(s2[[1]][2], \"]\")\n",
    "\n",
    "    # call jsonlite library, get data frame\n",
    "    mc_j <- fromJSON(s3)    \n",
    "    \n",
    "    # Convert data frame to time series\n",
    "    mc_xts <- xts(mc_j[,2], as.Date(mc_j$date))  \n",
    "    colnames(mc_xts) <- paste0(symbol_in,\".Market Cap\")\n",
    "\n",
    "    # Put xts object into global list\n",
    "    MktCap[[symbol_in]] <<- mc_xts \n",
    "    \n",
    "    return (paste0(symbol_in , \":  Market Cap data is downloaded successfully !\"))\n",
    "}\n",
    "\n",
    "# call getPB function for 20 symbols\n",
    "lapply(p_symbols, getMC)"
   ]
  },
  {
   "cell_type": "markdown",
   "id": "9f982c3c",
   "metadata": {},
   "source": [
    "* Verify data format and check date range"
   ]
  },
  {
   "cell_type": "code",
   "execution_count": 11,
   "id": "0849d62d",
   "metadata": {},
   "outputs": [
    {
     "data": {
      "text/html": [
       "20"
      ],
      "text/latex": [
       "20"
      ],
      "text/markdown": [
       "20"
      ],
      "text/plain": [
       "[1] 20"
      ]
     },
     "metadata": {},
     "output_type": "display_data"
    },
    {
     "data": {
      "text/html": [
       "<style>\n",
       ".list-inline {list-style: none; margin:0; padding: 0}\n",
       ".list-inline>li {display: inline-block}\n",
       ".list-inline>li:not(:last-child)::after {content: \"\\00b7\"; padding: 0 .5ex}\n",
       "</style>\n",
       "<ol class=list-inline><li>'ABT'</li><li>'CMS'</li><li>'PNR'</li><li>'AVB'</li><li>'IEX'</li><li>'SBAC'</li><li>'QCOM'</li><li>'BWA'</li><li>'WMB'</li><li>'DRI'</li><li>'WBA'</li><li>'VLO'</li><li>'CAT'</li><li>'NRG'</li><li>'MCK'</li><li>'STZ'</li><li>'ZBRA'</li><li>'MHK'</li><li>'LRCX'</li><li>'YUM'</li></ol>\n"
      ],
      "text/latex": [
       "\\begin{enumerate*}\n",
       "\\item 'ABT'\n",
       "\\item 'CMS'\n",
       "\\item 'PNR'\n",
       "\\item 'AVB'\n",
       "\\item 'IEX'\n",
       "\\item 'SBAC'\n",
       "\\item 'QCOM'\n",
       "\\item 'BWA'\n",
       "\\item 'WMB'\n",
       "\\item 'DRI'\n",
       "\\item 'WBA'\n",
       "\\item 'VLO'\n",
       "\\item 'CAT'\n",
       "\\item 'NRG'\n",
       "\\item 'MCK'\n",
       "\\item 'STZ'\n",
       "\\item 'ZBRA'\n",
       "\\item 'MHK'\n",
       "\\item 'LRCX'\n",
       "\\item 'YUM'\n",
       "\\end{enumerate*}\n"
      ],
      "text/markdown": [
       "1. 'ABT'\n",
       "2. 'CMS'\n",
       "3. 'PNR'\n",
       "4. 'AVB'\n",
       "5. 'IEX'\n",
       "6. 'SBAC'\n",
       "7. 'QCOM'\n",
       "8. 'BWA'\n",
       "9. 'WMB'\n",
       "10. 'DRI'\n",
       "11. 'WBA'\n",
       "12. 'VLO'\n",
       "13. 'CAT'\n",
       "14. 'NRG'\n",
       "15. 'MCK'\n",
       "16. 'STZ'\n",
       "17. 'ZBRA'\n",
       "18. 'MHK'\n",
       "19. 'LRCX'\n",
       "20. 'YUM'\n",
       "\n",
       "\n"
      ],
      "text/plain": [
       " [1] \"ABT\"  \"CMS\"  \"PNR\"  \"AVB\"  \"IEX\"  \"SBAC\" \"QCOM\" \"BWA\"  \"WMB\"  \"DRI\" \n",
       "[11] \"WBA\"  \"VLO\"  \"CAT\"  \"NRG\"  \"MCK\"  \"STZ\"  \"ZBRA\" \"MHK\"  \"LRCX\" \"YUM\" "
      ]
     },
     "metadata": {},
     "output_type": "display_data"
    },
    {
     "data": {
      "text/plain": [
       "$ABT\n",
       "           ABT.Market Cap\n",
       "2009-04-01          72.18\n",
       "2009-04-02          70.14\n",
       "2009-04-03          68.19\n",
       "\n",
       "$CMS\n",
       "           CMS.Market Cap\n",
       "2009-04-01           2.71\n",
       "2009-04-02           2.75\n",
       "2009-04-03           2.77\n"
      ]
     },
     "metadata": {},
     "output_type": "display_data"
    },
    {
     "data": {
      "text/plain": [
       "$ABT\n",
       "           ABT.Market Cap\n",
       "2022-04-01         210.42\n",
       "2022-04-04         210.95\n",
       "2022-04-05         212.02\n",
       "\n",
       "$CMS\n",
       "           CMS.Market Cap\n",
       "2022-04-01          20.55\n",
       "2022-04-04          20.40\n",
       "2022-04-05          20.55\n"
      ]
     },
     "metadata": {},
     "output_type": "display_data"
    }
   ],
   "source": [
    "# Save data into file if necessary\n",
    "# save(MktCap, file = \"3-MC.RData\")\n",
    "# load(\"3-MC.RData\")\n",
    "\n",
    "# check the data, symbol names and counts\n",
    "length(MktCap)\n",
    "attributes(MktCap)$names\n",
    "\n",
    "# check data date range\n",
    "lapply(MktCap, head, 3)[1:2]\n",
    "lapply(MktCap, tail, 3)[1:2]"
   ]
  },
  {
   "cell_type": "markdown",
   "id": "d3b0764a",
   "metadata": {},
   "source": [
    "### <span style='background: lightblue'>(5). Verify data by Plot Observation</span>"
   ]
  },
  {
   "cell_type": "markdown",
   "id": "db4ef423",
   "metadata": {},
   "source": [
    "* Check Stock price data by plots"
   ]
  },
  {
   "cell_type": "code",
   "execution_count": 12,
   "id": "51c5f6ed",
   "metadata": {},
   "outputs": [
    {
     "data": {
      "image/png": "[encoded data removed]",
      "text/plain": [
       "Plot with title \"BWA.Adjusted\""
      ]
     },
     "metadata": {
      "image/png": {
       "height": 480,
       "width": 720
      }
     },
     "output_type": "display_data"
    },
    {
     "data": {
      "text/html": [
       "<dl>\n",
       "\t<dt>$ABT</dt>\n",
       "\t\t<dd>NULL</dd>\n",
       "\t<dt>$CMS</dt>\n",
       "\t\t<dd>NULL</dd>\n",
       "\t<dt>$PNR</dt>\n",
       "\t\t<dd>NULL</dd>\n",
       "\t<dt>$AVB</dt>\n",
       "\t\t<dd>NULL</dd>\n",
       "\t<dt>$IEX</dt>\n",
       "\t\t<dd>NULL</dd>\n",
       "\t<dt>$SBAC</dt>\n",
       "\t\t<dd>NULL</dd>\n",
       "\t<dt>$QCOM</dt>\n",
       "\t\t<dd>NULL</dd>\n",
       "\t<dt>$BWA</dt>\n",
       "\t\t<dd>NULL</dd>\n",
       "\t<dt>$WMB</dt>\n",
       "\t\t<dd>NULL</dd>\n",
       "\t<dt>$DRI</dt>\n",
       "\t\t<dd>NULL</dd>\n",
       "\t<dt>$WBA</dt>\n",
       "\t\t<dd>NULL</dd>\n",
       "\t<dt>$VLO</dt>\n",
       "\t\t<dd>NULL</dd>\n",
       "\t<dt>$CAT</dt>\n",
       "\t\t<dd>NULL</dd>\n",
       "\t<dt>$NRG</dt>\n",
       "\t\t<dd>NULL</dd>\n",
       "\t<dt>$MCK</dt>\n",
       "\t\t<dd>NULL</dd>\n",
       "\t<dt>$STZ</dt>\n",
       "\t\t<dd>NULL</dd>\n",
       "\t<dt>$ZBRA</dt>\n",
       "\t\t<dd>NULL</dd>\n",
       "\t<dt>$MHK</dt>\n",
       "\t\t<dd>NULL</dd>\n",
       "\t<dt>$LRCX</dt>\n",
       "\t\t<dd>NULL</dd>\n",
       "\t<dt>$YUM</dt>\n",
       "\t\t<dd>NULL</dd>\n",
       "</dl>\n"
      ],
      "text/latex": [
       "\\begin{description}\n",
       "\\item[\\$ABT] NULL\n",
       "\\item[\\$CMS] NULL\n",
       "\\item[\\$PNR] NULL\n",
       "\\item[\\$AVB] NULL\n",
       "\\item[\\$IEX] NULL\n",
       "\\item[\\$SBAC] NULL\n",
       "\\item[\\$QCOM] NULL\n",
       "\\item[\\$BWA] NULL\n",
       "\\item[\\$WMB] NULL\n",
       "\\item[\\$DRI] NULL\n",
       "\\item[\\$WBA] NULL\n",
       "\\item[\\$VLO] NULL\n",
       "\\item[\\$CAT] NULL\n",
       "\\item[\\$NRG] NULL\n",
       "\\item[\\$MCK] NULL\n",
       "\\item[\\$STZ] NULL\n",
       "\\item[\\$ZBRA] NULL\n",
       "\\item[\\$MHK] NULL\n",
       "\\item[\\$LRCX] NULL\n",
       "\\item[\\$YUM] NULL\n",
       "\\end{description}\n"
      ],
      "text/markdown": [
       "$ABT\n",
       ":   NULL\n",
       "$CMS\n",
       ":   NULL\n",
       "$PNR\n",
       ":   NULL\n",
       "$AVB\n",
       ":   NULL\n",
       "$IEX\n",
       ":   NULL\n",
       "$SBAC\n",
       ":   NULL\n",
       "$QCOM\n",
       ":   NULL\n",
       "$BWA\n",
       ":   NULL\n",
       "$WMB\n",
       ":   NULL\n",
       "$DRI\n",
       ":   NULL\n",
       "$WBA\n",
       ":   NULL\n",
       "$VLO\n",
       ":   NULL\n",
       "$CAT\n",
       ":   NULL\n",
       "$NRG\n",
       ":   NULL\n",
       "$MCK\n",
       ":   NULL\n",
       "$STZ\n",
       ":   NULL\n",
       "$ZBRA\n",
       ":   NULL\n",
       "$MHK\n",
       ":   NULL\n",
       "$LRCX\n",
       ":   NULL\n",
       "$YUM\n",
       ":   NULL\n",
       "\n",
       "\n"
      ],
      "text/plain": [
       "$ABT\n",
       "NULL\n",
       "\n",
       "$CMS\n",
       "NULL\n",
       "\n",
       "$PNR\n",
       "NULL\n",
       "\n",
       "$AVB\n",
       "NULL\n",
       "\n",
       "$IEX\n",
       "NULL\n",
       "\n",
       "$SBAC\n",
       "NULL\n",
       "\n",
       "$QCOM\n",
       "NULL\n",
       "\n",
       "$BWA\n",
       "NULL\n",
       "\n",
       "$WMB\n",
       "NULL\n",
       "\n",
       "$DRI\n",
       "NULL\n",
       "\n",
       "$WBA\n",
       "NULL\n",
       "\n",
       "$VLO\n",
       "NULL\n",
       "\n",
       "$CAT\n",
       "NULL\n",
       "\n",
       "$NRG\n",
       "NULL\n",
       "\n",
       "$MCK\n",
       "NULL\n",
       "\n",
       "$STZ\n",
       "NULL\n",
       "\n",
       "$ZBRA\n",
       "NULL\n",
       "\n",
       "$MHK\n",
       "NULL\n",
       "\n",
       "$LRCX\n",
       "NULL\n",
       "\n",
       "$YUM\n",
       "NULL\n"
      ]
     },
     "metadata": {},
     "output_type": "display_data"
    },
    {
     "data": {
      "image/png": "[encoded data removed]",
      "text/plain": [
       "Plot with title \"STZ.Adjusted\""
      ]
     },
     "metadata": {
      "image/png": {
       "height": 480,
       "width": 720
      }
     },
     "output_type": "display_data"
    },
    {
     "data": {
      "image/png": "[encoded data removed]",
      "text/plain": [
       "Plot with title \"YUM.Adjusted\""
      ]
     },
     "metadata": {
      "image/png": {
       "height": 480,
       "width": 720
      }
     },
     "output_type": "display_data"
    }
   ],
   "source": [
    "# Plot stock prices\n",
    "par(bg = \"#f7f7f7\")\n",
    "options(repr.plot.width = 12, repr.plot.height = 8)\n",
    "par(mfrow = c(2, 4))\n",
    "sapply(OHLCV, function(y){\n",
    "    plot(index(y), y[,6], type = 'l', main= colnames(y)[6], xlab = 'Year',\n",
    "     ylab = 'Price -  USD ')\n",
    "})"
   ]
  },
  {
   "cell_type": "markdown",
   "id": "84874cae",
   "metadata": {},
   "source": [
    "* Check Book Value data by plots"
   ]
  },
  {
   "cell_type": "code",
   "execution_count": 13,
   "id": "2fa4e312",
   "metadata": {},
   "outputs": [
    {
     "data": {
      "image/png": "[encoded data removed]",
      "text/plain": [
       "Plot with title \"BWA.Book Value per Share\""
      ]
     },
     "metadata": {
      "image/png": {
       "height": 480,
       "width": 720
      }
     },
     "output_type": "display_data"
    },
    {
     "data": {
      "text/html": [
       "<dl>\n",
       "\t<dt>$ABT</dt>\n",
       "\t\t<dd>NULL</dd>\n",
       "\t<dt>$CMS</dt>\n",
       "\t\t<dd>NULL</dd>\n",
       "\t<dt>$PNR</dt>\n",
       "\t\t<dd>NULL</dd>\n",
       "\t<dt>$AVB</dt>\n",
       "\t\t<dd>NULL</dd>\n",
       "\t<dt>$IEX</dt>\n",
       "\t\t<dd>NULL</dd>\n",
       "\t<dt>$SBAC</dt>\n",
       "\t\t<dd>NULL</dd>\n",
       "\t<dt>$QCOM</dt>\n",
       "\t\t<dd>NULL</dd>\n",
       "\t<dt>$BWA</dt>\n",
       "\t\t<dd>NULL</dd>\n",
       "\t<dt>$WMB</dt>\n",
       "\t\t<dd>NULL</dd>\n",
       "\t<dt>$DRI</dt>\n",
       "\t\t<dd>NULL</dd>\n",
       "\t<dt>$WBA</dt>\n",
       "\t\t<dd>NULL</dd>\n",
       "\t<dt>$VLO</dt>\n",
       "\t\t<dd>NULL</dd>\n",
       "\t<dt>$CAT</dt>\n",
       "\t\t<dd>NULL</dd>\n",
       "\t<dt>$NRG</dt>\n",
       "\t\t<dd>NULL</dd>\n",
       "\t<dt>$MCK</dt>\n",
       "\t\t<dd>NULL</dd>\n",
       "\t<dt>$STZ</dt>\n",
       "\t\t<dd>NULL</dd>\n",
       "\t<dt>$ZBRA</dt>\n",
       "\t\t<dd>NULL</dd>\n",
       "\t<dt>$MHK</dt>\n",
       "\t\t<dd>NULL</dd>\n",
       "\t<dt>$LRCX</dt>\n",
       "\t\t<dd>NULL</dd>\n",
       "\t<dt>$YUM</dt>\n",
       "\t\t<dd>NULL</dd>\n",
       "</dl>\n"
      ],
      "text/latex": [
       "\\begin{description}\n",
       "\\item[\\$ABT] NULL\n",
       "\\item[\\$CMS] NULL\n",
       "\\item[\\$PNR] NULL\n",
       "\\item[\\$AVB] NULL\n",
       "\\item[\\$IEX] NULL\n",
       "\\item[\\$SBAC] NULL\n",
       "\\item[\\$QCOM] NULL\n",
       "\\item[\\$BWA] NULL\n",
       "\\item[\\$WMB] NULL\n",
       "\\item[\\$DRI] NULL\n",
       "\\item[\\$WBA] NULL\n",
       "\\item[\\$VLO] NULL\n",
       "\\item[\\$CAT] NULL\n",
       "\\item[\\$NRG] NULL\n",
       "\\item[\\$MCK] NULL\n",
       "\\item[\\$STZ] NULL\n",
       "\\item[\\$ZBRA] NULL\n",
       "\\item[\\$MHK] NULL\n",
       "\\item[\\$LRCX] NULL\n",
       "\\item[\\$YUM] NULL\n",
       "\\end{description}\n"
      ],
      "text/markdown": [
       "$ABT\n",
       ":   NULL\n",
       "$CMS\n",
       ":   NULL\n",
       "$PNR\n",
       ":   NULL\n",
       "$AVB\n",
       ":   NULL\n",
       "$IEX\n",
       ":   NULL\n",
       "$SBAC\n",
       ":   NULL\n",
       "$QCOM\n",
       ":   NULL\n",
       "$BWA\n",
       ":   NULL\n",
       "$WMB\n",
       ":   NULL\n",
       "$DRI\n",
       ":   NULL\n",
       "$WBA\n",
       ":   NULL\n",
       "$VLO\n",
       ":   NULL\n",
       "$CAT\n",
       ":   NULL\n",
       "$NRG\n",
       ":   NULL\n",
       "$MCK\n",
       ":   NULL\n",
       "$STZ\n",
       ":   NULL\n",
       "$ZBRA\n",
       ":   NULL\n",
       "$MHK\n",
       ":   NULL\n",
       "$LRCX\n",
       ":   NULL\n",
       "$YUM\n",
       ":   NULL\n",
       "\n",
       "\n"
      ],
      "text/plain": [
       "$ABT\n",
       "NULL\n",
       "\n",
       "$CMS\n",
       "NULL\n",
       "\n",
       "$PNR\n",
       "NULL\n",
       "\n",
       "$AVB\n",
       "NULL\n",
       "\n",
       "$IEX\n",
       "NULL\n",
       "\n",
       "$SBAC\n",
       "NULL\n",
       "\n",
       "$QCOM\n",
       "NULL\n",
       "\n",
       "$BWA\n",
       "NULL\n",
       "\n",
       "$WMB\n",
       "NULL\n",
       "\n",
       "$DRI\n",
       "NULL\n",
       "\n",
       "$WBA\n",
       "NULL\n",
       "\n",
       "$VLO\n",
       "NULL\n",
       "\n",
       "$CAT\n",
       "NULL\n",
       "\n",
       "$NRG\n",
       "NULL\n",
       "\n",
       "$MCK\n",
       "NULL\n",
       "\n",
       "$STZ\n",
       "NULL\n",
       "\n",
       "$ZBRA\n",
       "NULL\n",
       "\n",
       "$MHK\n",
       "NULL\n",
       "\n",
       "$LRCX\n",
       "NULL\n",
       "\n",
       "$YUM\n",
       "NULL\n"
      ]
     },
     "metadata": {},
     "output_type": "display_data"
    },
    {
     "data": {
      "image/png": "[encoded data removed]",
      "text/plain": [
       "Plot with title \"STZ.Book Value per Share\""
      ]
     },
     "metadata": {
      "image/png": {
       "height": 480,
       "width": 720
      }
     },
     "output_type": "display_data"
    },
    {
     "data": {
      "image/png": "[encoded data removed]",
      "text/plain": [
       "Plot with title \"YUM.Book Value per Share\""
      ]
     },
     "metadata": {
      "image/png": {
       "height": 480,
       "width": 720
      }
     },
     "output_type": "display_data"
    }
   ],
   "source": [
    "# Plot Book Value\n",
    "par(bg = \"#f7f7f7\")\n",
    "options(repr.plot.width = 12, repr.plot.height = 8)\n",
    "par(mfrow = c(2, 4))\n",
    "sapply(book_value, function(y){\n",
    "    plot(index(y), y[,2], type = 'l', main= colnames(y)[2], xlab = 'Year',\n",
    "     ylab = 'Book Value per Share - USD', lwd = 3)\n",
    "})"
   ]
  },
  {
   "cell_type": "markdown",
   "id": "a8757fd4",
   "metadata": {},
   "source": [
    "* Check Market Cap Data by plots"
   ]
  },
  {
   "cell_type": "code",
   "execution_count": 14,
   "id": "cd7b43a0",
   "metadata": {},
   "outputs": [
    {
     "data": {
      "image/png": "[encoded data removed]",
      "text/plain": [
       "Plot with title \"BWA.Market Cap\""
      ]
     },
     "metadata": {
      "image/png": {
       "height": 480,
       "width": 720
      }
     },
     "output_type": "display_data"
    },
    {
     "data": {
      "text/html": [
       "<dl>\n",
       "\t<dt>$ABT</dt>\n",
       "\t\t<dd>NULL</dd>\n",
       "\t<dt>$CMS</dt>\n",
       "\t\t<dd>NULL</dd>\n",
       "\t<dt>$PNR</dt>\n",
       "\t\t<dd>NULL</dd>\n",
       "\t<dt>$AVB</dt>\n",
       "\t\t<dd>NULL</dd>\n",
       "\t<dt>$IEX</dt>\n",
       "\t\t<dd>NULL</dd>\n",
       "\t<dt>$SBAC</dt>\n",
       "\t\t<dd>NULL</dd>\n",
       "\t<dt>$QCOM</dt>\n",
       "\t\t<dd>NULL</dd>\n",
       "\t<dt>$BWA</dt>\n",
       "\t\t<dd>NULL</dd>\n",
       "\t<dt>$WMB</dt>\n",
       "\t\t<dd>NULL</dd>\n",
       "\t<dt>$DRI</dt>\n",
       "\t\t<dd>NULL</dd>\n",
       "\t<dt>$WBA</dt>\n",
       "\t\t<dd>NULL</dd>\n",
       "\t<dt>$VLO</dt>\n",
       "\t\t<dd>NULL</dd>\n",
       "\t<dt>$CAT</dt>\n",
       "\t\t<dd>NULL</dd>\n",
       "\t<dt>$NRG</dt>\n",
       "\t\t<dd>NULL</dd>\n",
       "\t<dt>$MCK</dt>\n",
       "\t\t<dd>NULL</dd>\n",
       "\t<dt>$STZ</dt>\n",
       "\t\t<dd>NULL</dd>\n",
       "\t<dt>$ZBRA</dt>\n",
       "\t\t<dd>NULL</dd>\n",
       "\t<dt>$MHK</dt>\n",
       "\t\t<dd>NULL</dd>\n",
       "\t<dt>$LRCX</dt>\n",
       "\t\t<dd>NULL</dd>\n",
       "\t<dt>$YUM</dt>\n",
       "\t\t<dd>NULL</dd>\n",
       "</dl>\n"
      ],
      "text/latex": [
       "\\begin{description}\n",
       "\\item[\\$ABT] NULL\n",
       "\\item[\\$CMS] NULL\n",
       "\\item[\\$PNR] NULL\n",
       "\\item[\\$AVB] NULL\n",
       "\\item[\\$IEX] NULL\n",
       "\\item[\\$SBAC] NULL\n",
       "\\item[\\$QCOM] NULL\n",
       "\\item[\\$BWA] NULL\n",
       "\\item[\\$WMB] NULL\n",
       "\\item[\\$DRI] NULL\n",
       "\\item[\\$WBA] NULL\n",
       "\\item[\\$VLO] NULL\n",
       "\\item[\\$CAT] NULL\n",
       "\\item[\\$NRG] NULL\n",
       "\\item[\\$MCK] NULL\n",
       "\\item[\\$STZ] NULL\n",
       "\\item[\\$ZBRA] NULL\n",
       "\\item[\\$MHK] NULL\n",
       "\\item[\\$LRCX] NULL\n",
       "\\item[\\$YUM] NULL\n",
       "\\end{description}\n"
      ],
      "text/markdown": [
       "$ABT\n",
       ":   NULL\n",
       "$CMS\n",
       ":   NULL\n",
       "$PNR\n",
       ":   NULL\n",
       "$AVB\n",
       ":   NULL\n",
       "$IEX\n",
       ":   NULL\n",
       "$SBAC\n",
       ":   NULL\n",
       "$QCOM\n",
       ":   NULL\n",
       "$BWA\n",
       ":   NULL\n",
       "$WMB\n",
       ":   NULL\n",
       "$DRI\n",
       ":   NULL\n",
       "$WBA\n",
       ":   NULL\n",
       "$VLO\n",
       ":   NULL\n",
       "$CAT\n",
       ":   NULL\n",
       "$NRG\n",
       ":   NULL\n",
       "$MCK\n",
       ":   NULL\n",
       "$STZ\n",
       ":   NULL\n",
       "$ZBRA\n",
       ":   NULL\n",
       "$MHK\n",
       ":   NULL\n",
       "$LRCX\n",
       ":   NULL\n",
       "$YUM\n",
       ":   NULL\n",
       "\n",
       "\n"
      ],
      "text/plain": [
       "$ABT\n",
       "NULL\n",
       "\n",
       "$CMS\n",
       "NULL\n",
       "\n",
       "$PNR\n",
       "NULL\n",
       "\n",
       "$AVB\n",
       "NULL\n",
       "\n",
       "$IEX\n",
       "NULL\n",
       "\n",
       "$SBAC\n",
       "NULL\n",
       "\n",
       "$QCOM\n",
       "NULL\n",
       "\n",
       "$BWA\n",
       "NULL\n",
       "\n",
       "$WMB\n",
       "NULL\n",
       "\n",
       "$DRI\n",
       "NULL\n",
       "\n",
       "$WBA\n",
       "NULL\n",
       "\n",
       "$VLO\n",
       "NULL\n",
       "\n",
       "$CAT\n",
       "NULL\n",
       "\n",
       "$NRG\n",
       "NULL\n",
       "\n",
       "$MCK\n",
       "NULL\n",
       "\n",
       "$STZ\n",
       "NULL\n",
       "\n",
       "$ZBRA\n",
       "NULL\n",
       "\n",
       "$MHK\n",
       "NULL\n",
       "\n",
       "$LRCX\n",
       "NULL\n",
       "\n",
       "$YUM\n",
       "NULL\n"
      ]
     },
     "metadata": {},
     "output_type": "display_data"
    },
    {
     "data": {
      "image/png": "[encoded data removed]",
      "text/plain": [
       "Plot with title \"STZ.Market Cap\""
      ]
     },
     "metadata": {
      "image/png": {
       "height": 480,
       "width": 720
      }
     },
     "output_type": "display_data"
    },
    {
     "data": {
      "image/png": "[encoded data removed]",
      "text/plain": [
       "Plot with title \"YUM.Market Cap\""
      ]
     },
     "metadata": {
      "image/png": {
       "height": 480,
       "width": 720
      }
     },
     "output_type": "display_data"
    }
   ],
   "source": [
    "# Plot Market Cap\n",
    "par(bg = \"#f7f7f7\")\n",
    "options(repr.plot.width = 12, repr.plot.height = 8)\n",
    "par(mfrow = c(2, 4))\n",
    "sapply(MktCap, function(y){\n",
    "    plot(index(y), y, type = 'l', main= colnames(y),\n",
    "         xlab = 'Year', ylab = 'Market Cap - Bn.USD ')\n",
    "})"
   ]
  },
  {
   "cell_type": "markdown",
   "id": "a2a790c9",
   "metadata": {},
   "source": [
    "****"
   ]
  },
  {
   "cell_type": "markdown",
   "id": "37abe5c1",
   "metadata": {},
   "source": [
    "### Task 2 - Markowitz portfolio\n",
    "Using the data of the 20 stocks illustrate the portfolio performance by forming an efficient frontier.  \n",
    "In this task, you will form 2 portfolios\n",
    "* portfolio A will consist of stocks 1 to 10\n",
    "* portfolio B will consist of stocks 11 to 20\n",
    "\n",
    "Using the adjusted close price construct (and plot in the single figure) global minimum variance portfolio and the efficient frontier of both portfolio A and B. Since we will be working with monthly returns later in the course, use the monthly returns from the period 2015-2022 as the input for the task. **Comment the important features of the figure, e.g. which portfolio will you choose? Why? Which stock(s) is driving the shape of the frontier? etc.**"
   ]
  },
  {
   "cell_type": "markdown",
   "id": "17ff6966",
   "metadata": {},
   "source": [
    "### <span style='background: lightblue'>(1). Create Monthly Return Data</span>"
   ]
  },
  {
   "cell_type": "markdown",
   "id": "553da857",
   "metadata": {},
   "source": [
    "* Select Task 2 date range as 2015-2022"
   ]
  },
  {
   "cell_type": "code",
   "execution_count": 15,
   "id": "af175d20",
   "metadata": {},
   "outputs": [
    {
     "data": {
      "text/plain": [
       "$ABT\n",
       "           ABT.Open ABT.High ABT.Low ABT.Close ABT.Volume ABT.Adjusted\n",
       "2015-01-02    45.25    45.45   44.64     44.90    3216600     39.11632\n",
       "2015-01-05    44.80    45.40   44.63     44.91    5735900     39.12503\n",
       "2015-01-06    44.99    45.11   43.93     44.40    6584300     38.68072\n",
       "\n",
       "$CMS\n",
       "           CMS.Open CMS.High CMS.Low CMS.Close CMS.Volume CMS.Adjusted\n",
       "2015-01-02    34.90    35.17   34.74     35.14    2405000     28.42491\n",
       "2015-01-05    35.17    35.25   34.65     34.85    2501300     28.19031\n",
       "2015-01-06    34.93    35.62   34.85     34.91    2580800     28.23886\n"
      ]
     },
     "metadata": {},
     "output_type": "display_data"
    },
    {
     "data": {
      "text/plain": [
       "$ABT\n",
       "           ABT.Open ABT.High ABT.Low ABT.Close ABT.Volume ABT.Adjusted\n",
       "2022-02-24   115.00   118.92  114.43    118.72    6252600       118.72\n",
       "2022-02-25   118.72   122.93  118.50    122.41    5837700       122.41\n",
       "2022-02-28   121.05   121.06  119.15    120.62    6827300       120.62\n",
       "\n",
       "$CMS\n",
       "           CMS.Open CMS.High CMS.Low CMS.Close CMS.Volume CMS.Adjusted\n",
       "2022-02-24    61.73    62.15   61.16     61.97    2140300        61.97\n",
       "2022-02-25    62.65    64.43   62.39     64.14    2660000        64.14\n",
       "2022-02-28    63.56    64.23   63.30     64.01    2817500        64.01\n"
      ]
     },
     "metadata": {},
     "output_type": "display_data"
    }
   ],
   "source": [
    "# Function of set date range for xts\n",
    "setRange <- function(xts_in, date_in){    \n",
    "    return (xts_in[index(xts_in) > date_in])\n",
    "}\n",
    "\n",
    "# updated function to select date range by beginning and ending\n",
    "setRange1 <- function(xts_in, date_from, date_to){    \n",
    "    return (xts_in[index(xts_in) > date_from & \n",
    "             index(xts_in) < date_to])\n",
    "}\n",
    "\n",
    "# Call the function set data set only after 2015\n",
    "\n",
    "OHLCV_2015 <- lapply(OHLCV, setRange, as.Date(\"2015-01-01\"))\n",
    "lapply(OHLCV_2015, head, 3)[1:2]\n",
    "lapply(OHLCV_2015, tail, 3)[1:2]"
   ]
  },
  {
   "cell_type": "markdown",
   "id": "1ad2b0f1",
   "metadata": {},
   "source": [
    "* Select only adjusted close price for return calculation"
   ]
  },
  {
   "cell_type": "code",
   "execution_count": 16,
   "id": "87b4bf03",
   "metadata": {},
   "outputs": [
    {
     "data": {
      "text/plain": [
       "$ABT\n",
       "           ABT.Adjusted\n",
       "2015-01-02     39.11632\n",
       "2015-01-05     39.12503\n",
       "2015-01-06     38.68072\n",
       "\n",
       "$CMS\n",
       "           CMS.Adjusted\n",
       "2015-01-02     28.42491\n",
       "2015-01-05     28.19031\n",
       "2015-01-06     28.23886\n"
      ]
     },
     "metadata": {},
     "output_type": "display_data"
    },
    {
     "data": {
      "text/plain": [
       "$ABT\n",
       "           ABT.Adjusted\n",
       "2022-02-24       118.72\n",
       "2022-02-25       122.41\n",
       "2022-02-28       120.62\n",
       "\n",
       "$CMS\n",
       "           CMS.Adjusted\n",
       "2022-02-24        61.97\n",
       "2022-02-25        64.14\n",
       "2022-02-28        64.01\n"
      ]
     },
     "metadata": {},
     "output_type": "display_data"
    }
   ],
   "source": [
    "# only need the adjusted closing price for return\n",
    "\n",
    "OHLCV_p <- lapply(names(OHLCV_2015), function(y){\n",
    "    OHLCV_2015[[y]] <- OHLCV_2015[[y]][, paste0(y, '.Adjusted')]\n",
    "})\n",
    "names(OHLCV_p) <- names(OHLCV_2015)\n",
    "\n",
    "# check data in the list\n",
    "\n",
    "lapply(OHLCV_p, head, 3)[1:2]\n",
    "lapply(OHLCV_p, tail, 3)[1:2]"
   ]
  },
  {
   "cell_type": "markdown",
   "id": "3e5a9e81",
   "metadata": {},
   "source": [
    "* calculate monthly return\n",
    "$$r_{i,t}=\\frac{P_{i,t}-P_{i,t-1}}{P_{i,t-1}}$$"
   ]
  },
  {
   "cell_type": "code",
   "execution_count": 17,
   "id": "088b35bd",
   "metadata": {},
   "outputs": [
    {
     "data": {
      "text/plain": [
       "$ABT\n",
       "         monthly.returns\n",
       "Feb 2015     0.058311083\n",
       "Mar 2015    -0.021954750\n",
       "Apr 2015     0.007068553\n",
       "\n",
       "$CMS\n",
       "         monthly.returns\n",
       "Feb 2015    -0.061719806\n",
       "Mar 2015    -0.006262407\n",
       "Apr 2015    -0.028071955\n"
      ]
     },
     "metadata": {},
     "output_type": "display_data"
    },
    {
     "data": {
      "text/plain": [
       "$ABT\n",
       "         monthly.returns\n",
       "Dec 2021      0.11902691\n",
       "Jan 2022     -0.09116405\n",
       "Feb 2022     -0.05366386\n",
       "\n",
       "$CMS\n",
       "         monthly.returns\n",
       "Dec 2021      0.10535268\n",
       "Jan 2022     -0.01029987\n",
       "Feb 2022      0.00135918\n"
      ]
     },
     "metadata": {},
     "output_type": "display_data"
    }
   ],
   "source": [
    "# Calculate arithmetic monthly return \n",
    "\n",
    "rets <- lapply(OHLCV_p, monthlyReturn, type='arithmetic',\n",
    "                  indexAt='yearmon', leading=FALSE)\n",
    "\n",
    "# Remove the first invalid row\n",
    "for (i in 1 : length(p_symbols)){ rets[[i]] <- rets[[i]][-1,]}\n",
    "\n",
    "# Verify data\n",
    "lapply(rets, head, 3)[1:2]\n",
    "lapply(rets, tail, 3)[1:2]\n"
   ]
  },
  {
   "cell_type": "markdown",
   "id": "01ba5713",
   "metadata": {},
   "source": [
    "* Create Portflio return data for analysis"
   ]
  },
  {
   "cell_type": "code",
   "execution_count": 18,
   "id": "bbdd2eac",
   "metadata": {},
   "outputs": [
    {
     "data": {
      "text/plain": [
       "                  ABT          CMS          PNR         AVB          IEX\n",
       "Feb 2015  0.058311083 -0.061719806  0.075392861 -0.02688016  0.067864591\n",
       "Mar 2015 -0.021954750 -0.006262407 -0.053858900  0.04251304 -0.018508699\n",
       "Apr 2015  0.007068553 -0.028071955 -0.004084226 -0.05687192 -0.006674276\n",
       "                SBAC        QCOM         BWA        WMB         DRI         WBA\n",
       "Feb 2015  0.06863762  0.16090318  0.14033664 0.11810311  0.04268472  0.13128306\n",
       "Mar 2015 -0.06102156 -0.03814664 -0.01594527 0.04430720  0.08343764  0.01925868\n",
       "Apr 2015 -0.01093084 -0.01932532 -0.02116408 0.01186039 -0.07170876 -0.02066606\n",
       "                 VLO         CAT          NRG         MCK          STZ\n",
       "Feb 2015  0.17517217  0.03663839 -0.027575107  0.07660116  0.038660080\n",
       "Mar 2015  0.03128541 -0.03461982  0.050458800 -0.01093114  0.012988233\n",
       "Apr 2015 -0.10562729  0.09458985  0.007690187 -0.01237872 -0.002323321\n",
       "                 ZBRA          MHK        LRCX         YUM\n",
       "Feb 2015  0.090941818  0.117002023  0.07875412  0.12216369\n",
       "Mar 2015 -0.003624404  0.007594217 -0.14627615 -0.02946622\n",
       "Apr 2015  0.014991193 -0.065948856  0.07602492  0.09998441"
      ]
     },
     "metadata": {},
     "output_type": "display_data"
    }
   ],
   "source": [
    "# n_list is the whole 20 stocks portfolio\n",
    "n_list <- do.call(merge, rets)\n",
    "colnames(n_list) <- names(rets)\n",
    "\n",
    "head(n_list,3)"
   ]
  },
  {
   "cell_type": "markdown",
   "id": "57c8305c",
   "metadata": {},
   "source": [
    "### <span style='background: lightblue'>(2). Obtain Global Minimum Variance Portlio</span>"
   ]
  },
  {
   "cell_type": "markdown",
   "id": "bcc6b913",
   "metadata": {},
   "source": [
    "* Create the portfolio A with stock 1-10, and portfolio B with stock 11-20"
   ]
  },
  {
   "cell_type": "code",
   "execution_count": 19,
   "id": "742abe91",
   "metadata": {},
   "outputs": [
    {
     "name": "stdout",
     "output_type": "stream",
     "text": [
      "[1] \"Portfolio: A\"\n"
     ]
    },
    {
     "data": {
      "text/html": [
       "<style>\n",
       ".list-inline {list-style: none; margin:0; padding: 0}\n",
       ".list-inline>li {display: inline-block}\n",
       ".list-inline>li:not(:last-child)::after {content: \"\\00b7\"; padding: 0 .5ex}\n",
       "</style>\n",
       "<ol class=list-inline><li>'ABT'</li><li>'CMS'</li><li>'PNR'</li><li>'AVB'</li><li>'IEX'</li><li>'SBAC'</li><li>'QCOM'</li><li>'BWA'</li><li>'WMB'</li><li>'DRI'</li></ol>\n"
      ],
      "text/latex": [
       "\\begin{enumerate*}\n",
       "\\item 'ABT'\n",
       "\\item 'CMS'\n",
       "\\item 'PNR'\n",
       "\\item 'AVB'\n",
       "\\item 'IEX'\n",
       "\\item 'SBAC'\n",
       "\\item 'QCOM'\n",
       "\\item 'BWA'\n",
       "\\item 'WMB'\n",
       "\\item 'DRI'\n",
       "\\end{enumerate*}\n"
      ],
      "text/markdown": [
       "1. 'ABT'\n",
       "2. 'CMS'\n",
       "3. 'PNR'\n",
       "4. 'AVB'\n",
       "5. 'IEX'\n",
       "6. 'SBAC'\n",
       "7. 'QCOM'\n",
       "8. 'BWA'\n",
       "9. 'WMB'\n",
       "10. 'DRI'\n",
       "\n",
       "\n"
      ],
      "text/plain": [
       " [1] \"ABT\"  \"CMS\"  \"PNR\"  \"AVB\"  \"IEX\"  \"SBAC\" \"QCOM\" \"BWA\"  \"WMB\"  \"DRI\" "
      ]
     },
     "metadata": {},
     "output_type": "display_data"
    },
    {
     "name": "stdout",
     "output_type": "stream",
     "text": [
      "[1] \"Portfolio: B\"\n"
     ]
    },
    {
     "data": {
      "text/html": [
       "<style>\n",
       ".list-inline {list-style: none; margin:0; padding: 0}\n",
       ".list-inline>li {display: inline-block}\n",
       ".list-inline>li:not(:last-child)::after {content: \"\\00b7\"; padding: 0 .5ex}\n",
       "</style>\n",
       "<ol class=list-inline><li>'WBA'</li><li>'VLO'</li><li>'CAT'</li><li>'NRG'</li><li>'MCK'</li><li>'STZ'</li><li>'ZBRA'</li><li>'MHK'</li><li>'LRCX'</li><li>'YUM'</li></ol>\n"
      ],
      "text/latex": [
       "\\begin{enumerate*}\n",
       "\\item 'WBA'\n",
       "\\item 'VLO'\n",
       "\\item 'CAT'\n",
       "\\item 'NRG'\n",
       "\\item 'MCK'\n",
       "\\item 'STZ'\n",
       "\\item 'ZBRA'\n",
       "\\item 'MHK'\n",
       "\\item 'LRCX'\n",
       "\\item 'YUM'\n",
       "\\end{enumerate*}\n"
      ],
      "text/markdown": [
       "1. 'WBA'\n",
       "2. 'VLO'\n",
       "3. 'CAT'\n",
       "4. 'NRG'\n",
       "5. 'MCK'\n",
       "6. 'STZ'\n",
       "7. 'ZBRA'\n",
       "8. 'MHK'\n",
       "9. 'LRCX'\n",
       "10. 'YUM'\n",
       "\n",
       "\n"
      ],
      "text/plain": [
       " [1] \"WBA\"  \"VLO\"  \"CAT\"  \"NRG\"  \"MCK\"  \"STZ\"  \"ZBRA\" \"MHK\"  \"LRCX\" \"YUM\" "
      ]
     },
     "metadata": {},
     "output_type": "display_data"
    }
   ],
   "source": [
    "# Create the portfolio A as the first 10 stocks.\n",
    "returns_1 <- n_list[, 1:10]\n",
    "funds_1 <- colnames(returns_1)\n",
    "\n",
    "# Create the portfolio B as the last 10 stocks.\n",
    "returns_2 <- n_list[, 11:20]\n",
    "funds_2 <- colnames(returns_2)\n",
    "print(\"Portfolio: A\")\n",
    "funds_1\n",
    "print(\"Portfolio: B\")\n",
    "funds_2"
   ]
  },
  {
   "cell_type": "markdown",
   "id": "ff3263ab",
   "metadata": {},
   "source": [
    "* Add leverage constraint"
   ]
  },
  {
   "cell_type": "code",
   "execution_count": 20,
   "id": "2c5fa438",
   "metadata": {},
   "outputs": [],
   "source": [
    "# Create initial portfolio object with leverage and box constraints.\n",
    "initial_portfolio_1 <- portfolio.spec(assets = funds_1)\n",
    "initial_portfolio_1 <- add.constraint(\n",
    "    portfolio = initial_portfolio_1,\n",
    "    type = \"leverage\",\n",
    "    min_sum = 0.99,\n",
    "    max_sum = 1.01\n",
    ")\n",
    "\n",
    "initial_portfolio_2 <- portfolio.spec(assets = funds_2)\n",
    "initial_portfolio_2 <- add.constraint(\n",
    "    portfolio = initial_portfolio_2,\n",
    "    type = \"leverage\",\n",
    "    min_sum = 0.99,\n",
    "    max_sum = 1.01\n",
    ")\n",
    "\n"
   ]
  },
  {
   "cell_type": "markdown",
   "id": "498598b8",
   "metadata": {},
   "source": [
    "**The constraints required in task 2 shows that it is a Markowitz portfolio with the full-investment specification. Therefore, we set \"min_sum = 0.99, max_sum = 1.01\" to constraint the portfolios.**"
   ]
  },
  {
   "cell_type": "markdown",
   "id": "929cb5e9",
   "metadata": {},
   "source": [
    "* Optimize the portfolio with minimum variance"
   ]
  },
  {
   "cell_type": "code",
   "execution_count": 21,
   "id": "e56e4cf6",
   "metadata": {},
   "outputs": [
    {
     "data": {
      "text/plain": [
       "**************************************************\n",
       "PortfolioAnalytics Portfolio Specification \n",
       "**************************************************\n",
       "\n",
       "Call:\n",
       "portfolio.spec(assets = funds_1)\n",
       "\n",
       "Number of assets: 10 \n",
       "Asset Names\n",
       " [1] \"ABT\"  \"CMS\"  \"PNR\"  \"AVB\"  \"IEX\"  \"SBAC\" \"QCOM\" \"BWA\"  \"WMB\"  \"DRI\" \n",
       "\n",
       "Constraints\n",
       "Enabled constraint types\n",
       "\t\t- leverage \n",
       "\n",
       "Objectives:\n",
       "Enabled objective names\n",
       "\t\t- var \n"
      ]
     },
     "metadata": {},
     "output_type": "display_data"
    },
    {
     "data": {
      "text/plain": [
       "**************************************************\n",
       "PortfolioAnalytics Portfolio Specification \n",
       "**************************************************\n",
       "\n",
       "Call:\n",
       "portfolio.spec(assets = funds_2)\n",
       "\n",
       "Number of assets: 10 \n",
       "Asset Names\n",
       " [1] \"WBA\"  \"VLO\"  \"CAT\"  \"NRG\"  \"MCK\"  \"STZ\"  \"ZBRA\" \"MHK\"  \"LRCX\" \"YUM\" \n",
       "\n",
       "Constraints\n",
       "Enabled constraint types\n",
       "\t\t- leverage \n",
       "\n",
       "Objectives:\n",
       "Enabled objective names\n",
       "\t\t- var \n"
      ]
     },
     "metadata": {},
     "output_type": "display_data"
    }
   ],
   "source": [
    "# Obtain optimized portfolio by optimize.portfolio function\n",
    "minvar_1 <- add.objective(portfolio = initial_portfolio_1, type = \"risk\", name = \"var\")\n",
    "opt_minvar_1 <- optimize.portfolio(\n",
    "    R = returns_1,\n",
    "    portfolio = minvar_1,\n",
    "    optimize_method = \"ROI\",\n",
    "    trace = TRUE\n",
    ")\n",
    "\n",
    "minvar_2 <- add.objective(portfolio = initial_portfolio_2, type = \"risk\", name = \"var\")\n",
    "opt_minvar_2 <- optimize.portfolio(\n",
    "    R = returns_2,\n",
    "    portfolio = minvar_2,\n",
    "    optimize_method = \"ROI\",\n",
    "    trace = TRUE\n",
    ")\n",
    "\n",
    "minvar_1\n",
    "minvar_2"
   ]
  },
  {
   "cell_type": "markdown",
   "id": "bac36715",
   "metadata": {},
   "source": [
    "* Print the global minimum variance portfolio A and observe the plot"
   ]
  },
  {
   "cell_type": "code",
   "execution_count": 22,
   "id": "cf29d59a",
   "metadata": {},
   "outputs": [
    {
     "data": {
      "text/plain": [
       "***********************************\n",
       "PortfolioAnalytics Optimization\n",
       "***********************************\n",
       "\n",
       "Call:\n",
       "optimize.portfolio(R = returns_1, portfolio = minvar_1, optimize_method = \"ROI\", \n",
       "    trace = TRUE)\n",
       "\n",
       "Optimal Weights:\n",
       "    ABT     CMS     PNR     AVB     IEX    SBAC    QCOM     BWA     WMB     DRI \n",
       " 0.1473  0.5635 -0.0334  0.0209  0.0480  0.0430  0.0259  0.0195  0.1259  0.0293 \n",
       "\n",
       "Objective Measure:\n",
       " StdDev \n",
       "0.03525 \n",
       "\n",
       "\n"
      ]
     },
     "metadata": {},
     "output_type": "display_data"
    },
    {
     "data": {
      "image/png": "[encoded data removed]",
      "text/plain": [
       "Plot with title \"\""
      ]
     },
     "metadata": {
      "image/png": {
       "height": 600,
       "width": 600
      }
     },
     "output_type": "display_data"
    }
   ],
   "source": [
    "opt_minvar_1\n",
    "\n",
    "# For portfolio 1, Show each stock analsis in plot\n",
    "par(bg = \"#f7f7f7\")\n",
    "options(repr.plot.width = 10, repr.plot.height = 10)\n",
    "plot(\n",
    "    opt_minvar_1,\n",
    "    risk.col = \"StdDev\",\n",
    "    return.col = \"mean\",\n",
    "    main = \"Minimum Variance Optimization\",\n",
    "    chart.assets = TRUE,\n",
    "    xlim = c(0.03, 0.12),\n",
    "    ylim = c(0, 0.025)\n",
    ")"
   ]
  },
  {
   "cell_type": "markdown",
   "id": "65328cde",
   "metadata": {},
   "source": [
    "**The standard deviation for optimal portfolio A is 0.035, and the expected return is 0.011(1.1%).**"
   ]
  },
  {
   "cell_type": "markdown",
   "id": "65bc7c6e",
   "metadata": {},
   "source": [
    "* Print the global minimum variance portfolio B"
   ]
  },
  {
   "cell_type": "code",
   "execution_count": 23,
   "id": "9a4ba917",
   "metadata": {},
   "outputs": [
    {
     "data": {
      "text/plain": [
       "***********************************\n",
       "PortfolioAnalytics Optimization\n",
       "***********************************\n",
       "\n",
       "Call:\n",
       "optimize.portfolio(R = returns_2, portfolio = minvar_2, optimize_method = \"ROI\", \n",
       "    trace = TRUE)\n",
       "\n",
       "Optimal Weights:\n",
       "    WBA     VLO     CAT     NRG     MCK     STZ    ZBRA     MHK    LRCX     YUM \n",
       " 0.2217 -0.0824  0.2414  0.0366  0.1275  0.2591 -0.0332 -0.0562  0.0174  0.2582 \n",
       "\n",
       "Objective Measure:\n",
       " StdDev \n",
       "0.04534 \n",
       "\n",
       "\n"
      ]
     },
     "metadata": {},
     "output_type": "display_data"
    },
    {
     "data": {
      "image/png": "[encoded data removed]",
      "text/plain": [
       "Plot with title \"\""
      ]
     },
     "metadata": {
      "image/png": {
       "height": 600,
       "width": 600
      }
     },
     "output_type": "display_data"
    }
   ],
   "source": [
    "opt_minvar_2\n",
    "\n",
    "# For portfolio 2, Show each stock analsis in plot\n",
    "par(bg = \"#f7f7f7\")\n",
    "options(repr.plot.width = 10, repr.plot.height = 10)\n",
    "\n",
    "plot(\n",
    "    opt_minvar_2,\n",
    "    risk.col = \"StdDev\",\n",
    "    return.col = \"mean\",\n",
    "    main = \"Minimum Variance Optimization\",\n",
    "    chart.assets = TRUE,\n",
    "    xlim = c(0.04, 0.13),\n",
    "    ylim = c(0, 0.03)\n",
    ")"
   ]
  },
  {
   "cell_type": "markdown",
   "id": "5dac29fb",
   "metadata": {},
   "source": [
    "**The standard deviation for optimal portfolio B is 0.045, and the expected return is 0.009(0.9%).**\n"
   ]
  },
  {
   "cell_type": "markdown",
   "id": "a0c32871",
   "metadata": {},
   "source": [
    "* Portfolio Returns Plot Observation"
   ]
  },
  {
   "cell_type": "code",
   "execution_count": 24,
   "id": "5370e207",
   "metadata": {},
   "outputs": [
    {
     "data": {
      "image/png": "[encoded data removed]",
      "text/plain": [
       "plot without title"
      ]
     },
     "metadata": {
      "image/png": {
       "height": 600,
       "width": 600
      }
     },
     "output_type": "display_data"
    }
   ],
   "source": [
    "par(bg = \"#f7f7f7\")\n",
    "par(mfrow = c(1,2))\n",
    "plot(returns_1, main = \"Returns: Portfio A\")\n",
    "plot(returns_2, main = \"Returns: Portfio B\")"
   ]
  },
  {
   "cell_type": "markdown",
   "id": "25300f8b",
   "metadata": {},
   "source": [
    "**Comments:  \n",
    "By observing the plot of returns of two portfolios, we could notice that portfolio A and B have quite similar returns and  Portfolio B seems higher volatility, which corresponded the global minimum variance of Portfolio B is relative bigger than portfolio A.**"
   ]
  },
  {
   "cell_type": "markdown",
   "id": "57ca1fda",
   "metadata": {},
   "source": [
    "### <span style='background: lightblue'>(3). Plot Efficient Frontiers for Portlio A and B</span>"
   ]
  },
  {
   "cell_type": "code",
   "execution_count": 25,
   "id": "2d3e9067",
   "metadata": {},
   "outputs": [
    {
     "data": {
      "image/png": "[encoded data removed]",
      "text/plain": [
       "Plot with title \"Efficient Frontier : Portfolio B\""
      ]
     },
     "metadata": {
      "image/png": {
       "height": 600,
       "width": 600
      }
     },
     "output_type": "display_data"
    }
   ],
   "source": [
    "# Plot the efficient frontier for portfolio 1.\n",
    "meanvar_1 <- create.EfficientFrontier(R = returns_1, portfolio = initial_portfolio_1, \n",
    "                                      type = 'mean-var')\n",
    "meanvar_2 <- create.EfficientFrontier(R = returns_2, portfolio = initial_portfolio_2, \n",
    "                                      type = 'mean-var')\n",
    "\n",
    "par(bg = \"#f7f7f7\")\n",
    "options(repr.plot.width = 10, repr.plot.height = 10)\n",
    "par(mfrow = c(2,1))\n",
    "\n",
    "chart.EfficientFrontier(meanvar_1, match.col = 'StdDev',type = 'l', pch.assets=2, col = \"blue\",\n",
    "        RAR.text = 'Sharpe Ratio', pch = 4,  main = \"Efficient Frontier : Portfolio A\")\n",
    "chart.EfficientFrontier(meanvar_2, match.col = 'StdDev', type = 'l', pch.assets=4, col = \"red\", \n",
    "        RAR.text = 'Sharpe Ratio', pch = 4, main = \"Efficient Frontier : Portfolio B\")"
   ]
  },
  {
   "cell_type": "markdown",
   "id": "4316a3e4",
   "metadata": {},
   "source": [
    "### <span style='background: lightblue'>(4). Conclusion</span>"
   ]
  },
  {
   "cell_type": "markdown",
   "id": "d91a8818",
   "metadata": {},
   "source": [
    "**The efficient frontier is the set of optimal portfolios that offer the highest expected return for a defined level of risk or the lowest risk for a given level of expected return. Global minimum variance portfolio(GMVP) is the left-most point on the efficient frontier, and investor cannot hold a portfolio of risky (risk-free assets are excluded at this point) assets with a lower risk than the global minimum-variance portfolio.  \n",
    "As we can see in the plots, \"Portfolio_A\" lies on the left-hand side of \"Portfolio_B\", and the slop of the efficient frontier of \"Portfolio_A\" is a little bit higher than \"Portfolio_B\"'s. In addition, \"Portfolio_A\" has the GMVP with StdDev of 0.035 and return mean of 0.011, while \"Portfolio_B\" has the GMVP with StdDev of 0.045 and return mean of 0.009.Therefore, it is obvious that \"Portfolio_A\" is more preferable to investors, because those who hold \"Portfolio_A\" can bear lower risks while having higher returns.  \n",
    "In portfolio A, one stock that dominates the shape of the efficient frontier is \"CMS\", which has the lowest standard deviation in the portfolio.\"CMS\" also contirbutes the most (56.35%) in the GMVP of \"Portfolio_A\", because it has low risk and relatively good expected return. It is also the most similar stock to the GMVP A. Another stock that is driving the shape of the frontier can be \"QCOM\". This stock has the highest return, but also the highest risk, and because of that, \"QCOM\" is vital to determine the highest possible return along the efficient frontier.  \n",
    "In portfolio B, there are several stocks driving the front end of the frontier with similar risks. They are YUM, STZ, CAT,and WBA. \"LRCX\" has the highest expected return among all the stocks in \"Portfolio_B\" , so it also plays an important part in shaping the efficient frontier (e.g. the uppper limit). We can also notice that despite the fact that stocks such as \"NRG\" and \"MCK\"offer higher mean return and even higher reward-to-variability ratio, the weight of \"WBA\" is generally higher, accounting for 22.17% in GMVP B. This may be due to the lower correlation of WBA with other stocks , which illustrates the importance of diversification attributes when forming efficient portfolios.  \n",
    "Overall, Because Portfolio A has better GMVP, and from the aspect of CAL both portfolios have same Sharp Ratios. As students, we are very conservative investors, so <span style='background:yellow'>we choose Portfolio A as our investment.</span>**"
   ]
  },
  {
   "cell_type": "markdown",
   "id": "78fe26cb",
   "metadata": {},
   "source": [
    "****"
   ]
  },
  {
   "cell_type": "markdown",
   "id": "2f449edd",
   "metadata": {},
   "source": [
    "### Task 3 - Stock index \n",
    "Using the monthly prices from *Task 2* create three price indexes\n",
    "* simple price weighted index, \n",
    "* market-capitalization weighted index, \n",
    "* equally weighted index, \n",
    "\n",
    "**Create the plot containing all three indexes and comment on their difference.**"
   ]
  },
  {
   "cell_type": "markdown",
   "id": "77cf0d0c",
   "metadata": {},
   "source": [
    "### <span style='background: lightblue'>(1). Price Weighted Index</span>"
   ]
  },
  {
   "cell_type": "markdown",
   "id": "e02565ac",
   "metadata": {},
   "source": [
    "* Download stock splits data."
   ]
  },
  {
   "cell_type": "code",
   "execution_count": 26,
   "id": "92106e30",
   "metadata": {},
   "outputs": [
    {
     "data": {
      "text/plain": [
       "$PNR\n",
       "             PNR.spl\n",
       "2018-05-01 0.6715917\n",
       "\n",
       "$DRI\n",
       "           DRI.spl\n",
       "2015-11-10  0.8939\n",
       "\n",
       "$YUM\n",
       "             YUM.spl\n",
       "2016-11-01 0.7189073\n"
      ]
     },
     "metadata": {},
     "output_type": "display_data"
    }
   ],
   "source": [
    "# Download stock splits and dividends data of 2015-2022\n",
    "splits <- lapply(p_symbols, function(y)\n",
    "{\n",
    "    getSplits(y, from = as.Date('2015-01-01'), to = '2022-02-28')\n",
    "})\n",
    "names(splits) <- p_symbols\n",
    "\n",
    "# Download stock dividends data of 2015-2022\n",
    "raw_dividends <- lapply(p_symbols, function(y)\n",
    "{\n",
    "    getDividends(y, from = as.Date('2015-01-01'), \n",
    "                 to = '2022-02-28', split.adjust = FALSE)\n",
    "})\n",
    "names(raw_dividends) <- p_symbols\n",
    "\n",
    "#Show splits dates in our portfolio\n",
    "splits_s <- splits[-which(is.na(splits))]\n",
    "splits_s"
   ]
  },
  {
   "cell_type": "markdown",
   "id": "ebced9af",
   "metadata": {},
   "source": [
    "We can find that during 2015-2022 there were only 3 stock splits within our 20 stocks portfolio:  \n",
    "<span style='background:yellow'>**PNR at 2018-05-01, DRI at 2015-11-10, YUM at 2016-11-01.**</span>   \n",
    "We will calculate the unadjusted close prices for these 3 stocks, then calculate divisor change in these 3 dates."
   ]
  },
  {
   "cell_type": "markdown",
   "id": "fd85cd55",
   "metadata": {},
   "source": [
    "* Generate unadjusted price"
   ]
  },
  {
   "cell_type": "code",
   "execution_count": 27,
   "id": "93ecfda5",
   "metadata": {},
   "outputs": [],
   "source": [
    "# Calculate ratio, and create unadjusted_close prices  \n",
    "S <- length(p_symbols)\n",
    "# Create a xts list for split and div ratio\n",
    "ratios <- list()\n",
    "# Create a xts list for unadjusted_close prices\n",
    "OHLCV_unadj <- list()\n",
    "for (i in 1 : S){    \n",
    "    ratios[[i]] <- adjRatios(splits[[i]], raw_dividends[[i]], OHLCV_p[[i]])\n",
    "    OHLCV_unadj[[i]] <- OHLCV_p[[i]] / (ratios[[i]][, \"Split\"] * ratios[[i]][, \"Div\"])\n",
    "    colnames(OHLCV_unadj[[i]]) <- paste0(p_symbols[i],\".Unadjusted_close\")\n",
    "}\n",
    "names(ratios) <- p_symbols\n",
    "names(OHLCV_unadj) <- p_symbols"
   ]
  },
  {
   "cell_type": "markdown",
   "id": "2d6688df",
   "metadata": {},
   "source": [
    "Check split data for YUM split on 2016-11-01 as an example:"
   ]
  },
  {
   "cell_type": "code",
   "execution_count": 28,
   "id": "88dfea3e",
   "metadata": {
    "scrolled": true
   },
   "outputs": [
    {
     "data": {
      "text/plain": [
       "             YUM.spl\n",
       "2016-11-01 0.7189073"
      ]
     },
     "metadata": {},
     "output_type": "display_data"
    },
    {
     "data": {
      "text/plain": [
       "               Split       Div\n",
       "2016-10-28 0.7189073 0.9085359\n",
       "2016-10-31 0.7189073 0.9085359\n",
       "2016-11-01 1.0000000 0.9085359\n",
       "2016-11-02 1.0000000 0.9085359"
      ]
     },
     "metadata": {},
     "output_type": "display_data"
    },
    {
     "data": {
      "text/plain": [
       "           YUM.Adjusted\n",
       "2016-10-28     56.24233\n",
       "2016-10-31     56.60974\n",
       "2016-11-01     55.38923\n",
       "2016-11-02     54.48571"
      ]
     },
     "metadata": {},
     "output_type": "display_data"
    },
    {
     "data": {
      "text/plain": [
       "           YUM.Unadjusted_close\n",
       "2016-10-28             86.10895\n",
       "2016-10-31             86.67148\n",
       "2016-11-01             60.96538\n",
       "2016-11-02             59.97089"
      ]
     },
     "metadata": {},
     "output_type": "display_data"
    }
   ],
   "source": [
    "# split happen time\n",
    "splits[[\"YUM\"]] \n",
    "# check ratio change during the period\n",
    "ratios[[\"YUM\"]][\"2016-10-28/2016-11-02\"] \n",
    "# check close prices during the period\n",
    "OHLCV_p[[\"YUM\"]][\"2016-10-28/2016-11-02\"]\n",
    "# check unadjusted_close prices change during the period\n",
    "OHLCV_unadj[[\"YUM\"]][\"2016-10-28/2016-11-02\"]"
   ]
  },
  {
   "cell_type": "markdown",
   "id": "551919fe",
   "metadata": {},
   "source": [
    "By checking the dates at stock splits period for YUM, we could noticed that **Unadjusted_closs** prices show a  <span style='background:yellow'>**sudden \"drop\"**</span> after the splits."
   ]
  },
  {
   "cell_type": "markdown",
   "id": "48e41972",
   "metadata": {},
   "source": [
    "* Get monthly sum prices from unadjusted parices"
   ]
  },
  {
   "cell_type": "code",
   "execution_count": 29,
   "id": "3c44d5ec",
   "metadata": {},
   "outputs": [
    {
     "data": {
      "text/plain": [
       "            Close\n",
       "Mar 2018 68.30409\n",
       "Apr 2018 67.41593\n",
       "May 2018 43.72817\n",
       "Jun 2018 42.16503"
      ]
     },
     "metadata": {},
     "output_type": "display_data"
    },
    {
     "data": {
      "text/plain": [
       "            Close\n",
       "Sep 2015 69.27290\n",
       "Oct 2015 62.43483\n",
       "Nov 2015 56.66447\n",
       "Dec 2015 64.20024"
      ]
     },
     "metadata": {},
     "output_type": "display_data"
    },
    {
     "data": {
      "text/plain": [
       "            Close\n",
       "Sep 2016 91.29852\n",
       "Oct 2016 86.67148\n",
       "Nov 2016 63.67762\n",
       "Dec 2016 63.61735"
      ]
     },
     "metadata": {},
     "output_type": "display_data"
    }
   ],
   "source": [
    "# Call to.period function\n",
    "OHLCV_u <- lapply(OHLCV_unadj,to.period, period = 'months', indexAt='yearmon', name=NULL)\n",
    "\n",
    "# Selected Close data as monthly market cap \n",
    "OHLCV_unadjm <- lapply(p_symbols, function(y){\n",
    "    OHLCV_u[[y]] <- OHLCV_u[[y]][, 'Close']\n",
    "})\n",
    "names(OHLCV_unadjm) <- p_symbols\n",
    "\n",
    "#Show monthly prices around the splits month\n",
    "OHLCV_unadjm[[\"PNR\"]][\"2018-03/2018-06\"]\n",
    "OHLCV_unadjm[[\"DRI\"]][\"2015-09/2015-12\"]\n",
    "OHLCV_unadjm[[\"YUM\"]][\"2016-09/2016-12\"]"
   ]
  },
  {
   "cell_type": "markdown",
   "id": "7e730b8a",
   "metadata": {},
   "source": [
    "From monthly price, we still can find a price \"drop\" in the stock splits month."
   ]
  },
  {
   "cell_type": "code",
   "execution_count": 30,
   "id": "8369694c",
   "metadata": {},
   "outputs": [
    {
     "data": {
      "text/plain": [
       "              Sum\n",
       "Jan 2015 1702.338\n",
       "Feb 2015 1824.405\n",
       "Mar 2015 1805.947"
      ]
     },
     "metadata": {},
     "output_type": "display_data"
    },
    {
     "data": {
      "text/plain": [
       "              Sum\n",
       "Dec 2021 4065.743\n",
       "Jan 2022 3673.829\n",
       "Feb 2022 3443.276"
      ]
     },
     "metadata": {},
     "output_type": "display_data"
    }
   ],
   "source": [
    "# Calculate cross sector sum of data\n",
    "getSum <- function(list_in){   \n",
    "    # Get row numbers    \n",
    "    N <- nrow(list_in[[1]])  \n",
    "    # calculate sum\n",
    "    p_sum <- sapply(1:N, function(y){\n",
    "       sum(sapply(list_in, '[[', y)) \n",
    "    })\n",
    "    # Set xts format\n",
    "    xts_sum <- as.xts(p_sum, order.by = index(list_in[[1]]))\n",
    "    names(xts_sum) <- \"Sum\"    \n",
    "    return (xts_sum)\n",
    "}\n",
    "\n",
    "# call getSum function to get sum prices\n",
    "price_s <- getSum(OHLCV_unadjm)\n",
    "\n",
    "# check results\n",
    "head(price_s, 3)\n",
    "tail(price_s, 3)"
   ]
  },
  {
   "cell_type": "markdown",
   "id": "dce7a163",
   "metadata": {},
   "source": [
    "* Create Price weighted Index"
   ]
  },
  {
   "cell_type": "markdown",
   "id": "2f6dda98",
   "metadata": {},
   "source": [
    "We set the first period divisor to the number that <span style='background:yellow'>**makes Index initial value to be 100**</span>(instead of using 20 as the index divisor), for easier comparison with other indexs later."
   ]
  },
  {
   "cell_type": "markdown",
   "id": "a3d024c1",
   "metadata": {},
   "source": [
    "**We use the following precedure to calculate new divisors that are influenced by stock splits:**\n",
    "* calcultate splits and dividents ratio, and obtain unadjusted price;\n",
    "* calculate divisor, assume monthly return no change at split time t, then use t-1 month index and sum(price) of month t, to calculate  new divisor at month t.  \n",
    "$$d_{1}=\\frac{Price_{1}}{100}$$\n",
    "<span style='color:blue'>**In normal days:**</span> \n",
    "$$d_{t} = d_{t-1}$$\n",
    "$$Index_{t}=\\frac{Price_{t}}{d_{t}}$$\n",
    "<span style='color:blue'>**When split happens:**</span>  \n",
    "$$Index_{t} = Index_{t-1}$$\n",
    "$$d_{t}=\\frac{Price_{t}}{Index_{t}}$$"
   ]
  },
  {
   "cell_type": "code",
   "execution_count": 31,
   "id": "8eaa16c9",
   "metadata": {},
   "outputs": [
    {
     "data": {
      "text/plain": [
       "[1] \"Nov 2015\" \"Nov 2016\" \"May 2018\""
      ]
     },
     "metadata": {},
     "output_type": "display_data"
    }
   ],
   "source": [
    "# Create the split date vector\n",
    "split_date <- as.yearmon(index(do.call(rbind, splits_s)))\n",
    "split_date"
   ]
  },
  {
   "cell_type": "code",
   "execution_count": 32,
   "id": "cd4c00d5",
   "metadata": {},
   "outputs": [
    {
     "name": "stdout",
     "output_type": "stream",
     "text": [
      "[1] \"First divisor:\"\n"
     ]
    },
    {
     "data": {
      "text/html": [
       "17.0233788388648"
      ],
      "text/latex": [
       "17.0233788388648"
      ],
      "text/markdown": [
       "17.0233788388648"
      ],
      "text/plain": [
       "[1] 17.02338"
      ]
     },
     "metadata": {},
     "output_type": "display_data"
    },
    {
     "name": "stdout",
     "output_type": "stream",
     "text": [
      "[1] \"Nov 2015\"\n",
      "[1] 16.99649\n",
      "[1] \"Nov 2016\"\n",
      "[1] 17.24593\n",
      "[1] \"May 2018\"\n",
      "[1] 17.24022\n"
     ]
    }
   ],
   "source": [
    "# Create index\n",
    "T    <- nrow(price_s)  \n",
    "\n",
    "#Set initial index value\n",
    "p    <- vector()\n",
    "p[1] <- 100\n",
    "\n",
    "# set initial divisor\n",
    "d    <- vector()\n",
    "d[1] <- price_s[1] / 100 \n",
    "print(\"First divisor:\")\n",
    "d[1]\n",
    "\n",
    "for (i in 2 : T){\n",
    "    if (index(price_s[i]) %in% split_date){\n",
    "        # Calculate divisor at split date\n",
    "        print(index(price_s[i]))\n",
    "        # Index remain same\n",
    "        p[i] <- p[i-1]\n",
    "        # Use new prices to update divisor\n",
    "        d[i] <- price_s[i] / p[i]       \n",
    "        print(d[i])\n",
    "    } else {\n",
    "        # For normal date, divisor stay same\n",
    "        d[i] <- d[i-1]\n",
    "        # Use new prices to calculate index\n",
    "        p[i] <- price_s[i] / d[i]\n",
    "    }\n",
    "}\n",
    "\n",
    "# Print out divisor value for checking"
   ]
  },
  {
   "cell_type": "markdown",
   "id": "00cf8a34",
   "metadata": {},
   "source": [
    "From the output, we could see the divisor changed at splits days."
   ]
  },
  {
   "cell_type": "code",
   "execution_count": 33,
   "id": "323d3ab1",
   "metadata": {},
   "outputs": [
    {
     "data": {
      "text/plain": [
       "         Price Weighted Index\n",
       "Jan 2015             100.0000\n",
       "Feb 2015             107.1706\n",
       "Mar 2015             106.0863"
      ]
     },
     "metadata": {},
     "output_type": "display_data"
    },
    {
     "data": {
      "text/plain": [
       "         Price Weighted Index\n",
       "Dec 2021             235.8289\n",
       "Jan 2022             213.0964\n",
       "Feb 2022             199.7234"
      ]
     },
     "metadata": {},
     "output_type": "display_data"
    }
   ],
   "source": [
    "# Format index to Time Series \n",
    "index_1 <- as.xts(p, order.by = index(price_s))\n",
    "names(index_1) <- \"Price Weighted Index\"\n",
    "\n",
    "# check results\n",
    "head(index_1,3)\n",
    "tail(index_1,3)"
   ]
  },
  {
   "cell_type": "markdown",
   "id": "ec7d16a5",
   "metadata": {},
   "source": [
    "### <span style='background: lightblue'>(2). Market-capitalizaion Weighted Index</span>"
   ]
  },
  {
   "cell_type": "markdown",
   "id": "31edd51f",
   "metadata": {},
   "source": [
    "* Get monthly Market Cap data"
   ]
  },
  {
   "cell_type": "code",
   "execution_count": 34,
   "id": "430c0362",
   "metadata": {},
   "outputs": [
    {
     "data": {
      "text/plain": [
       "$ABT\n",
       "           ABT\n",
       "Jan 2015 67.36\n",
       "Feb 2015 71.29\n",
       "Mar 2015 69.73\n",
       "\n",
       "$CMS\n",
       "           CMS\n",
       "Jan 2015 10.37\n",
       "Feb 2015  9.65\n",
       "Mar 2015  9.59\n"
      ]
     },
     "metadata": {},
     "output_type": "display_data"
    },
    {
     "data": {
      "text/plain": [
       "$ABT\n",
       "            ABT\n",
       "Dec 2021 249.75\n",
       "Jan 2022 226.18\n",
       "Feb 2022 214.04\n",
       "\n",
       "$CMS\n",
       "           CMS\n",
       "Dec 2021 18.80\n",
       "Jan 2022 18.61\n",
       "Feb 2022 18.50\n"
      ]
     },
     "metadata": {},
     "output_type": "display_data"
    }
   ],
   "source": [
    "# Call the function set data set only after 2015\n",
    "MktCap_2015 <- lapply(MktCap, setRange1, as.Date(\"2015-01-01\"), as.Date(\"2022-03-01\"))\n",
    "\n",
    "# Call to.period function\n",
    "MktCap_mon <- lapply(MktCap_2015,to.period, period = 'months', indexAt='yearmon', name=NULL)\n",
    "\n",
    "# Selected Close data as monthly market cap \n",
    "MktCap_m <- lapply(names(MktCap_mon), function(y){\n",
    "    MktCap_mon[[y]] <- MktCap_mon[[y]][, 'Close']\n",
    "})\n",
    "names(MktCap_m) <- names(MktCap_mon)\n",
    "\n",
    "# p_list is the whole 20 stocks market cap for check\n",
    "mc_list <- do.call(merge, MktCap_m)\n",
    "colnames(mc_list) <- names(MktCap_m)\n",
    "\n",
    "# Check monthly market cap data \n",
    "lapply(mc_list, head, 3)[1:2]\n",
    "lapply(mc_list, tail, 3)[1:2]"
   ]
  },
  {
   "cell_type": "markdown",
   "id": "d367668c",
   "metadata": {},
   "source": [
    "* Calculate the Sum of Market Cap\n"
   ]
  },
  {
   "cell_type": "code",
   "execution_count": 35,
   "id": "ae1b51cf",
   "metadata": {},
   "outputs": [
    {
     "data": {
      "text/plain": [
       "            Sum\n",
       "Jan 2015 579.27\n",
       "Feb 2015 633.52\n",
       "Mar 2015 629.94"
      ]
     },
     "metadata": {},
     "output_type": "display_data"
    },
    {
     "data": {
      "text/plain": [
       "             Sum\n",
       "Dec 2021 1114.04\n",
       "Jan 2022 1041.87\n",
       "Feb 2022  997.51"
      ]
     },
     "metadata": {},
     "output_type": "display_data"
    }
   ],
   "source": [
    "# Calculate cross sector sum of Mark Cap\n",
    "mc_sum <- getSum(MktCap_m)\n",
    "date_index <- index(mc_sum)\n",
    "\n",
    "# check result\n",
    "\n",
    "head(mc_sum, 3)\n",
    "tail(mc_sum, 3)"
   ]
  },
  {
   "cell_type": "markdown",
   "id": "5588e6e5",
   "metadata": {},
   "source": [
    "* Create Mark Cap Index"
   ]
  },
  {
   "cell_type": "markdown",
   "id": "79bf2b8f",
   "metadata": {},
   "source": [
    "We set the first period divisor to the number that makes <span style='background:yellow'>**Index initial value to be 100**</span>, for easier comparison with other indexs later."
   ]
  },
  {
   "cell_type": "markdown",
   "id": "766d3544",
   "metadata": {},
   "source": [
    "**We use the following formula to calculate market cap index:  \n",
    "Set the index of January 2015 as the base index, which equals to 100**\n",
    "$$Index_{t}=\\frac{TOTAL-MKT-CAP_t}{TOTAL-MKT-CAP_0}*100$$\n"
   ]
  },
  {
   "cell_type": "code",
   "execution_count": 36,
   "id": "482ff199",
   "metadata": {},
   "outputs": [
    {
     "data": {
      "text/html": [
       "5.7927"
      ],
      "text/latex": [
       "5.7927"
      ],
      "text/markdown": [
       "5.7927"
      ],
      "text/plain": [
       "[1] 5.7927"
      ]
     },
     "metadata": {},
     "output_type": "display_data"
    },
    {
     "data": {
      "text/plain": [
       "         Market-Cap Weighted Index\n",
       "Jan 2015                  100.0000\n",
       "Feb 2015                  109.3652\n",
       "Mar 2015                  108.7472"
      ]
     },
     "metadata": {},
     "output_type": "display_data"
    },
    {
     "data": {
      "text/plain": [
       "         Market-Cap Weighted Index\n",
       "Dec 2021                  192.3179\n",
       "Jan 2022                  179.8591\n",
       "Feb 2022                  172.2012"
      ]
     },
     "metadata": {},
     "output_type": "display_data"
    }
   ],
   "source": [
    "#Create index2\n",
    "d2 <- as.numeric(mc_sum[1] / 100) \n",
    "# set initial divisor\n",
    "d2\n",
    "\n",
    "index_2 <- mc_sum/d2\n",
    "names(index_2) <- \"Market-Cap Weighted Index\"\n",
    "\n",
    "# check result\n",
    "head(index_2, 3)\n",
    "tail(index_2, 3)"
   ]
  },
  {
   "cell_type": "markdown",
   "id": "b377b002",
   "metadata": {},
   "source": [
    "### <span style='background: lightblue'>(3). Equally Weighted Index</span>"
   ]
  },
  {
   "cell_type": "markdown",
   "id": "b76fedc7",
   "metadata": {},
   "source": [
    "* Calculate mean of returns"
   ]
  },
  {
   "cell_type": "code",
   "execution_count": 37,
   "id": "2ce5b774",
   "metadata": {},
   "outputs": [
    {
     "data": {
      "text/plain": [
       "                  ABT          CMS          PNR         AVB          IEX\n",
       "Feb 2015  0.058311083 -0.061719806  0.075392861 -0.02688016  0.067864591\n",
       "Mar 2015 -0.021954750 -0.006262407 -0.053858900  0.04251304 -0.018508699\n",
       "Apr 2015  0.007068553 -0.028071955 -0.004084226 -0.05687192 -0.006674276\n",
       "                SBAC        QCOM         BWA        WMB         DRI         WBA\n",
       "Feb 2015  0.06863762  0.16090318  0.14033664 0.11810311  0.04268472  0.13128306\n",
       "Mar 2015 -0.06102156 -0.03814664 -0.01594527 0.04430720  0.08343764  0.01925868\n",
       "Apr 2015 -0.01093084 -0.01932532 -0.02116408 0.01186039 -0.07170876 -0.02066606\n",
       "                 VLO         CAT          NRG         MCK          STZ\n",
       "Feb 2015  0.17517217  0.03663839 -0.027575107  0.07660116  0.038660080\n",
       "Mar 2015  0.03128541 -0.03461982  0.050458800 -0.01093114  0.012988233\n",
       "Apr 2015 -0.10562729  0.09458985  0.007690187 -0.01237872 -0.002323321\n",
       "                 ZBRA          MHK        LRCX         YUM\n",
       "Feb 2015  0.090941818  0.117002023  0.07875412  0.12216369\n",
       "Mar 2015 -0.003624404  0.007594217 -0.14627615 -0.02946622\n",
       "Apr 2015  0.014991193 -0.065948856  0.07602492  0.09998441"
      ]
     },
     "metadata": {},
     "output_type": "display_data"
    }
   ],
   "source": [
    "# r_list is the whole 20 stocks returns\n",
    "r_list <- do.call(merge, rets)\n",
    "colnames(r_list) <- names(rets)\n",
    "\n",
    "head(r_list, 3)"
   ]
  },
  {
   "cell_type": "code",
   "execution_count": 38,
   "id": "5445ba4c",
   "metadata": {},
   "outputs": [
    {
     "data": {
      "text/plain": [
       "                 Mean\n",
       "Feb 2015  0.074163763\n",
       "Mar 2015 -0.007438638\n",
       "Apr 2015 -0.005678306"
      ]
     },
     "metadata": {},
     "output_type": "display_data"
    },
    {
     "data": {
      "text/plain": [
       "                Mean\n",
       "Dec 2021  0.08493752\n",
       "Jan 2022 -0.05463511\n",
       "Feb 2022 -0.04445353"
      ]
     },
     "metadata": {},
     "output_type": "display_data"
    }
   ],
   "source": [
    "# Calculate cross sector mean of data\n",
    "getMean <- function(list_in){   \n",
    "    # Get row numbers    \n",
    "    N <- nrow(list_in[[1]])  \n",
    "    # calculate sum\n",
    "    p_mean <- sapply(1:N, function(y){\n",
    "       mean(sapply(list_in, '[[', y)) \n",
    "    })\n",
    "    # Set xts format\n",
    "    xts_mean <- as.xts(p_mean, order.by = index(list_in[[1]]))\n",
    "    names(xts_mean) <- \"Mean\"    \n",
    "    return (xts_mean)\n",
    "}\n",
    "\n",
    "# call getSum function to get sum prices\n",
    "ret_mean <- getMean(rets)\n",
    "\n",
    "# check result\n",
    "head(ret_mean, 3)\n",
    "tail(ret_mean, 3)"
   ]
  },
  {
   "cell_type": "markdown",
   "id": "223b93f4",
   "metadata": {},
   "source": [
    "* Create Equally Weighted Index"
   ]
  },
  {
   "cell_type": "markdown",
   "id": "b31f1e3c",
   "metadata": {},
   "source": [
    "We set the first period divisor to the number that makes <span style='background:yellow'>**Index initial value to be 100**</span>, for easier comparison with other indexs later."
   ]
  },
  {
   "cell_type": "markdown",
   "id": "529a9a2c",
   "metadata": {},
   "source": [
    "**We use the following formula to calculate equally weighted index:  \n",
    "Set the index of 2015 as the base year, and the index of base year equals to 100**\n",
    "$$Index_{t}={(MEAN-OF-RETURN_{t-1}+1)}*Index_{t-1}$$"
   ]
  },
  {
   "cell_type": "code",
   "execution_count": 39,
   "id": "88a65075",
   "metadata": {},
   "outputs": [
    {
     "data": {
      "text/plain": [
       "         Equally Weighted Index\n",
       "Jan 2015               100.0000\n",
       "Feb 2015               107.4164\n",
       "Mar 2015               106.6173"
      ]
     },
     "metadata": {},
     "output_type": "display_data"
    },
    {
     "data": {
      "text/plain": [
       "         Equally Weighted Index\n",
       "Dec 2021               289.4620\n",
       "Jan 2022               273.6472\n",
       "Feb 2022               261.4826"
      ]
     },
     "metadata": {},
     "output_type": "display_data"
    }
   ],
   "source": [
    "#Create index\n",
    "T    <- nrow(ret_mean) + 1 \n",
    "p    <- vector()\n",
    "#Set initial condition\n",
    "p[1] <- 100\n",
    "#Simulate\n",
    "for (i in 2 : T){p[i] <- p[i-1] * (1 + ret_mean[i-1] )}\n",
    "\n",
    "index_3 <- as.xts(p, order.by = date_index)\n",
    "names(index_3) <- \"Equally Weighted Index\"\n",
    "\n",
    "# check result\n",
    "head(index_3, 3)\n",
    "tail(index_3, 3)"
   ]
  },
  {
   "cell_type": "markdown",
   "id": "4e8ccedc",
   "metadata": {},
   "source": [
    "### <span style='background: lightblue'>(4). Conclusion</span>"
   ]
  },
  {
   "cell_type": "markdown",
   "id": "bfa87a18",
   "metadata": {},
   "source": [
    "* Portfolio Index Chart observation"
   ]
  },
  {
   "cell_type": "code",
   "execution_count": 40,
   "id": "2c97fe31",
   "metadata": {
    "scrolled": true
   },
   "outputs": [
    {
     "data": {
      "image/png": "[encoded data removed]",
      "text/plain": [
       "plot without title"
      ]
     },
     "metadata": {
      "image/png": {
       "height": 480,
       "width": 600
      }
     },
     "output_type": "display_data"
    }
   ],
   "source": [
    "options(repr.plot.width = 10, repr.plot.height = 8)\n",
    "t_index <- merge(index_1, index_2, index_3, all=TRUE)\n",
    "autoplot(t_index, facets = FALSE) + geom_line() + geom_point() + \n",
    "    theme_wsj()+ scale_colour_wsj(\"dem_rep\")+ ggtitle(\"Three Stock Indexes Comparation\")"
   ]
  },
  {
   "cell_type": "markdown",
   "id": "df252fb4",
   "metadata": {},
   "source": [
    "**Comments:  \n",
    "From the plot, we can easily find that the three indexs have a very similar variation trend.However, the equally weighted index has the largest fluctuation while the market-capitalization weighted index has the smallest fluctuation.Such differences are mainly due to the differences in weightng decisions.**"
   ]
  },
  {
   "cell_type": "markdown",
   "id": "059a3328",
   "metadata": {},
   "source": [
    "* To better illustrate the influence of stock price level on **Price Weighted Index**, we compare two different stock prices with the index, one is LRCX, which has the highest price among the 20 stocks, and another is WMB, which has a very low price.From the plot below, we can find that the stock LRCX seems to have larger influence on the index."
   ]
  },
  {
   "cell_type": "code",
   "execution_count": 41,
   "id": "43d315bc",
   "metadata": {
    "scrolled": true
   },
   "outputs": [
    {
     "data": {
      "text/plain": [
       "         Price Weighted Index      WMB     LRCX\n",
       "Sep 2021             202.8772 25.61178 567.3365\n",
       "Oct 2021             209.0566 27.73457 561.7742\n",
       "Nov 2021             219.8093 26.45102 677.6837\n",
       "Dec 2021             235.8289 25.69948 716.8500\n",
       "Jan 2022             213.0964 29.54848 588.0333\n",
       "Feb 2022             199.7234 30.87095 559.5546"
      ]
     },
     "metadata": {},
     "output_type": "display_data"
    },
    {
     "data": {
      "image/png": "[encoded data removed]",
      "text/plain": [
       "plot without title"
      ]
     },
     "metadata": {
      "image/png": {
       "height": 480,
       "width": 600
      }
     },
     "output_type": "display_data"
    }
   ],
   "source": [
    "OHLCV_unadjm_list <- do.call(merge, OHLCV_unadjm)\n",
    "colnames(OHLCV_unadjm_list) <- names(OHLCV_unadjm)\n",
    "\n",
    "p_index <- full_join(tk_tbl(index_1), tk_tbl(OHLCV_unadjm_list), by = \"index\" )\n",
    "p_index1 <- xts(p_index[,c(2,11,21)],p_index$index)\n",
    "tail(p_index1)\n",
    "\n",
    "#compare the effect to index with LRCX(high price stock) and WMB(low price stock)\n",
    "options(repr.plot.width = 10, repr.plot.height = 8)\n",
    "autoplot(p_index1, facets = FALSE) + geom_line() + geom_point() + \n",
    "    theme_wsj()+ scale_colour_wsj(\"dem_rep\")+ ggtitle(\"Price Index Effect\")"
   ]
  },
  {
   "cell_type": "markdown",
   "id": "a9f8f49c",
   "metadata": {},
   "source": [
    "**Comments:  \n",
    "In Pricing Weighting Index, the weight on each constituent stock is determined by dividing its price by the sum of all the prices of the constituent stocks. Therefore, the stock that has highest price will have the greatest impact on the value of the index. Among the 20 selected stocks, \"ZBRA\"and \"LRCX\" have the highest prices, thus having the largest influence in the index. For example, from Oct.2020 to Aug 2021, the unadjusted price of ZBRA increased from 283.6 to 587, and the unadjusted price of LRCX increased from 341.03 to 602.9. This two stocks have the greatest peforming as well as the largest weighting, hence the performance of the average increased sharply during that period.  \n",
    "In addition, three stock splits happened during the index calculation period, which are \"PNR\" on 2018-05, \"DRI\" on 2015-11, and \"YUM\" on 2016-11.The stock splits reduced the relative weights of these three stocks, and since the performance of these stocks (especially for PNR) is not as good as other stocks, the performance of the average becomes higher after splits.**"
   ]
  },
  {
   "cell_type": "markdown",
   "id": "438f2952",
   "metadata": {},
   "source": [
    "* To  illustrate the influence of market capitalization on **Market Capitalization Weighted Index**, we choose to compare stock \"ABT\" and \"WBA\"with our market capitalization weighted index. ABT has the highest Market-Cap in the portfolio at 214 Billions USD on Feb 2022, while WBA only has 40 Billions USD Market-Cap. From the chart below, the higher Market-Cap stock \"ABT\" seems to have larger influence on index than the other."
   ]
  },
  {
   "cell_type": "code",
   "execution_count": 42,
   "id": "3e3b4467",
   "metadata": {
    "scrolled": true
   },
   "outputs": [
    {
     "data": {
      "text/plain": [
       "         Market-Cap Weighted Index    ABT   WBA\n",
       "Sep 2021                  162.2490 209.62 40.74\n",
       "Oct 2021                  169.4150 228.72 40.71\n",
       "Nov 2021                  178.5558 223.18 38.79\n",
       "Dec 2021                  192.3179 249.75 45.16\n",
       "Jan 2022                  179.8591 226.18 43.08\n",
       "Feb 2022                  172.2012 214.04 39.90"
      ]
     },
     "metadata": {},
     "output_type": "display_data"
    },
    {
     "data": {
      "image/png": "[encoded data removed]",
      "text/plain": [
       "plot without title"
      ]
     },
     "metadata": {
      "image/png": {
       "height": 480,
       "width": 600
      }
     },
     "output_type": "display_data"
    }
   ],
   "source": [
    "mc_index <- full_join(tk_tbl(index_2), tk_tbl(mc_list), by = \"index\" )\n",
    "mc_index1 <- xts(mc_index[,c(2,3,13)],mc_index$index)\n",
    "tail(mc_index1)\n",
    "\n",
    "#compare the effect to index with ABT(Highest Mark Cap) and WBA(normal stock) \n",
    "options(repr.plot.width = 10, repr.plot.height = 8)\n",
    "autoplot(mc_index1, facets = FALSE) + geom_line() + geom_point() + \n",
    "    theme_wsj()+ scale_colour_wsj(\"dem_rep\")+ ggtitle(\"Market Cap Index Effect\")"
   ]
  },
  {
   "cell_type": "markdown",
   "id": "d939ef9a",
   "metadata": {},
   "source": [
    "**Comments:  \n",
    "In Market-Capitalization Weighting Index, the weight on each constituent security is determined by dividing its market capitalization by the total market capitalization of all the securities in the index.As we can see in the \"Stock Index Comparation\"plot, the market capitalization weighted index has lower value than the price weighted index.One reason is that unlike the price wighted index that gives more weight to  \"ZBRA\"and \"LRCX\", the market capitalization weighted index gives more weight to \"QCMO\" and \"ABT\", which have relative high market capitalization values among the 20 stocks.**"
   ]
  },
  {
   "cell_type": "markdown",
   "id": "0a6d5a35",
   "metadata": {},
   "source": [
    "**In Equal Weighting Index, an equal weight is assigned to each constituent stock. Unlike a price weighted index, where the weights are arbitrarily determined by the market prices, the weights in an equally weighted index are arbitrarily assigned by the index provider. However, such weighting method have two main disadvantages. Firstly, stocks that constitute the largest fraction of the target market value are underepresented, and stocks that constitute a small fraction of the target market are overrepresented. Secondly, after the index is constructed and the prices of constituent securities change, the index is no longer equally weighted. The equal weighting method and its disadvantages mentioned above may expalin the discrepancy between equally weighted index and the other two, as we can find in the index plot.**"
   ]
  }
 ],
 "metadata": {
  "kernelspec": {
   "display_name": "R",
   "language": "R",
   "name": "ir"
  },
  "language_info": {
   "codemirror_mode": "r",
   "file_extension": ".r",
   "mimetype": "text/x-r-source",
   "name": "R",
   "pygments_lexer": "r",
   "version": "4.1.2"
  }
 },
 "nbformat": 4,
 "nbformat_minor": 5
}
