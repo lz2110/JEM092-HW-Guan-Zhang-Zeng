{
 "cells": [
  {
   "cell_type": "markdown",
   "id": "9194b51e",
   "metadata": {},
   "source": [
    "# JEM092 Asset Pricing - Homework 2"
   ]
  },
  {
   "cell_type": "markdown",
   "id": "20a232b2",
   "metadata": {},
   "source": [
    "<span style='background:lightblue'> **Group : 20107894 ;  \n",
    "Assigned Factor : ILLIQ.**</span>  \n",
    "\n",
    "Team Member :\n",
    "\n",
    "Yanqi Guan : 20107894@fsv.cuni.cz\n",
    "\n",
    "Lin Zhang : 15845542@fsv.cuni.cz\n",
    "\n",
    "Jiayi Zeng : 46566215@fsv.cuni.cz\n"
   ]
  },
  {
   "cell_type": "markdown",
   "id": "cc28537d",
   "metadata": {},
   "source": [
    "## Empirical Problem\n",
    "In the homework you will demonstrate all the theoretical knowledge and empirical skills gained through the semester. Using financial market data you will \n",
    "* sort stocks into various portfolios, \n",
    "* examine time-series properties of the formed portfolios, \n",
    "* examine cross-sectional variation in portfolios and comment on importance of the sorting variables,  \n",
    "* use the Fama-MacBeth regressions and Fama-French-Carhart-Pastor-Stambaugh factor model to assess the performance of the sorting variables\n",
    "\n",
    "In the portfolio analysis you will use 3 sorting variables to create various portfolios. These variables are following:\n",
    "* Beta\n",
    "* Size\n",
    "* one of the Book-to-Market ratio/Momentum/Short-term-reversal/Illiquidity/Skewness/Volatility\n",
    "     + to each group the sorting variable was randomly assigned using the following code"
   ]
  },
  {
   "cell_type": "markdown",
   "id": "9c0ca164",
   "metadata": {},
   "source": [
    "Besides the firm level data you will need some of the factors often used in empirical asset pricing literature. The Fama-French 3 factors, Momentum and Short-term reversal can be downloaded from the Kenneth French web (https://mba.tuck.dartmouth.edu/pages/faculty/ken.french/data_library.html) - file with FF three factors contain also risk-free rate. The liquidity factor can be downloaded from the web of Ľuboš Pástor (https://faculty.chicagobooth.edu/lubos-pastor/data)\n"
   ]
  },
  {
   "cell_type": "markdown",
   "id": "6b0a2575",
   "metadata": {},
   "source": [
    "# Solutions:\n"
   ]
  },
  {
   "cell_type": "markdown",
   "id": "ccc66a81",
   "metadata": {},
   "source": [
    "* **Environment setup**"
   ]
  },
  {
   "cell_type": "code",
   "execution_count": 46,
   "id": "3d2d3a08",
   "metadata": {},
   "outputs": [
    {
     "data": {
      "text/html": [
       "'English_United States.1252'"
      ],
      "text/latex": [
       "'English\\_United States.1252'"
      ],
      "text/markdown": [
       "'English_United States.1252'"
      ],
      "text/plain": [
       "[1] \"English_United States.1252\""
      ]
     },
     "metadata": {},
     "output_type": "display_data"
    },
    {
     "data": {
      "text/html": [
       "'R version 4.1.2 (2021-11-01)'"
      ],
      "text/latex": [
       "'R version 4.1.2 (2021-11-01)'"
      ],
      "text/markdown": [
       "'R version 4.1.2 (2021-11-01)'"
      ],
      "text/plain": [
       "[1] \"R version 4.1.2 (2021-11-01)\""
      ]
     },
     "metadata": {},
     "output_type": "display_data"
    }
   ],
   "source": [
    "# Setup environment\n",
    "Sys.setenv(LANG = \"en\")\n",
    "Sys.setlocale(\"LC_TIME\", \"English\")\n",
    "options(warn = -1)  # suppressing warnings\n",
    "version[['version.string']]\n",
    "\n",
    "if (!require(quantmod)) install.packages('quantmod')\n",
    "if (!require(lubridate)) install.packages('lubridate')\n",
    "if (!require(sandwich)) install.packages('sandwich')\n",
    "if (!require(moments)) install.packages('moments')\n",
    "\n",
    "library(quantmod)\n",
    "library(lubridate)\n",
    "library(sandwich)\n",
    "library(moments)"
   ]
  },
  {
   "cell_type": "code",
   "execution_count": 47,
   "id": "5caf9cd7",
   "metadata": {},
   "outputs": [],
   "source": [
    "# Load to continue ...\n",
    "# save.image(file = \"AP_Hw2.RData\")\n",
    "# load(\"AP_Hw2.RData\")\n",
    "# print(\"Welcome back!\")"
   ]
  },
  {
   "cell_type": "markdown",
   "id": "fac7ea97",
   "metadata": {},
   "source": [
    "**This homework is coded in environment of R version 4.1.2, please note that running the code on different R version might get slightly different results.  \n",
    "\"Restart & Run ALL\" code would take around <span style='background: lightblue'>3 minutes</span>.**"
   ]
  },
  {
   "cell_type": "markdown",
   "id": "1db96240",
   "metadata": {},
   "source": [
    "# 1. Data Preparation"
   ]
  },
  {
   "cell_type": "markdown",
   "id": "3db1b6bc",
   "metadata": {},
   "source": [
    "In each month to obtain estimates of Beta, Illiquidity, total Skewness and total Volatilit use last 12 months of daily data. Further, for Beta estimation use data from Kenneth French library, i.e. Mkt-RF as market risk premium. "
   ]
  },
  {
   "cell_type": "markdown",
   "id": "c26b63c8",
   "metadata": {},
   "source": [
    "* Sample period: 01.01.2007 - 31.12.2020\n",
    "* Use data stored in the Moodle, from file \"Asset_Pricing_HW_2_data.RData\""
   ]
  },
  {
   "cell_type": "code",
   "execution_count": 3,
   "id": "011155d8",
   "metadata": {},
   "outputs": [
    {
     "data": {
      "text/html": [
       "<style>\n",
       ".list-inline {list-style: none; margin:0; padding: 0}\n",
       ".list-inline>li {display: inline-block}\n",
       ".list-inline>li:not(:last-child)::after {content: \"\\00b7\"; padding: 0 .5ex}\n",
       "</style>\n",
       "<ol class=list-inline><li>'book_value_sap500'</li><li>'MktCap_sap500'</li><li>'OHLCV_sap500'</li><li>'symbols'</li></ol>\n"
      ],
      "text/latex": [
       "\\begin{enumerate*}\n",
       "\\item 'book\\_value\\_sap500'\n",
       "\\item 'MktCap\\_sap500'\n",
       "\\item 'OHLCV\\_sap500'\n",
       "\\item 'symbols'\n",
       "\\end{enumerate*}\n"
      ],
      "text/markdown": [
       "1. 'book_value_sap500'\n",
       "2. 'MktCap_sap500'\n",
       "3. 'OHLCV_sap500'\n",
       "4. 'symbols'\n",
       "\n",
       "\n"
      ],
      "text/plain": [
       "[1] \"book_value_sap500\" \"MktCap_sap500\"     \"OHLCV_sap500\"     \n",
       "[4] \"symbols\"          "
      ]
     },
     "metadata": {},
     "output_type": "display_data"
    },
    {
     "data": {
      "text/html": [
       "250"
      ],
      "text/latex": [
       "250"
      ],
      "text/markdown": [
       "250"
      ],
      "text/plain": [
       "[1] 250"
      ]
     },
     "metadata": {},
     "output_type": "display_data"
    },
    {
     "data": {
      "text/html": [
       "<style>\n",
       ".list-inline {list-style: none; margin:0; padding: 0}\n",
       ".list-inline>li {display: inline-block}\n",
       ".list-inline>li:not(:last-child)::after {content: \"\\00b7\"; padding: 0 .5ex}\n",
       "</style>\n",
       "<ol class=list-inline><li>'F'</li><li>'CSX'</li><li>'OKE'</li><li>'DFS'</li><li>'ITW'</li><li>'MRO'</li></ol>\n"
      ],
      "text/latex": [
       "\\begin{enumerate*}\n",
       "\\item 'F'\n",
       "\\item 'CSX'\n",
       "\\item 'OKE'\n",
       "\\item 'DFS'\n",
       "\\item 'ITW'\n",
       "\\item 'MRO'\n",
       "\\end{enumerate*}\n"
      ],
      "text/markdown": [
       "1. 'F'\n",
       "2. 'CSX'\n",
       "3. 'OKE'\n",
       "4. 'DFS'\n",
       "5. 'ITW'\n",
       "6. 'MRO'\n",
       "\n",
       "\n"
      ],
      "text/plain": [
       "[1] \"F\"   \"CSX\" \"OKE\" \"DFS\" \"ITW\" \"MRO\""
      ]
     },
     "metadata": {},
     "output_type": "display_data"
    }
   ],
   "source": [
    "# load data from Moodle\n",
    "load(\"Asset_Pricing_HW_2_data.RData\")\n",
    "ls()\n",
    "# Read assigned symbols from file \n",
    "smbs <- read.csv('20107894_data_download.csv',colClasses = \"character\")\n",
    "p_symbols <- smbs[[2]]\n",
    "length(p_symbols)\n",
    "head(p_symbols)"
   ]
  },
  {
   "cell_type": "code",
   "execution_count": 4,
   "id": "fa9a6140",
   "metadata": {
    "scrolled": true
   },
   "outputs": [
    {
     "name": "stdout",
     "output_type": "stream",
     "text": [
      "[1] \"OHLCV: 250\"\n"
     ]
    },
    {
     "data": {
      "text/plain": [
       "$F\n",
       "           F.Open F.High F.Low F.Close F.Volume F.Adjusted\n",
       "2007-01-03   7.56   7.67  7.44    7.51 78652200   5.039420\n",
       "2007-01-04   7.56   7.72  7.43    7.70 63454900   5.166914\n",
       "\n",
       "$CSX\n",
       "           CSX.Open CSX.High  CSX.Low CSX.Close CSX.Volume CSX.Adjusted\n",
       "2007-01-03 3.862222 3.923333 3.805556  3.860000   57204900     2.924608\n",
       "2007-01-04 3.865556 3.894444 3.828889  3.888889   36793800     2.946497\n"
      ]
     },
     "metadata": {},
     "output_type": "display_data"
    },
    {
     "name": "stdout",
     "output_type": "stream",
     "text": [
      "[1] \"MktCap: 250\"\n"
     ]
    },
    {
     "data": {
      "text/plain": [
       "$F\n",
       "            [,1]\n",
       "2007-01-03 14.21\n",
       "2007-01-04 14.57\n",
       "\n",
       "$CSX\n",
       "            [,1]\n",
       "2007-01-03 15.20\n",
       "2007-01-04 15.32\n"
      ]
     },
     "metadata": {},
     "output_type": "display_data"
    },
    {
     "name": "stdout",
     "output_type": "stream",
     "text": [
      "[1] \"Value: 250\"\n"
     ]
    },
    {
     "data": {
      "text/plain": [
       "$F\n",
       "           Stock Price Book Value per Share Price/Book Ratio\n",
       "2007-03-31        5.29                -1.97            -2.68\n",
       "2007-06-30        6.32                -0.93            -6.82\n",
       "\n",
       "$CSX\n",
       "           Stock Price Book Value per Share Price/Book Ratio\n",
       "2007-03-31        3.40                 2.32             1.47\n",
       "2007-06-30        3.83                 2.34             1.64\n"
      ]
     },
     "metadata": {},
     "output_type": "display_data"
    }
   ],
   "source": [
    "# set data range from 2007 - 2020\n",
    "OHLCV <- OHLCV_sap500[p_symbols]\n",
    "OHLCV <- lapply(p_symbols, function(y){OHLCV[[y]][\"2007/2020\"]})\n",
    "names(OHLCV) <- p_symbols\n",
    "\n",
    "MktCap <- MktCap_sap500[p_symbols]\n",
    "MktCap <- lapply(p_symbols, function(y){MktCap[[y]][\"2007/2020\"]})\n",
    "names(MktCap) <- p_symbols\n",
    "\n",
    "book_value <- book_value_sap500[p_symbols]\n",
    "book_value <- lapply(p_symbols, function(y){book_value[[y]][\"2007/2020\"]})\n",
    "names(book_value) <- p_symbols\n",
    "\n",
    "# check data loaded, we only need stock price and MktCap data\n",
    "print(paste(\"OHLCV:\", length(OHLCV)))\n",
    "lapply(OHLCV, head, 2)[1:2]\n",
    "print(paste(\"MktCap:\", length(MktCap)))\n",
    "lapply(MktCap, head, 2)[1:2]\n",
    "print(paste(\"Value:\", length(book_value)))\n",
    "lapply(book_value, head, 2)[1:2]"
   ]
  },
  {
   "cell_type": "markdown",
   "id": "7e81149a",
   "metadata": {},
   "source": [
    "### <span style='background: lightblue'>1.1. loading Fama-French data</span>"
   ]
  },
  {
   "cell_type": "markdown",
   "id": "b3b94111",
   "metadata": {},
   "source": [
    "* **Download Fama-French 3 factors, Momentum and Liquidity factor data from websites**"
   ]
  },
  {
   "cell_type": "code",
   "execution_count": 5,
   "id": "a67757e0",
   "metadata": {},
   "outputs": [
    {
     "name": "stdout",
     "output_type": "stream",
     "text": [
      "[1] \"All files are downloaded successfully!\"\n"
     ]
    }
   ],
   "source": [
    "# Download factor data.\n",
    "\n",
    "# Download daily FF3 factors.\n",
    "download.file(\n",
    "    \"http://mba.tuck.dartmouth.edu/pages/faculty/ken.french/ftp/F-F_Research_Data_Factors_daily_TXT.zip\",\n",
    "    destfile = \"F-F_Research_Data_Factors_daily.zip\"\n",
    ")\n",
    "unzip(\"F-F_Research_Data_Factors_daily.zip\")\n",
    "\n",
    "# Download monthly FF3 factors.\n",
    "# https://mba.tuck.dartmouth.edu/pages/faculty/ken.french/Data_Library/f-f_factors.html\n",
    "download.file(\n",
    "    \"http://mba.tuck.dartmouth.edu/pages/faculty/ken.french/ftp/F-F_Research_Data_Factors_TXT.zip\",\n",
    "    destfile = \"F-F_Research_Data_Factors.zip\"\n",
    ")\n",
    "unzip(\"F-F_Research_Data_Factors.zip\")\n",
    "\n",
    "# Download Developed Momentum Factor (Mom).\n",
    "# https://mba.tuck.dartmouth.edu/pages/faculty/ken.french/Data_Library/f-f_developed_mom.html\n",
    "download.file(\n",
    "    \"http://mba.tuck.dartmouth.edu/pages/faculty/ken.french/ftp/Developed_Mom_Factor_TXT.zip\",\n",
    "    destfile = \"Developed_Mom_Factor_TXT.zip\"\n",
    ")\n",
    "unzip(\"Developed_Mom_Factor_TXT.zip\")\n",
    "\n",
    "# Download liquidty data(liq).\n",
    "download.file(\n",
    "    \"https://faculty.chicagobooth.edu/-/media/faculty/lubos-pastor/data/liq_data_1962_2021.txt\",\n",
    "    destfile = \"liq_data_1962_2021.txt\"\n",
    ")\n",
    "\n",
    "print(\"All files are downloaded successfully!\")\n",
    "\n",
    "# LIQUIDITY FACTORS OF PASTOR AND STAMBAUGH (JPE 2003) UPDATED THROUGH DEC 2021  \n",
    "# Column 1: Month  \n",
    "# Column 2: Levels of aggregated liquidity (Figure 1 in the paper)  \n",
    "# Column 3: Innovations in aggregated liquidity (non-traded liquidity factor; equation(8); the main series)  \n",
    "# Column 4: Traded liquidity factor (LIQ_V, 10-1 portfolio return)  \n",
    "# Note: The traded factor is the value-weighted return on the 10-1 portfolio from a sort on historical liquidity betas. \n",
    "# This procedure is simpler than sorting on predicted betas (as in the original study) and through 2021 \n",
    "# it is similarly successful at creating a spread in post-ranking betas. The traded factor has a positive and \n",
    "# significant alpha through 2021, consistent with liquidity risk being priced."
   ]
  },
  {
   "cell_type": "markdown",
   "id": "1437a2d1",
   "metadata": {},
   "source": [
    "**Load factor data from web**"
   ]
  },
  {
   "cell_type": "code",
   "execution_count": 6,
   "id": "c12e9fb0",
   "metadata": {},
   "outputs": [
    {
     "data": {
      "text/plain": [
       "            mkt.rf    smb     hml     rf     mom        liq\n",
       "2007-01-31  0.0140 0.0014 -0.0070 0.0044  0.0065 0.00375580\n",
       "2007-02-28 -0.0196 0.0118 -0.0012 0.0038 -0.0004 0.02496826\n",
       "2007-03-31  0.0068 0.0015 -0.0094 0.0043  0.0180 0.02931590"
      ]
     },
     "metadata": {},
     "output_type": "display_data"
    },
    {
     "data": {
      "text/plain": [
       "            mkt.rf    smb     hml    rf     mom        liq\n",
       "2020-10-31 -0.0210 0.0440  0.0414 1e-04 -0.0169 0.04065628\n",
       "2020-11-30  0.1247 0.0563  0.0210 1e-04 -0.1092 0.02308695\n",
       "2020-12-31  0.0463 0.0483 -0.0141 1e-04 -0.0009 0.05024218"
      ]
     },
     "metadata": {},
     "output_type": "display_data"
    }
   ],
   "source": [
    "# Load daily data\n",
    "ff3_factors <- read.delim(\n",
    "    'F-F_Research_Data_Factors_daily.txt',\n",
    "    col.names = c('t', 'mkt_rf', 'smb', 'hml', 'rf'),\n",
    "    sep = '',\n",
    "    nrows = 24957,\n",
    "    header = FALSE,\n",
    "    skip = 5,\n",
    "    stringsAsFactors = FALSE\n",
    ")\n",
    "ff3_factors[['t']] <- as.Date(as.character(ff3_factors[['t']]), '%Y%m%d')\n",
    "ff3_factors <- as.xts(ff3_factors[, 2:5], order.by = ff3_factors[['t']])\n",
    "# set data range from 2007 - 2020\n",
    "ff3_factors <- ff3_factors[\"2007/2020\"]\n",
    "ff3_factors <- ff3_factors / 100\n",
    "\n",
    "# Load monthly data\n",
    "monthly_ff3_factors <- read.delim(\n",
    "    'F-F_Research_Data_Factors.txt',\n",
    "    col.names = c('t', 'mkt.rf', 'smb', 'hml', 'rf'),\n",
    "    sep = '',\n",
    "    nrows = 1137,\n",
    "    header = FALSE,\n",
    "    skip = 4,\n",
    "    stringsAsFactors = FALSE\n",
    ")\n",
    "\n",
    "monthly_ff3_factors[['t']] <- as.Date(paste0(as.character(monthly_ff3_factors[['t']]), '01'), '%Y%m%d')\n",
    "monthly_ff3_factors <- as.xts(monthly_ff3_factors[, 2:5], order.by = monthly_ff3_factors[['t']])\n",
    "# set data range from 2007 - 2020\n",
    "monthly_ff3_factors <- monthly_ff3_factors[\"2007/2020\"]\n",
    "monthly_ff3_factors <- monthly_ff3_factors / 100\n",
    "# update date format as monthly, date as the last day of the monthly\n",
    "index(monthly_ff3_factors) <- as.Date(as.yearmon(index(monthly_ff3_factors)), frac = 1)\n",
    "\n",
    "# Load Mom data\n",
    "monthly_mom_factors <- read.delim(\n",
    "    'Developed_Mom_Factor.txt', \n",
    "    col.names = c('t', 'wml'),\n",
    "    sep = '',\n",
    "    nrows = 374,\n",
    "    header = FALSE,\n",
    "    skip = 7,\n",
    "    stringsAsFactors = FALSE\n",
    ")\n",
    "\n",
    "monthly_mom_index <- as.Date(paste0(as.character(monthly_mom_factors[['t']]), '01'), '%Y%m%d')\n",
    "monthly_mom_xts <- as.xts(monthly_mom_factors[, 2], order.by = monthly_mom_index)\n",
    "# set data range from 2007 - 2020\n",
    "monthly_mom_factors <- monthly_mom_xts[\"2007/2020\"]/100\n",
    "# update date format as monthly, date as the last day of the monthly\n",
    "index(monthly_mom_factors) <- as.Date(as.yearmon(index(monthly_mom_factors)), frac = 1)\n",
    "colnames(monthly_mom_factors) <-\"mom\"\n",
    "\n",
    "# Load illiq data\n",
    "liq_data <- read.delim(\n",
    "    'liq_data_1962_2021.txt',\n",
    "    col.names = c('t', 'Agg.Liq', 'Innov.Liq', 'Traded.Liq'),\n",
    "    sep = '', nrows = 713, header = FALSE,\n",
    "    skip = 11, stringsAsFactors = FALSE\n",
    ")\n",
    "#  we only need column 4 for Liquidity excess returns\n",
    "monthly_liq_index <- as.Date(paste0(as.character(liq_data[['t']]), '01'), '%Y%m%d')\n",
    "monthly_liq_xts <- as.xts(liq_data[, 4], order.by = monthly_liq_index)\n",
    "# set data range from 2007 - 2020\n",
    "monthly_liq_factors <- monthly_liq_xts[\"2007/2020\"]\n",
    "# update date format as monthly, date as the last day of the monthly\n",
    "index(monthly_liq_factors) <- as.Date(as.yearmon(index(monthly_liq_factors)), frac = 1)\n",
    "colnames(monthly_liq_factors) <-\"liq\"\n",
    "factor_data <- cbind(monthly_ff3_factors, monthly_mom_factors,monthly_liq_factors)\n",
    "\n",
    "# check data\n",
    "head(factor_data,3)\n",
    "tail(factor_data,3)"
   ]
  },
  {
   "cell_type": "markdown",
   "id": "246b0c19",
   "metadata": {},
   "source": [
    "**Now we have the excess return spread data for all FFCPS factors, we will use those data for our FFCPS alpha calculation and Fama-MacBeth regression.** "
   ]
  },
  {
   "cell_type": "markdown",
   "id": "e48f0d33",
   "metadata": {},
   "source": [
    "### <span style='background: lightblue'>1.2. Preparing stock price data and stock returns</span>"
   ]
  },
  {
   "cell_type": "markdown",
   "id": "c07932c6",
   "metadata": {},
   "source": [
    "**preparing stock price data**"
   ]
  },
  {
   "cell_type": "code",
   "execution_count": 7,
   "id": "c0145519",
   "metadata": {
    "scrolled": true
   },
   "outputs": [
    {
     "data": {
      "text/plain": [
       "                  F      CSX      OKE DFS      ITW\n",
       "2007-01-03 5.039420 2.924608 8.800058  NA 31.89644\n",
       "2007-01-04 5.166914 2.946497 8.708157  NA 32.09106"
      ]
     },
     "metadata": {},
     "output_type": "display_data"
    },
    {
     "data": {
      "text/plain": [
       "                  F      CSX      OKE      DFS      ITW\n",
       "2020-12-30 8.770518 29.77474 34.89088 87.83402 198.0087\n",
       "2020-12-31 8.701225 29.91318 35.12885 89.04384 199.6835"
      ]
     },
     "metadata": {},
     "output_type": "display_data"
    }
   ],
   "source": [
    "prices <- c()\n",
    "bm_ratios  <- c()\n",
    "for (i in 1:length(p_symbols)) {\n",
    "    ticker <- p_symbols[i]\n",
    "    # only use Adjusted price as stock price\n",
    "    stock_prices = OHLCV[[ticker]][, 6]\n",
    "    stock_bm_ratios <- book_value[[i]][, 2] / book_value[[i]][, 1]    \n",
    "    colnames(stock_prices) <- ticker\n",
    "    colnames(stock_bm_ratios) <- ticker    \n",
    "    prices <- cbind(prices, stock_prices)\n",
    "    bm_ratios <- cbind(bm_ratios, stock_bm_ratios)        \n",
    "}\n",
    "\n",
    "prices[1:2,1:5]\n",
    "tail(prices,2)[,1:5]"
   ]
  },
  {
   "cell_type": "markdown",
   "id": "35150b01",
   "metadata": {},
   "source": [
    "**Calculating stock returns**"
   ]
  },
  {
   "cell_type": "markdown",
   "id": "b7dee5a3",
   "metadata": {},
   "source": [
    "Use dailyReturn and monthlyReturn functions to calculate arithmetic returns"
   ]
  },
  {
   "cell_type": "code",
   "execution_count": 8,
   "id": "6b72b670",
   "metadata": {},
   "outputs": [
    {
     "data": {
      "text/plain": [
       "                    F         CSX         OKE DFS         ITW\n",
       "2007-01-03 0.00000000 0.000000000  0.00000000  NA 0.000000000\n",
       "2007-01-04 0.02529934 0.007484422 -0.01044323  NA 0.006101685"
      ]
     },
     "metadata": {},
     "output_type": "display_data"
    },
    {
     "data": {
      "text/plain": [
       "                     F        CSX          OKE DFS        ITW\n",
       "2007-01-31  0.08255672 0.05900996  0.003775543  NA 0.11113562\n",
       "2007-02-28 -0.02706042 0.02567941 -0.029130506  NA 0.01274734"
      ]
     },
     "metadata": {},
     "output_type": "display_data"
    }
   ],
   "source": [
    "# Compute daily and monthly returns.\n",
    "daily_returns <- lapply(prices, dailyReturn, USE.NAMES = TRUE)\n",
    "monthly_returns <- lapply(prices, monthlyReturn, USE.NAMES = TRUE)\n",
    "\n",
    "daily_returns <- do.call('cbind', daily_returns)\n",
    "monthly_returns <- do.call('cbind', monthly_returns)\n",
    "colnames(daily_returns) <- colnames(prices)\n",
    "colnames(monthly_returns) <- colnames(prices)\n",
    "\n",
    "index(monthly_returns) <- as.Date(as.yearmon(index(monthly_returns)), frac = 1)\n",
    "daily_returns[1:2, 1:5]\n",
    "monthly_returns[1:2, 1:5]\n",
    "# not all stocks have price on 2007, but they all have data on 2020"
   ]
  },
  {
   "cell_type": "markdown",
   "id": "bcc197fc",
   "metadata": {},
   "source": [
    "Use the Risk Free rate from FF3 to calculate daily and monthly excess returns."
   ]
  },
  {
   "cell_type": "code",
   "execution_count": 9,
   "id": "addf8df2",
   "metadata": {
    "scrolled": true
   },
   "outputs": [
    {
     "data": {
      "text/plain": [
       "                rf\n",
       "2007-01-03 0.00022\n",
       "2007-01-04 0.00022"
      ]
     },
     "metadata": {},
     "output_type": "display_data"
    },
    {
     "data": {
      "text/plain": [
       "               rf\n",
       "2007-01-31 0.0044\n",
       "2007-02-28 0.0038"
      ]
     },
     "metadata": {},
     "output_type": "display_data"
    },
    {
     "data": {
      "text/plain": [
       "                     F          CSX         OKE DFS          ITW\n",
       "2007-01-03 -0.00022000 -0.000220000 -0.00022000  NA -0.000220000\n",
       "2007-01-04  0.02507934  0.007264422 -0.01066323  NA  0.005881685"
      ]
     },
     "metadata": {},
     "output_type": "display_data"
    },
    {
     "data": {
      "text/plain": [
       "                     F        CSX           OKE DFS         ITW\n",
       "2007-01-31  0.07815672 0.05460996 -0.0006244567  NA 0.106735618\n",
       "2007-02-28 -0.03086042 0.02187941 -0.0329305056  NA 0.008947344"
      ]
     },
     "metadata": {},
     "output_type": "display_data"
    }
   ],
   "source": [
    "head(ff3_factors[, 4],2)\n",
    "head(monthly_ff3_factors[, 4],2)\n",
    "\n",
    "# Compute daily and monthly excess returns by minus risk free rate from ff3\n",
    "# xts object could minus each other based on time stamps\n",
    "for (i in 1:length(p_symbols)) {    \n",
    "    daily_returns[, i] <- daily_returns[, i] - ff3_factors[, 4]\n",
    "    monthly_returns[, i] <- monthly_returns[, i] - monthly_ff3_factors[, 4]\n",
    "}\n",
    "\n",
    "daily_returns[1:2, 1:5]\n",
    "monthly_returns[1:2, 1:5]"
   ]
  },
  {
   "cell_type": "markdown",
   "id": "c2e84480",
   "metadata": {},
   "source": [
    "### <span style='background: lightblue'>1.3. Preparing beta</span>"
   ]
  },
  {
   "cell_type": "markdown",
   "id": "ffe616c7",
   "metadata": {},
   "source": [
    "**Use the CAPM model to estimate betas**"
   ]
  },
  {
   "cell_type": "markdown",
   "id": "05aaba21",
   "metadata": {},
   "source": [
    "<span style='background: lightyellow'>This step takes 1 minutes</span>."
   ]
  },
  {
   "cell_type": "code",
   "execution_count": 11,
   "id": "cf196f9a",
   "metadata": {},
   "outputs": [
    {
     "data": {
      "text/plain": [
       "   user  system elapsed \n",
       "  61.52    0.00   61.55 "
      ]
     },
     "metadata": {},
     "output_type": "display_data"
    },
    {
     "data": {
      "text/plain": [
       "                  F      CSX       OKE      DFS       ITW\n",
       "2008-03-31 1.122713 1.313259 0.6756543 2.060537 0.8624013\n",
       "2008-04-30 1.145374 1.308042 0.6748264 2.067974 0.9004992\n",
       "2008-05-31 1.155006 1.296945 0.6463733 2.088052 0.9020326"
      ]
     },
     "metadata": {},
     "output_type": "display_data"
    }
   ],
   "source": [
    "# Initialize an xts object for storing monthly_betas.\n",
    "monthly_betas <- as.xts(\n",
    "    matrix(\n",
    "        nrow = nrow(monthly_returns),\n",
    "        ncol = ncol(monthly_returns)\n",
    "    ),\n",
    "    order.by = index(monthly_returns)\n",
    ")\n",
    "names(monthly_betas) <- names(monthly_returns)\n",
    "\n",
    "\n",
    "# every month should have 20 trading days, if available data fewer than\n",
    "# 15 samples, meaning only less than 75% data, then ingore that stock.\n",
    "check_data <- 12 * 15\n",
    "\n",
    "# Iterate over rows and compute monthly_betas.\n",
    "# i is months, j is stocks\n",
    "system.time(\n",
    "    for (i in 1:nrow(monthly_betas)) {\n",
    "        # each i is for every month in data range\n",
    "        # select data range, look back 12 months daily returns\n",
    "        # put data need to evaluate into variable returns\n",
    "        # and market_returns\n",
    "        end_day <- index(monthly_betas[i])\n",
    "        start_day <- end_day %m-% months(12)\n",
    "        dates <- paste0(start_day, '/', end_day)\n",
    "        returns <- daily_returns[dates]\n",
    "        market_returns <- ff3_factors[dates]\n",
    "\n",
    "        # Estimate monthly_betas for each stock in 250 stock list\n",
    "        for (j in 1:ncol(monthly_betas)) {\n",
    "            stock_returns <- returns[, j]\n",
    "            # Merge excess returns and market excess returns.\n",
    "            # xts matches by date in cbind\n",
    "            model_data <- cbind(stock_returns, market_returns[, 1])\n",
    "            # ingore NA\n",
    "            model_data <- na.omit(model_data)\n",
    "            # Don't estimate monthly_betas if observations is less than 200.\n",
    "            if (nrow(model_data) < check_data) {next}        \n",
    "            # call regression to calculate beta, use stock returns - market returns\n",
    "            model_betas <- lm(model_data[, 1] ~ model_data[, 2])\n",
    "            # Save the given beta to `monthly_betas`.\n",
    "            # save the beta information at coefficients[[2]]\n",
    "            monthly_betas[i, j] <- model_betas$coefficients[[2]]\n",
    "        }    \n",
    "    }\n",
    ")\n",
    "\n",
    "# The estimation of monthly_betas is based on the last 12 months of daily returns.\n",
    "monthly_betas[15:17,1:5]"
   ]
  },
  {
   "cell_type": "markdown",
   "id": "ee4a8795",
   "metadata": {},
   "source": [
    "### <span style='background: lightblue'>1.4. Preparing size factor</span>"
   ]
  },
  {
   "cell_type": "code",
   "execution_count": 12,
   "id": "ed2645c5",
   "metadata": {},
   "outputs": [
    {
     "data": {
      "text/plain": [
       "               F   CSX  OKE DFS   ITW\n",
       "2007-01-31 15.38 16.10 4.76  NA 28.50\n",
       "2007-02-28 14.97 16.46 4.62  NA 28.87"
      ]
     },
     "metadata": {},
     "output_type": "display_data"
    },
    {
     "data": {
      "text/plain": [
       "                  F      CSX      OKE DFS      ITW\n",
       "2007-01-31 2.733068 2.778819 1.560248  NA 3.349904\n",
       "2007-02-28 2.706048 2.800933 1.530395  NA 3.362803"
      ]
     },
     "metadata": {},
     "output_type": "display_data"
    }
   ],
   "source": [
    "market_caps <- do.call(merge, MktCap)\n",
    "colnames(market_caps) <- names(MktCap)\n",
    "\n",
    "# Compute monthly market caps and sizes. MktCap\n",
    "sizes <- log(market_caps)\n",
    "monthly_market_caps <- apply.monthly(market_caps, tail, 1)\n",
    "monthly_sizes <- apply.monthly(sizes, tail, 1)\n",
    "# Replace -Inf and Inf in `monthly_sizes` with NAs.\n",
    "monthly_sizes <- as.xts(apply(monthly_sizes, 2, function(x) ifelse(is.finite(x), x, NA)))\n",
    "index(monthly_market_caps) <- as.Date(as.yearmon(index(monthly_market_caps)), frac = 1)\n",
    "index(monthly_sizes) <- as.Date(as.yearmon(index(monthly_sizes)), frac = 1)\n",
    "                              \n",
    "monthly_market_caps[1:2, 1:5]\n",
    "monthly_sizes[1:2, 1:5]"
   ]
  },
  {
   "cell_type": "markdown",
   "id": "bf0ebedd",
   "metadata": {},
   "source": [
    "### <span style='background: lightblue'>1.5. Preparing illiquidity factor</span>"
   ]
  },
  {
   "cell_type": "markdown",
   "id": "ce6134da",
   "metadata": {},
   "source": [
    "* **Calculate illiquidity factor**"
   ]
  },
  {
   "cell_type": "markdown",
   "id": "e2982736",
   "metadata": {},
   "source": [
    "**Calculate absolute return to nominal ratios by using Amihud(2002) foluma:**  \n",
    "$$Illiq_i= \\frac{1}{D} \\sum_{d=1}^{D} \\frac{\\left\\lvert R_{i,d} \\right\\rvert } {VOLD_{i,d}} $$\n",
    "**This fomula calculates illiquidity as the ratio of the absolute value of the daily security return divided by the\n",
    "daily dollar volume traded in the security, averaged over all days in the estimation period.**"
   ]
  },
  {
   "cell_type": "code",
   "execution_count": 13,
   "id": "179b04cd",
   "metadata": {
    "scrolled": false
   },
   "outputs": [
    {
     "data": {
      "text/plain": [
       "                      F          CSX          OKE DFS          ITW\n",
       "2007-01-03 5.550489e-07 1.314988e-06 9.492341e-06  NA 2.997272e-06\n",
       "2007-01-04 7.649265e-05 6.700704e-05 8.649851e-04  NA 7.349766e-05"
      ]
     },
     "metadata": {},
     "output_type": "display_data"
    }
   ],
   "source": [
    "abs_return_to_nominal_ratios <- c()\n",
    "\n",
    "for (i in 1:length(p_symbols)) {\n",
    "    ticker <- p_symbols[i]\n",
    "    stock_data <- OHLCV[[ticker]]\n",
    "\n",
    "    # get absolute nominals\n",
    "    stock_abs_return_to_nominal_ratios <- abs(daily_returns[, \n",
    "        ticker]) / (stock_data[, 5] * stock_data[, 6] / 1000000)\n",
    "    \n",
    "    colnames(stock_abs_return_to_nominal_ratios) <- ticker\n",
    "    abs_return_to_nominal_ratios <- cbind(abs_return_to_nominal_ratios, \n",
    "        stock_abs_return_to_nominal_ratios)\n",
    "}\n",
    "\n",
    "abs_return_to_nominal_ratios[1:2, 1:5]"
   ]
  },
  {
   "cell_type": "markdown",
   "id": "8d3c164d",
   "metadata": {},
   "source": [
    "* **Compute illiquidity**"
   ]
  },
  {
   "cell_type": "markdown",
   "id": "ba5fdeee",
   "metadata": {},
   "source": [
    "**Because the distribution of Illiq is highly skewed, so we use log-transformed versions of the different illiquidity variables, so define the Illiq factor as the natural log of one plus $Illiq ^ {1M}$.**"
   ]
  },
  {
   "cell_type": "code",
   "execution_count": 14,
   "id": "33e86a62",
   "metadata": {},
   "outputs": [
    {
     "data": {
      "text/html": [
       "168"
      ],
      "text/latex": [
       "168"
      ],
      "text/markdown": [
       "168"
      ],
      "text/plain": [
       "[1] 168"
      ]
     },
     "metadata": {},
     "output_type": "display_data"
    },
    {
     "data": {
      "text/plain": [
       "                   F       CSX      OKE DFS       ITW\n",
       "2007-01-31 0.4007055 1.0406651 5.565255  NA 0.7196594\n",
       "2007-02-28 0.5105019 0.8774579 4.963222  NA 0.8972203"
      ]
     },
     "metadata": {},
     "output_type": "display_data"
    }
   ],
   "source": [
    "# Initialize an xts object for storing illiquidities.\n",
    "# just create empty frame \n",
    "\n",
    "monthly_illiquidities <- as.xts(\n",
    "    matrix(\n",
    "        nrow = nrow(monthly_returns),\n",
    "        ncol = ncol(monthly_returns)\n",
    "    ),\n",
    "    order.by = index(monthly_returns)\n",
    ")\n",
    "names(monthly_illiquidities) <- names(monthly_returns)\n",
    "\n",
    "# Iterate over rows and compute illiquidities.\n",
    "# i is every monthly from 2007-2020\n",
    "for (i in 1:nrow(monthly_illiquidities)) {\n",
    "    end_day <- index(monthly_illiquidities[i])\n",
    "    # use last 12 months of daily data\n",
    "    start_day <- end_day %m-% months(12)\n",
    "    dates <- paste0(start_day, '/', end_day)\n",
    "    # get daily ratio data from the date range\n",
    "    ratios <- abs_return_to_nominal_ratios[dates]  \n",
    "\n",
    "    # Compute illiquidities for each stock.\n",
    "    for (j in 1:ncol(monthly_illiquidities)) {\n",
    "        stock_ratios <- ratios[, j]\n",
    "\n",
    "        # Save the given illiquidity to `monthly_illiquidities`.\n",
    "        # use \"natural log of one plus the avg 1 month Illiq of 12 months\n",
    "        monthly_illiquidities[i, j] <- log(1 + mean(stock_ratios))\n",
    "    }\n",
    "}\n",
    "\n",
    "monthly_illiq <- monthly_illiquidities * 10000                                 \n",
    "                              \n",
    "# 2007-2020, 14 years has 168 months\n",
    "nrow(monthly_illiq)\n",
    "monthly_illiq[1:2, 1:5]                             \n",
    "                                      "
   ]
  },
  {
   "cell_type": "markdown",
   "id": "95a33433",
   "metadata": {},
   "source": [
    "### <span style='background: lightblue'>1.6. Preparing value factor</span>"
   ]
  },
  {
   "cell_type": "code",
   "execution_count": 15,
   "id": "4b799c46",
   "metadata": {},
   "outputs": [
    {
     "data": {
      "text/plain": [
       "                   F       CSX      OKE DFS       ITW\n",
       "2009-07-31 -3.935065 0.8156028 2.372057  NA 0.6031373\n",
       "2009-08-31 -3.935065 0.8156028 2.372057  NA 0.6031373\n",
       "2009-09-30 -3.935065 0.8156028 2.372057  NA 0.6031373"
      ]
     },
     "metadata": {},
     "output_type": "display_data"
    }
   ],
   "source": [
    "# Initialize an xts object for storing book-to-market ratios.\n",
    "monthly_bm_ratios <- as.xts(\n",
    "    matrix(\n",
    "        nrow = nrow(bm_ratios),\n",
    "        ncol = ncol(bm_ratios)\n",
    "    ),\n",
    "    order.by = index(bm_ratios)\n",
    ")\n",
    "names(monthly_bm_ratios) <- names(bm_ratios)\n",
    "\n",
    "start_year <- as.numeric(format(min(index(monthly_bm_ratios)), '%Y'))\n",
    "end_year <- as.numeric(format(max(index(monthly_bm_ratios)), '%Y'))\n",
    "\n",
    "# Iterate over rows and compute BM ratios.\n",
    "for (i in (start_year + 2):end_year) {\n",
    "    start_day <- as.Date(paste0(i - 1, '06', '30'), format = '%Y%m%d')\n",
    "    end_day <- as.Date(paste0(i, '05', '31'), format = '%Y%m%d')\n",
    "    dates <- paste0(start_day, '/', end_day)\n",
    "    end_of_previous_year <- as.Date(paste0(i - 2, '12', '31'), format = '%Y%m%d')\n",
    "    for (j in 1:ncol(bm_ratios)) {\n",
    "        monthly_bm_ratios[dates, j] <- as.numeric(bm_ratios[end_of_previous_year, j][[1]])\n",
    "    }\n",
    "}\n",
    "\n",
    "monthly_bm_ratios[31:33,1:5]"
   ]
  },
  {
   "cell_type": "markdown",
   "id": "6f885daa",
   "metadata": {},
   "source": [
    "### <span style='background: lightblue'>1.7. Preparing momentum factor</span>"
   ]
  },
  {
   "cell_type": "code",
   "execution_count": 16,
   "id": "060e7365",
   "metadata": {},
   "outputs": [
    {
     "data": {
      "text/plain": [
       "                   F      CSX       OKE        DFS      ITW\n",
       "2020-10-31 -21.74476 11.27453 -59.63724 -26.343283 16.77008\n",
       "2020-11-30 -13.79337 10.83510 -54.86384 -21.957981 14.60072\n",
       "2020-12-31  -1.22478 25.51735 -47.51509  -7.860505 19.29762"
      ]
     },
     "metadata": {},
     "output_type": "display_data"
    }
   ],
   "source": [
    "# Initialize an xts object for storing momentum.\n",
    "monthly_momentum <- as.xts(\n",
    "    matrix(\n",
    "        nrow = nrow(monthly_returns),\n",
    "        ncol = ncol(monthly_returns)\n",
    "    ),\n",
    "    order.by = index(monthly_returns)\n",
    ")\n",
    "names(monthly_momentum) <- names(monthly_returns)\n",
    "# Iterate over rows and compute momentum.\n",
    "for (i in 2:nrow(monthly_momentum)) {\n",
    "    current_day <- index(monthly_momentum[i])\n",
    "    end_day <- index(monthly_momentum[i - 1])\n",
    "    start_day <- end_day %m-% months(10)\n",
    "    dates <- paste0(start_day, '/', end_day)\n",
    "    returns <- monthly_returns[dates]\n",
    "    if (nrow(returns) < 11) { next }\n",
    "    for (j in 1:ncol(monthly_momentum)) {\n",
    "        monthly_momentum[current_day, j] <- 100 * (prod(returns[, j] + 1) - 1)\n",
    "    }\n",
    "}\n",
    "tail(monthly_momentum,3)[, 1:5]"
   ]
  },
  {
   "cell_type": "markdown",
   "id": "29d8055a",
   "metadata": {},
   "source": [
    "### <span style='background: lightblue'>1.8. Summary Statistics</span>"
   ]
  },
  {
   "cell_type": "markdown",
   "id": "805821ad",
   "metadata": {},
   "source": [
    "* **Create Function for Statistics**"
   ]
  },
  {
   "cell_type": "code",
   "execution_count": 17,
   "id": "5d95906a",
   "metadata": {},
   "outputs": [],
   "source": [
    "getStat <- function (variable_data) {\n",
    "    variable_data <- apply(variable_data, 2, function(x) ifelse(is.finite(x), x, NA))\n",
    "    df <- na.omit(variable_data) \n",
    "    stats <- apply(df, 1,function(y){ c(mean(y), sd(y), skewness(y),\n",
    "        kurtosis(y),min(y), quantile(y, probs = .05, na.rm = TRUE),\n",
    "        quantile(y, probs = .25, na.rm = TRUE), median(y), \n",
    "        quantile(y, probs = .75, , na.rm = TRUE),\n",
    "        quantile(y, probs = .95, na.rm = TRUE), max(y))\n",
    "    })\n",
    "    return (rowMeans(stats))    \n",
    "}\n",
    "                           \n",
    "getStat1 <- function (variable_data) {\n",
    "    variable_data <- apply(variable_data, 2, function(x) ifelse(is.na(x), 0,x))\n",
    "    df <- na.omit(variable_data) \n",
    "    stats <- apply(df, 1,function(y){ c(mean(y), sd(y), skewness(y),\n",
    "        kurtosis(y),min(y), quantile(y, probs = .05, na.rm = TRUE),\n",
    "        quantile(y, probs = .25, na.rm = TRUE), median(y), \n",
    "        quantile(y, probs = .75, , na.rm = TRUE),\n",
    "        quantile(y, probs = .95, na.rm = TRUE), max(y))\n",
    "    })\n",
    "    stats <- apply(stats, 2, function(x) ifelse(is.na(x), 0,x))                       \n",
    "    return (rowMeans(stats))    \n",
    "}                          "
   ]
  },
  {
   "cell_type": "markdown",
   "id": "e020ad7a",
   "metadata": {},
   "source": [
    "* **Show Factor Summary Statistics**"
   ]
  },
  {
   "cell_type": "code",
   "execution_count": 18,
   "id": "600a6589",
   "metadata": {},
   "outputs": [
    {
     "data": {
      "text/html": [
       "<table class=\"dataframe\">\n",
       "<caption>A data.frame: 7 × 12</caption>\n",
       "<thead>\n",
       "\t<tr><th></th><th scope=col>Mean</th><th scope=col>SD</th><th scope=col>Skew</th><th scope=col>Kurt</th><th scope=col>Min</th><th scope=col>5%</th><th scope=col>25%</th><th scope=col>Median</th><th scope=col>75%</th><th scope=col>95%</th><th scope=col>Max</th><th scope=col>n</th></tr>\n",
       "\t<tr><th></th><th scope=col>&lt;dbl&gt;</th><th scope=col>&lt;dbl&gt;</th><th scope=col>&lt;dbl&gt;</th><th scope=col>&lt;dbl&gt;</th><th scope=col>&lt;dbl&gt;</th><th scope=col>&lt;dbl&gt;</th><th scope=col>&lt;dbl&gt;</th><th scope=col>&lt;dbl&gt;</th><th scope=col>&lt;dbl&gt;</th><th scope=col>&lt;dbl&gt;</th><th scope=col>&lt;dbl&gt;</th><th scope=col>&lt;dbl&gt;</th></tr>\n",
       "</thead>\n",
       "<tbody>\n",
       "\t<tr><th scope=row>Beta</th><td> 1.007</td><td>  0.331</td><td>0.241</td><td> 3.596</td><td>  0.215</td><td>  0.464</td><td> 0.795</td><td> 0.999</td><td> 1.215</td><td>  1.550</td><td>   2.107</td><td>250</td></tr>\n",
       "\t<tr><th scope=row>MktCap</th><td>62.301</td><td>143.790</td><td>6.834</td><td>59.354</td><td>  3.631</td><td>  6.836</td><td>11.993</td><td>24.318</td><td>53.839</td><td>219.215</td><td>1518.211</td><td>250</td></tr>\n",
       "\t<tr><th scope=row>Size</th><td> 3.324</td><td>  1.104</td><td>0.839</td><td> 3.591</td><td>  1.270</td><td>  1.913</td><td> 2.477</td><td> 3.186</td><td> 3.981</td><td>  5.387</td><td>   7.320</td><td>250</td></tr>\n",
       "\t<tr><th scope=row>Value</th><td> 0.426</td><td>  0.460</td><td>1.027</td><td> 6.376</td><td> -1.170</td><td>  0.000</td><td> 0.108</td><td> 0.318</td><td> 0.630</td><td>  1.255</td><td>   2.707</td><td>250</td></tr>\n",
       "\t<tr><th scope=row>Mom</th><td>14.437</td><td> 23.467</td><td>1.049</td><td> 8.344</td><td>-48.015</td><td>-18.650</td><td>-0.270</td><td>12.848</td><td>26.677</td><td> 51.919</td><td> 137.387</td><td>250</td></tr>\n",
       "\t<tr><th scope=row>Illiq</th><td> 1.618</td><td>  2.366</td><td>3.636</td><td>27.254</td><td>  0.054</td><td>  0.137</td><td> 0.553</td><td> 1.018</td><td> 1.911</td><td>  4.443</td><td>  24.706</td><td>250</td></tr>\n",
       "\t<tr><th scope=row>Return</th><td> 0.014</td><td>  0.063</td><td>0.301</td><td> 6.243</td><td> -0.204</td><td> -0.082</td><td>-0.022</td><td> 0.014</td><td> 0.050</td><td>  0.113</td><td>   0.283</td><td>250</td></tr>\n",
       "</tbody>\n",
       "</table>\n"
      ],
      "text/latex": [
       "A data.frame: 7 × 12\n",
       "\\begin{tabular}{r|llllllllllll}\n",
       "  & Mean & SD & Skew & Kurt & Min & 5\\% & 25\\% & Median & 75\\% & 95\\% & Max & n\\\\\n",
       "  & <dbl> & <dbl> & <dbl> & <dbl> & <dbl> & <dbl> & <dbl> & <dbl> & <dbl> & <dbl> & <dbl> & <dbl>\\\\\n",
       "\\hline\n",
       "\tBeta &  1.007 &   0.331 & 0.241 &  3.596 &   0.215 &   0.464 &  0.795 &  0.999 &  1.215 &   1.550 &    2.107 & 250\\\\\n",
       "\tMktCap & 62.301 & 143.790 & 6.834 & 59.354 &   3.631 &   6.836 & 11.993 & 24.318 & 53.839 & 219.215 & 1518.211 & 250\\\\\n",
       "\tSize &  3.324 &   1.104 & 0.839 &  3.591 &   1.270 &   1.913 &  2.477 &  3.186 &  3.981 &   5.387 &    7.320 & 250\\\\\n",
       "\tValue &  0.426 &   0.460 & 1.027 &  6.376 &  -1.170 &   0.000 &  0.108 &  0.318 &  0.630 &   1.255 &    2.707 & 250\\\\\n",
       "\tMom & 14.437 &  23.467 & 1.049 &  8.344 & -48.015 & -18.650 & -0.270 & 12.848 & 26.677 &  51.919 &  137.387 & 250\\\\\n",
       "\tIlliq &  1.618 &   2.366 & 3.636 & 27.254 &   0.054 &   0.137 &  0.553 &  1.018 &  1.911 &   4.443 &   24.706 & 250\\\\\n",
       "\tReturn &  0.014 &   0.063 & 0.301 &  6.243 &  -0.204 &  -0.082 & -0.022 &  0.014 &  0.050 &   0.113 &    0.283 & 250\\\\\n",
       "\\end{tabular}\n"
      ],
      "text/markdown": [
       "\n",
       "A data.frame: 7 × 12\n",
       "\n",
       "| <!--/--> | Mean &lt;dbl&gt; | SD &lt;dbl&gt; | Skew &lt;dbl&gt; | Kurt &lt;dbl&gt; | Min &lt;dbl&gt; | 5% &lt;dbl&gt; | 25% &lt;dbl&gt; | Median &lt;dbl&gt; | 75% &lt;dbl&gt; | 95% &lt;dbl&gt; | Max &lt;dbl&gt; | n &lt;dbl&gt; |\n",
       "|---|---|---|---|---|---|---|---|---|---|---|---|---|\n",
       "| Beta |  1.007 |   0.331 | 0.241 |  3.596 |   0.215 |   0.464 |  0.795 |  0.999 |  1.215 |   1.550 |    2.107 | 250 |\n",
       "| MktCap | 62.301 | 143.790 | 6.834 | 59.354 |   3.631 |   6.836 | 11.993 | 24.318 | 53.839 | 219.215 | 1518.211 | 250 |\n",
       "| Size |  3.324 |   1.104 | 0.839 |  3.591 |   1.270 |   1.913 |  2.477 |  3.186 |  3.981 |   5.387 |    7.320 | 250 |\n",
       "| Value |  0.426 |   0.460 | 1.027 |  6.376 |  -1.170 |   0.000 |  0.108 |  0.318 |  0.630 |   1.255 |    2.707 | 250 |\n",
       "| Mom | 14.437 |  23.467 | 1.049 |  8.344 | -48.015 | -18.650 | -0.270 | 12.848 | 26.677 |  51.919 |  137.387 | 250 |\n",
       "| Illiq |  1.618 |   2.366 | 3.636 | 27.254 |   0.054 |   0.137 |  0.553 |  1.018 |  1.911 |   4.443 |   24.706 | 250 |\n",
       "| Return |  0.014 |   0.063 | 0.301 |  6.243 |  -0.204 |  -0.082 | -0.022 |  0.014 |  0.050 |   0.113 |    0.283 | 250 |\n",
       "\n"
      ],
      "text/plain": [
       "       Mean   SD      Skew  Kurt   Min     5%      25%    Median 75%    95%    \n",
       "Beta    1.007   0.331 0.241  3.596   0.215   0.464  0.795  0.999  1.215   1.550\n",
       "MktCap 62.301 143.790 6.834 59.354   3.631   6.836 11.993 24.318 53.839 219.215\n",
       "Size    3.324   1.104 0.839  3.591   1.270   1.913  2.477  3.186  3.981   5.387\n",
       "Value   0.426   0.460 1.027  6.376  -1.170   0.000  0.108  0.318  0.630   1.255\n",
       "Mom    14.437  23.467 1.049  8.344 -48.015 -18.650 -0.270 12.848 26.677  51.919\n",
       "Illiq   1.618   2.366 3.636 27.254   0.054   0.137  0.553  1.018  1.911   4.443\n",
       "Return  0.014   0.063 0.301  6.243  -0.204  -0.082 -0.022  0.014  0.050   0.113\n",
       "       Max      n  \n",
       "Beta      2.107 250\n",
       "MktCap 1518.211 250\n",
       "Size      7.320 250\n",
       "Value     2.707 250\n",
       "Mom     137.387 250\n",
       "Illiq    24.706 250\n",
       "Return    0.283 250"
      ]
     },
     "metadata": {},
     "output_type": "display_data"
    }
   ],
   "source": [
    "#name the row: mean, variance, skewness, excess kurtosis, minimum and maximum\n",
    "col_n <- c('Mean','SD', 'Skew', 'Kurt', 'Min','5%',\n",
    "        '25%', 'Median', '75%', '95%','Max', 'n')\n",
    "row_n <- c('Beta','MktCap', 'Size', 'Value', 'Mom','Illiq', 'Return')\n",
    "stock_n <- c(250,250,250,250,250,250,250)\n",
    "df_stat <- data.frame(getStat(monthly_betas))\n",
    "df_stat <- cbind(df_stat, getStat(monthly_market_caps)) \n",
    "df_stat <- cbind(df_stat, getStat(monthly_sizes)) \n",
    "df_stat <- cbind(df_stat, getStat1(monthly_bm_ratios)) \n",
    "df_stat <- cbind(df_stat, getStat(monthly_momentum)) \n",
    "df_stat <- cbind(df_stat, getStat(monthly_illiq)) \n",
    "df_stat <- cbind(df_stat, getStat(monthly_returns)) \n",
    "stats_t <- as.data.frame(t(df_stat))\n",
    "stats_t <- cbind(stats_t, stock_n) \n",
    "out_res <- data.frame(lapply(stats_t, function(y) if(is.numeric(y)) round(y, 3) else y))    \n",
    "rownames(out_res) <- row_n\n",
    "colnames(out_res) <- col_n\n",
    "out_res"
   ]
  },
  {
   "cell_type": "markdown",
   "id": "576655df",
   "metadata": {},
   "source": [
    "# 2. Univariate portfolio sorts and analysis"
   ]
  },
  {
   "cell_type": "markdown",
   "id": "69d9e9a4",
   "metadata": {},
   "source": [
    "Your analysis will start with univariate portfolio sort. For each sort variable using monthly rebalancing sort the stocks into the quintiles, i.e. make 5 portfolios, and create equally weighted and value weighted portfolios. \n",
    "\n",
    " \n",
    "\n",
    "For each sort variable and each quintile report average values of sorting variable (similar to Lecture 10 - Momentum, slide 9, Panel A). Further, for each sort variable, each quintile and difference “5-1“ portfolio report time-series averages with corresponding Newey-West t-stats of one-month-ahead excess return and Fama-French-Carhart-Pastor-Stambaugh alpha. "
   ]
  },
  {
   "cell_type": "markdown",
   "id": "cf72faed",
   "metadata": {},
   "source": [
    "* **Create Univariate Portfolio Sorting Functions**"
   ]
  },
  {
   "cell_type": "markdown",
   "id": "6641835f",
   "metadata": {},
   "source": [
    "get_alpha() function calculates FFCPS alpha by using downloaded factors from the web of Kenneth French and Lubos Pastor"
   ]
  },
  {
   "cell_type": "code",
   "execution_count": 19,
   "id": "b8eadcd2",
   "metadata": {},
   "outputs": [],
   "source": [
    "# use 1 as equal_weights input parameters\n",
    "monthly_equal_weights <- monthly_betas\n",
    "monthly_equal_weights[,] <- 1\n",
    "\n",
    "get_alpha <- function (port_return) {\n",
    "    names(port_return) <- \"return\"\n",
    "    sample <- cbind(port_return, factor_data)    \n",
    "    # FFCPS model\n",
    "    model_FFCPS <- lm('return ~ liq + mkt.rf + smb + hml + mom ', data = sample)     \n",
    "    return(model_FFCPS)    \n",
    "}"
   ]
  },
  {
   "cell_type": "markdown",
   "id": "2a1601a2",
   "metadata": {},
   "source": [
    "univariate_sort() function calculate univariate sort, and for each sorted group output: average factor value, excess returns, NeweyWest t-stats, FFCPS alpha, alpha t-value."
   ]
  },
  {
   "cell_type": "code",
   "execution_count": 20,
   "id": "f352b421",
   "metadata": {},
   "outputs": [],
   "source": [
    "# Parameters: factor variable want to be sorted, stock returns, \n",
    "# market_caps（weight） for VW or EV\n",
    "# n as number for portfolios of each sorted variables\n",
    "univariate_sort <- function (sort_variable_data, returns, market_caps,\n",
    "        n, factor_name, round_n = 6) {\n",
    "    row_n <- c(factor_name , 'Return',' t-stats', 'Alpha',' t-value' )\n",
    "    diff_portfolio <- paste(n, '- 1')\n",
    "    # Initialize an xts object for storing portfolio returns.\n",
    "    portfolio_returns <- as.xts(\n",
    "        matrix(\n",
    "            nrow = nrow(sort_variable_data) - 1,\n",
    "            ncol = n + 1\n",
    "        ),\n",
    "        order.by = index(sort_variable_data[2:nrow(sort_variable_data)])\n",
    "    )\n",
    "    names(portfolio_returns) <- c(1:n, diff_portfolio)        \n",
    "    # Initialize an xts object for storing portfolio factors\n",
    "    # to output avarge beta after grouping\n",
    "    portfolio_factors <- as.xts(\n",
    "        matrix(\n",
    "            nrow = nrow(sort_variable_data) - 1,\n",
    "            ncol = n \n",
    "        ),\n",
    "        order.by = index(sort_variable_data[2:nrow(sort_variable_data)])\n",
    "    )\n",
    "    names(portfolio_factors) <- c(1:n)            \n",
    "    # Iterate over rows, find breakpoints and compute monthly \n",
    "    # returns within the given value breakpoints.\n",
    "    # month_factor\n",
    "    for (i in 1:nrow(portfolio_returns)) {\n",
    "        current_month <- index(portfolio_returns[i])\n",
    "        # use the forward looking result, so need to get next month return and markcap\n",
    "        next_month <- as.Date(as.yearmon(current_month %m+% months(1)), \n",
    "                    frac = 1)\n",
    "        if (!next_month %in% index(returns)) {\n",
    "            next\n",
    "        }\n",
    "        # Avoid look-ahead bias by sorting the returns\n",
    "        # after the month used to compute breakpoints ends.\n",
    "        # use this month sort variable, and next month return and markcap\n",
    "        # because need to use the forward month return for result\n",
    "        month_returns <- returns[next_month]        \n",
    "        # just use month_factor as input sort variable parameter\n",
    "        month_factor <- sort_variable_data[current_month]        \n",
    "        month_market_caps <- market_caps[next_month]\n",
    "        # Replace NA market caps with 0s so that such observations have no weights.\n",
    "        # use markcap for VW\n",
    "        month_market_caps[is.na(month_market_caps)] <- 0        \n",
    "        # input parameter n is break group numbers\n",
    "        # set up breakpoint value based on sort variables\n",
    "        # for each month, it has its own breakpoints\n",
    "        breakpoints <- quantile(month_factor, 0:n/n, na.rm = TRUE)\n",
    "        not_na <- !is.na(month_factor)   # removed not traded data        \n",
    "        # j is for each portfolio group\n",
    "        for (j in 1:n) {\n",
    "            # compare sort varible with breakpoint\n",
    "            # filter is a boolean type flag\n",
    "            # if in this group, filter is True\n",
    "            # decide the stock is included in this portfolio or not\n",
    "            filter <- (breakpoints[[j]] < month_factor) & (\n",
    "                month_factor < breakpoints[[j + 1]]) & not_na            \n",
    "            # Compute weighted average portfolio returns within the groups\n",
    "            # use month_market_caps parameter for weightings\n",
    "            # for EV, input is 1\n",
    "            # use the returns of next months for calculation\n",
    "            # only stocks in the portfolio (filter = True) are included for calculation\n",
    "            portfolio_returns[i, j] <- weighted.mean(t(month_returns[, filter]), \n",
    "                t(month_market_caps[, filter]))                      \n",
    "            # calculate avarge beta of each group of each month\n",
    "            portfolio_factors[i, j] <- mean(month_factor[, filter])        \n",
    "        }\n",
    "        # calculate diff of the avg returns between last and first group\n",
    "        portfolio_returns[i, diff_portfolio] <- portfolio_returns[i, \n",
    "                n] - portfolio_returns[i, 1]\n",
    "    }      \n",
    "    # Now in portfolio_returns, we have the avg returns of each month \n",
    "    # in each group of portfolios and the diff group\n",
    "    # Compute overall average returns within portfolios and their standard errors.\n",
    "    # just 2 rows, n+1 portfolios, the last one is diff portfolio    \n",
    "    # Create empty frame  results_returns\n",
    "    results_returns <- as.data.frame(matrix(nrow = 5, ncol = n + 1))\n",
    "    names(results_returns) <- c(1:n, diff_portfolio)\n",
    "    # calculate avarge beta in all months for sub-group    \n",
    "    mean_factor <- colMeans(na.omit(portfolio_factors))       \n",
    "    for (j in 1:n ) {\n",
    "        results_returns[1, j] <- mean_factor[j]\n",
    "    }    \n",
    "    results_returns[1, n+1] <- mean_factor[n] - mean_factor[1]            \n",
    "    # every i is each stock\n",
    "    for (i in 1:ncol(results_returns)) {\n",
    "        # run simple regression of all months for each stock\n",
    "        model <- lm(na.omit(portfolio_returns[, i]) ~ 1)\n",
    "        # contains alpha\n",
    "        results_returns[2, i] <- model$coefficients[[1]]\n",
    "        # alpha / standard errors\n",
    "        results_returns[3, i] <- model$coefficients[[1]] / sqrt(NeweyWest(model, \n",
    "            lag = 6))[[1]]        \n",
    "        # calculate FFCPS alpha and t-value \n",
    "        model <- get_alpha(portfolio_returns[, i])        \n",
    "        results_returns[4, i] <- summary(model)$coefficients[1, 1]\n",
    "        results_returns[5, i] <- summary(model)$coefficients[1, 3]        \n",
    "    }            \n",
    "    # round numbers\n",
    "    out_res <- data.frame(lapply(results_returns, function(y) if(\n",
    "        is.numeric(y)) round(y, round_n) else y))  \n",
    "    rownames(out_res) <- row_n\n",
    "    colnames(out_res) <- c(1:n, diff_portfolio)                                 \n",
    "    out_res                                                                 \n",
    "}"
   ]
  },
  {
   "cell_type": "markdown",
   "id": "ac764fd3",
   "metadata": {},
   "source": [
    "perform_fama_macbeth_regression() funtion is from the seminar, it calculates stock level factor regression."
   ]
  },
  {
   "cell_type": "code",
   "execution_count": 21,
   "id": "898f7aaf",
   "metadata": {},
   "outputs": [],
   "source": [
    "#  data_explained are monthly returns, data_explanatory are factors\n",
    "perform_fama_macbeth_regression <- function (data_explained, \n",
    "            data_explanatory) {    \n",
    "    # Initialize an xts object for storing regression results.\n",
    "    fm_results <- as.xts(\n",
    "        matrix(\n",
    "            # every row is each month\n",
    "            nrow = nrow(data_explained) - 1,\n",
    "            # every column is each factor\n",
    "            ncol = 1 + length(data_explanatory)\n",
    "        ),\n",
    "        # start from the second month to last month\n",
    "        order.by = index(data_explained[2:nrow(data_explained)])\n",
    "    )\n",
    "    column_names <- c('Intercept', names(data_explanatory))\n",
    "    names(fm_results) <- column_names\n",
    "    # Iterate over rows and perform cross-sectional regressions.\n",
    "    # each i is for each month\n",
    "    for (i in 1:nrow(fm_results)) {\n",
    "        current_month <- index(fm_results[i])\n",
    "        next_month <- as.Date(as.yearmon(current_month %m+% months(1)), \n",
    "                frac = 1)\n",
    "        if (!next_month %in% index(data_explained)) {\n",
    "            next\n",
    "        }\n",
    "        # Avoid look-ahead bias by sorting the returns \n",
    "        # after the month used to compute breakpoints ends.        \n",
    "        # load in return data as the t+1 month\n",
    "        month_data_explained <- data_explained[next_month]\n",
    "        month_data_explanatory <- c()        \n",
    "        # each j is one factor\n",
    "        for (j in 1:length(data_explanatory)) {            \n",
    "            if (!current_month %in% index(data_explanatory[[j]])) {\n",
    "                move_to_next_month <- TRUE\n",
    "                break\n",
    "            }\n",
    "            move_to_next_month <- ncol(data_explanatory[[j]][current_month]) == sum(\n",
    "                is.na(data_explanatory[[j]][current_month]))            \n",
    "            if (move_to_next_month) {\n",
    "                break\n",
    "            }            \n",
    "            cross_section <- t(data_explanatory[[j]][current_month])\n",
    "            colnames(cross_section) <- names(data_explanatory)[j]\n",
    "            cross_section[which(cross_section == -Inf)] = NA\n",
    "            cross_section[which(cross_section == Inf)] = NA\n",
    "            month_data_explanatory <- cbind(month_data_explanatory, cross_section)\n",
    "        } # end of j\n",
    "        if (move_to_next_month) {\n",
    "            next\n",
    "        }\n",
    "        transposed_explained <- t(month_data_explained)\n",
    "        colnames(transposed_explained) <- c('explained')\n",
    "        # create formula for linear regression\n",
    "        equation <- paste('explained ~ 1 + ', \n",
    "            paste0(colnames(month_data_explanatory), collapse = ' + '))\n",
    "        # create data frame of all factors\n",
    "        all_data <- na.omit(as.data.frame(cbind(transposed_explained, \n",
    "            month_data_explanatory)))\n",
    "        # Save regression coefficients and other statistics.\n",
    "        model <- lm(equation, data = all_data)\n",
    "        # save the result for each factor\n",
    "        for (k in 1:ncol(fm_results)) {\n",
    "            fm_results[i, k] <- model$coefficients[[k]]\n",
    "        }\n",
    "    } # end of i \n",
    "    # Compute time series means, standard errors.\n",
    "    final_fm_results <- as.data.frame(matrix(nrow = 2, ncol = ncol(fm_results)))\n",
    "    names(final_fm_results) <- colnames(fm_results)\n",
    "    # every i is each factor\n",
    "    for (i in 1:ncol(final_fm_results)) {\n",
    "        # run regression for all months of each factor\n",
    "        model <- lm(na.omit(fm_results[, i]) ~ 1)\n",
    "        final_fm_results[1, i] <- model$coefficients[[1]]\n",
    "        final_fm_results[2, i] <- model$coefficients[[1]] / sqrt(NeweyWest(model, \n",
    "            lag = 4))[[1]]\n",
    "    }    \n",
    "    output <- round(final_fm_results, digits = 5)\n",
    "    output[is.na(output)] <- \"\"   \n",
    "    output\n",
    "}"
   ]
  },
  {
   "cell_type": "markdown",
   "id": "33bb6118",
   "metadata": {},
   "source": [
    "### <span style='background: lightblue'>2.1. Portfolio sorts and analysis based on beta</span>"
   ]
  },
  {
   "cell_type": "markdown",
   "id": "c9da83e3",
   "metadata": {},
   "source": [
    "**Sort the stocks into the quintiles**\n",
    "\n",
    "**2.1.1. Create equal-weighted portfolios**"
   ]
  },
  {
   "cell_type": "code",
   "execution_count": 22,
   "id": "97992955",
   "metadata": {
    "scrolled": true
   },
   "outputs": [
    {
     "data": {
      "text/html": [
       "<table class=\"dataframe\">\n",
       "<caption>A data.frame: 5 × 6</caption>\n",
       "<thead>\n",
       "\t<tr><th></th><th scope=col>1</th><th scope=col>2</th><th scope=col>3</th><th scope=col>4</th><th scope=col>5</th><th scope=col>5 - 1</th></tr>\n",
       "\t<tr><th></th><th scope=col>&lt;dbl&gt;</th><th scope=col>&lt;dbl&gt;</th><th scope=col>&lt;dbl&gt;</th><th scope=col>&lt;dbl&gt;</th><th scope=col>&lt;dbl&gt;</th><th scope=col>&lt;dbl&gt;</th></tr>\n",
       "</thead>\n",
       "<tbody>\n",
       "\t<tr><th scope=row>Beta</th><td>0.5649</td><td>0.8377</td><td>1.0051</td><td>1.1855</td><td>1.5188</td><td>0.9539</td></tr>\n",
       "\t<tr><th scope=row>Return</th><td>0.0092</td><td>0.0114</td><td>0.0113</td><td>0.0141</td><td>0.0139</td><td>0.0047</td></tr>\n",
       "\t<tr><th scope=row> t-stats</th><td>3.2582</td><td>3.0375</td><td>2.7310</td><td>2.7870</td><td>2.1523</td><td>0.9914</td></tr>\n",
       "\t<tr><th scope=row>Alpha</th><td>0.0089</td><td>0.0103</td><td>0.0108</td><td>0.0131</td><td>0.0129</td><td>0.0040</td></tr>\n",
       "\t<tr><th scope=row> t-value</th><td>2.9604</td><td>2.8112</td><td>2.5112</td><td>2.5339</td><td>1.9942</td><td>0.8146</td></tr>\n",
       "</tbody>\n",
       "</table>\n"
      ],
      "text/latex": [
       "A data.frame: 5 × 6\n",
       "\\begin{tabular}{r|llllll}\n",
       "  & 1 & 2 & 3 & 4 & 5 & 5 - 1\\\\\n",
       "  & <dbl> & <dbl> & <dbl> & <dbl> & <dbl> & <dbl>\\\\\n",
       "\\hline\n",
       "\tBeta & 0.5649 & 0.8377 & 1.0051 & 1.1855 & 1.5188 & 0.9539\\\\\n",
       "\tReturn & 0.0092 & 0.0114 & 0.0113 & 0.0141 & 0.0139 & 0.0047\\\\\n",
       "\t t-stats & 3.2582 & 3.0375 & 2.7310 & 2.7870 & 2.1523 & 0.9914\\\\\n",
       "\tAlpha & 0.0089 & 0.0103 & 0.0108 & 0.0131 & 0.0129 & 0.0040\\\\\n",
       "\t t-value & 2.9604 & 2.8112 & 2.5112 & 2.5339 & 1.9942 & 0.8146\\\\\n",
       "\\end{tabular}\n"
      ],
      "text/markdown": [
       "\n",
       "A data.frame: 5 × 6\n",
       "\n",
       "| <!--/--> | 1 &lt;dbl&gt; | 2 &lt;dbl&gt; | 3 &lt;dbl&gt; | 4 &lt;dbl&gt; | 5 &lt;dbl&gt; | 5 - 1 &lt;dbl&gt; |\n",
       "|---|---|---|---|---|---|---|\n",
       "| Beta | 0.5649 | 0.8377 | 1.0051 | 1.1855 | 1.5188 | 0.9539 |\n",
       "| Return | 0.0092 | 0.0114 | 0.0113 | 0.0141 | 0.0139 | 0.0047 |\n",
       "|  t-stats | 3.2582 | 3.0375 | 2.7310 | 2.7870 | 2.1523 | 0.9914 |\n",
       "| Alpha | 0.0089 | 0.0103 | 0.0108 | 0.0131 | 0.0129 | 0.0040 |\n",
       "|  t-value | 2.9604 | 2.8112 | 2.5112 | 2.5339 | 1.9942 | 0.8146 |\n",
       "\n"
      ],
      "text/plain": [
       "         1      2      3      4      5      5 - 1 \n",
       "Beta     0.5649 0.8377 1.0051 1.1855 1.5188 0.9539\n",
       "Return   0.0092 0.0114 0.0113 0.0141 0.0139 0.0047\n",
       " t-stats 3.2582 3.0375 2.7310 2.7870 2.1523 0.9914\n",
       "Alpha    0.0089 0.0103 0.0108 0.0131 0.0129 0.0040\n",
       " t-value 2.9604 2.8112 2.5112 2.5339 1.9942 0.8146"
      ]
     },
     "metadata": {},
     "output_type": "display_data"
    }
   ],
   "source": [
    "univariate_sort(monthly_betas, monthly_returns, monthly_equal_weights, \n",
    "        5, \"Beta\", 4)"
   ]
  },
  {
   "cell_type": "markdown",
   "id": "4fb9182d",
   "metadata": {},
   "source": [
    "**Comments:**\n",
    "\n",
    "First we exam the difference portfolio. The average return of the difference portfolio, presented in the column labeled 5-1, is 0.46%. This difference is not statistically distinguishable from zero as the t-statistic is 0.99, which is smaller than 2. Thus, our portfolio analysis fails to detect a cross-sectional relation between 𝛽 and excess stock returns.\n",
    "\n",
    "In terms of the portfolio 1 to 5, the results are 0.92%, 1.14%, 1.13%, 1.41%,and 1.39%, respectively.Each of these average returns is found to be statistically significant as all the t-statistics are larger than 2.This indicates that in the average year, each of these seven portfolios produces positive excess returns. This is not surprising because stocks are known to generate average returns that are higher than the return on the risk-free security. However,when comparing the average returns of portfolio 2 (1.14%) and 3(1.13%), as well as those of portfolio 4(1.41%) and portfolio 5(1.39%), we found that portfolio with higher betas do not generate higher average returns."
   ]
  },
  {
   "cell_type": "markdown",
   "id": "9e2a779e",
   "metadata": {},
   "source": [
    "**2.1.2. Create value-weighted portfolios**"
   ]
  },
  {
   "cell_type": "code",
   "execution_count": 23,
   "id": "73a762e6",
   "metadata": {},
   "outputs": [
    {
     "data": {
      "text/html": [
       "<table class=\"dataframe\">\n",
       "<caption>A data.frame: 5 × 6</caption>\n",
       "<thead>\n",
       "\t<tr><th></th><th scope=col>1</th><th scope=col>2</th><th scope=col>3</th><th scope=col>4</th><th scope=col>5</th><th scope=col>5 - 1</th></tr>\n",
       "\t<tr><th></th><th scope=col>&lt;dbl&gt;</th><th scope=col>&lt;dbl&gt;</th><th scope=col>&lt;dbl&gt;</th><th scope=col>&lt;dbl&gt;</th><th scope=col>&lt;dbl&gt;</th><th scope=col>&lt;dbl&gt;</th></tr>\n",
       "</thead>\n",
       "<tbody>\n",
       "\t<tr><th scope=row>Beta</th><td>0.5649</td><td>0.8377</td><td>1.0051</td><td>1.1855</td><td>1.5188</td><td>0.9539</td></tr>\n",
       "\t<tr><th scope=row>Return</th><td>0.0100</td><td>0.0118</td><td>0.0118</td><td>0.0139</td><td>0.0155</td><td>0.0055</td></tr>\n",
       "\t<tr><th scope=row> t-stats</th><td>4.0252</td><td>3.4321</td><td>2.9321</td><td>3.0953</td><td>2.6196</td><td>1.1411</td></tr>\n",
       "\t<tr><th scope=row>Alpha</th><td>0.0099</td><td>0.0108</td><td>0.0115</td><td>0.0134</td><td>0.0153</td><td>0.0054</td></tr>\n",
       "\t<tr><th scope=row> t-value</th><td>3.4223</td><td>2.9010</td><td>2.7244</td><td>2.7831</td><td>2.4788</td><td>1.0816</td></tr>\n",
       "</tbody>\n",
       "</table>\n"
      ],
      "text/latex": [
       "A data.frame: 5 × 6\n",
       "\\begin{tabular}{r|llllll}\n",
       "  & 1 & 2 & 3 & 4 & 5 & 5 - 1\\\\\n",
       "  & <dbl> & <dbl> & <dbl> & <dbl> & <dbl> & <dbl>\\\\\n",
       "\\hline\n",
       "\tBeta & 0.5649 & 0.8377 & 1.0051 & 1.1855 & 1.5188 & 0.9539\\\\\n",
       "\tReturn & 0.0100 & 0.0118 & 0.0118 & 0.0139 & 0.0155 & 0.0055\\\\\n",
       "\t t-stats & 4.0252 & 3.4321 & 2.9321 & 3.0953 & 2.6196 & 1.1411\\\\\n",
       "\tAlpha & 0.0099 & 0.0108 & 0.0115 & 0.0134 & 0.0153 & 0.0054\\\\\n",
       "\t t-value & 3.4223 & 2.9010 & 2.7244 & 2.7831 & 2.4788 & 1.0816\\\\\n",
       "\\end{tabular}\n"
      ],
      "text/markdown": [
       "\n",
       "A data.frame: 5 × 6\n",
       "\n",
       "| <!--/--> | 1 &lt;dbl&gt; | 2 &lt;dbl&gt; | 3 &lt;dbl&gt; | 4 &lt;dbl&gt; | 5 &lt;dbl&gt; | 5 - 1 &lt;dbl&gt; |\n",
       "|---|---|---|---|---|---|---|\n",
       "| Beta | 0.5649 | 0.8377 | 1.0051 | 1.1855 | 1.5188 | 0.9539 |\n",
       "| Return | 0.0100 | 0.0118 | 0.0118 | 0.0139 | 0.0155 | 0.0055 |\n",
       "|  t-stats | 4.0252 | 3.4321 | 2.9321 | 3.0953 | 2.6196 | 1.1411 |\n",
       "| Alpha | 0.0099 | 0.0108 | 0.0115 | 0.0134 | 0.0153 | 0.0054 |\n",
       "|  t-value | 3.4223 | 2.9010 | 2.7244 | 2.7831 | 2.4788 | 1.0816 |\n",
       "\n"
      ],
      "text/plain": [
       "         1      2      3      4      5      5 - 1 \n",
       "Beta     0.5649 0.8377 1.0051 1.1855 1.5188 0.9539\n",
       "Return   0.0100 0.0118 0.0118 0.0139 0.0155 0.0055\n",
       " t-stats 4.0252 3.4321 2.9321 3.0953 2.6196 1.1411\n",
       "Alpha    0.0099 0.0108 0.0115 0.0134 0.0153 0.0054\n",
       " t-value 3.4223 2.9010 2.7244 2.7831 2.4788 1.0816"
      ]
     },
     "metadata": {},
     "output_type": "display_data"
    }
   ],
   "source": [
    "univariate_sort(monthly_betas, monthly_returns, monthly_market_caps, \n",
    "            5, \"Beta\", 4)"
   ]
  },
  {
   "cell_type": "markdown",
   "id": "f804aad2",
   "metadata": {},
   "source": [
    "**Comments:**\n",
    "\n",
    "Similar to the equal-weighted portfolios, the cross-sectional relation between 𝛽 and excess stock returns does not exist for value-weighted portfolios. Because the t-statistic for the difference portfolio is 1.14, which is smaller than 2. \n",
    "\n",
    "When examing the individual decile portfolio returns, we found all portfolios generate statistically significant positive average returns, since all t-statistics are larger than 2.The average returns for portfolio 1 to 5 are 1.00%, 1.18%,1.18%, 1.39%, and 1.55%, respectively. The reason is that stocks generate average returns that are higher than the return on the risk-free security.Meanwhile, in the value-weighted portfolios, portfolios with higher beta usually generate higher average returns than portfolios with lower betas. "
   ]
  },
  {
   "cell_type": "markdown",
   "id": "decef96d",
   "metadata": {},
   "source": [
    "**2.2.3. Fama-MacBeth regression analysis**"
   ]
  },
  {
   "cell_type": "code",
   "execution_count": 24,
   "id": "85953ae7",
   "metadata": {},
   "outputs": [
    {
     "data": {
      "text/html": [
       "<table class=\"dataframe\">\n",
       "<caption>A data.frame: 2 × 2</caption>\n",
       "<thead>\n",
       "\t<tr><th scope=col>Intercept</th><th scope=col>Beta</th></tr>\n",
       "\t<tr><th scope=col>&lt;dbl&gt;</th><th scope=col>&lt;dbl&gt;</th></tr>\n",
       "</thead>\n",
       "<tbody>\n",
       "\t<tr><td>0.00655</td><td>0.0047</td></tr>\n",
       "\t<tr><td>1.75325</td><td>0.9234</td></tr>\n",
       "</tbody>\n",
       "</table>\n"
      ],
      "text/latex": [
       "A data.frame: 2 × 2\n",
       "\\begin{tabular}{ll}\n",
       " Intercept & Beta\\\\\n",
       " <dbl> & <dbl>\\\\\n",
       "\\hline\n",
       "\t 0.00655 & 0.0047\\\\\n",
       "\t 1.75325 & 0.9234\\\\\n",
       "\\end{tabular}\n"
      ],
      "text/markdown": [
       "\n",
       "A data.frame: 2 × 2\n",
       "\n",
       "| Intercept &lt;dbl&gt; | Beta &lt;dbl&gt; |\n",
       "|---|---|\n",
       "| 0.00655 | 0.0047 |\n",
       "| 1.75325 | 0.9234 |\n",
       "\n"
      ],
      "text/plain": [
       "  Intercept Beta  \n",
       "1 0.00655   0.0047\n",
       "2 1.75325   0.9234"
      ]
     },
     "metadata": {},
     "output_type": "display_data"
    }
   ],
   "source": [
    "data <- list(monthly_betas)\n",
    "names(data) <- c('Beta')\n",
    "perform_fama_macbeth_regression(monthly_returns, data)"
   ]
  },
  {
   "cell_type": "markdown",
   "id": "d167cc7d",
   "metadata": {},
   "source": [
    "**Comments:**\n",
    "\n",
    "In the Fama-Macbeth regression, beta is the only independent variable and the average slope from the monthly cross-sectional regressions is 0.0047.But the t-statistic for it is 0.923, wich is smaller than 2. Thereofore, the relation between betas and future stock returns  is statistically insignificant."
   ]
  },
  {
   "cell_type": "markdown",
   "id": "b065cdca",
   "metadata": {},
   "source": [
    "### <span style='background: lightblue'>2.2. Portfolio sorts and analysis based on size</span>"
   ]
  },
  {
   "cell_type": "markdown",
   "id": "8a9f1198",
   "metadata": {},
   "source": [
    "**Sort the stocks into the quintiles**\n",
    "\n",
    "**2.2.1. Create equal-weighted portfolios**"
   ]
  },
  {
   "cell_type": "code",
   "execution_count": 25,
   "id": "fd1ce863",
   "metadata": {},
   "outputs": [
    {
     "data": {
      "text/html": [
       "<table class=\"dataframe\">\n",
       "<caption>A data.frame: 5 × 6</caption>\n",
       "<thead>\n",
       "\t<tr><th></th><th scope=col>1</th><th scope=col>2</th><th scope=col>3</th><th scope=col>4</th><th scope=col>5</th><th scope=col>5 - 1</th></tr>\n",
       "\t<tr><th></th><th scope=col>&lt;dbl&gt;</th><th scope=col>&lt;dbl&gt;</th><th scope=col>&lt;dbl&gt;</th><th scope=col>&lt;dbl&gt;</th><th scope=col>&lt;dbl&gt;</th><th scope=col>&lt;dbl&gt;</th></tr>\n",
       "</thead>\n",
       "<tbody>\n",
       "\t<tr><th scope=row>Size</th><td>1.4852</td><td>2.0779</td><td>2.6229</td><td>3.2802</td><td>4.4557</td><td> 2.9705</td></tr>\n",
       "\t<tr><th scope=row>Return</th><td>0.0203</td><td>0.0107</td><td>0.0098</td><td>0.0103</td><td>0.0079</td><td>-0.0124</td></tr>\n",
       "\t<tr><th scope=row> t-stats</th><td>4.2525</td><td>2.6175</td><td>2.1152</td><td>2.6703</td><td>2.1880</td><td>-4.3873</td></tr>\n",
       "\t<tr><th scope=row>Alpha</th><td>0.0198</td><td>0.0100</td><td>0.0086</td><td>0.0095</td><td>0.0073</td><td>-0.0125</td></tr>\n",
       "\t<tr><th scope=row> t-value</th><td>3.8172</td><td>2.3975</td><td>2.0489</td><td>2.4407</td><td>1.9597</td><td>-4.8301</td></tr>\n",
       "</tbody>\n",
       "</table>\n"
      ],
      "text/latex": [
       "A data.frame: 5 × 6\n",
       "\\begin{tabular}{r|llllll}\n",
       "  & 1 & 2 & 3 & 4 & 5 & 5 - 1\\\\\n",
       "  & <dbl> & <dbl> & <dbl> & <dbl> & <dbl> & <dbl>\\\\\n",
       "\\hline\n",
       "\tSize & 1.4852 & 2.0779 & 2.6229 & 3.2802 & 4.4557 &  2.9705\\\\\n",
       "\tReturn & 0.0203 & 0.0107 & 0.0098 & 0.0103 & 0.0079 & -0.0124\\\\\n",
       "\t t-stats & 4.2525 & 2.6175 & 2.1152 & 2.6703 & 2.1880 & -4.3873\\\\\n",
       "\tAlpha & 0.0198 & 0.0100 & 0.0086 & 0.0095 & 0.0073 & -0.0125\\\\\n",
       "\t t-value & 3.8172 & 2.3975 & 2.0489 & 2.4407 & 1.9597 & -4.8301\\\\\n",
       "\\end{tabular}\n"
      ],
      "text/markdown": [
       "\n",
       "A data.frame: 5 × 6\n",
       "\n",
       "| <!--/--> | 1 &lt;dbl&gt; | 2 &lt;dbl&gt; | 3 &lt;dbl&gt; | 4 &lt;dbl&gt; | 5 &lt;dbl&gt; | 5 - 1 &lt;dbl&gt; |\n",
       "|---|---|---|---|---|---|---|\n",
       "| Size | 1.4852 | 2.0779 | 2.6229 | 3.2802 | 4.4557 |  2.9705 |\n",
       "| Return | 0.0203 | 0.0107 | 0.0098 | 0.0103 | 0.0079 | -0.0124 |\n",
       "|  t-stats | 4.2525 | 2.6175 | 2.1152 | 2.6703 | 2.1880 | -4.3873 |\n",
       "| Alpha | 0.0198 | 0.0100 | 0.0086 | 0.0095 | 0.0073 | -0.0125 |\n",
       "|  t-value | 3.8172 | 2.3975 | 2.0489 | 2.4407 | 1.9597 | -4.8301 |\n",
       "\n"
      ],
      "text/plain": [
       "         1      2      3      4      5      5 - 1  \n",
       "Size     1.4852 2.0779 2.6229 3.2802 4.4557  2.9705\n",
       "Return   0.0203 0.0107 0.0098 0.0103 0.0079 -0.0124\n",
       " t-stats 4.2525 2.6175 2.1152 2.6703 2.1880 -4.3873\n",
       "Alpha    0.0198 0.0100 0.0086 0.0095 0.0073 -0.0125\n",
       " t-value 3.8172 2.3975 2.0489 2.4407 1.9597 -4.8301"
      ]
     },
     "metadata": {},
     "output_type": "display_data"
    }
   ],
   "source": [
    "univariate_sort(monthly_sizes, monthly_returns,  monthly_equal_weights, \n",
    "            5, \"Size\", 4)"
   ]
  },
  {
   "cell_type": "markdown",
   "id": "b8ccc94f",
   "metadata": {},
   "source": [
    "**Comments:**\n",
    "\n",
    "Focusing first on the difference portfolio, which is long large stocks (the decile 5 portfolio) and short small stocks (the decile one portfolio), the results indicate that this portfolio generates an economically large average return of −1.23%, which is highly statistically signifcant with a Newey and West t-statistic of −4.38. In other words,we can conclude from the column \"5-1\" that there is an economically important and statistically signifcant relation between Size and future stock returns, and such relationship is negative. \n",
    "\n",
    "Examining the individual quintile portfolio returns, we see that quintile portfolio one generates a substantially higher average excess return  than any of the other quintile portfolios.There is also a large drop in performance between quintile portfolios one and two. For portfolios sorted on Size, the frst quintile portfolio generates an average monthly excess return of 2.03%， while the second quintile portfolio only generates an average monthly excess return of 1.07%. The average excess returns of portfolios 2 through 5 are relatively similar.All five portfolios has statistically sinificant Newey and West t-statistic. Therefore, we can find that the cross-sectional relation between Size and future stock returns appears to be driven primarily by the high abnormal returns of the smallest stocks in the sample. The result supports the size effect that stocks with large market capitalizations (large size) tend to have lower returns than stocks with small market capitalizations (small size)."
   ]
  },
  {
   "cell_type": "markdown",
   "id": "80daf3c8",
   "metadata": {},
   "source": [
    "**2.2.2. Create value-weighted portfolios**"
   ]
  },
  {
   "cell_type": "code",
   "execution_count": 26,
   "id": "dc12a392",
   "metadata": {},
   "outputs": [
    {
     "data": {
      "text/html": [
       "<table class=\"dataframe\">\n",
       "<caption>A data.frame: 5 × 6</caption>\n",
       "<thead>\n",
       "\t<tr><th></th><th scope=col>1</th><th scope=col>2</th><th scope=col>3</th><th scope=col>4</th><th scope=col>5</th><th scope=col>5 - 1</th></tr>\n",
       "\t<tr><th></th><th scope=col>&lt;dbl&gt;</th><th scope=col>&lt;dbl&gt;</th><th scope=col>&lt;dbl&gt;</th><th scope=col>&lt;dbl&gt;</th><th scope=col>&lt;dbl&gt;</th><th scope=col>&lt;dbl&gt;</th></tr>\n",
       "</thead>\n",
       "<tbody>\n",
       "\t<tr><th scope=row>Size</th><td>1.4852</td><td>2.0779</td><td>2.6229</td><td>3.2802</td><td>4.4557</td><td> 2.9705</td></tr>\n",
       "\t<tr><th scope=row>Return</th><td>0.0261</td><td>0.0159</td><td>0.0153</td><td>0.0145</td><td>0.0113</td><td>-0.0148</td></tr>\n",
       "\t<tr><th scope=row> t-stats</th><td>5.1057</td><td>4.0884</td><td>3.4670</td><td>3.9894</td><td>3.5743</td><td>-4.0585</td></tr>\n",
       "\t<tr><th scope=row>Alpha</th><td>0.0260</td><td>0.0156</td><td>0.0144</td><td>0.0141</td><td>0.0109</td><td>-0.0151</td></tr>\n",
       "\t<tr><th scope=row> t-value</th><td>4.9347</td><td>3.7754</td><td>3.5224</td><td>3.7058</td><td>3.0275</td><td>-5.0620</td></tr>\n",
       "</tbody>\n",
       "</table>\n"
      ],
      "text/latex": [
       "A data.frame: 5 × 6\n",
       "\\begin{tabular}{r|llllll}\n",
       "  & 1 & 2 & 3 & 4 & 5 & 5 - 1\\\\\n",
       "  & <dbl> & <dbl> & <dbl> & <dbl> & <dbl> & <dbl>\\\\\n",
       "\\hline\n",
       "\tSize & 1.4852 & 2.0779 & 2.6229 & 3.2802 & 4.4557 &  2.9705\\\\\n",
       "\tReturn & 0.0261 & 0.0159 & 0.0153 & 0.0145 & 0.0113 & -0.0148\\\\\n",
       "\t t-stats & 5.1057 & 4.0884 & 3.4670 & 3.9894 & 3.5743 & -4.0585\\\\\n",
       "\tAlpha & 0.0260 & 0.0156 & 0.0144 & 0.0141 & 0.0109 & -0.0151\\\\\n",
       "\t t-value & 4.9347 & 3.7754 & 3.5224 & 3.7058 & 3.0275 & -5.0620\\\\\n",
       "\\end{tabular}\n"
      ],
      "text/markdown": [
       "\n",
       "A data.frame: 5 × 6\n",
       "\n",
       "| <!--/--> | 1 &lt;dbl&gt; | 2 &lt;dbl&gt; | 3 &lt;dbl&gt; | 4 &lt;dbl&gt; | 5 &lt;dbl&gt; | 5 - 1 &lt;dbl&gt; |\n",
       "|---|---|---|---|---|---|---|\n",
       "| Size | 1.4852 | 2.0779 | 2.6229 | 3.2802 | 4.4557 |  2.9705 |\n",
       "| Return | 0.0261 | 0.0159 | 0.0153 | 0.0145 | 0.0113 | -0.0148 |\n",
       "|  t-stats | 5.1057 | 4.0884 | 3.4670 | 3.9894 | 3.5743 | -4.0585 |\n",
       "| Alpha | 0.0260 | 0.0156 | 0.0144 | 0.0141 | 0.0109 | -0.0151 |\n",
       "|  t-value | 4.9347 | 3.7754 | 3.5224 | 3.7058 | 3.0275 | -5.0620 |\n",
       "\n"
      ],
      "text/plain": [
       "         1      2      3      4      5      5 - 1  \n",
       "Size     1.4852 2.0779 2.6229 3.2802 4.4557  2.9705\n",
       "Return   0.0261 0.0159 0.0153 0.0145 0.0113 -0.0148\n",
       " t-stats 5.1057 4.0884 3.4670 3.9894 3.5743 -4.0585\n",
       "Alpha    0.0260 0.0156 0.0144 0.0141 0.0109 -0.0151\n",
       " t-value 4.9347 3.7754 3.5224 3.7058 3.0275 -5.0620"
      ]
     },
     "metadata": {},
     "output_type": "display_data"
    }
   ],
   "source": [
    "univariate_sort(monthly_sizes, monthly_returns,  monthly_market_caps, \n",
    "            5, \"Size\", 4)"
   ]
  },
  {
   "cell_type": "markdown",
   "id": "2f8c3de1",
   "metadata": {},
   "source": [
    "**Comments:**\n",
    "\n",
    "When value-weighted portfolios are used, the negative relationship between Size and future stock returns is also detected.The average return of the Size-sorted difference portfolio of -1.48% (t-statistic = -4.058)is statistically significant. In addition, similarlo to the equal-weighted porfolio,the quintile portfolio one of value-weighted portfolios generates a substantially higher average excess return than any of the other quintile portfolios.\n",
    "\n",
    "However, we could also find that the magnitudes of the average return of the value-weighted portfolios are larger than the average return of the equal weighted portfolios in every quintile portfolio.Focusing on the effect of value-weighting on the returns of the first quintile portfolio, we can acknowledge that the first quintile portfolio already contains only stocks with low market capitalizations. As the average excess return of value-weighted quintile portfolio one(2.6%) is larger than that of equal-weighted quintile portfolio one(2%), the result therefore,indicates that the stocks with the lowest market capitalizations have extremely high returns and are thus driving the value-weighted portfolio results.   \n",
    "\n",
    "结论？？？"
   ]
  },
  {
   "cell_type": "markdown",
   "id": "5340cdd9",
   "metadata": {},
   "source": [
    "**2.2.3. Fama-MacBeth regression analysis**"
   ]
  },
  {
   "cell_type": "code",
   "execution_count": 27,
   "id": "6f003fd8",
   "metadata": {},
   "outputs": [
    {
     "data": {
      "text/html": [
       "<table class=\"dataframe\">\n",
       "<caption>A data.frame: 2 × 2</caption>\n",
       "<thead>\n",
       "\t<tr><th scope=col>Intercept</th><th scope=col>Size</th></tr>\n",
       "\t<tr><th scope=col>&lt;dbl&gt;</th><th scope=col>&lt;dbl&gt;</th></tr>\n",
       "</thead>\n",
       "<tbody>\n",
       "\t<tr><td>0.02008</td><td>-0.00319</td></tr>\n",
       "\t<tr><td>3.84687</td><td>-4.91179</td></tr>\n",
       "</tbody>\n",
       "</table>\n"
      ],
      "text/latex": [
       "A data.frame: 2 × 2\n",
       "\\begin{tabular}{ll}\n",
       " Intercept & Size\\\\\n",
       " <dbl> & <dbl>\\\\\n",
       "\\hline\n",
       "\t 0.02008 & -0.00319\\\\\n",
       "\t 3.84687 & -4.91179\\\\\n",
       "\\end{tabular}\n"
      ],
      "text/markdown": [
       "\n",
       "A data.frame: 2 × 2\n",
       "\n",
       "| Intercept &lt;dbl&gt; | Size &lt;dbl&gt; |\n",
       "|---|---|\n",
       "| 0.02008 | -0.00319 |\n",
       "| 3.84687 | -4.91179 |\n",
       "\n"
      ],
      "text/plain": [
       "  Intercept Size    \n",
       "1 0.02008   -0.00319\n",
       "2 3.84687   -4.91179"
      ]
     },
     "metadata": {},
     "output_type": "display_data"
    }
   ],
   "source": [
    "data <- list(monthly_sizes)\n",
    "names(data) <- c('Size')\n",
    "perform_fama_macbeth_regression(monthly_returns, data)"
   ]
  },
  {
   "cell_type": "markdown",
   "id": "52b6fc75",
   "metadata": {},
   "source": [
    "**Comments:**\n",
    "\n",
    "In this FM regression analyses, we take size as the only independent variable in the regression specification,and the average slope from the monthly cross-sectional regressions is -0.00319 with a cirresponding NW t-statistic of -4.9117, indicating a statistically significant negative relation between Size and future stock returns. "
   ]
  },
  {
   "cell_type": "markdown",
   "id": "83a7be0f",
   "metadata": {},
   "source": [
    "### <span style='background: lightblue'>2.3. Portfolio sorts and analysis based on liquidity</span>"
   ]
  },
  {
   "cell_type": "markdown",
   "id": "3bd282f4",
   "metadata": {},
   "source": [
    "**Sort the stocks into the quintiles**\n",
    "\n",
    "**2.3.1. Create equal-weighted portfolios**"
   ]
  },
  {
   "cell_type": "code",
   "execution_count": 28,
   "id": "2ee5cd5a",
   "metadata": {},
   "outputs": [
    {
     "data": {
      "text/html": [
       "<table class=\"dataframe\">\n",
       "<caption>A data.frame: 5 × 6</caption>\n",
       "<thead>\n",
       "\t<tr><th></th><th scope=col>1</th><th scope=col>2</th><th scope=col>3</th><th scope=col>4</th><th scope=col>5</th><th scope=col>5 - 1</th></tr>\n",
       "\t<tr><th></th><th scope=col>&lt;dbl&gt;</th><th scope=col>&lt;dbl&gt;</th><th scope=col>&lt;dbl&gt;</th><th scope=col>&lt;dbl&gt;</th><th scope=col>&lt;dbl&gt;</th><th scope=col>&lt;dbl&gt;</th></tr>\n",
       "</thead>\n",
       "<tbody>\n",
       "\t<tr><th scope=row>Illiq</th><td>0.3175</td><td>0.8385</td><td>1.4781</td><td>2.5704</td><td>6.8691</td><td>6.5516</td></tr>\n",
       "\t<tr><th scope=row>Return</th><td>0.0094</td><td>0.0098</td><td>0.0098</td><td>0.0133</td><td>0.0170</td><td>0.0076</td></tr>\n",
       "\t<tr><th scope=row> t-stats</th><td>2.5710</td><td>2.3788</td><td>2.1626</td><td>3.1959</td><td>3.7993</td><td>3.8426</td></tr>\n",
       "\t<tr><th scope=row>Alpha</th><td>0.0087</td><td>0.0091</td><td>0.0084</td><td>0.0126</td><td>0.0165</td><td>0.0078</td></tr>\n",
       "\t<tr><th scope=row> t-value</th><td>2.3452</td><td>2.2337</td><td>1.9631</td><td>2.8897</td><td>3.4686</td><td>3.7609</td></tr>\n",
       "</tbody>\n",
       "</table>\n"
      ],
      "text/latex": [
       "A data.frame: 5 × 6\n",
       "\\begin{tabular}{r|llllll}\n",
       "  & 1 & 2 & 3 & 4 & 5 & 5 - 1\\\\\n",
       "  & <dbl> & <dbl> & <dbl> & <dbl> & <dbl> & <dbl>\\\\\n",
       "\\hline\n",
       "\tIlliq & 0.3175 & 0.8385 & 1.4781 & 2.5704 & 6.8691 & 6.5516\\\\\n",
       "\tReturn & 0.0094 & 0.0098 & 0.0098 & 0.0133 & 0.0170 & 0.0076\\\\\n",
       "\t t-stats & 2.5710 & 2.3788 & 2.1626 & 3.1959 & 3.7993 & 3.8426\\\\\n",
       "\tAlpha & 0.0087 & 0.0091 & 0.0084 & 0.0126 & 0.0165 & 0.0078\\\\\n",
       "\t t-value & 2.3452 & 2.2337 & 1.9631 & 2.8897 & 3.4686 & 3.7609\\\\\n",
       "\\end{tabular}\n"
      ],
      "text/markdown": [
       "\n",
       "A data.frame: 5 × 6\n",
       "\n",
       "| <!--/--> | 1 &lt;dbl&gt; | 2 &lt;dbl&gt; | 3 &lt;dbl&gt; | 4 &lt;dbl&gt; | 5 &lt;dbl&gt; | 5 - 1 &lt;dbl&gt; |\n",
       "|---|---|---|---|---|---|---|\n",
       "| Illiq | 0.3175 | 0.8385 | 1.4781 | 2.5704 | 6.8691 | 6.5516 |\n",
       "| Return | 0.0094 | 0.0098 | 0.0098 | 0.0133 | 0.0170 | 0.0076 |\n",
       "|  t-stats | 2.5710 | 2.3788 | 2.1626 | 3.1959 | 3.7993 | 3.8426 |\n",
       "| Alpha | 0.0087 | 0.0091 | 0.0084 | 0.0126 | 0.0165 | 0.0078 |\n",
       "|  t-value | 2.3452 | 2.2337 | 1.9631 | 2.8897 | 3.4686 | 3.7609 |\n",
       "\n"
      ],
      "text/plain": [
       "         1      2      3      4      5      5 - 1 \n",
       "Illiq    0.3175 0.8385 1.4781 2.5704 6.8691 6.5516\n",
       "Return   0.0094 0.0098 0.0098 0.0133 0.0170 0.0076\n",
       " t-stats 2.5710 2.3788 2.1626 3.1959 3.7993 3.8426\n",
       "Alpha    0.0087 0.0091 0.0084 0.0126 0.0165 0.0078\n",
       " t-value 2.3452 2.2337 1.9631 2.8897 3.4686 3.7609"
      ]
     },
     "metadata": {},
     "output_type": "display_data"
    }
   ],
   "source": [
    "# call for Equally weighted sorting first\n",
    "univariate_sort(monthly_illiq, monthly_returns, monthly_equal_weights,\n",
    "            5, \"Illiq\", 4)"
   ]
  },
  {
   "cell_type": "markdown",
   "id": "ec3fb7f3",
   "metadata": {},
   "source": [
    "**Comments:**   \n",
    "\n",
    "For equal-weighted portfolios formed by sorting on ILLIQ,the average excess return increases from 0.93% per month for the first\n",
    "quintile portfolio to 1.69% per month for the 5th quintile portfolio.All portfolios has statistically significant NW t-statistics, meaning that the average excess returns of all portfolios are statistically different from zero. The average return of the equal-weighted ILLIQ 5-1 portfolio of 0.76% per month is economically large and statistically signifcant, with a NW t-statistic of 3.84. As high value of ILLIQ factor portfolio has low liquid, portfolio 5 is the most illiquid portfolio, and it has the highest returns. We could therefore conclude that as ILLIQ increase(liquidity decrease), portfolio returns increase. So ILLIQ factor is positively related with stock returns."
   ]
  },
  {
   "cell_type": "markdown",
   "id": "8d6217f6",
   "metadata": {},
   "source": [
    "**2.3.2. Create value-weighted portfolios**"
   ]
  },
  {
   "cell_type": "code",
   "execution_count": 29,
   "id": "6f20c9d9",
   "metadata": {},
   "outputs": [
    {
     "data": {
      "text/html": [
       "<table class=\"dataframe\">\n",
       "<caption>A data.frame: 5 × 6</caption>\n",
       "<thead>\n",
       "\t<tr><th></th><th scope=col>1</th><th scope=col>2</th><th scope=col>3</th><th scope=col>4</th><th scope=col>5</th><th scope=col>5 - 1</th></tr>\n",
       "\t<tr><th></th><th scope=col>&lt;dbl&gt;</th><th scope=col>&lt;dbl&gt;</th><th scope=col>&lt;dbl&gt;</th><th scope=col>&lt;dbl&gt;</th><th scope=col>&lt;dbl&gt;</th><th scope=col>&lt;dbl&gt;</th></tr>\n",
       "</thead>\n",
       "<tbody>\n",
       "\t<tr><th scope=row>Illiq</th><td>0.3175</td><td>0.8385</td><td>1.4781</td><td>2.5704</td><td>6.8691</td><td>6.5516</td></tr>\n",
       "\t<tr><th scope=row>Return</th><td>0.0118</td><td>0.0127</td><td>0.0139</td><td>0.0173</td><td>0.0192</td><td>0.0075</td></tr>\n",
       "\t<tr><th scope=row> t-stats</th><td>3.6440</td><td>3.4185</td><td>3.2171</td><td>4.0212</td><td>4.5487</td><td>3.7515</td></tr>\n",
       "\t<tr><th scope=row>Alpha</th><td>0.0113</td><td>0.0121</td><td>0.0129</td><td>0.0169</td><td>0.0188</td><td>0.0076</td></tr>\n",
       "\t<tr><th scope=row> t-value</th><td>3.1458</td><td>3.1398</td><td>3.1315</td><td>3.9360</td><td>4.2031</td><td>3.6496</td></tr>\n",
       "</tbody>\n",
       "</table>\n"
      ],
      "text/latex": [
       "A data.frame: 5 × 6\n",
       "\\begin{tabular}{r|llllll}\n",
       "  & 1 & 2 & 3 & 4 & 5 & 5 - 1\\\\\n",
       "  & <dbl> & <dbl> & <dbl> & <dbl> & <dbl> & <dbl>\\\\\n",
       "\\hline\n",
       "\tIlliq & 0.3175 & 0.8385 & 1.4781 & 2.5704 & 6.8691 & 6.5516\\\\\n",
       "\tReturn & 0.0118 & 0.0127 & 0.0139 & 0.0173 & 0.0192 & 0.0075\\\\\n",
       "\t t-stats & 3.6440 & 3.4185 & 3.2171 & 4.0212 & 4.5487 & 3.7515\\\\\n",
       "\tAlpha & 0.0113 & 0.0121 & 0.0129 & 0.0169 & 0.0188 & 0.0076\\\\\n",
       "\t t-value & 3.1458 & 3.1398 & 3.1315 & 3.9360 & 4.2031 & 3.6496\\\\\n",
       "\\end{tabular}\n"
      ],
      "text/markdown": [
       "\n",
       "A data.frame: 5 × 6\n",
       "\n",
       "| <!--/--> | 1 &lt;dbl&gt; | 2 &lt;dbl&gt; | 3 &lt;dbl&gt; | 4 &lt;dbl&gt; | 5 &lt;dbl&gt; | 5 - 1 &lt;dbl&gt; |\n",
       "|---|---|---|---|---|---|---|\n",
       "| Illiq | 0.3175 | 0.8385 | 1.4781 | 2.5704 | 6.8691 | 6.5516 |\n",
       "| Return | 0.0118 | 0.0127 | 0.0139 | 0.0173 | 0.0192 | 0.0075 |\n",
       "|  t-stats | 3.6440 | 3.4185 | 3.2171 | 4.0212 | 4.5487 | 3.7515 |\n",
       "| Alpha | 0.0113 | 0.0121 | 0.0129 | 0.0169 | 0.0188 | 0.0076 |\n",
       "|  t-value | 3.1458 | 3.1398 | 3.1315 | 3.9360 | 4.2031 | 3.6496 |\n",
       "\n"
      ],
      "text/plain": [
       "         1      2      3      4      5      5 - 1 \n",
       "Illiq    0.3175 0.8385 1.4781 2.5704 6.8691 6.5516\n",
       "Return   0.0118 0.0127 0.0139 0.0173 0.0192 0.0075\n",
       " t-stats 3.6440 3.4185 3.2171 4.0212 4.5487 3.7515\n",
       "Alpha    0.0113 0.0121 0.0129 0.0169 0.0188 0.0076\n",
       " t-value 3.1458 3.1398 3.1315 3.9360 4.2031 3.6496"
      ]
     },
     "metadata": {},
     "output_type": "display_data"
    }
   ],
   "source": [
    "univariate_sort(monthly_illiq, monthly_returns, monthly_market_caps, \n",
    "         5, \"Illiq\", 4)\n",
    "# high value lower liquid, high returns, positive effect"
   ]
  },
  {
   "cell_type": "markdown",
   "id": "fc8f5bcd",
   "metadata": {},
   "source": [
    "**Comments:**\n",
    "\n",
    "The results of the value-weighted portfolio analyses is quite similar to what we have found in equal-weighted portfolio analyses. A positive relation between ILLIQ and future stock returns is also detected in the value-weighted portfolio analyses.From quintile portfolio 1 to 5, monthly returns increase from 1.17% to 1.92%. The average return of the value-weighted ILLIQ 5-1 portfolio of 0.74% per month is economically large and statistically signifcant, with a NW t-statistic of 3.75."
   ]
  },
  {
   "cell_type": "markdown",
   "id": "7665be67",
   "metadata": {},
   "source": [
    "**2.3.3. Fama-MacBeth regression analysis**"
   ]
  },
  {
   "cell_type": "code",
   "execution_count": 30,
   "id": "dbe1003b",
   "metadata": {},
   "outputs": [
    {
     "data": {
      "text/html": [
       "<table class=\"dataframe\">\n",
       "<caption>A data.frame: 2 × 2</caption>\n",
       "<thead>\n",
       "\t<tr><th scope=col>Intercept</th><th scope=col>Illiquidity</th></tr>\n",
       "\t<tr><th scope=col>&lt;dbl&gt;</th><th scope=col>&lt;dbl&gt;</th></tr>\n",
       "</thead>\n",
       "<tbody>\n",
       "\t<tr><td>0.00926</td><td>0.00163</td></tr>\n",
       "\t<tr><td>2.29265</td><td>3.52832</td></tr>\n",
       "</tbody>\n",
       "</table>\n"
      ],
      "text/latex": [
       "A data.frame: 2 × 2\n",
       "\\begin{tabular}{ll}\n",
       " Intercept & Illiquidity\\\\\n",
       " <dbl> & <dbl>\\\\\n",
       "\\hline\n",
       "\t 0.00926 & 0.00163\\\\\n",
       "\t 2.29265 & 3.52832\\\\\n",
       "\\end{tabular}\n"
      ],
      "text/markdown": [
       "\n",
       "A data.frame: 2 × 2\n",
       "\n",
       "| Intercept &lt;dbl&gt; | Illiquidity &lt;dbl&gt; |\n",
       "|---|---|\n",
       "| 0.00926 | 0.00163 |\n",
       "| 2.29265 | 3.52832 |\n",
       "\n"
      ],
      "text/plain": [
       "  Intercept Illiquidity\n",
       "1 0.00926   0.00163    \n",
       "2 2.29265   3.52832    "
      ]
     },
     "metadata": {},
     "output_type": "display_data"
    }
   ],
   "source": [
    "data <- list(monthly_illiq)\n",
    "names(data) <- c('Illiquidity')\n",
    "perform_fama_macbeth_regression(monthly_returns, data)\n",
    "# has expected direction"
   ]
  },
  {
   "cell_type": "markdown",
   "id": "89fa1b46",
   "metadata": {},
   "source": [
    "**Comments:**\n",
    "\n",
    "In this FM regression analyses, we take illquidity factor as the only independent variable in the regression specification,and the average slope from the monthly cross-sectional regressions is 16.27 with a corresponding NW t-statistic of 3.52, indicating a statistically significant and positive relation between illiquidity and future stock returns.This result is consistent with what we have found in univariate portfolio analyses."
   ]
  },
  {
   "cell_type": "markdown",
   "id": "1c64d855",
   "metadata": {},
   "source": [
    "# 3. Bivariate portfolio analysis"
   ]
  },
  {
   "cell_type": "markdown",
   "id": "5f9ac5a9",
   "metadata": {},
   "source": [
    "In the bivariate portfolio analysis you will use independent sorting procedure and study only value-weighted portfolios. Given the relatively limited amount of stocks you are analysing, create 3x3 portfolios - use the 30 and 70 percentiles of the sort variables as breakpoints. Report the results for the \n",
    "* Size-Beta sort\n",
    "* Size-Third_factor sort, i.e. Size and the same sort variable as in univariate sort. \n",
    "\n",
    "Similar to univariate portfolio analysis, for each sort variable, each percentiles group and difference \"3-1\" portfolio report time-series averages with corresponding Newey-West t-stats of one-month-ahead/one-quarter-ahead excess return and Fama-French-Carhart-Pastor-Stambaugh alpha (similar to Lecture 10 - Value, slide 15)."
   ]
  },
  {
   "cell_type": "markdown",
   "id": "0237e570",
   "metadata": {},
   "source": [
    "* **Create Bivariat Portfolio Sorting Function**"
   ]
  },
  {
   "cell_type": "code",
   "execution_count": 31,
   "id": "06d681b8",
   "metadata": {},
   "outputs": [],
   "source": [
    "# Parameters: factor variable want to be sorted, stock returns, \n",
    "# market_caps（weight） for VW or EV, EV just set market_caps as 1\n",
    "# only for 3X3 sorting, expandable later for m X n\n",
    "bivariat_sort <- function (sort_data1, sort_data2, returns, \n",
    "        market_caps, round_n= 6, m=3, n=3) {\n",
    "    # use beta and size to do independent sorting\n",
    "    # 3 groups for beta and 3 groups for size\n",
    "    n_portfolios_beta <- m\n",
    "    n_portfolios_size <- n\n",
    "    n_portfolios <- n_portfolios_beta * n_portfolios_size     \n",
    "    diff_portfolios <- c('3 - 1', ' 6 - 4', '9 - 7', '7 - 1', ' 8 - 2', '9 - 3')    \n",
    "    dimC <- c(0, 0.3, 0.7, 1)      \n",
    "    # Initialize an xts object for storing portfolio returns.\n",
    "    returns_sorts <- as.xts(\n",
    "        matrix(\n",
    "            nrow = nrow(sort_data1) - 1,\n",
    "            ncol = n_portfolios + m + n\n",
    "        ),\n",
    "        order.by = index(sort_data1[2:nrow(sort_data1)])\n",
    "    )\n",
    "    row_n <- c( 'Return',' t-stats', 'Alpha',' t-value' )   \n",
    "    col_n <- c(1:n_portfolios, diff_portfolios)\n",
    "    names(returns_sorts) <- col_n            \n",
    "    # Iterate over rows, find breakpoints and compute monthly returns \n",
    "    # within the given beta and size breakpoints.\n",
    "    for (i in 1:nrow(returns_sorts)) {\n",
    "        current_month <- index(returns_sorts[i])\n",
    "        next_month <- as.Date(as.yearmon(current_month %m+% months(1)), \n",
    "            frac = 1)\n",
    "        if (!next_month %in% index(returns)) { next }\n",
    "        # Avoid look-ahead bias by sorting the returns after the month \n",
    "        # used to compute breakpoints ends.\n",
    "        # use this month's beta and size, next month's return and market cap(VW)\n",
    "        month_returns <- returns[next_month]\n",
    "        month_betas <- sort_data1[current_month]\n",
    "        month_sizes <- sort_data2[current_month]\n",
    "        month_market_caps <- market_caps[next_month]\n",
    "        # Replace NA market caps with 0s so that such observations have no weights.        \n",
    "        month_market_caps[is.na(month_market_caps)] <- 0\n",
    "        if (ncol(month_betas) == sum(is.na(month_betas))) { next }\n",
    "        # break point for beta groups\n",
    "        breakpoints_betas <- quantile(month_betas,\n",
    "            dimC, na.rm = TRUE)\n",
    "        not_na_betas <- !is.na(month_betas)\n",
    "        # first sort beta\n",
    "        for (j in 1:n_portfolios_beta) {\n",
    "            filter_betas <- (breakpoints_betas[[j]] < month_betas) & (\n",
    "                month_betas < breakpoints_betas[[j + 1]]) & not_na_betas\n",
    "            # catch first factor sorting results\n",
    "            filtered_month_returns <- month_returns[, filter_betas]\n",
    "            filtered_month_sizes <- month_sizes[, filter_betas]\n",
    "            filtered_month_market_caps <- month_market_caps[, filter_betas]\n",
    "            # only difference of dependent and independent sorting is\n",
    "            # how to calculate breakpoint:\n",
    "            # use filtered_month_sizes for dependent sorting\n",
    "            # use month_sizes for independent sorting            \n",
    "            breakpoints_sizes <- quantile(month_sizes, dimC, na.rm = TRUE)        \n",
    "            not_na_sizes <- !is.na(month_sizes)\n",
    "            # second sort size after sorted beta\n",
    "            # for independent, the breakpoint is whole dataset\n",
    "            for (k in 1:n_portfolios_size) {\n",
    "                filter_sizes <- (breakpoints_sizes[[k]] < month_sizes) & (\n",
    "                    month_sizes < breakpoints_sizes[[k + 1]]) & not_na_sizes\n",
    "                # Compute weighted average portfolio returns.\n",
    "                # match the columns(only for independent)\n",
    "                filter_sizes <- filter_sizes[,colnames(filtered_month_returns)]\n",
    "                returns_sorts[i, k + (j - 1) * n_portfolios_size] <- weighted.mean(t(\n",
    "                    filtered_month_returns[, filter_sizes]), \n",
    "                    t(filtered_month_market_caps[, filter_sizes]))            \n",
    "            }\n",
    "            # calculate diff of factor 1\n",
    "            returns_sorts[i, diff_portfolios[j]] <- returns_sorts[i, \n",
    "                    n_portfolios_size * j] - returns_sorts[i, \n",
    "                    n_portfolios_size * (j - 1) + 1]\n",
    "        }        \n",
    "        # calculate diff of factor 2 \n",
    "        for ( t in 1:n ) {\n",
    "            returns_sorts[i, diff_portfolios[m+t]] <- returns_sorts[i, \n",
    "                    n * (m - 1) + t] - returns_sorts[i,t]\n",
    "        }\n",
    "    }    \n",
    "    # Compute overall average returns within portfolios and their standard errors.\n",
    "    results_xts <- as.data.frame(matrix(nrow = 4, \n",
    "        ncol = n_portfolios + m + n ))\n",
    "    for (i in 1:ncol(results_xts)) {\n",
    "        model <- lm(na.omit(returns_sorts[, i]) ~ 1)\n",
    "        results_xts[1, i] <- model$coefficients[[1]]\n",
    "        results_xts[2, i] <- model$coefficients[[1]] / sqrt(NeweyWest(model, \n",
    "            lag = 6))[[1]]\n",
    "        # calculate FFCPS alpha\n",
    "        model <- get_alpha(returns_sorts[, i])        \n",
    "        results_xts[3, i] <- summary(model)$coefficients[1, 1]\n",
    "        results_xts[4, i] <- summary(model)$coefficients[1, 3]             \n",
    "    }\n",
    "    # round numbers\n",
    "    out_res <- data.frame(lapply(results_xts, function(y) if(\n",
    "        is.numeric(y)) round(y, round_n) else y))  \n",
    "    rownames(out_res) <- row_n\n",
    "    colnames(out_res) <- col_n                                                                      \n",
    "    return(out_res)\n",
    "}"
   ]
  },
  {
   "cell_type": "code",
   "execution_count": 32,
   "id": "332b20f1",
   "metadata": {},
   "outputs": [],
   "source": [
    "# Create Function for Result Output Table\n",
    "getName <- function(factor_in, n = 3){   \n",
    "    row_s <- c()\n",
    "    for (i in 1:n ) {\n",
    "        row_name <- paste(factor_in, i)\n",
    "        row_s <- cbind(row_s, row_name)\n",
    "    }\n",
    "    row_name <- paste(factor_in, \"Avg\")\n",
    "    row_s <- cbind(row_s, row_name)    \n",
    "    row_name <- paste(factor_in, \"3-1\")\n",
    "    row_s <- cbind(row_s, row_name)        \n",
    "    return (row_s)\n",
    "}\n",
    "\n",
    "format_result <- function(res_in, fact1, fact2, \n",
    "        round_n= 6, multi = 1, n = 3){       \n",
    "    # Create data frame.\n",
    "    col_t <- fact1\n",
    "    row_t <- fact2 \n",
    "    col_name <-  getName(col_t)\n",
    "    row_name <-  getName(row_t)\n",
    "    # all return is percentage, multiple by 100\n",
    "    res_100 <- res_in * multi\n",
    "    # Create the data frame.\n",
    "    t_size <- n \n",
    "    df_t <- data.frame(matrix(ncol = t_size, nrow = t_size))\n",
    "    # for each column\n",
    "    for (j in 1:n ) {\n",
    "        # for each row within the column\n",
    "        for (i in 1:n ) {\n",
    "            df_t[i, j] <- res_100[(j-1) * n + i]        \n",
    "        }        \n",
    "    }    \n",
    "    # get mean\n",
    "    df_t <- rbind(df_t, colMeans(df_t)) \n",
    "    df_t <- cbind(df_t, rowMeans(df_t))\n",
    "    df_t <- round(df_t, round_n)\n",
    "    # get diff\n",
    "    diff_r = c() # for mean\n",
    "    diff_c = c()\n",
    "    # for row\n",
    "    for (j in 1: n ) {\n",
    "        df_t[5, j] <- round(res_100[(n * n + j)],round_n)\n",
    "        diff_r[j] <- df_t[5, j]\n",
    "    }\n",
    "    # for column\n",
    "    for (i in 1: n ) {\n",
    "        df_t[i, 5] <- round(res_100[(n * (n+1) + i)],round_n)  \n",
    "        diff_c[i] <- df_t[i, 5]\n",
    "    }\n",
    "    # clean format\n",
    "    df_t[4, 4] <- \"\"\n",
    "    df_t[4, 5] <- round(mean(diff_c),round_n)\n",
    "    df_t[5, 4] <- round(mean(diff_r),round_n) \n",
    "    df_t[is.na(df_t)] <- \"\"   \n",
    "    colnames(df_t) <- col_name\n",
    "    rownames(df_t) <- row_name\n",
    "    df_t\n",
    "}"
   ]
  },
  {
   "cell_type": "markdown",
   "id": "b51a748d",
   "metadata": {},
   "source": [
    "### <span style='background: lightblue'>3.1. Size-Beta Sort</span>"
   ]
  },
  {
   "cell_type": "markdown",
   "id": "d1c187c5",
   "metadata": {},
   "source": [
    "* **Size-Beta Independent value-weighted(WV) sorting**  \n"
   ]
  },
  {
   "cell_type": "code",
   "execution_count": 33,
   "id": "d0e3573d",
   "metadata": {},
   "outputs": [
    {
     "data": {
      "text/html": [
       "<table class=\"dataframe\">\n",
       "<caption>A data.frame: 4 × 15</caption>\n",
       "<thead>\n",
       "\t<tr><th></th><th scope=col>1</th><th scope=col>2</th><th scope=col>3</th><th scope=col>4</th><th scope=col>5</th><th scope=col>6</th><th scope=col>7</th><th scope=col>8</th><th scope=col>9</th><th scope=col>3 - 1</th><th scope=col> 6 - 4</th><th scope=col>9 - 7</th><th scope=col>7 - 1</th><th scope=col> 8 - 2</th><th scope=col>9 - 3</th></tr>\n",
       "\t<tr><th></th><th scope=col>&lt;dbl&gt;</th><th scope=col>&lt;dbl&gt;</th><th scope=col>&lt;dbl&gt;</th><th scope=col>&lt;dbl&gt;</th><th scope=col>&lt;dbl&gt;</th><th scope=col>&lt;dbl&gt;</th><th scope=col>&lt;dbl&gt;</th><th scope=col>&lt;dbl&gt;</th><th scope=col>&lt;dbl&gt;</th><th scope=col>&lt;dbl&gt;</th><th scope=col>&lt;dbl&gt;</th><th scope=col>&lt;dbl&gt;</th><th scope=col>&lt;dbl&gt;</th><th scope=col>&lt;dbl&gt;</th><th scope=col>&lt;dbl&gt;</th></tr>\n",
       "</thead>\n",
       "<tbody>\n",
       "\t<tr><th scope=row>Return</th><td>0.01838</td><td>0.02025</td><td>0.02577</td><td>0.01120</td><td>0.01541</td><td>0.01748</td><td>0.00986</td><td>0.01141</td><td>0.01400</td><td>0.00738</td><td>0.00629</td><td>0.00415</td><td>-0.00853</td><td>-0.00883</td><td>-0.01177</td></tr>\n",
       "\t<tr><th scope=row> t-stats</th><td>5.71209</td><td>4.60778</td><td>4.07621</td><td>3.70669</td><td>3.66559</td><td>2.84180</td><td>4.15581</td><td>3.00891</td><td>2.59152</td><td>1.75321</td><td>1.48381</td><td>0.97819</td><td>-4.18314</td><td>-4.62122</td><td>-3.30688</td></tr>\n",
       "\t<tr><th scope=row>Alpha</th><td>0.01827</td><td>0.01958</td><td>0.02491</td><td>0.01073</td><td>0.01461</td><td>0.01670</td><td>0.00971</td><td>0.01094</td><td>0.01447</td><td>0.00664</td><td>0.00597</td><td>0.00476</td><td>-0.00856</td><td>-0.00864</td><td>-0.01044</td></tr>\n",
       "\t<tr><th scope=row> t-value</th><td>5.27474</td><td>3.83783</td><td>3.81553</td><td>3.53672</td><td>3.47301</td><td>2.76328</td><td>3.26766</td><td>2.66061</td><td>2.46164</td><td>1.45488</td><td>1.35024</td><td>1.09127</td><td>-3.82864</td><td>-3.40265</td><td>-2.91968</td></tr>\n",
       "</tbody>\n",
       "</table>\n"
      ],
      "text/latex": [
       "A data.frame: 4 × 15\n",
       "\\begin{tabular}{r|lllllllllllllll}\n",
       "  & 1 & 2 & 3 & 4 & 5 & 6 & 7 & 8 & 9 & 3 - 1 &  6 - 4 & 9 - 7 & 7 - 1 &  8 - 2 & 9 - 3\\\\\n",
       "  & <dbl> & <dbl> & <dbl> & <dbl> & <dbl> & <dbl> & <dbl> & <dbl> & <dbl> & <dbl> & <dbl> & <dbl> & <dbl> & <dbl> & <dbl>\\\\\n",
       "\\hline\n",
       "\tReturn & 0.01838 & 0.02025 & 0.02577 & 0.01120 & 0.01541 & 0.01748 & 0.00986 & 0.01141 & 0.01400 & 0.00738 & 0.00629 & 0.00415 & -0.00853 & -0.00883 & -0.01177\\\\\n",
       "\t t-stats & 5.71209 & 4.60778 & 4.07621 & 3.70669 & 3.66559 & 2.84180 & 4.15581 & 3.00891 & 2.59152 & 1.75321 & 1.48381 & 0.97819 & -4.18314 & -4.62122 & -3.30688\\\\\n",
       "\tAlpha & 0.01827 & 0.01958 & 0.02491 & 0.01073 & 0.01461 & 0.01670 & 0.00971 & 0.01094 & 0.01447 & 0.00664 & 0.00597 & 0.00476 & -0.00856 & -0.00864 & -0.01044\\\\\n",
       "\t t-value & 5.27474 & 3.83783 & 3.81553 & 3.53672 & 3.47301 & 2.76328 & 3.26766 & 2.66061 & 2.46164 & 1.45488 & 1.35024 & 1.09127 & -3.82864 & -3.40265 & -2.91968\\\\\n",
       "\\end{tabular}\n"
      ],
      "text/markdown": [
       "\n",
       "A data.frame: 4 × 15\n",
       "\n",
       "| <!--/--> | 1 &lt;dbl&gt; | 2 &lt;dbl&gt; | 3 &lt;dbl&gt; | 4 &lt;dbl&gt; | 5 &lt;dbl&gt; | 6 &lt;dbl&gt; | 7 &lt;dbl&gt; | 8 &lt;dbl&gt; | 9 &lt;dbl&gt; | 3 - 1 &lt;dbl&gt; |  6 - 4 &lt;dbl&gt; | 9 - 7 &lt;dbl&gt; | 7 - 1 &lt;dbl&gt; |  8 - 2 &lt;dbl&gt; | 9 - 3 &lt;dbl&gt; |\n",
       "|---|---|---|---|---|---|---|---|---|---|---|---|---|---|---|---|\n",
       "| Return | 0.01838 | 0.02025 | 0.02577 | 0.01120 | 0.01541 | 0.01748 | 0.00986 | 0.01141 | 0.01400 | 0.00738 | 0.00629 | 0.00415 | -0.00853 | -0.00883 | -0.01177 |\n",
       "|  t-stats | 5.71209 | 4.60778 | 4.07621 | 3.70669 | 3.66559 | 2.84180 | 4.15581 | 3.00891 | 2.59152 | 1.75321 | 1.48381 | 0.97819 | -4.18314 | -4.62122 | -3.30688 |\n",
       "| Alpha | 0.01827 | 0.01958 | 0.02491 | 0.01073 | 0.01461 | 0.01670 | 0.00971 | 0.01094 | 0.01447 | 0.00664 | 0.00597 | 0.00476 | -0.00856 | -0.00864 | -0.01044 |\n",
       "|  t-value | 5.27474 | 3.83783 | 3.81553 | 3.53672 | 3.47301 | 2.76328 | 3.26766 | 2.66061 | 2.46164 | 1.45488 | 1.35024 | 1.09127 | -3.82864 | -3.40265 | -2.91968 |\n",
       "\n"
      ],
      "text/plain": [
       "         1       2       3       4       5       6       7       8      \n",
       "Return   0.01838 0.02025 0.02577 0.01120 0.01541 0.01748 0.00986 0.01141\n",
       " t-stats 5.71209 4.60778 4.07621 3.70669 3.66559 2.84180 4.15581 3.00891\n",
       "Alpha    0.01827 0.01958 0.02491 0.01073 0.01461 0.01670 0.00971 0.01094\n",
       " t-value 5.27474 3.83783 3.81553 3.53672 3.47301 2.76328 3.26766 2.66061\n",
       "         9       3 - 1    6 - 4  9 - 7   7 - 1     8 - 2   9 - 3   \n",
       "Return   0.01400 0.00738 0.00629 0.00415 -0.00853 -0.00883 -0.01177\n",
       " t-stats 2.59152 1.75321 1.48381 0.97819 -4.18314 -4.62122 -3.30688\n",
       "Alpha    0.01447 0.00664 0.00597 0.00476 -0.00856 -0.00864 -0.01044\n",
       " t-value 2.46164 1.45488 1.35024 1.09127 -3.82864 -3.40265 -2.91968"
      ]
     },
     "metadata": {},
     "output_type": "display_data"
    }
   ],
   "source": [
    "# input parameters: sort factor1, sort factor2, excess returns\n",
    "# mktCap for VW, rounding\n",
    "res_SizeBeta <- bivariat_sort(monthly_sizes, monthly_betas,  \n",
    "        monthly_returns, monthly_market_caps, 5)\n",
    "res_SizeBeta\n",
    "# high value lower liquid, high returns, positive effect"
   ]
  },
  {
   "cell_type": "markdown",
   "id": "958d5cfc",
   "metadata": {},
   "source": [
    "**Size Small: 1, 2, 3;  Size Mid: 4, 5, 6; Size Big: 7, 8, 9  \n",
    "Beta low: 1, 4, 7; Beta Mid: 2, 5, 8; Beta High: 3, 6, 9**  \n"
   ]
  },
  {
   "cell_type": "markdown",
   "id": "88f046f9",
   "metadata": {},
   "source": [
    "**Output excess return result**"
   ]
  },
  {
   "cell_type": "code",
   "execution_count": 34,
   "id": "2db6769a",
   "metadata": {},
   "outputs": [
    {
     "data": {
      "text/html": [
       "<table class=\"dataframe\">\n",
       "<caption>A data.frame: 5 × 5</caption>\n",
       "<thead>\n",
       "\t<tr><th></th><th scope=col>Size 1</th><th scope=col>Size 2</th><th scope=col>Size 3</th><th scope=col>Size Avg</th><th scope=col>Size 3-1</th></tr>\n",
       "\t<tr><th></th><th scope=col>&lt;dbl&gt;</th><th scope=col>&lt;dbl&gt;</th><th scope=col>&lt;dbl&gt;</th><th scope=col>&lt;chr&gt;</th><th scope=col>&lt;chr&gt;</th></tr>\n",
       "</thead>\n",
       "<tbody>\n",
       "\t<tr><th scope=row>Beta 1</th><td>0.01838</td><td>0.01120</td><td>0.00986</td><td>0.01315</td><td>-0.00853</td></tr>\n",
       "\t<tr><th scope=row>Beta 2</th><td>0.02025</td><td>0.01541</td><td>0.01141</td><td>0.01569</td><td>-0.00883</td></tr>\n",
       "\t<tr><th scope=row>Beta 3</th><td>0.02577</td><td>0.01748</td><td>0.01400</td><td>0.01908</td><td>-0.01177</td></tr>\n",
       "\t<tr><th scope=row>Beta Avg</th><td>0.02147</td><td>0.01470</td><td>0.01176</td><td>       </td><td>-0.00971</td></tr>\n",
       "\t<tr><th scope=row>Beta 3-1</th><td>0.00738</td><td>0.00629</td><td>0.00415</td><td>0.00594</td><td>        </td></tr>\n",
       "</tbody>\n",
       "</table>\n"
      ],
      "text/latex": [
       "A data.frame: 5 × 5\n",
       "\\begin{tabular}{r|lllll}\n",
       "  & Size 1 & Size 2 & Size 3 & Size Avg & Size 3-1\\\\\n",
       "  & <dbl> & <dbl> & <dbl> & <chr> & <chr>\\\\\n",
       "\\hline\n",
       "\tBeta 1 & 0.01838 & 0.01120 & 0.00986 & 0.01315 & -0.00853\\\\\n",
       "\tBeta 2 & 0.02025 & 0.01541 & 0.01141 & 0.01569 & -0.00883\\\\\n",
       "\tBeta 3 & 0.02577 & 0.01748 & 0.01400 & 0.01908 & -0.01177\\\\\n",
       "\tBeta Avg & 0.02147 & 0.01470 & 0.01176 &         & -0.00971\\\\\n",
       "\tBeta 3-1 & 0.00738 & 0.00629 & 0.00415 & 0.00594 &         \\\\\n",
       "\\end{tabular}\n"
      ],
      "text/markdown": [
       "\n",
       "A data.frame: 5 × 5\n",
       "\n",
       "| <!--/--> | Size 1 &lt;dbl&gt; | Size 2 &lt;dbl&gt; | Size 3 &lt;dbl&gt; | Size Avg &lt;chr&gt; | Size 3-1 &lt;chr&gt; |\n",
       "|---|---|---|---|---|---|\n",
       "| Beta 1 | 0.01838 | 0.01120 | 0.00986 | 0.01315 | -0.00853 |\n",
       "| Beta 2 | 0.02025 | 0.01541 | 0.01141 | 0.01569 | -0.00883 |\n",
       "| Beta 3 | 0.02577 | 0.01748 | 0.01400 | 0.01908 | -0.01177 |\n",
       "| Beta Avg | 0.02147 | 0.01470 | 0.01176 | <!----> | -0.00971 |\n",
       "| Beta 3-1 | 0.00738 | 0.00629 | 0.00415 | 0.00594 | <!----> |\n",
       "\n"
      ],
      "text/plain": [
       "         Size 1  Size 2  Size 3  Size Avg Size 3-1\n",
       "Beta 1   0.01838 0.01120 0.00986 0.01315  -0.00853\n",
       "Beta 2   0.02025 0.01541 0.01141 0.01569  -0.00883\n",
       "Beta 3   0.02577 0.01748 0.01400 0.01908  -0.01177\n",
       "Beta Avg 0.02147 0.01470 0.01176          -0.00971\n",
       "Beta 3-1 0.00738 0.00629 0.00415 0.00594          "
      ]
     },
     "metadata": {},
     "output_type": "display_data"
    }
   ],
   "source": [
    "# input parameters: result from bivariat_sort, \n",
    "# sort factor1 name, sort factor2 name, rounding, multipler\n",
    "format_result(res_SizeBeta, \"Size\", \"Beta\", 5)"
   ]
  },
  {
   "cell_type": "markdown",
   "id": "17afcdad",
   "metadata": {},
   "source": [
    "**Output result by percentage(multiple by 100)**"
   ]
  },
  {
   "cell_type": "code",
   "execution_count": 35,
   "id": "a6759de1",
   "metadata": {},
   "outputs": [
    {
     "data": {
      "text/html": [
       "<table class=\"dataframe\">\n",
       "<caption>A data.frame: 5 × 5</caption>\n",
       "<thead>\n",
       "\t<tr><th></th><th scope=col>Size 1</th><th scope=col>Size 2</th><th scope=col>Size 3</th><th scope=col>Size Avg</th><th scope=col>Size 3-1</th></tr>\n",
       "\t<tr><th></th><th scope=col>&lt;dbl&gt;</th><th scope=col>&lt;dbl&gt;</th><th scope=col>&lt;dbl&gt;</th><th scope=col>&lt;chr&gt;</th><th scope=col>&lt;chr&gt;</th></tr>\n",
       "</thead>\n",
       "<tbody>\n",
       "\t<tr><th scope=row>Beta 1</th><td>1.838</td><td>1.120</td><td>0.986</td><td>1.315</td><td>-0.853</td></tr>\n",
       "\t<tr><th scope=row>Beta 2</th><td>2.025</td><td>1.541</td><td>1.141</td><td>1.569</td><td>-0.883</td></tr>\n",
       "\t<tr><th scope=row>Beta 3</th><td>2.577</td><td>1.748</td><td>1.400</td><td>1.908</td><td>-1.177</td></tr>\n",
       "\t<tr><th scope=row>Beta Avg</th><td>2.147</td><td>1.470</td><td>1.176</td><td>     </td><td>-0.971</td></tr>\n",
       "\t<tr><th scope=row>Beta 3-1</th><td>0.738</td><td>0.629</td><td>0.415</td><td>0.594</td><td>      </td></tr>\n",
       "</tbody>\n",
       "</table>\n"
      ],
      "text/latex": [
       "A data.frame: 5 × 5\n",
       "\\begin{tabular}{r|lllll}\n",
       "  & Size 1 & Size 2 & Size 3 & Size Avg & Size 3-1\\\\\n",
       "  & <dbl> & <dbl> & <dbl> & <chr> & <chr>\\\\\n",
       "\\hline\n",
       "\tBeta 1 & 1.838 & 1.120 & 0.986 & 1.315 & -0.853\\\\\n",
       "\tBeta 2 & 2.025 & 1.541 & 1.141 & 1.569 & -0.883\\\\\n",
       "\tBeta 3 & 2.577 & 1.748 & 1.400 & 1.908 & -1.177\\\\\n",
       "\tBeta Avg & 2.147 & 1.470 & 1.176 &       & -0.971\\\\\n",
       "\tBeta 3-1 & 0.738 & 0.629 & 0.415 & 0.594 &       \\\\\n",
       "\\end{tabular}\n"
      ],
      "text/markdown": [
       "\n",
       "A data.frame: 5 × 5\n",
       "\n",
       "| <!--/--> | Size 1 &lt;dbl&gt; | Size 2 &lt;dbl&gt; | Size 3 &lt;dbl&gt; | Size Avg &lt;chr&gt; | Size 3-1 &lt;chr&gt; |\n",
       "|---|---|---|---|---|---|\n",
       "| Beta 1 | 1.838 | 1.120 | 0.986 | 1.315 | -0.853 |\n",
       "| Beta 2 | 2.025 | 1.541 | 1.141 | 1.569 | -0.883 |\n",
       "| Beta 3 | 2.577 | 1.748 | 1.400 | 1.908 | -1.177 |\n",
       "| Beta Avg | 2.147 | 1.470 | 1.176 | <!----> | -0.971 |\n",
       "| Beta 3-1 | 0.738 | 0.629 | 0.415 | 0.594 | <!----> |\n",
       "\n"
      ],
      "text/plain": [
       "         Size 1 Size 2 Size 3 Size Avg Size 3-1\n",
       "Beta 1   1.838  1.120  0.986  1.315    -0.853  \n",
       "Beta 2   2.025  1.541  1.141  1.569    -0.883  \n",
       "Beta 3   2.577  1.748  1.400  1.908    -1.177  \n",
       "Beta Avg 2.147  1.470  1.176           -0.971  \n",
       "Beta 3-1 0.738  0.629  0.415  0.594            "
      ]
     },
     "metadata": {},
     "output_type": "display_data"
    }
   ],
   "source": [
    "format_result(res_SizeBeta, \"Size\", \"Beta\", 3, 100)"
   ]
  },
  {
   "cell_type": "markdown",
   "id": "911d4048",
   "metadata": {},
   "source": [
    "**Output result of t-status**"
   ]
  },
  {
   "cell_type": "code",
   "execution_count": 36,
   "id": "670910ae",
   "metadata": {},
   "outputs": [
    {
     "data": {
      "text/html": [
       "<table class=\"dataframe\">\n",
       "<caption>A data.frame: 5 × 5</caption>\n",
       "<thead>\n",
       "\t<tr><th></th><th scope=col>Size 1</th><th scope=col>Size 2</th><th scope=col>Size 3</th><th scope=col>Size Avg</th><th scope=col>Size 3-1</th></tr>\n",
       "\t<tr><th></th><th scope=col>&lt;dbl&gt;</th><th scope=col>&lt;dbl&gt;</th><th scope=col>&lt;dbl&gt;</th><th scope=col>&lt;chr&gt;</th><th scope=col>&lt;chr&gt;</th></tr>\n",
       "</thead>\n",
       "<tbody>\n",
       "\t<tr><th scope=row>Beta 1</th><td>5.712</td><td>3.707</td><td>4.156</td><td>4.525</td><td>-4.183</td></tr>\n",
       "\t<tr><th scope=row>Beta 2</th><td>4.608</td><td>3.666</td><td>3.009</td><td>3.761</td><td>-4.621</td></tr>\n",
       "\t<tr><th scope=row>Beta 3</th><td>4.076</td><td>2.842</td><td>2.592</td><td>3.17 </td><td>-3.307</td></tr>\n",
       "\t<tr><th scope=row>Beta Avg</th><td>4.799</td><td>3.405</td><td>3.252</td><td>     </td><td>-4.037</td></tr>\n",
       "\t<tr><th scope=row>Beta 3-1</th><td>1.753</td><td>1.484</td><td>0.978</td><td>1.405</td><td>      </td></tr>\n",
       "</tbody>\n",
       "</table>\n"
      ],
      "text/latex": [
       "A data.frame: 5 × 5\n",
       "\\begin{tabular}{r|lllll}\n",
       "  & Size 1 & Size 2 & Size 3 & Size Avg & Size 3-1\\\\\n",
       "  & <dbl> & <dbl> & <dbl> & <chr> & <chr>\\\\\n",
       "\\hline\n",
       "\tBeta 1 & 5.712 & 3.707 & 4.156 & 4.525 & -4.183\\\\\n",
       "\tBeta 2 & 4.608 & 3.666 & 3.009 & 3.761 & -4.621\\\\\n",
       "\tBeta 3 & 4.076 & 2.842 & 2.592 & 3.17  & -3.307\\\\\n",
       "\tBeta Avg & 4.799 & 3.405 & 3.252 &       & -4.037\\\\\n",
       "\tBeta 3-1 & 1.753 & 1.484 & 0.978 & 1.405 &       \\\\\n",
       "\\end{tabular}\n"
      ],
      "text/markdown": [
       "\n",
       "A data.frame: 5 × 5\n",
       "\n",
       "| <!--/--> | Size 1 &lt;dbl&gt; | Size 2 &lt;dbl&gt; | Size 3 &lt;dbl&gt; | Size Avg &lt;chr&gt; | Size 3-1 &lt;chr&gt; |\n",
       "|---|---|---|---|---|---|\n",
       "| Beta 1 | 5.712 | 3.707 | 4.156 | 4.525 | -4.183 |\n",
       "| Beta 2 | 4.608 | 3.666 | 3.009 | 3.761 | -4.621 |\n",
       "| Beta 3 | 4.076 | 2.842 | 2.592 | 3.17  | -3.307 |\n",
       "| Beta Avg | 4.799 | 3.405 | 3.252 | <!----> | -4.037 |\n",
       "| Beta 3-1 | 1.753 | 1.484 | 0.978 | 1.405 | <!----> |\n",
       "\n"
      ],
      "text/plain": [
       "         Size 1 Size 2 Size 3 Size Avg Size 3-1\n",
       "Beta 1   5.712  3.707  4.156  4.525    -4.183  \n",
       "Beta 2   4.608  3.666  3.009  3.761    -4.621  \n",
       "Beta 3   4.076  2.842  2.592  3.17     -3.307  \n",
       "Beta Avg 4.799  3.405  3.252           -4.037  \n",
       "Beta 3-1 1.753  1.484  0.978  1.405            "
      ]
     },
     "metadata": {},
     "output_type": "display_data"
    }
   ],
   "source": [
    "format_result(res_SizeBeta[2,], \"Size\", \"Beta\", 3)"
   ]
  },
  {
   "cell_type": "markdown",
   "id": "eb22fd29",
   "metadata": {},
   "source": [
    "**Output result of FFCPS Alpha**"
   ]
  },
  {
   "cell_type": "code",
   "execution_count": 37,
   "id": "4d8f1ab0",
   "metadata": {},
   "outputs": [
    {
     "data": {
      "text/html": [
       "<table class=\"dataframe\">\n",
       "<caption>A data.frame: 5 × 5</caption>\n",
       "<thead>\n",
       "\t<tr><th></th><th scope=col>Size 1</th><th scope=col>Size 2</th><th scope=col>Size 3</th><th scope=col>Size Avg</th><th scope=col>Size 3-1</th></tr>\n",
       "\t<tr><th></th><th scope=col>&lt;dbl&gt;</th><th scope=col>&lt;dbl&gt;</th><th scope=col>&lt;dbl&gt;</th><th scope=col>&lt;chr&gt;</th><th scope=col>&lt;chr&gt;</th></tr>\n",
       "</thead>\n",
       "<tbody>\n",
       "\t<tr><th scope=row>Beta 1</th><td>0.01827</td><td>0.01073</td><td>0.00971</td><td>0.0129 </td><td>-0.00856</td></tr>\n",
       "\t<tr><th scope=row>Beta 2</th><td>0.01958</td><td>0.01461</td><td>0.01094</td><td>0.01504</td><td>-0.00864</td></tr>\n",
       "\t<tr><th scope=row>Beta 3</th><td>0.02491</td><td>0.01670</td><td>0.01447</td><td>0.01869</td><td>-0.01044</td></tr>\n",
       "\t<tr><th scope=row>Beta Avg</th><td>0.02092</td><td>0.01401</td><td>0.01171</td><td>       </td><td>-0.00921</td></tr>\n",
       "\t<tr><th scope=row>Beta 3-1</th><td>0.00664</td><td>0.00597</td><td>0.00476</td><td>0.00579</td><td>        </td></tr>\n",
       "</tbody>\n",
       "</table>\n"
      ],
      "text/latex": [
       "A data.frame: 5 × 5\n",
       "\\begin{tabular}{r|lllll}\n",
       "  & Size 1 & Size 2 & Size 3 & Size Avg & Size 3-1\\\\\n",
       "  & <dbl> & <dbl> & <dbl> & <chr> & <chr>\\\\\n",
       "\\hline\n",
       "\tBeta 1 & 0.01827 & 0.01073 & 0.00971 & 0.0129  & -0.00856\\\\\n",
       "\tBeta 2 & 0.01958 & 0.01461 & 0.01094 & 0.01504 & -0.00864\\\\\n",
       "\tBeta 3 & 0.02491 & 0.01670 & 0.01447 & 0.01869 & -0.01044\\\\\n",
       "\tBeta Avg & 0.02092 & 0.01401 & 0.01171 &         & -0.00921\\\\\n",
       "\tBeta 3-1 & 0.00664 & 0.00597 & 0.00476 & 0.00579 &         \\\\\n",
       "\\end{tabular}\n"
      ],
      "text/markdown": [
       "\n",
       "A data.frame: 5 × 5\n",
       "\n",
       "| <!--/--> | Size 1 &lt;dbl&gt; | Size 2 &lt;dbl&gt; | Size 3 &lt;dbl&gt; | Size Avg &lt;chr&gt; | Size 3-1 &lt;chr&gt; |\n",
       "|---|---|---|---|---|---|\n",
       "| Beta 1 | 0.01827 | 0.01073 | 0.00971 | 0.0129  | -0.00856 |\n",
       "| Beta 2 | 0.01958 | 0.01461 | 0.01094 | 0.01504 | -0.00864 |\n",
       "| Beta 3 | 0.02491 | 0.01670 | 0.01447 | 0.01869 | -0.01044 |\n",
       "| Beta Avg | 0.02092 | 0.01401 | 0.01171 | <!----> | -0.00921 |\n",
       "| Beta 3-1 | 0.00664 | 0.00597 | 0.00476 | 0.00579 | <!----> |\n",
       "\n"
      ],
      "text/plain": [
       "         Size 1  Size 2  Size 3  Size Avg Size 3-1\n",
       "Beta 1   0.01827 0.01073 0.00971 0.0129   -0.00856\n",
       "Beta 2   0.01958 0.01461 0.01094 0.01504  -0.00864\n",
       "Beta 3   0.02491 0.01670 0.01447 0.01869  -0.01044\n",
       "Beta Avg 0.02092 0.01401 0.01171          -0.00921\n",
       "Beta 3-1 0.00664 0.00597 0.00476 0.00579          "
      ]
     },
     "metadata": {},
     "output_type": "display_data"
    }
   ],
   "source": [
    "format_result(res_SizeBeta[3,], \"Size\", \"Beta\", 5)"
   ]
  },
  {
   "cell_type": "markdown",
   "id": "a6a194dc",
   "metadata": {},
   "source": [
    "**Output result of Alpha t-value**"
   ]
  },
  {
   "cell_type": "code",
   "execution_count": 38,
   "id": "0a1bcd18",
   "metadata": {},
   "outputs": [
    {
     "data": {
      "text/html": [
       "<table class=\"dataframe\">\n",
       "<caption>A data.frame: 5 × 5</caption>\n",
       "<thead>\n",
       "\t<tr><th></th><th scope=col>Size 1</th><th scope=col>Size 2</th><th scope=col>Size 3</th><th scope=col>Size Avg</th><th scope=col>Size 3-1</th></tr>\n",
       "\t<tr><th></th><th scope=col>&lt;dbl&gt;</th><th scope=col>&lt;dbl&gt;</th><th scope=col>&lt;dbl&gt;</th><th scope=col>&lt;chr&gt;</th><th scope=col>&lt;chr&gt;</th></tr>\n",
       "</thead>\n",
       "<tbody>\n",
       "\t<tr><th scope=row>Beta 1</th><td>5.27474</td><td>3.53672</td><td>3.26766</td><td>4.02637</td><td>-3.82864</td></tr>\n",
       "\t<tr><th scope=row>Beta 2</th><td>3.83783</td><td>3.47301</td><td>2.66061</td><td>3.32382</td><td>-3.40265</td></tr>\n",
       "\t<tr><th scope=row>Beta 3</th><td>3.81553</td><td>2.76328</td><td>2.46164</td><td>3.01348</td><td>-2.91968</td></tr>\n",
       "\t<tr><th scope=row>Beta Avg</th><td>4.30937</td><td>3.25767</td><td>2.79664</td><td>       </td><td>-3.38366</td></tr>\n",
       "\t<tr><th scope=row>Beta 3-1</th><td>1.45488</td><td>1.35024</td><td>1.09127</td><td>1.2988 </td><td>        </td></tr>\n",
       "</tbody>\n",
       "</table>\n"
      ],
      "text/latex": [
       "A data.frame: 5 × 5\n",
       "\\begin{tabular}{r|lllll}\n",
       "  & Size 1 & Size 2 & Size 3 & Size Avg & Size 3-1\\\\\n",
       "  & <dbl> & <dbl> & <dbl> & <chr> & <chr>\\\\\n",
       "\\hline\n",
       "\tBeta 1 & 5.27474 & 3.53672 & 3.26766 & 4.02637 & -3.82864\\\\\n",
       "\tBeta 2 & 3.83783 & 3.47301 & 2.66061 & 3.32382 & -3.40265\\\\\n",
       "\tBeta 3 & 3.81553 & 2.76328 & 2.46164 & 3.01348 & -2.91968\\\\\n",
       "\tBeta Avg & 4.30937 & 3.25767 & 2.79664 &         & -3.38366\\\\\n",
       "\tBeta 3-1 & 1.45488 & 1.35024 & 1.09127 & 1.2988  &         \\\\\n",
       "\\end{tabular}\n"
      ],
      "text/markdown": [
       "\n",
       "A data.frame: 5 × 5\n",
       "\n",
       "| <!--/--> | Size 1 &lt;dbl&gt; | Size 2 &lt;dbl&gt; | Size 3 &lt;dbl&gt; | Size Avg &lt;chr&gt; | Size 3-1 &lt;chr&gt; |\n",
       "|---|---|---|---|---|---|\n",
       "| Beta 1 | 5.27474 | 3.53672 | 3.26766 | 4.02637 | -3.82864 |\n",
       "| Beta 2 | 3.83783 | 3.47301 | 2.66061 | 3.32382 | -3.40265 |\n",
       "| Beta 3 | 3.81553 | 2.76328 | 2.46164 | 3.01348 | -2.91968 |\n",
       "| Beta Avg | 4.30937 | 3.25767 | 2.79664 | <!----> | -3.38366 |\n",
       "| Beta 3-1 | 1.45488 | 1.35024 | 1.09127 | 1.2988  | <!----> |\n",
       "\n"
      ],
      "text/plain": [
       "         Size 1  Size 2  Size 3  Size Avg Size 3-1\n",
       "Beta 1   5.27474 3.53672 3.26766 4.02637  -3.82864\n",
       "Beta 2   3.83783 3.47301 2.66061 3.32382  -3.40265\n",
       "Beta 3   3.81553 2.76328 2.46164 3.01348  -2.91968\n",
       "Beta Avg 4.30937 3.25767 2.79664          -3.38366\n",
       "Beta 3-1 1.45488 1.35024 1.09127 1.2988           "
      ]
     },
     "metadata": {},
     "output_type": "display_data"
    }
   ],
   "source": [
    "format_result(res_SizeBeta[4,], \"Size\", \"Beta\", 5)"
   ]
  },
  {
   "cell_type": "markdown",
   "id": "34143982",
   "metadata": {},
   "source": [
    "* **Beta-Size sort to verify results**"
   ]
  },
  {
   "cell_type": "code",
   "execution_count": 39,
   "id": "55479de5",
   "metadata": {},
   "outputs": [
    {
     "data": {
      "text/html": [
       "<table class=\"dataframe\">\n",
       "<caption>A data.frame: 4 × 15</caption>\n",
       "<thead>\n",
       "\t<tr><th></th><th scope=col>1</th><th scope=col>2</th><th scope=col>3</th><th scope=col>4</th><th scope=col>5</th><th scope=col>6</th><th scope=col>7</th><th scope=col>8</th><th scope=col>9</th><th scope=col>3 - 1</th><th scope=col> 6 - 4</th><th scope=col>9 - 7</th><th scope=col>7 - 1</th><th scope=col> 8 - 2</th><th scope=col>9 - 3</th></tr>\n",
       "\t<tr><th></th><th scope=col>&lt;dbl&gt;</th><th scope=col>&lt;dbl&gt;</th><th scope=col>&lt;dbl&gt;</th><th scope=col>&lt;dbl&gt;</th><th scope=col>&lt;dbl&gt;</th><th scope=col>&lt;dbl&gt;</th><th scope=col>&lt;dbl&gt;</th><th scope=col>&lt;dbl&gt;</th><th scope=col>&lt;dbl&gt;</th><th scope=col>&lt;dbl&gt;</th><th scope=col>&lt;dbl&gt;</th><th scope=col>&lt;dbl&gt;</th><th scope=col>&lt;dbl&gt;</th><th scope=col>&lt;dbl&gt;</th><th scope=col>&lt;dbl&gt;</th></tr>\n",
       "</thead>\n",
       "<tbody>\n",
       "\t<tr><th scope=row>Return</th><td>0.01838</td><td>0.01120</td><td>0.00986</td><td>0.02025</td><td>0.01541</td><td>0.01141</td><td>0.02577</td><td>0.01748</td><td>0.01400</td><td>-0.00853</td><td>-0.00883</td><td>-0.01177</td><td>0.00738</td><td>0.00629</td><td>0.00415</td></tr>\n",
       "\t<tr><th scope=row> t-stats</th><td>5.71209</td><td>3.70669</td><td>4.15581</td><td>4.60778</td><td>3.66559</td><td>3.00891</td><td>4.07621</td><td>2.84180</td><td>2.59152</td><td>-4.18314</td><td>-4.62122</td><td>-3.30688</td><td>1.75321</td><td>1.48381</td><td>0.97819</td></tr>\n",
       "\t<tr><th scope=row>Alpha</th><td>0.01827</td><td>0.01073</td><td>0.00971</td><td>0.01958</td><td>0.01461</td><td>0.01094</td><td>0.02491</td><td>0.01670</td><td>0.01447</td><td>-0.00856</td><td>-0.00864</td><td>-0.01044</td><td>0.00664</td><td>0.00597</td><td>0.00476</td></tr>\n",
       "\t<tr><th scope=row> t-value</th><td>5.27474</td><td>3.53672</td><td>3.26766</td><td>3.83783</td><td>3.47301</td><td>2.66061</td><td>3.81553</td><td>2.76328</td><td>2.46164</td><td>-3.82864</td><td>-3.40265</td><td>-2.91968</td><td>1.45488</td><td>1.35024</td><td>1.09127</td></tr>\n",
       "</tbody>\n",
       "</table>\n"
      ],
      "text/latex": [
       "A data.frame: 4 × 15\n",
       "\\begin{tabular}{r|lllllllllllllll}\n",
       "  & 1 & 2 & 3 & 4 & 5 & 6 & 7 & 8 & 9 & 3 - 1 &  6 - 4 & 9 - 7 & 7 - 1 &  8 - 2 & 9 - 3\\\\\n",
       "  & <dbl> & <dbl> & <dbl> & <dbl> & <dbl> & <dbl> & <dbl> & <dbl> & <dbl> & <dbl> & <dbl> & <dbl> & <dbl> & <dbl> & <dbl>\\\\\n",
       "\\hline\n",
       "\tReturn & 0.01838 & 0.01120 & 0.00986 & 0.02025 & 0.01541 & 0.01141 & 0.02577 & 0.01748 & 0.01400 & -0.00853 & -0.00883 & -0.01177 & 0.00738 & 0.00629 & 0.00415\\\\\n",
       "\t t-stats & 5.71209 & 3.70669 & 4.15581 & 4.60778 & 3.66559 & 3.00891 & 4.07621 & 2.84180 & 2.59152 & -4.18314 & -4.62122 & -3.30688 & 1.75321 & 1.48381 & 0.97819\\\\\n",
       "\tAlpha & 0.01827 & 0.01073 & 0.00971 & 0.01958 & 0.01461 & 0.01094 & 0.02491 & 0.01670 & 0.01447 & -0.00856 & -0.00864 & -0.01044 & 0.00664 & 0.00597 & 0.00476\\\\\n",
       "\t t-value & 5.27474 & 3.53672 & 3.26766 & 3.83783 & 3.47301 & 2.66061 & 3.81553 & 2.76328 & 2.46164 & -3.82864 & -3.40265 & -2.91968 & 1.45488 & 1.35024 & 1.09127\\\\\n",
       "\\end{tabular}\n"
      ],
      "text/markdown": [
       "\n",
       "A data.frame: 4 × 15\n",
       "\n",
       "| <!--/--> | 1 &lt;dbl&gt; | 2 &lt;dbl&gt; | 3 &lt;dbl&gt; | 4 &lt;dbl&gt; | 5 &lt;dbl&gt; | 6 &lt;dbl&gt; | 7 &lt;dbl&gt; | 8 &lt;dbl&gt; | 9 &lt;dbl&gt; | 3 - 1 &lt;dbl&gt; |  6 - 4 &lt;dbl&gt; | 9 - 7 &lt;dbl&gt; | 7 - 1 &lt;dbl&gt; |  8 - 2 &lt;dbl&gt; | 9 - 3 &lt;dbl&gt; |\n",
       "|---|---|---|---|---|---|---|---|---|---|---|---|---|---|---|---|\n",
       "| Return | 0.01838 | 0.01120 | 0.00986 | 0.02025 | 0.01541 | 0.01141 | 0.02577 | 0.01748 | 0.01400 | -0.00853 | -0.00883 | -0.01177 | 0.00738 | 0.00629 | 0.00415 |\n",
       "|  t-stats | 5.71209 | 3.70669 | 4.15581 | 4.60778 | 3.66559 | 3.00891 | 4.07621 | 2.84180 | 2.59152 | -4.18314 | -4.62122 | -3.30688 | 1.75321 | 1.48381 | 0.97819 |\n",
       "| Alpha | 0.01827 | 0.01073 | 0.00971 | 0.01958 | 0.01461 | 0.01094 | 0.02491 | 0.01670 | 0.01447 | -0.00856 | -0.00864 | -0.01044 | 0.00664 | 0.00597 | 0.00476 |\n",
       "|  t-value | 5.27474 | 3.53672 | 3.26766 | 3.83783 | 3.47301 | 2.66061 | 3.81553 | 2.76328 | 2.46164 | -3.82864 | -3.40265 | -2.91968 | 1.45488 | 1.35024 | 1.09127 |\n",
       "\n"
      ],
      "text/plain": [
       "         1       2       3       4       5       6       7       8      \n",
       "Return   0.01838 0.01120 0.00986 0.02025 0.01541 0.01141 0.02577 0.01748\n",
       " t-stats 5.71209 3.70669 4.15581 4.60778 3.66559 3.00891 4.07621 2.84180\n",
       "Alpha    0.01827 0.01073 0.00971 0.01958 0.01461 0.01094 0.02491 0.01670\n",
       " t-value 5.27474 3.53672 3.26766 3.83783 3.47301 2.66061 3.81553 2.76328\n",
       "         9       3 - 1     6 - 4   9 - 7    7 - 1    8 - 2  9 - 3  \n",
       "Return   0.01400 -0.00853 -0.00883 -0.01177 0.00738 0.00629 0.00415\n",
       " t-stats 2.59152 -4.18314 -4.62122 -3.30688 1.75321 1.48381 0.97819\n",
       "Alpha    0.01447 -0.00856 -0.00864 -0.01044 0.00664 0.00597 0.00476\n",
       " t-value 2.46164 -3.82864 -3.40265 -2.91968 1.45488 1.35024 1.09127"
      ]
     },
     "metadata": {},
     "output_type": "display_data"
    },
    {
     "data": {
      "text/html": [
       "<table class=\"dataframe\">\n",
       "<caption>A data.frame: 5 × 5</caption>\n",
       "<thead>\n",
       "\t<tr><th></th><th scope=col>Beta 1</th><th scope=col>Beta 2</th><th scope=col>Beta 3</th><th scope=col>Beta Avg</th><th scope=col>Beta 3-1</th></tr>\n",
       "\t<tr><th></th><th scope=col>&lt;dbl&gt;</th><th scope=col>&lt;dbl&gt;</th><th scope=col>&lt;dbl&gt;</th><th scope=col>&lt;chr&gt;</th><th scope=col>&lt;chr&gt;</th></tr>\n",
       "</thead>\n",
       "<tbody>\n",
       "\t<tr><th scope=row>Size 1</th><td> 0.01838</td><td> 0.02025</td><td> 0.02577</td><td>0.02147 </td><td>0.00738</td></tr>\n",
       "\t<tr><th scope=row>Size 2</th><td> 0.01120</td><td> 0.01541</td><td> 0.01748</td><td>0.0147  </td><td>0.00629</td></tr>\n",
       "\t<tr><th scope=row>Size 3</th><td> 0.00986</td><td> 0.01141</td><td> 0.01400</td><td>0.01176 </td><td>0.00415</td></tr>\n",
       "\t<tr><th scope=row>Size Avg</th><td> 0.01315</td><td> 0.01569</td><td> 0.01908</td><td>        </td><td>0.00594</td></tr>\n",
       "\t<tr><th scope=row>Size 3-1</th><td>-0.00853</td><td>-0.00883</td><td>-0.01177</td><td>-0.00971</td><td>       </td></tr>\n",
       "</tbody>\n",
       "</table>\n"
      ],
      "text/latex": [
       "A data.frame: 5 × 5\n",
       "\\begin{tabular}{r|lllll}\n",
       "  & Beta 1 & Beta 2 & Beta 3 & Beta Avg & Beta 3-1\\\\\n",
       "  & <dbl> & <dbl> & <dbl> & <chr> & <chr>\\\\\n",
       "\\hline\n",
       "\tSize 1 &  0.01838 &  0.02025 &  0.02577 & 0.02147  & 0.00738\\\\\n",
       "\tSize 2 &  0.01120 &  0.01541 &  0.01748 & 0.0147   & 0.00629\\\\\n",
       "\tSize 3 &  0.00986 &  0.01141 &  0.01400 & 0.01176  & 0.00415\\\\\n",
       "\tSize Avg &  0.01315 &  0.01569 &  0.01908 &          & 0.00594\\\\\n",
       "\tSize 3-1 & -0.00853 & -0.00883 & -0.01177 & -0.00971 &        \\\\\n",
       "\\end{tabular}\n"
      ],
      "text/markdown": [
       "\n",
       "A data.frame: 5 × 5\n",
       "\n",
       "| <!--/--> | Beta 1 &lt;dbl&gt; | Beta 2 &lt;dbl&gt; | Beta 3 &lt;dbl&gt; | Beta Avg &lt;chr&gt; | Beta 3-1 &lt;chr&gt; |\n",
       "|---|---|---|---|---|---|\n",
       "| Size 1 |  0.01838 |  0.02025 |  0.02577 | 0.02147  | 0.00738 |\n",
       "| Size 2 |  0.01120 |  0.01541 |  0.01748 | 0.0147   | 0.00629 |\n",
       "| Size 3 |  0.00986 |  0.01141 |  0.01400 | 0.01176  | 0.00415 |\n",
       "| Size Avg |  0.01315 |  0.01569 |  0.01908 | <!----> | 0.00594 |\n",
       "| Size 3-1 | -0.00853 | -0.00883 | -0.01177 | -0.00971 | <!----> |\n",
       "\n"
      ],
      "text/plain": [
       "         Beta 1   Beta 2   Beta 3   Beta Avg Beta 3-1\n",
       "Size 1    0.01838  0.02025  0.02577 0.02147  0.00738 \n",
       "Size 2    0.01120  0.01541  0.01748 0.0147   0.00629 \n",
       "Size 3    0.00986  0.01141  0.01400 0.01176  0.00415 \n",
       "Size Avg  0.01315  0.01569  0.01908          0.00594 \n",
       "Size 3-1 -0.00853 -0.00883 -0.01177 -0.00971         "
      ]
     },
     "metadata": {},
     "output_type": "display_data"
    }
   ],
   "source": [
    "res_BetaSize <- bivariat_sort(monthly_betas, monthly_sizes, \n",
    "        monthly_returns, monthly_market_caps, 5)\n",
    "res_BetaSize \n",
    "# high value lower liquid, high returns, positive effect\n",
    "\n",
    "format_result(res_BetaSize, \"Beta\", \"Size\", 5)"
   ]
  },
  {
   "cell_type": "markdown",
   "id": "dec0f39f",
   "metadata": {},
   "source": [
    "**Beta low: 1, 2, 3; Beta Mid: 4, 5, 6; Beta High: 7, 8, 9  \n",
    "Size Small: 1, 4, 7;  Size Mid: 2, 5, 8; Size Big: 3, 6, 9**"
   ]
  },
  {
   "cell_type": "markdown",
   "id": "2d4db09e",
   "metadata": {},
   "source": [
    "* **Fama-MacBeth regressions of returns on size and beta**"
   ]
  },
  {
   "cell_type": "code",
   "execution_count": 40,
   "id": "21a08215",
   "metadata": {},
   "outputs": [
    {
     "data": {
      "text/html": [
       "<table class=\"dataframe\">\n",
       "<caption>A data.frame: 2 × 3</caption>\n",
       "<thead>\n",
       "\t<tr><th scope=col>Intercept</th><th scope=col>Size</th><th scope=col>Beta</th></tr>\n",
       "\t<tr><th scope=col>&lt;dbl&gt;</th><th scope=col>&lt;dbl&gt;</th><th scope=col>&lt;dbl&gt;</th></tr>\n",
       "</thead>\n",
       "<tbody>\n",
       "\t<tr><td>0.01497</td><td>-0.00280</td><td>0.00339</td></tr>\n",
       "\t<tr><td>3.73317</td><td>-4.63646</td><td>0.67016</td></tr>\n",
       "</tbody>\n",
       "</table>\n"
      ],
      "text/latex": [
       "A data.frame: 2 × 3\n",
       "\\begin{tabular}{lll}\n",
       " Intercept & Size & Beta\\\\\n",
       " <dbl> & <dbl> & <dbl>\\\\\n",
       "\\hline\n",
       "\t 0.01497 & -0.00280 & 0.00339\\\\\n",
       "\t 3.73317 & -4.63646 & 0.67016\\\\\n",
       "\\end{tabular}\n"
      ],
      "text/markdown": [
       "\n",
       "A data.frame: 2 × 3\n",
       "\n",
       "| Intercept &lt;dbl&gt; | Size &lt;dbl&gt; | Beta &lt;dbl&gt; |\n",
       "|---|---|---|\n",
       "| 0.01497 | -0.00280 | 0.00339 |\n",
       "| 3.73317 | -4.63646 | 0.67016 |\n",
       "\n"
      ],
      "text/plain": [
       "  Intercept Size     Beta   \n",
       "1 0.01497   -0.00280 0.00339\n",
       "2 3.73317   -4.63646 0.67016"
      ]
     },
     "metadata": {},
     "output_type": "display_data"
    }
   ],
   "source": [
    "data <- list(monthly_sizes, monthly_betas)\n",
    "names(data) <- c('Size', 'Beta' )\n",
    "perform_fama_macbeth_regression(monthly_returns, data)"
   ]
  },
  {
   "cell_type": "markdown",
   "id": "4ca20c52",
   "metadata": {},
   "source": [
    "### <span style='background: lightblue'>3.2. Size-Illiq sort</span>"
   ]
  },
  {
   "cell_type": "markdown",
   "id": "51d4fc39",
   "metadata": {},
   "source": [
    "* **Size-Illiq Independent value-weighted(WV) sorting**"
   ]
  },
  {
   "cell_type": "code",
   "execution_count": 41,
   "id": "2910df05",
   "metadata": {},
   "outputs": [
    {
     "name": "stdout",
     "output_type": "stream",
     "text": [
      "[1] \"Original Result\"\n"
     ]
    },
    {
     "data": {
      "text/html": [
       "<table class=\"dataframe\">\n",
       "<caption>A data.frame: 4 × 15</caption>\n",
       "<thead>\n",
       "\t<tr><th></th><th scope=col>1</th><th scope=col>2</th><th scope=col>3</th><th scope=col>4</th><th scope=col>5</th><th scope=col>6</th><th scope=col>7</th><th scope=col>8</th><th scope=col>9</th><th scope=col>3 - 1</th><th scope=col> 6 - 4</th><th scope=col>9 - 7</th><th scope=col>7 - 1</th><th scope=col> 8 - 2</th><th scope=col>9 - 3</th></tr>\n",
       "\t<tr><th></th><th scope=col>&lt;dbl&gt;</th><th scope=col>&lt;dbl&gt;</th><th scope=col>&lt;dbl&gt;</th><th scope=col>&lt;dbl&gt;</th><th scope=col>&lt;dbl&gt;</th><th scope=col>&lt;dbl&gt;</th><th scope=col>&lt;dbl&gt;</th><th scope=col>&lt;dbl&gt;</th><th scope=col>&lt;dbl&gt;</th><th scope=col>&lt;dbl&gt;</th><th scope=col>&lt;dbl&gt;</th><th scope=col>&lt;dbl&gt;</th><th scope=col>&lt;dbl&gt;</th><th scope=col>&lt;dbl&gt;</th><th scope=col>&lt;dbl&gt;</th></tr>\n",
       "</thead>\n",
       "<tbody>\n",
       "\t<tr><th scope=row>Return</th><td>0.11546</td><td>0.02653</td><td>0.02050</td><td>0.01710</td><td>0.01418</td><td>0.01382</td><td>0.01139</td><td>0.00986</td><td>0.06332</td><td>-0.07431</td><td>-0.00327</td><td>0.07903</td><td>-0.08885</td><td>-0.01667</td><td>0.07969</td></tr>\n",
       "\t<tr><th scope=row> t-stats</th><td>2.18410</td><td>5.59127</td><td>4.66730</td><td>4.42621</td><td>3.41464</td><td>3.32204</td><td>3.58964</td><td>2.40753</td><td>4.55880</td><td>-1.59097</td><td>-1.50303</td><td>6.95944</td><td>-1.89592</td><td>-5.56181</td><td>7.57897</td></tr>\n",
       "\t<tr><th scope=row>Alpha</th><td>0.18910</td><td>0.02589</td><td>0.02024</td><td>0.01597</td><td>0.01345</td><td>0.01294</td><td>0.01102</td><td>0.00946</td><td>1.63262</td><td>-0.13676</td><td>-0.00302</td><td>1.56137</td><td>-0.15551</td><td>-0.01642</td><td>1.69321</td></tr>\n",
       "\t<tr><th scope=row> t-value</th><td>2.34516</td><td>5.00295</td><td>4.31029</td><td>3.57375</td><td>3.36951</td><td>3.23750</td><td>3.08604</td><td>2.29496</td><td>    NaN</td><td>-1.81681</td><td>-1.09006</td><td>    NaN</td><td>-2.02359</td><td>-5.47499</td><td>    NaN</td></tr>\n",
       "</tbody>\n",
       "</table>\n"
      ],
      "text/latex": [
       "A data.frame: 4 × 15\n",
       "\\begin{tabular}{r|lllllllllllllll}\n",
       "  & 1 & 2 & 3 & 4 & 5 & 6 & 7 & 8 & 9 & 3 - 1 &  6 - 4 & 9 - 7 & 7 - 1 &  8 - 2 & 9 - 3\\\\\n",
       "  & <dbl> & <dbl> & <dbl> & <dbl> & <dbl> & <dbl> & <dbl> & <dbl> & <dbl> & <dbl> & <dbl> & <dbl> & <dbl> & <dbl> & <dbl>\\\\\n",
       "\\hline\n",
       "\tReturn & 0.11546 & 0.02653 & 0.02050 & 0.01710 & 0.01418 & 0.01382 & 0.01139 & 0.00986 & 0.06332 & -0.07431 & -0.00327 & 0.07903 & -0.08885 & -0.01667 & 0.07969\\\\\n",
       "\t t-stats & 2.18410 & 5.59127 & 4.66730 & 4.42621 & 3.41464 & 3.32204 & 3.58964 & 2.40753 & 4.55880 & -1.59097 & -1.50303 & 6.95944 & -1.89592 & -5.56181 & 7.57897\\\\\n",
       "\tAlpha & 0.18910 & 0.02589 & 0.02024 & 0.01597 & 0.01345 & 0.01294 & 0.01102 & 0.00946 & 1.63262 & -0.13676 & -0.00302 & 1.56137 & -0.15551 & -0.01642 & 1.69321\\\\\n",
       "\t t-value & 2.34516 & 5.00295 & 4.31029 & 3.57375 & 3.36951 & 3.23750 & 3.08604 & 2.29496 &     NaN & -1.81681 & -1.09006 &     NaN & -2.02359 & -5.47499 &     NaN\\\\\n",
       "\\end{tabular}\n"
      ],
      "text/markdown": [
       "\n",
       "A data.frame: 4 × 15\n",
       "\n",
       "| <!--/--> | 1 &lt;dbl&gt; | 2 &lt;dbl&gt; | 3 &lt;dbl&gt; | 4 &lt;dbl&gt; | 5 &lt;dbl&gt; | 6 &lt;dbl&gt; | 7 &lt;dbl&gt; | 8 &lt;dbl&gt; | 9 &lt;dbl&gt; | 3 - 1 &lt;dbl&gt; |  6 - 4 &lt;dbl&gt; | 9 - 7 &lt;dbl&gt; | 7 - 1 &lt;dbl&gt; |  8 - 2 &lt;dbl&gt; | 9 - 3 &lt;dbl&gt; |\n",
       "|---|---|---|---|---|---|---|---|---|---|---|---|---|---|---|---|\n",
       "| Return | 0.11546 | 0.02653 | 0.02050 | 0.01710 | 0.01418 | 0.01382 | 0.01139 | 0.00986 | 0.06332 | -0.07431 | -0.00327 | 0.07903 | -0.08885 | -0.01667 | 0.07969 |\n",
       "|  t-stats | 2.18410 | 5.59127 | 4.66730 | 4.42621 | 3.41464 | 3.32204 | 3.58964 | 2.40753 | 4.55880 | -1.59097 | -1.50303 | 6.95944 | -1.89592 | -5.56181 | 7.57897 |\n",
       "| Alpha | 0.18910 | 0.02589 | 0.02024 | 0.01597 | 0.01345 | 0.01294 | 0.01102 | 0.00946 | 1.63262 | -0.13676 | -0.00302 | 1.56137 | -0.15551 | -0.01642 | 1.69321 |\n",
       "|  t-value | 2.34516 | 5.00295 | 4.31029 | 3.57375 | 3.36951 | 3.23750 | 3.08604 | 2.29496 |     NaN | -1.81681 | -1.09006 |     NaN | -2.02359 | -5.47499 |     NaN |\n",
       "\n"
      ],
      "text/plain": [
       "         1       2       3       4       5       6       7       8      \n",
       "Return   0.11546 0.02653 0.02050 0.01710 0.01418 0.01382 0.01139 0.00986\n",
       " t-stats 2.18410 5.59127 4.66730 4.42621 3.41464 3.32204 3.58964 2.40753\n",
       "Alpha    0.18910 0.02589 0.02024 0.01597 0.01345 0.01294 0.01102 0.00946\n",
       " t-value 2.34516 5.00295 4.31029 3.57375 3.36951 3.23750 3.08604 2.29496\n",
       "         9       3 - 1     6 - 4   9 - 7   7 - 1     8 - 2   9 - 3  \n",
       "Return   0.06332 -0.07431 -0.00327 0.07903 -0.08885 -0.01667 0.07969\n",
       " t-stats 4.55880 -1.59097 -1.50303 6.95944 -1.89592 -5.56181 7.57897\n",
       "Alpha    1.63262 -0.13676 -0.00302 1.56137 -0.15551 -0.01642 1.69321\n",
       " t-value     NaN -1.81681 -1.09006     NaN -2.02359 -5.47499     NaN"
      ]
     },
     "metadata": {},
     "output_type": "display_data"
    },
    {
     "name": "stdout",
     "output_type": "stream",
     "text": [
      "[1] \"Excess Return %\"\n"
     ]
    },
    {
     "data": {
      "text/html": [
       "<table class=\"dataframe\">\n",
       "<caption>A data.frame: 5 × 5</caption>\n",
       "<thead>\n",
       "\t<tr><th></th><th scope=col>Size 1</th><th scope=col>Size 2</th><th scope=col>Size 3</th><th scope=col>Size Avg</th><th scope=col>Size 3-1</th></tr>\n",
       "\t<tr><th></th><th scope=col>&lt;dbl&gt;</th><th scope=col>&lt;dbl&gt;</th><th scope=col>&lt;dbl&gt;</th><th scope=col>&lt;chr&gt;</th><th scope=col>&lt;chr&gt;</th></tr>\n",
       "</thead>\n",
       "<tbody>\n",
       "\t<tr><th scope=row>Illiq 1</th><td>11.55</td><td> 1.71</td><td>1.14</td><td>4.8 </td><td>-8.88</td></tr>\n",
       "\t<tr><th scope=row>Illiq 2</th><td> 2.65</td><td> 1.42</td><td>0.99</td><td>1.69</td><td>-1.67</td></tr>\n",
       "\t<tr><th scope=row>Illiq 3</th><td> 2.05</td><td> 1.38</td><td>6.33</td><td>3.25</td><td>7.97 </td></tr>\n",
       "\t<tr><th scope=row>Illiq Avg</th><td> 5.42</td><td> 1.50</td><td>2.82</td><td>    </td><td>-0.86</td></tr>\n",
       "\t<tr><th scope=row>Illiq 3-1</th><td>-7.43</td><td>-0.33</td><td>7.90</td><td>0.05</td><td>     </td></tr>\n",
       "</tbody>\n",
       "</table>\n"
      ],
      "text/latex": [
       "A data.frame: 5 × 5\n",
       "\\begin{tabular}{r|lllll}\n",
       "  & Size 1 & Size 2 & Size 3 & Size Avg & Size 3-1\\\\\n",
       "  & <dbl> & <dbl> & <dbl> & <chr> & <chr>\\\\\n",
       "\\hline\n",
       "\tIlliq 1 & 11.55 &  1.71 & 1.14 & 4.8  & -8.88\\\\\n",
       "\tIlliq 2 &  2.65 &  1.42 & 0.99 & 1.69 & -1.67\\\\\n",
       "\tIlliq 3 &  2.05 &  1.38 & 6.33 & 3.25 & 7.97 \\\\\n",
       "\tIlliq Avg &  5.42 &  1.50 & 2.82 &      & -0.86\\\\\n",
       "\tIlliq 3-1 & -7.43 & -0.33 & 7.90 & 0.05 &      \\\\\n",
       "\\end{tabular}\n"
      ],
      "text/markdown": [
       "\n",
       "A data.frame: 5 × 5\n",
       "\n",
       "| <!--/--> | Size 1 &lt;dbl&gt; | Size 2 &lt;dbl&gt; | Size 3 &lt;dbl&gt; | Size Avg &lt;chr&gt; | Size 3-1 &lt;chr&gt; |\n",
       "|---|---|---|---|---|---|\n",
       "| Illiq 1 | 11.55 |  1.71 | 1.14 | 4.8  | -8.88 |\n",
       "| Illiq 2 |  2.65 |  1.42 | 0.99 | 1.69 | -1.67 |\n",
       "| Illiq 3 |  2.05 |  1.38 | 6.33 | 3.25 | 7.97  |\n",
       "| Illiq Avg |  5.42 |  1.50 | 2.82 | <!----> | -0.86 |\n",
       "| Illiq 3-1 | -7.43 | -0.33 | 7.90 | 0.05 | <!----> |\n",
       "\n"
      ],
      "text/plain": [
       "          Size 1 Size 2 Size 3 Size Avg Size 3-1\n",
       "Illiq 1   11.55   1.71  1.14   4.8      -8.88   \n",
       "Illiq 2    2.65   1.42  0.99   1.69     -1.67   \n",
       "Illiq 3    2.05   1.38  6.33   3.25     7.97    \n",
       "Illiq Avg  5.42   1.50  2.82            -0.86   \n",
       "Illiq 3-1 -7.43  -0.33  7.90   0.05             "
      ]
     },
     "metadata": {},
     "output_type": "display_data"
    },
    {
     "name": "stdout",
     "output_type": "stream",
     "text": [
      "[1] \"t-stats of Return\"\n"
     ]
    },
    {
     "data": {
      "text/html": [
       "<table class=\"dataframe\">\n",
       "<caption>A data.frame: 5 × 5</caption>\n",
       "<thead>\n",
       "\t<tr><th></th><th scope=col>Size 1</th><th scope=col>Size 2</th><th scope=col>Size 3</th><th scope=col>Size Avg</th><th scope=col>Size 3-1</th></tr>\n",
       "\t<tr><th></th><th scope=col>&lt;dbl&gt;</th><th scope=col>&lt;dbl&gt;</th><th scope=col>&lt;dbl&gt;</th><th scope=col>&lt;chr&gt;</th><th scope=col>&lt;chr&gt;</th></tr>\n",
       "</thead>\n",
       "<tbody>\n",
       "\t<tr><th scope=row>Illiq 1</th><td> 2.184</td><td> 4.426</td><td>3.590</td><td>3.4  </td><td>-1.896</td></tr>\n",
       "\t<tr><th scope=row>Illiq 2</th><td> 5.591</td><td> 3.415</td><td>2.408</td><td>3.804</td><td>-5.562</td></tr>\n",
       "\t<tr><th scope=row>Illiq 3</th><td> 4.667</td><td> 3.322</td><td>4.559</td><td>4.183</td><td>7.579 </td></tr>\n",
       "\t<tr><th scope=row>Illiq Avg</th><td> 4.148</td><td> 3.721</td><td>3.519</td><td>     </td><td>0.04  </td></tr>\n",
       "\t<tr><th scope=row>Illiq 3-1</th><td>-1.591</td><td>-1.503</td><td>6.959</td><td>1.288</td><td>      </td></tr>\n",
       "</tbody>\n",
       "</table>\n"
      ],
      "text/latex": [
       "A data.frame: 5 × 5\n",
       "\\begin{tabular}{r|lllll}\n",
       "  & Size 1 & Size 2 & Size 3 & Size Avg & Size 3-1\\\\\n",
       "  & <dbl> & <dbl> & <dbl> & <chr> & <chr>\\\\\n",
       "\\hline\n",
       "\tIlliq 1 &  2.184 &  4.426 & 3.590 & 3.4   & -1.896\\\\\n",
       "\tIlliq 2 &  5.591 &  3.415 & 2.408 & 3.804 & -5.562\\\\\n",
       "\tIlliq 3 &  4.667 &  3.322 & 4.559 & 4.183 & 7.579 \\\\\n",
       "\tIlliq Avg &  4.148 &  3.721 & 3.519 &       & 0.04  \\\\\n",
       "\tIlliq 3-1 & -1.591 & -1.503 & 6.959 & 1.288 &       \\\\\n",
       "\\end{tabular}\n"
      ],
      "text/markdown": [
       "\n",
       "A data.frame: 5 × 5\n",
       "\n",
       "| <!--/--> | Size 1 &lt;dbl&gt; | Size 2 &lt;dbl&gt; | Size 3 &lt;dbl&gt; | Size Avg &lt;chr&gt; | Size 3-1 &lt;chr&gt; |\n",
       "|---|---|---|---|---|---|\n",
       "| Illiq 1 |  2.184 |  4.426 | 3.590 | 3.4   | -1.896 |\n",
       "| Illiq 2 |  5.591 |  3.415 | 2.408 | 3.804 | -5.562 |\n",
       "| Illiq 3 |  4.667 |  3.322 | 4.559 | 4.183 | 7.579  |\n",
       "| Illiq Avg |  4.148 |  3.721 | 3.519 | <!----> | 0.04   |\n",
       "| Illiq 3-1 | -1.591 | -1.503 | 6.959 | 1.288 | <!----> |\n",
       "\n"
      ],
      "text/plain": [
       "          Size 1 Size 2 Size 3 Size Avg Size 3-1\n",
       "Illiq 1    2.184  4.426 3.590  3.4      -1.896  \n",
       "Illiq 2    5.591  3.415 2.408  3.804    -5.562  \n",
       "Illiq 3    4.667  3.322 4.559  4.183    7.579   \n",
       "Illiq Avg  4.148  3.721 3.519           0.04    \n",
       "Illiq 3-1 -1.591 -1.503 6.959  1.288            "
      ]
     },
     "metadata": {},
     "output_type": "display_data"
    },
    {
     "name": "stdout",
     "output_type": "stream",
     "text": [
      "[1] \"FFCPS Alpha %\"\n"
     ]
    },
    {
     "data": {
      "text/html": [
       "<table class=\"dataframe\">\n",
       "<caption>A data.frame: 5 × 5</caption>\n",
       "<thead>\n",
       "\t<tr><th></th><th scope=col>Size 1</th><th scope=col>Size 2</th><th scope=col>Size 3</th><th scope=col>Size Avg</th><th scope=col>Size 3-1</th></tr>\n",
       "\t<tr><th></th><th scope=col>&lt;dbl&gt;</th><th scope=col>&lt;dbl&gt;</th><th scope=col>&lt;dbl&gt;</th><th scope=col>&lt;chr&gt;</th><th scope=col>&lt;chr&gt;</th></tr>\n",
       "</thead>\n",
       "<tbody>\n",
       "\t<tr><th scope=row>Illiq 1</th><td> 18.91</td><td> 1.60</td><td>  1.10</td><td>7.2  </td><td>-15.55</td></tr>\n",
       "\t<tr><th scope=row>Illiq 2</th><td>  2.59</td><td> 1.34</td><td>  0.95</td><td>1.63 </td><td>-1.64 </td></tr>\n",
       "\t<tr><th scope=row>Illiq 3</th><td>  2.02</td><td> 1.29</td><td>163.26</td><td>55.53</td><td>169.32</td></tr>\n",
       "\t<tr><th scope=row>Illiq Avg</th><td>  7.84</td><td> 1.41</td><td> 55.10</td><td>     </td><td>50.71 </td></tr>\n",
       "\t<tr><th scope=row>Illiq 3-1</th><td>-13.68</td><td>-0.30</td><td>156.14</td><td>47.39</td><td>      </td></tr>\n",
       "</tbody>\n",
       "</table>\n"
      ],
      "text/latex": [
       "A data.frame: 5 × 5\n",
       "\\begin{tabular}{r|lllll}\n",
       "  & Size 1 & Size 2 & Size 3 & Size Avg & Size 3-1\\\\\n",
       "  & <dbl> & <dbl> & <dbl> & <chr> & <chr>\\\\\n",
       "\\hline\n",
       "\tIlliq 1 &  18.91 &  1.60 &   1.10 & 7.2   & -15.55\\\\\n",
       "\tIlliq 2 &   2.59 &  1.34 &   0.95 & 1.63  & -1.64 \\\\\n",
       "\tIlliq 3 &   2.02 &  1.29 & 163.26 & 55.53 & 169.32\\\\\n",
       "\tIlliq Avg &   7.84 &  1.41 &  55.10 &       & 50.71 \\\\\n",
       "\tIlliq 3-1 & -13.68 & -0.30 & 156.14 & 47.39 &       \\\\\n",
       "\\end{tabular}\n"
      ],
      "text/markdown": [
       "\n",
       "A data.frame: 5 × 5\n",
       "\n",
       "| <!--/--> | Size 1 &lt;dbl&gt; | Size 2 &lt;dbl&gt; | Size 3 &lt;dbl&gt; | Size Avg &lt;chr&gt; | Size 3-1 &lt;chr&gt; |\n",
       "|---|---|---|---|---|---|\n",
       "| Illiq 1 |  18.91 |  1.60 |   1.10 | 7.2   | -15.55 |\n",
       "| Illiq 2 |   2.59 |  1.34 |   0.95 | 1.63  | -1.64  |\n",
       "| Illiq 3 |   2.02 |  1.29 | 163.26 | 55.53 | 169.32 |\n",
       "| Illiq Avg |   7.84 |  1.41 |  55.10 | <!----> | 50.71  |\n",
       "| Illiq 3-1 | -13.68 | -0.30 | 156.14 | 47.39 | <!----> |\n",
       "\n"
      ],
      "text/plain": [
       "          Size 1 Size 2 Size 3 Size Avg Size 3-1\n",
       "Illiq 1    18.91  1.60    1.10 7.2      -15.55  \n",
       "Illiq 2     2.59  1.34    0.95 1.63     -1.64   \n",
       "Illiq 3     2.02  1.29  163.26 55.53    169.32  \n",
       "Illiq Avg   7.84  1.41   55.10          50.71   \n",
       "Illiq 3-1 -13.68 -0.30  156.14 47.39            "
      ]
     },
     "metadata": {},
     "output_type": "display_data"
    }
   ],
   "source": [
    "res_SizeIlliq <- bivariat_sort( monthly_sizes, monthly_illiq, \n",
    "    monthly_returns, monthly_market_caps, 5)\n",
    "\n",
    "print(\"Original Result\")\n",
    "res_SizeIlliq\n",
    "# high value lower liquid, high returns, positive effect\n",
    "print(\"Excess Return %\")\n",
    "format_result(res_SizeIlliq, \"Size\", \"Illiq\", 2, 100)\n",
    "print(\"t-stats of Return\")\n",
    "format_result(res_SizeIlliq[2,], \"Size\", \"Illiq\", 3)\n",
    "print(\"FFCPS Alpha %\")\n",
    "format_result(res_SizeIlliq[3,], \"Size\", \"Illiq\", 2, 100)"
   ]
  },
  {
   "cell_type": "markdown",
   "id": "69993368",
   "metadata": {},
   "source": [
    "* **Fama-MacBeth regressions of returns on size and Illiq**"
   ]
  },
  {
   "cell_type": "code",
   "execution_count": 42,
   "id": "b06cf171",
   "metadata": {},
   "outputs": [
    {
     "data": {
      "text/html": [
       "<table class=\"dataframe\">\n",
       "<caption>A data.frame: 2 × 3</caption>\n",
       "<thead>\n",
       "\t<tr><th scope=col>Intercept</th><th scope=col>Size</th><th scope=col>Illiq</th></tr>\n",
       "\t<tr><th scope=col>&lt;dbl&gt;</th><th scope=col>&lt;dbl&gt;</th><th scope=col>&lt;dbl&gt;</th></tr>\n",
       "</thead>\n",
       "<tbody>\n",
       "\t<tr><td>0.01449</td><td>-0.00202</td><td>0.00169</td></tr>\n",
       "\t<tr><td>2.55070</td><td>-2.47452</td><td>3.22264</td></tr>\n",
       "</tbody>\n",
       "</table>\n"
      ],
      "text/latex": [
       "A data.frame: 2 × 3\n",
       "\\begin{tabular}{lll}\n",
       " Intercept & Size & Illiq\\\\\n",
       " <dbl> & <dbl> & <dbl>\\\\\n",
       "\\hline\n",
       "\t 0.01449 & -0.00202 & 0.00169\\\\\n",
       "\t 2.55070 & -2.47452 & 3.22264\\\\\n",
       "\\end{tabular}\n"
      ],
      "text/markdown": [
       "\n",
       "A data.frame: 2 × 3\n",
       "\n",
       "| Intercept &lt;dbl&gt; | Size &lt;dbl&gt; | Illiq &lt;dbl&gt; |\n",
       "|---|---|---|\n",
       "| 0.01449 | -0.00202 | 0.00169 |\n",
       "| 2.55070 | -2.47452 | 3.22264 |\n",
       "\n"
      ],
      "text/plain": [
       "  Intercept Size     Illiq  \n",
       "1 0.01449   -0.00202 0.00169\n",
       "2 2.55070   -2.47452 3.22264"
      ]
     },
     "metadata": {},
     "output_type": "display_data"
    }
   ],
   "source": [
    "data <- list(monthly_sizes, monthly_illiq)\n",
    "names(data) <- c('Size', 'Illiq' )\n",
    "perform_fama_macbeth_regression(monthly_returns, data)"
   ]
  },
  {
   "cell_type": "markdown",
   "id": "71bada6b",
   "metadata": {},
   "source": [
    "# 4. Fama-MacBeth regression"
   ]
  },
  {
   "cell_type": "markdown",
   "id": "c4e891e5",
   "metadata": {},
   "source": [
    "The final step in your analysis will be Fama-MacBeth regression which allows you to  control for all sort variables used in your previous analysis. Examine the effect of the third-sort-variable independently and also using Fama-French factors (MKT, HML, SMB), Momentum and traded liquidity factor. For this task use factors obtained from the web of Kenneth French and Ľuboš Pástor.  "
   ]
  },
  {
   "cell_type": "markdown",
   "id": "fa50b960",
   "metadata": {},
   "source": [
    "### <span style='background: lightblue'>4.1. With self-calculated factor data  </span>"
   ]
  },
  {
   "cell_type": "code",
   "execution_count": 43,
   "id": "3cdad15d",
   "metadata": {},
   "outputs": [
    {
     "name": "stdout",
     "output_type": "stream",
     "text": [
      "[1] \"1. Only illiq\"\n"
     ]
    },
    {
     "data": {
      "text/html": [
       "<table class=\"dataframe\">\n",
       "<caption>A data.frame: 2 × 2</caption>\n",
       "<thead>\n",
       "\t<tr><th scope=col>Intercept</th><th scope=col>Illiq</th></tr>\n",
       "\t<tr><th scope=col>&lt;dbl&gt;</th><th scope=col>&lt;dbl&gt;</th></tr>\n",
       "</thead>\n",
       "<tbody>\n",
       "\t<tr><td>0.00926</td><td>0.00163</td></tr>\n",
       "\t<tr><td>2.29265</td><td>3.52832</td></tr>\n",
       "</tbody>\n",
       "</table>\n"
      ],
      "text/latex": [
       "A data.frame: 2 × 2\n",
       "\\begin{tabular}{ll}\n",
       " Intercept & Illiq\\\\\n",
       " <dbl> & <dbl>\\\\\n",
       "\\hline\n",
       "\t 0.00926 & 0.00163\\\\\n",
       "\t 2.29265 & 3.52832\\\\\n",
       "\\end{tabular}\n"
      ],
      "text/markdown": [
       "\n",
       "A data.frame: 2 × 2\n",
       "\n",
       "| Intercept &lt;dbl&gt; | Illiq &lt;dbl&gt; |\n",
       "|---|---|\n",
       "| 0.00926 | 0.00163 |\n",
       "| 2.29265 | 3.52832 |\n",
       "\n"
      ],
      "text/plain": [
       "  Intercept Illiq  \n",
       "1 0.00926   0.00163\n",
       "2 2.29265   3.52832"
      ]
     },
     "metadata": {},
     "output_type": "display_data"
    },
    {
     "name": "stdout",
     "output_type": "stream",
     "text": [
      "[1] \"2. illiquidity, size and beta\"\n"
     ]
    },
    {
     "data": {
      "text/html": [
       "<table class=\"dataframe\">\n",
       "<caption>A data.frame: 2 × 4</caption>\n",
       "<thead>\n",
       "\t<tr><th scope=col>Intercept</th><th scope=col>Illiq</th><th scope=col>Size</th><th scope=col>Beta</th></tr>\n",
       "\t<tr><th scope=col>&lt;dbl&gt;</th><th scope=col>&lt;dbl&gt;</th><th scope=col>&lt;dbl&gt;</th><th scope=col>&lt;dbl&gt;</th></tr>\n",
       "</thead>\n",
       "<tbody>\n",
       "\t<tr><td>0.00988</td><td>0.00178</td><td>-0.00164</td><td>0.00295</td></tr>\n",
       "\t<tr><td>2.09409</td><td>2.83572</td><td>-1.91176</td><td>0.58555</td></tr>\n",
       "</tbody>\n",
       "</table>\n"
      ],
      "text/latex": [
       "A data.frame: 2 × 4\n",
       "\\begin{tabular}{llll}\n",
       " Intercept & Illiq & Size & Beta\\\\\n",
       " <dbl> & <dbl> & <dbl> & <dbl>\\\\\n",
       "\\hline\n",
       "\t 0.00988 & 0.00178 & -0.00164 & 0.00295\\\\\n",
       "\t 2.09409 & 2.83572 & -1.91176 & 0.58555\\\\\n",
       "\\end{tabular}\n"
      ],
      "text/markdown": [
       "\n",
       "A data.frame: 2 × 4\n",
       "\n",
       "| Intercept &lt;dbl&gt; | Illiq &lt;dbl&gt; | Size &lt;dbl&gt; | Beta &lt;dbl&gt; |\n",
       "|---|---|---|---|\n",
       "| 0.00988 | 0.00178 | -0.00164 | 0.00295 |\n",
       "| 2.09409 | 2.83572 | -1.91176 | 0.58555 |\n",
       "\n"
      ],
      "text/plain": [
       "  Intercept Illiq   Size     Beta   \n",
       "1 0.00988   0.00178 -0.00164 0.00295\n",
       "2 2.09409   2.83572 -1.91176 0.58555"
      ]
     },
     "metadata": {},
     "output_type": "display_data"
    },
    {
     "name": "stdout",
     "output_type": "stream",
     "text": [
      "[1] \"3. CAMP Model\"\n"
     ]
    },
    {
     "data": {
      "text/html": [
       "<table class=\"dataframe\">\n",
       "<caption>A data.frame: 2 × 2</caption>\n",
       "<thead>\n",
       "\t<tr><th scope=col>Intercept</th><th scope=col>Beta</th></tr>\n",
       "\t<tr><th scope=col>&lt;dbl&gt;</th><th scope=col>&lt;dbl&gt;</th></tr>\n",
       "</thead>\n",
       "<tbody>\n",
       "\t<tr><td>0.00655</td><td>0.0047</td></tr>\n",
       "\t<tr><td>1.75325</td><td>0.9234</td></tr>\n",
       "</tbody>\n",
       "</table>\n"
      ],
      "text/latex": [
       "A data.frame: 2 × 2\n",
       "\\begin{tabular}{ll}\n",
       " Intercept & Beta\\\\\n",
       " <dbl> & <dbl>\\\\\n",
       "\\hline\n",
       "\t 0.00655 & 0.0047\\\\\n",
       "\t 1.75325 & 0.9234\\\\\n",
       "\\end{tabular}\n"
      ],
      "text/markdown": [
       "\n",
       "A data.frame: 2 × 2\n",
       "\n",
       "| Intercept &lt;dbl&gt; | Beta &lt;dbl&gt; |\n",
       "|---|---|\n",
       "| 0.00655 | 0.0047 |\n",
       "| 1.75325 | 0.9234 |\n",
       "\n"
      ],
      "text/plain": [
       "  Intercept Beta  \n",
       "1 0.00655   0.0047\n",
       "2 1.75325   0.9234"
      ]
     },
     "metadata": {},
     "output_type": "display_data"
    },
    {
     "name": "stdout",
     "output_type": "stream",
     "text": [
      "[1] \"4. FF3 Model\"\n"
     ]
    },
    {
     "data": {
      "text/html": [
       "<table class=\"dataframe\">\n",
       "<caption>A data.frame: 2 × 4</caption>\n",
       "<thead>\n",
       "\t<tr><th scope=col>Intercept</th><th scope=col>Beta</th><th scope=col>Size</th><th scope=col>Value</th></tr>\n",
       "\t<tr><th scope=col>&lt;dbl&gt;</th><th scope=col>&lt;dbl&gt;</th><th scope=col>&lt;dbl&gt;</th><th scope=col>&lt;dbl&gt;</th></tr>\n",
       "</thead>\n",
       "<tbody>\n",
       "\t<tr><td>0.01973</td><td>0.0020</td><td>-0.00302</td><td>-0.00605</td></tr>\n",
       "\t<tr><td>4.54365</td><td>0.3712</td><td>-5.18479</td><td>-2.75590</td></tr>\n",
       "</tbody>\n",
       "</table>\n"
      ],
      "text/latex": [
       "A data.frame: 2 × 4\n",
       "\\begin{tabular}{llll}\n",
       " Intercept & Beta & Size & Value\\\\\n",
       " <dbl> & <dbl> & <dbl> & <dbl>\\\\\n",
       "\\hline\n",
       "\t 0.01973 & 0.0020 & -0.00302 & -0.00605\\\\\n",
       "\t 4.54365 & 0.3712 & -5.18479 & -2.75590\\\\\n",
       "\\end{tabular}\n"
      ],
      "text/markdown": [
       "\n",
       "A data.frame: 2 × 4\n",
       "\n",
       "| Intercept &lt;dbl&gt; | Beta &lt;dbl&gt; | Size &lt;dbl&gt; | Value &lt;dbl&gt; |\n",
       "|---|---|---|---|\n",
       "| 0.01973 | 0.0020 | -0.00302 | -0.00605 |\n",
       "| 4.54365 | 0.3712 | -5.18479 | -2.75590 |\n",
       "\n"
      ],
      "text/plain": [
       "  Intercept Beta   Size     Value   \n",
       "1 0.01973   0.0020 -0.00302 -0.00605\n",
       "2 4.54365   0.3712 -5.18479 -2.75590"
      ]
     },
     "metadata": {},
     "output_type": "display_data"
    },
    {
     "name": "stdout",
     "output_type": "stream",
     "text": [
      "[1] \"5. FFCPS Model\"\n"
     ]
    },
    {
     "data": {
      "text/html": [
       "<table class=\"dataframe\">\n",
       "<caption>A data.frame: 2 × 6</caption>\n",
       "<thead>\n",
       "\t<tr><th scope=col>Intercept</th><th scope=col>Beta</th><th scope=col>Size</th><th scope=col>Value</th><th scope=col>Mom</th><th scope=col>Illiq</th></tr>\n",
       "\t<tr><th scope=col>&lt;dbl&gt;</th><th scope=col>&lt;dbl&gt;</th><th scope=col>&lt;dbl&gt;</th><th scope=col>&lt;dbl&gt;</th><th scope=col>&lt;dbl&gt;</th><th scope=col>&lt;dbl&gt;</th></tr>\n",
       "</thead>\n",
       "<tbody>\n",
       "\t<tr><td>0.01369</td><td>-0.00197</td><td>-0.00147</td><td>-0.00611</td><td>-0.00010</td><td>0.00194</td></tr>\n",
       "\t<tr><td>2.90007</td><td>-0.39173</td><td>-1.81926</td><td>-2.68930</td><td>-1.44038</td><td>3.10339</td></tr>\n",
       "</tbody>\n",
       "</table>\n"
      ],
      "text/latex": [
       "A data.frame: 2 × 6\n",
       "\\begin{tabular}{llllll}\n",
       " Intercept & Beta & Size & Value & Mom & Illiq\\\\\n",
       " <dbl> & <dbl> & <dbl> & <dbl> & <dbl> & <dbl>\\\\\n",
       "\\hline\n",
       "\t 0.01369 & -0.00197 & -0.00147 & -0.00611 & -0.00010 & 0.00194\\\\\n",
       "\t 2.90007 & -0.39173 & -1.81926 & -2.68930 & -1.44038 & 3.10339\\\\\n",
       "\\end{tabular}\n"
      ],
      "text/markdown": [
       "\n",
       "A data.frame: 2 × 6\n",
       "\n",
       "| Intercept &lt;dbl&gt; | Beta &lt;dbl&gt; | Size &lt;dbl&gt; | Value &lt;dbl&gt; | Mom &lt;dbl&gt; | Illiq &lt;dbl&gt; |\n",
       "|---|---|---|---|---|---|\n",
       "| 0.01369 | -0.00197 | -0.00147 | -0.00611 | -0.00010 | 0.00194 |\n",
       "| 2.90007 | -0.39173 | -1.81926 | -2.68930 | -1.44038 | 3.10339 |\n",
       "\n"
      ],
      "text/plain": [
       "  Intercept Beta     Size     Value    Mom      Illiq  \n",
       "1 0.01369   -0.00197 -0.00147 -0.00611 -0.00010 0.00194\n",
       "2 2.90007   -0.39173 -1.81926 -2.68930 -1.44038 3.10339"
      ]
     },
     "metadata": {},
     "output_type": "display_data"
    }
   ],
   "source": [
    "print(\"1. Only illiq\")\n",
    "data <- list(monthly_illiq)\n",
    "names(data) <- c('Illiq')\n",
    "perform_fama_macbeth_regression(monthly_returns, data)\n",
    "\n",
    "print(\"2. illiquidity, size and beta\")\n",
    "data <- list(monthly_illiq,monthly_sizes, monthly_betas)\n",
    "names(data) <- c('Illiq', 'Size','Beta')\n",
    "perform_fama_macbeth_regression(monthly_returns, data)\n",
    "\n",
    "print(\"3. CAMP Model\")\n",
    "data <- list(monthly_betas)\n",
    "names(data) <- c('Beta')\n",
    "perform_fama_macbeth_regression(monthly_returns, data)\n",
    "\n",
    "print(\"4. FF3 Model\")\n",
    "data <- list(monthly_betas, monthly_sizes, monthly_bm_ratios)\n",
    "names(data) <- c('Beta', 'Size', 'Value')\n",
    "perform_fama_macbeth_regression(monthly_returns, data)\n",
    "\n",
    "print(\"5. FFCPS Model\")\n",
    "data <- list(monthly_betas, monthly_sizes, monthly_bm_ratios, \n",
    "             monthly_momentum, monthly_illiq )\n",
    "names(data) <- c('Beta', 'Size', 'Value', 'Mom', 'Illiq')\n",
    "perform_fama_macbeth_regression(monthly_returns, data)"
   ]
  },
  {
   "cell_type": "markdown",
   "id": "252b6d0e",
   "metadata": {},
   "source": [
    "### <span style='background: lightblue'>4.2. With downloaded excess return spread factor data  </span>"
   ]
  },
  {
   "cell_type": "markdown",
   "id": "35d17d50",
   "metadata": {},
   "source": [
    "**Calculate portfolio monthly excess returns, and conbime with factors obtained from the web of Kenneth French and Ľuboš Pástor.**"
   ]
  },
  {
   "cell_type": "code",
   "execution_count": 44,
   "id": "17004740",
   "metadata": {},
   "outputs": [
    {
     "data": {
      "text/plain": [
       "                EW      VW  mkt.rf    smb     hml     rf     mom        liq\n",
       "2007-01-31  0.0288  0.0209  0.0140 0.0014 -0.0070 0.0044  0.0065 0.00375580\n",
       "2007-02-28 -0.0097 -0.0305 -0.0196 0.0118 -0.0012 0.0038 -0.0004 0.02496826\n",
       "2007-03-31  0.0069  0.0083  0.0068 0.0015 -0.0094 0.0043  0.0180 0.02931590"
      ]
     },
     "metadata": {},
     "output_type": "display_data"
    },
    {
     "data": {
      "text/plain": [
       "                EW      VW  mkt.rf    smb     hml    rf     mom        liq\n",
       "2020-10-31 -0.0038 -0.0087 -0.0210 0.0440  0.0414 1e-04 -0.0169 0.04065628\n",
       "2020-11-30  0.1404  0.1121  0.1247 0.0563  0.0210 1e-04 -0.1092 0.02308695\n",
       "2020-12-31  0.0407  0.0351  0.0463 0.0483 -0.0141 1e-04 -0.0009 0.05024218"
      ]
     },
     "metadata": {},
     "output_type": "display_data"
    }
   ],
   "source": [
    "# Initialize an xts object for storing EW and VW portfolio returns.\n",
    "return_col <- c('EW', 'VW')\n",
    "port_returns <- as.xts(\n",
    "    matrix(\n",
    "        # first month return is empty\n",
    "        nrow = nrow(monthly_returns),\n",
    "        #column 1 is EW, column 2 is VW\n",
    "        ncol = 2\n",
    "    ),\n",
    "    # start from second month\n",
    "    order.by = index(monthly_returns)\n",
    ")\n",
    "names(port_returns) <- return_col\n",
    "# Iterate over rows, every i is each month \n",
    "for (i in 1:nrow(port_returns)) {\n",
    "    current_month <- index(port_returns[i])\n",
    "    month_returns <- monthly_returns[current_month]\n",
    "    month_market_caps <- monthly_market_caps[current_month]\n",
    "    month_equal_weights <- monthly_equal_weights[current_month]\n",
    "    # Replace NA market caps with 0s so that such observations have no weights.\n",
    "    # use markcap for VW\n",
    "    month_returns[is.na(month_returns)] <- 0    \n",
    "    month_market_caps[is.na(month_market_caps)] <- 0  \n",
    "    port_returns[i,1] <- weighted.mean(t(month_returns),\n",
    "        t(month_equal_weights))\n",
    "    port_returns[i,2] <- weighted.mean(t(month_returns), \n",
    "        t(month_market_caps))\n",
    "}  \n",
    "# Combine the samples.\n",
    "sample <- cbind(round(port_returns, digits = 4), factor_data)\n",
    "head(sample,3)\n",
    "tail(sample,3)"
   ]
  },
  {
   "cell_type": "markdown",
   "id": "6b9db3fb",
   "metadata": {},
   "source": [
    "**All excess returns from factor data are calculated by value-weighted portfolios, so we just need to calculate value-weighted returns of our portfolio for every month, then do time-series regression with portfolio returns to the excess returns from factors.**"
   ]
  },
  {
   "cell_type": "code",
   "execution_count": 45,
   "id": "0f34b37d",
   "metadata": {},
   "outputs": [
    {
     "data": {
      "text/plain": [
       "\n",
       "Call:\n",
       "lm(formula = \"VW ~ liq + mkt.rf + smb + hml + mom \", data = sample)\n",
       "\n",
       "Residuals:\n",
       "       Min         1Q     Median         3Q        Max \n",
       "-0.0151287 -0.0046529 -0.0006109  0.0041604  0.0227268 \n",
       "\n",
       "Coefficients:\n",
       "              Estimate Std. Error t value Pr(>|t|)    \n",
       "(Intercept)  0.0048647  0.0005709   8.520 1.05e-14 ***\n",
       "liq         -0.0379815  0.0155744  -2.439   0.0158 *  \n",
       "mkt.rf       0.9631219  0.0140180  68.706  < 2e-16 ***\n",
       "smb         -0.1340383  0.0257668  -5.202 5.89e-07 ***\n",
       "hml         -0.0092618  0.0226009  -0.410   0.6825    \n",
       "mom         -0.0254736  0.0184850  -1.378   0.1701    \n",
       "---\n",
       "Signif. codes:  0 '***' 0.001 '**' 0.01 '*' 0.05 '.' 0.1 ' ' 1\n",
       "\n",
       "Residual standard error: 0.00706 on 162 degrees of freedom\n",
       "Multiple R-squared:  0.9754,\tAdjusted R-squared:  0.9747 \n",
       "F-statistic:  1286 on 5 and 162 DF,  p-value: < 2.2e-16\n"
      ]
     },
     "metadata": {},
     "output_type": "display_data"
    },
    {
     "data": {
      "text/html": [
       "<table class=\"dataframe\">\n",
       "<caption>A data.frame: 12 × 5</caption>\n",
       "<thead>\n",
       "\t<tr><th></th><th scope=col>Illiq</th><th scope=col>Combine</th><th scope=col>CAPM</th><th scope=col>FF3</th><th scope=col>FFCPS</th></tr>\n",
       "\t<tr><th></th><th scope=col>&lt;chr&gt;</th><th scope=col>&lt;chr&gt;</th><th scope=col>&lt;chr&gt;</th><th scope=col>&lt;chr&gt;</th><th scope=col>&lt;dbl&gt;</th></tr>\n",
       "</thead>\n",
       "<tbody>\n",
       "\t<tr><th scope=row>Intercept</th><td>0.0123</td><td>0.0048 </td><td>0.0048 </td><td>0.0049 </td><td> 0.0049</td></tr>\n",
       "\t<tr><th scope=row>t.Intercept</th><td>3.6437</td><td>8.6203 </td><td>7.8567 </td><td>8.4499 </td><td> 8.5203</td></tr>\n",
       "\t<tr><th scope=row>liq</th><td>0.2125</td><td>-0.0426</td><td>       </td><td>       </td><td>-0.0380</td></tr>\n",
       "\t<tr><th scope=row>t.liq</th><td>2.5078</td><td>-2.9749</td><td>       </td><td>       </td><td>-2.4387</td></tr>\n",
       "\t<tr><th scope=row>mkt</th><td>      </td><td>0.9688 </td><td>0.9348 </td><td>0.959  </td><td> 0.9631</td></tr>\n",
       "\t<tr><th scope=row>t.mkt</th><td>      </td><td>75.6081</td><td>71.7077</td><td>71.9764</td><td>68.7060</td></tr>\n",
       "\t<tr><th scope=row>smb</th><td>      </td><td>-0.1309</td><td>       </td><td>-0.147 </td><td>-0.1340</td></tr>\n",
       "\t<tr><th scope=row>t.smb</th><td>      </td><td>-5.1825</td><td>       </td><td>-5.7344</td><td>-5.2020</td></tr>\n",
       "\t<tr><th scope=row>hml</th><td>      </td><td>       </td><td>       </td><td>0.0219 </td><td>-0.0093</td></tr>\n",
       "\t<tr><th scope=row>t.hml</th><td>      </td><td>       </td><td>       </td><td>1.0768 </td><td>-0.4098</td></tr>\n",
       "\t<tr><th scope=row>mom</th><td>      </td><td>       </td><td>       </td><td>       </td><td>-0.0255</td></tr>\n",
       "\t<tr><th scope=row>t.mom</th><td>      </td><td>       </td><td>       </td><td>       </td><td>-1.3781</td></tr>\n",
       "</tbody>\n",
       "</table>\n"
      ],
      "text/latex": [
       "A data.frame: 12 × 5\n",
       "\\begin{tabular}{r|lllll}\n",
       "  & Illiq & Combine & CAPM & FF3 & FFCPS\\\\\n",
       "  & <chr> & <chr> & <chr> & <chr> & <dbl>\\\\\n",
       "\\hline\n",
       "\tIntercept & 0.0123 & 0.0048  & 0.0048  & 0.0049  &  0.0049\\\\\n",
       "\tt.Intercept & 3.6437 & 8.6203  & 7.8567  & 8.4499  &  8.5203\\\\\n",
       "\tliq & 0.2125 & -0.0426 &         &         & -0.0380\\\\\n",
       "\tt.liq & 2.5078 & -2.9749 &         &         & -2.4387\\\\\n",
       "\tmkt &        & 0.9688  & 0.9348  & 0.959   &  0.9631\\\\\n",
       "\tt.mkt &        & 75.6081 & 71.7077 & 71.9764 & 68.7060\\\\\n",
       "\tsmb &        & -0.1309 &         & -0.147  & -0.1340\\\\\n",
       "\tt.smb &        & -5.1825 &         & -5.7344 & -5.2020\\\\\n",
       "\thml &        &         &         & 0.0219  & -0.0093\\\\\n",
       "\tt.hml &        &         &         & 1.0768  & -0.4098\\\\\n",
       "\tmom &        &         &         &         & -0.0255\\\\\n",
       "\tt.mom &        &         &         &         & -1.3781\\\\\n",
       "\\end{tabular}\n"
      ],
      "text/markdown": [
       "\n",
       "A data.frame: 12 × 5\n",
       "\n",
       "| <!--/--> | Illiq &lt;chr&gt; | Combine &lt;chr&gt; | CAPM &lt;chr&gt; | FF3 &lt;chr&gt; | FFCPS &lt;dbl&gt; |\n",
       "|---|---|---|---|---|---|\n",
       "| Intercept | 0.0123 | 0.0048  | 0.0048  | 0.0049  |  0.0049 |\n",
       "| t.Intercept | 3.6437 | 8.6203  | 7.8567  | 8.4499  |  8.5203 |\n",
       "| liq | 0.2125 | -0.0426 | <!----> | <!----> | -0.0380 |\n",
       "| t.liq | 2.5078 | -2.9749 | <!----> | <!----> | -2.4387 |\n",
       "| mkt | <!----> | 0.9688  | 0.9348  | 0.959   |  0.9631 |\n",
       "| t.mkt | <!----> | 75.6081 | 71.7077 | 71.9764 | 68.7060 |\n",
       "| smb | <!----> | -0.1309 | <!----> | -0.147  | -0.1340 |\n",
       "| t.smb | <!----> | -5.1825 | <!----> | -5.7344 | -5.2020 |\n",
       "| hml | <!----> | <!----> | <!----> | 0.0219  | -0.0093 |\n",
       "| t.hml | <!----> | <!----> | <!----> | 1.0768  | -0.4098 |\n",
       "| mom | <!----> | <!----> | <!----> | <!----> | -0.0255 |\n",
       "| t.mom | <!----> | <!----> | <!----> | <!----> | -1.3781 |\n",
       "\n"
      ],
      "text/plain": [
       "            Illiq  Combine CAPM    FF3     FFCPS  \n",
       "Intercept   0.0123 0.0048  0.0048  0.0049   0.0049\n",
       "t.Intercept 3.6437 8.6203  7.8567  8.4499   8.5203\n",
       "liq         0.2125 -0.0426                 -0.0380\n",
       "t.liq       2.5078 -2.9749                 -2.4387\n",
       "mkt                0.9688  0.9348  0.959    0.9631\n",
       "t.mkt              75.6081 71.7077 71.9764 68.7060\n",
       "smb                -0.1309         -0.147  -0.1340\n",
       "t.smb              -5.1825         -5.7344 -5.2020\n",
       "hml                                0.0219  -0.0093\n",
       "t.hml                              1.0768  -0.4098\n",
       "mom                                        -0.0255\n",
       "t.mom                                      -1.3781"
      ]
     },
     "metadata": {},
     "output_type": "display_data"
    }
   ],
   "source": [
    "# Create the table of coefficients.\n",
    "coeffs <- as.data.frame(matrix(nrow = 6 * 2, ncol = 5))\n",
    "# Specify the names of the columns of the table of coefficients.\n",
    "names(coeffs) <- c('Illiq','Combine','CAPM','FF3','FFCPS')\n",
    "attributes(coeffs)$row.names <- c(\n",
    "    \"Intercept\", \"t.Intercept\",\n",
    "    \"liq\",  \"t.liq\",  \"mkt\", \"t.mkt\",\n",
    "    \"smb\",  \"t.smb\",  \"hml\",  \"t.hml\",\n",
    "    \"mom\",  \"t.mom\"\n",
    ")\n",
    "vw_liq <- lm('VW ~ liq', data = sample)\n",
    "coeffs[c(1, 3), 1]  <- summary(vw_liq)$coefficients[, 1]\n",
    "coeffs[c(2, 4), 1]  <- summary(vw_liq)$coefficients[, 3]\n",
    "# combined factors model\n",
    "vw_comb <- lm('VW ~ liq + mkt.rf + smb', data = sample)\n",
    "coeffs[c(1, 3, 5, 7), 2]  <- summary(vw_comb)$coefficients[, 1]\n",
    "coeffs[c(2, 4, 6, 8), 2]  <- summary(vw_comb)$coefficients[, 3]\n",
    "# CAPM model\n",
    "vw_capm <- lm('VW ~ mkt.rf', data = sample)\n",
    "coeffs[c(1, 5), 3]  <- summary(vw_capm)$coefficients[, 1]\n",
    "coeffs[c(2, 6), 3]  <- summary(vw_capm)$coefficients[, 3]\n",
    "# FF3 model\n",
    "vw_ff3 <- lm('VW ~ mkt.rf + smb + hml', data = sample)\n",
    "coeffs[c(1, 5, 7, 9), 4]  <- summary(vw_ff3)$coefficients[, 1]\n",
    "coeffs[c(2, 6, 8, 10), 4]  <- summary(vw_ff3)$coefficients[, 3]\n",
    "# FFCPS model\n",
    "vw_FFCPS <- lm('VW ~ liq + mkt.rf + smb + hml + mom ', data = sample)\n",
    "coeffs[c(1, 3, 5, 7, 9, 11), 5]  <- summary(vw_FFCPS)$coefficients[, 1]\n",
    "coeffs[c(2, 4, 6, 8, 10, 12), 5]  <- summary(vw_FFCPS)$coefficients[, 3]\n",
    "# Round the results for better readability.\n",
    "coeffs <- round(coeffs, digits = 4)\n",
    "coeffs[is.na(coeffs)] <- \"\"   \n",
    "summary(vw_FFCPS)\n",
    "coeffs"
   ]
  },
  {
   "cell_type": "markdown",
   "id": "064ead04",
   "metadata": {},
   "source": [
    "**Market Beta in CAPM is 0.93,and very significant as t-stats 71.7, because our 250 stocks almost represent the market.**"
   ]
  }
 ],
 "metadata": {
  "kernelspec": {
   "display_name": "R",
   "language": "R",
   "name": "ir"
  },
  "language_info": {
   "codemirror_mode": "r",
   "file_extension": ".r",
   "mimetype": "text/x-r-source",
   "name": "R",
   "pygments_lexer": "r",
   "version": "4.1.2"
  }
 },
 "nbformat": 4,
 "nbformat_minor": 5
}
